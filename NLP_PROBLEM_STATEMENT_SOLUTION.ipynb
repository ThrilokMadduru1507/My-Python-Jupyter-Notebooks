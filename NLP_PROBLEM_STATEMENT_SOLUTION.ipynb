{
 "cells": [
  {
   "cell_type": "markdown",
   "id": "d3d691ea",
   "metadata": {},
   "source": [
    "# • DOMAIN: Digital content management \n",
    "\n",
    "# • CONTEXT: Classification is probably the most popular task that you would deal with in real life. Text in the form of blogs, posts, articles, etc. are written every second. It is a challenge to predict the information about the writer without knowing about him/her. We are going to create a classifier that predicts multiple features of the author of a given text. We have designed it as a Multi label classification problem.\n",
    "\n",
    "# • DATA DESCRIPTION: Over 600,000 posts from more than 19 thousand bloggers The Blog Authorship Corpus consists of the collected posts of 19,320 bloggers gathered from blogger.com in August 2004. The corpus incorporates a total of 681,288 posts and over 140 million words - or approximately 35 posts and 7250 words per person. Each blog is presented as a separate file, the name of which indicates a blogger id# and the blogger’s self-provided gender, age, industry, and astrological sign. (All are labelled for gender and age but for many, industry and/or sign is marked as unknown.) All bloggers included in the corpus fall into one of three age groups:\n",
    "\n",
    "# • 8240 \"10s\" blogs (ages 13-17),\n",
    "# • 8086 \"20s\" blogs(ages 23-27) and\n",
    "# • 2994 \"30s\" blogs (ages 33-47)\n",
    "\n",
    "# • For each age group, there is an equal number of male and female bloggers. Each blog in the corpus includes at least 200 occurrences of common English words. All formatting has been stripped with two exceptions. Individual posts within a single blogger are separated by the date of the following post and links within a post are denoted by the label url link.\n",
    "\n",
    "# • PROJECT OBJECTIVE: To build a NLP classifier which can use input text parameters to determine the label/s of the blog. Specific to this case study, you can consider the text of the blog: ‘text’ feature as independent variable and ‘topic’ as dependent variable."
   ]
  },
  {
   "cell_type": "markdown",
   "id": "22bd4515",
   "metadata": {},
   "source": [
    "# Steps and tasks:\n",
    "\n",
    "# 1. Read and Analyse Dataset.\n",
    "\n",
    "# A. Clearly write outcome of data analysis(Minimum 2 points)"
   ]
  },
  {
   "cell_type": "code",
   "execution_count": 1,
   "id": "ebcf1c68",
   "metadata": {},
   "outputs": [],
   "source": [
    "# Import necessary libraries to be used in the project\n",
    "\n",
    "import numpy as np\n",
    "import pandas as pd\n",
    "import re\n",
    "import nltk\n",
    "from nltk.corpus import stopwords\n",
    "from nltk.tokenize import word_tokenize\n",
    "from sklearn.feature_extraction.text import CountVectorizer\n",
    "from sklearn.model_selection import train_test_split\n",
    "from nltk.stem.snowball import SnowballStemmer\n",
    "import warnings\n",
    "warnings.filterwarnings('ignore')\n",
    "import pandas_profiling as pp\n",
    "import seaborn as sns\n",
    "import matplotlib as plt\n",
    "%matplotlib inline\n",
    "from langdetect import detect, DetectorFactory\n",
    "from sklearn.ensemble import RandomForestClassifier\n",
    "from sklearn.linear_model import LogisticRegression\n",
    "from sklearn.multiclass import OneVsRestClassifier\n",
    "from sklearn.metrics import accuracy_score, confusion_matrix, precision_score, recall_score, f1_score\n",
    "from sklearn.metrics import classification_report\n",
    "\n",
    "DetectorFactory.seed = 0"
   ]
  },
  {
   "cell_type": "code",
   "execution_count": 2,
   "id": "41e15ae3",
   "metadata": {},
   "outputs": [
    {
     "name": "stdout",
     "output_type": "stream",
     "text": [
      "File Name                                             Modified             Size\n",
      "blogtext.csv                                   2019-09-20 22:33:20    800419647\n",
      "Extracting all the files now...\n",
      "Done!\n"
     ]
    }
   ],
   "source": [
    "from zipfile import ZipFile\n",
    "\n",
    "file_name = \"blogs.zip\"\n",
    "\n",
    "with ZipFile(file_name, 'r') as zip:\n",
    "    \n",
    "    zip.printdir()\n",
    "    \n",
    "    print('Extracting all the files now...')\n",
    "    \n",
    "    zip.extractall()\n",
    "    \n",
    "    print('Done!')"
   ]
  },
  {
   "cell_type": "code",
   "execution_count": 3,
   "id": "b9995d05",
   "metadata": {},
   "outputs": [],
   "source": [
    "BLOGS_DF = pd.read_csv(\"blogtext.csv\")"
   ]
  },
  {
   "cell_type": "code",
   "execution_count": 4,
   "id": "7b96fbf0",
   "metadata": {},
   "outputs": [
    {
     "data": {
      "text/html": [
       "<div>\n",
       "<style scoped>\n",
       "    .dataframe tbody tr th:only-of-type {\n",
       "        vertical-align: middle;\n",
       "    }\n",
       "\n",
       "    .dataframe tbody tr th {\n",
       "        vertical-align: top;\n",
       "    }\n",
       "\n",
       "    .dataframe thead th {\n",
       "        text-align: right;\n",
       "    }\n",
       "</style>\n",
       "<table border=\"1\" class=\"dataframe\">\n",
       "  <thead>\n",
       "    <tr style=\"text-align: right;\">\n",
       "      <th></th>\n",
       "      <th>id</th>\n",
       "      <th>gender</th>\n",
       "      <th>age</th>\n",
       "      <th>topic</th>\n",
       "      <th>sign</th>\n",
       "      <th>date</th>\n",
       "      <th>text</th>\n",
       "    </tr>\n",
       "  </thead>\n",
       "  <tbody>\n",
       "    <tr>\n",
       "      <th>0</th>\n",
       "      <td>2059027</td>\n",
       "      <td>male</td>\n",
       "      <td>15</td>\n",
       "      <td>Student</td>\n",
       "      <td>Leo</td>\n",
       "      <td>14,May,2004</td>\n",
       "      <td>Info has been found (+/- 100 pages,...</td>\n",
       "    </tr>\n",
       "    <tr>\n",
       "      <th>1</th>\n",
       "      <td>2059027</td>\n",
       "      <td>male</td>\n",
       "      <td>15</td>\n",
       "      <td>Student</td>\n",
       "      <td>Leo</td>\n",
       "      <td>13,May,2004</td>\n",
       "      <td>These are the team members:   Drewe...</td>\n",
       "    </tr>\n",
       "    <tr>\n",
       "      <th>2</th>\n",
       "      <td>2059027</td>\n",
       "      <td>male</td>\n",
       "      <td>15</td>\n",
       "      <td>Student</td>\n",
       "      <td>Leo</td>\n",
       "      <td>12,May,2004</td>\n",
       "      <td>In het kader van kernfusie op aarde...</td>\n",
       "    </tr>\n",
       "    <tr>\n",
       "      <th>3</th>\n",
       "      <td>2059027</td>\n",
       "      <td>male</td>\n",
       "      <td>15</td>\n",
       "      <td>Student</td>\n",
       "      <td>Leo</td>\n",
       "      <td>12,May,2004</td>\n",
       "      <td>testing!!!  testing!!!</td>\n",
       "    </tr>\n",
       "    <tr>\n",
       "      <th>4</th>\n",
       "      <td>3581210</td>\n",
       "      <td>male</td>\n",
       "      <td>33</td>\n",
       "      <td>InvestmentBanking</td>\n",
       "      <td>Aquarius</td>\n",
       "      <td>11,June,2004</td>\n",
       "      <td>Thanks to Yahoo!'s Toolbar I can ...</td>\n",
       "    </tr>\n",
       "  </tbody>\n",
       "</table>\n",
       "</div>"
      ],
      "text/plain": [
       "        id gender  age              topic      sign          date  \\\n",
       "0  2059027   male   15            Student       Leo   14,May,2004   \n",
       "1  2059027   male   15            Student       Leo   13,May,2004   \n",
       "2  2059027   male   15            Student       Leo   12,May,2004   \n",
       "3  2059027   male   15            Student       Leo   12,May,2004   \n",
       "4  3581210   male   33  InvestmentBanking  Aquarius  11,June,2004   \n",
       "\n",
       "                                                text  \n",
       "0             Info has been found (+/- 100 pages,...  \n",
       "1             These are the team members:   Drewe...  \n",
       "2             In het kader van kernfusie op aarde...  \n",
       "3                   testing!!!  testing!!!            \n",
       "4               Thanks to Yahoo!'s Toolbar I can ...  "
      ]
     },
     "execution_count": 4,
     "metadata": {},
     "output_type": "execute_result"
    }
   ],
   "source": [
    "BLOGS_DF.head()"
   ]
  },
  {
   "cell_type": "code",
   "execution_count": 5,
   "id": "1d9501d4",
   "metadata": {},
   "outputs": [
    {
     "data": {
      "text/html": [
       "<div>\n",
       "<style scoped>\n",
       "    .dataframe tbody tr th:only-of-type {\n",
       "        vertical-align: middle;\n",
       "    }\n",
       "\n",
       "    .dataframe tbody tr th {\n",
       "        vertical-align: top;\n",
       "    }\n",
       "\n",
       "    .dataframe thead th {\n",
       "        text-align: right;\n",
       "    }\n",
       "</style>\n",
       "<table border=\"1\" class=\"dataframe\">\n",
       "  <thead>\n",
       "    <tr style=\"text-align: right;\">\n",
       "      <th></th>\n",
       "      <th>id</th>\n",
       "      <th>gender</th>\n",
       "      <th>age</th>\n",
       "      <th>topic</th>\n",
       "      <th>sign</th>\n",
       "      <th>date</th>\n",
       "      <th>text</th>\n",
       "    </tr>\n",
       "  </thead>\n",
       "  <tbody>\n",
       "    <tr>\n",
       "      <th>681279</th>\n",
       "      <td>1713845</td>\n",
       "      <td>male</td>\n",
       "      <td>23</td>\n",
       "      <td>Student</td>\n",
       "      <td>Taurus</td>\n",
       "      <td>01,July,2004</td>\n",
       "      <td>Dear Susan,  I could write some really ...</td>\n",
       "    </tr>\n",
       "    <tr>\n",
       "      <th>681280</th>\n",
       "      <td>1713845</td>\n",
       "      <td>male</td>\n",
       "      <td>23</td>\n",
       "      <td>Student</td>\n",
       "      <td>Taurus</td>\n",
       "      <td>01,July,2004</td>\n",
       "      <td>Dear Susan,  'I have the second yeast i...</td>\n",
       "    </tr>\n",
       "    <tr>\n",
       "      <th>681281</th>\n",
       "      <td>1713845</td>\n",
       "      <td>male</td>\n",
       "      <td>23</td>\n",
       "      <td>Student</td>\n",
       "      <td>Taurus</td>\n",
       "      <td>01,July,2004</td>\n",
       "      <td>Dear Susan,  Your 'boyfriend' is fuckin...</td>\n",
       "    </tr>\n",
       "    <tr>\n",
       "      <th>681282</th>\n",
       "      <td>1713845</td>\n",
       "      <td>male</td>\n",
       "      <td>23</td>\n",
       "      <td>Student</td>\n",
       "      <td>Taurus</td>\n",
       "      <td>01,July,2004</td>\n",
       "      <td>Dear Susan:    Just to clarify, I am as...</td>\n",
       "    </tr>\n",
       "    <tr>\n",
       "      <th>681283</th>\n",
       "      <td>1713845</td>\n",
       "      <td>male</td>\n",
       "      <td>23</td>\n",
       "      <td>Student</td>\n",
       "      <td>Taurus</td>\n",
       "      <td>01,July,2004</td>\n",
       "      <td>Hey everybody...and Susan,  You might a...</td>\n",
       "    </tr>\n",
       "  </tbody>\n",
       "</table>\n",
       "</div>"
      ],
      "text/plain": [
       "             id gender  age    topic    sign          date  \\\n",
       "681279  1713845   male   23  Student  Taurus  01,July,2004   \n",
       "681280  1713845   male   23  Student  Taurus  01,July,2004   \n",
       "681281  1713845   male   23  Student  Taurus  01,July,2004   \n",
       "681282  1713845   male   23  Student  Taurus  01,July,2004   \n",
       "681283  1713845   male   23  Student  Taurus  01,July,2004   \n",
       "\n",
       "                                                     text  \n",
       "681279         Dear Susan,  I could write some really ...  \n",
       "681280         Dear Susan,  'I have the second yeast i...  \n",
       "681281         Dear Susan,  Your 'boyfriend' is fuckin...  \n",
       "681282         Dear Susan:    Just to clarify, I am as...  \n",
       "681283         Hey everybody...and Susan,  You might a...  "
      ]
     },
     "execution_count": 5,
     "metadata": {},
     "output_type": "execute_result"
    }
   ],
   "source": [
    "BLOGS_DF.tail()"
   ]
  },
  {
   "cell_type": "code",
   "execution_count": 6,
   "id": "c346d4c1",
   "metadata": {},
   "outputs": [
    {
     "data": {
      "text/plain": [
       "id        681284\n",
       "gender    681284\n",
       "age       681284\n",
       "topic     681284\n",
       "sign      681284\n",
       "date      681284\n",
       "text      681284\n",
       "dtype: int64"
      ]
     },
     "execution_count": 6,
     "metadata": {},
     "output_type": "execute_result"
    }
   ],
   "source": [
    "BLOGS_DF.count()"
   ]
  },
  {
   "cell_type": "code",
   "execution_count": 7,
   "id": "7f620620",
   "metadata": {},
   "outputs": [
    {
     "name": "stdout",
     "output_type": "stream",
     "text": [
      "<class 'pandas.core.frame.DataFrame'>\n",
      "RangeIndex: 681284 entries, 0 to 681283\n",
      "Data columns (total 7 columns):\n",
      " #   Column  Non-Null Count   Dtype \n",
      "---  ------  --------------   ----- \n",
      " 0   id      681284 non-null  int64 \n",
      " 1   gender  681284 non-null  object\n",
      " 2   age     681284 non-null  int64 \n",
      " 3   topic   681284 non-null  object\n",
      " 4   sign    681284 non-null  object\n",
      " 5   date    681284 non-null  object\n",
      " 6   text    681284 non-null  object\n",
      "dtypes: int64(2), object(5)\n",
      "memory usage: 36.4+ MB\n"
     ]
    }
   ],
   "source": [
    "BLOGS_DF.info()"
   ]
  },
  {
   "cell_type": "code",
   "execution_count": 8,
   "id": "14ab01cc",
   "metadata": {},
   "outputs": [
    {
     "name": "stdout",
     "output_type": "stream",
     "text": [
      "                 id            age\n",
      "count  6.812840e+05  681284.000000\n",
      "mean   2.397802e+06      23.932326\n",
      "std    1.247723e+06       7.786009\n",
      "min    5.114000e+03      13.000000\n",
      "25%    1.239610e+06      17.000000\n",
      "50%    2.607577e+06      24.000000\n",
      "75%    3.525660e+06      26.000000\n",
      "max    4.337650e+06      48.000000\n",
      "\n",
      "\n",
      " (681284, 7)\n"
     ]
    }
   ],
   "source": [
    "print(BLOGS_DF.describe())\n",
    "\n",
    "print('\\n\\n',BLOGS_DF.shape)"
   ]
  },
  {
   "cell_type": "code",
   "execution_count": 9,
   "id": "66617efb",
   "metadata": {},
   "outputs": [
    {
     "name": "stdout",
     "output_type": "stream",
     "text": [
      "['Student' 'InvestmentBanking' 'indUnk' 'Non-Profit' 'Banking' 'Education'\n",
      " 'Engineering' 'Science' 'Communications-Media' 'BusinessServices'\n",
      " 'Sports-Recreation' 'Arts' 'Internet' 'Museums-Libraries' 'Accounting'\n",
      " 'Technology' 'Law' 'Consulting' 'Automotive' 'Religion' 'Fashion'\n",
      " 'Publishing' 'Marketing' 'LawEnforcement-Security' 'HumanResources'\n",
      " 'Telecommunications' 'Military' 'Government' 'Transportation'\n",
      " 'Architecture' 'Advertising' 'Agriculture' 'Biotech' 'RealEstate'\n",
      " 'Manufacturing' 'Construction' 'Chemicals' 'Maritime' 'Tourism'\n",
      " 'Environment']\n",
      "\n",
      "\n",
      " [15 33 14 25 17 23 37 26 24 27 45 34 41 44 16 39 35 36 46 42 13 38 43 40\n",
      " 47 48]\n",
      "\n",
      "\n",
      " male      345193\n",
      "female    336091\n",
      "Name: gender, dtype: int64\n"
     ]
    }
   ],
   "source": [
    "print(BLOGS_DF['topic'].unique())\n",
    "\n",
    "print('\\n\\n',BLOGS_DF['age'].unique())\n",
    "\n",
    "print('\\n\\n',BLOGS_DF['gender'].value_counts())"
   ]
  },
  {
   "cell_type": "markdown",
   "id": "4031c538",
   "metadata": {},
   "source": [
    "    * BLOGS_DF CONTAINS 681284 ROWS AND 7 COLUMNS.\n",
    "    * ID AND AGE ARE TWO COLUMNS OF INTEGER DATA TYPE\n",
    "    * ALL OTHER COLUMNS ARE OF OBJECT DATA TYPE\n",
    "    * THERE ARE NO MISSED DATA FROM THE DATA FRAME.\n",
    "    * MINIMUM AGE IS 13 AND MAXIMUM AGE IS 48.\n",
    "    * BLOGS CONTAIN 40 UNIQUE TOPICS\n",
    "    * THERE ARE 345193 MALE BLOGGERS AND 336091 FEMALE BLOGGERS"
   ]
  },
  {
   "cell_type": "markdown",
   "id": "5f84f277",
   "metadata": {},
   "source": [
    "# B. Clean the Structured Data\n",
    "\n",
    "\n",
    "# B.i. Missing value analysis and imputation."
   ]
  },
  {
   "cell_type": "code",
   "execution_count": 10,
   "id": "9f1bd3e2",
   "metadata": {},
   "outputs": [
    {
     "data": {
      "text/plain": [
       "id        0\n",
       "gender    0\n",
       "age       0\n",
       "topic     0\n",
       "sign      0\n",
       "date      0\n",
       "text      0\n",
       "dtype: int64"
      ]
     },
     "execution_count": 10,
     "metadata": {},
     "output_type": "execute_result"
    }
   ],
   "source": [
    "BLOGS_DF.isna().sum()"
   ]
  },
  {
   "cell_type": "code",
   "execution_count": 11,
   "id": "3274620c",
   "metadata": {},
   "outputs": [
    {
     "data": {
      "text/plain": [
       "id        0\n",
       "gender    0\n",
       "age       0\n",
       "topic     0\n",
       "sign      0\n",
       "date      0\n",
       "text      0\n",
       "dtype: int64"
      ]
     },
     "execution_count": 11,
     "metadata": {},
     "output_type": "execute_result"
    }
   ],
   "source": [
    "BLOGS_DF.isnull().sum()"
   ]
  },
  {
   "cell_type": "markdown",
   "id": "740f5141",
   "metadata": {},
   "source": [
    "    * THERE ARE NO NULL / MISSING VALUES IN THE BLOGS_DF"
   ]
  },
  {
   "cell_type": "markdown",
   "id": "1b680dd5",
   "metadata": {},
   "source": [
    "# B.ii. Eliminate Non-English textual data."
   ]
  },
  {
   "cell_type": "code",
   "execution_count": 12,
   "id": "23f39175",
   "metadata": {},
   "outputs": [],
   "source": [
    "LANG = []\n",
    "\n",
    "for i in BLOGS_DF['text']:\n",
    "    STR = i\n",
    "    try:\n",
    "        lang = detect(STR)\n",
    "        LANG.append(lang)\n",
    "    except:\n",
    "        continue;\n",
    "    "
   ]
  },
  {
   "cell_type": "code",
   "execution_count": 15,
   "id": "0a2fe154",
   "metadata": {},
   "outputs": [
    {
     "data": {
      "text/plain": [
       "array(['af', 'ar', 'bg', 'bn', 'ca', 'cs', 'cy', 'da', 'de', 'el', 'en',\n",
       "       'es', 'et', 'fa', 'fi', 'fr', 'he', 'hi', 'hr', 'hu', 'id', 'it',\n",
       "       'ja', 'ko', 'lt', 'lv', 'mk', 'nl', 'no', 'pl', 'pt', 'ro', 'ru',\n",
       "       'sk', 'sl', 'so', 'sq', 'sv', 'sw', 'ta', 'th', 'tl', 'tr', 'uk',\n",
       "       'ur', 'vi', 'zh-cn', 'zh-tw'], dtype='<U5')"
      ]
     },
     "execution_count": 15,
     "metadata": {},
     "output_type": "execute_result"
    }
   ],
   "source": [
    "np.unique(LANG)"
   ]
  },
  {
   "cell_type": "code",
   "execution_count": 43,
   "id": "9dcf0278",
   "metadata": {},
   "outputs": [],
   "source": [
    "def DETECT_ENGLISH(TEXT):\n",
    "    try:\n",
    "        return detect(TEXT) == 'en'\n",
    "    except:\n",
    "        return False"
   ]
  },
  {
   "cell_type": "code",
   "execution_count": 44,
   "id": "11977fd1",
   "metadata": {},
   "outputs": [],
   "source": [
    "NEW_DF = BLOGS_DF[BLOGS_DF['text'].apply(DETECT_ENGLISH)]"
   ]
  },
  {
   "cell_type": "code",
   "execution_count": 46,
   "id": "5763980a",
   "metadata": {},
   "outputs": [
    {
     "data": {
      "text/plain": [
       "(651500, 7)"
      ]
     },
     "execution_count": 46,
     "metadata": {},
     "output_type": "execute_result"
    }
   ],
   "source": [
    "NEW_DF.shape\n",
    "\n",
    "DF_COPY = NEW_DF.copy()"
   ]
  },
  {
   "cell_type": "markdown",
   "id": "63ef05f3",
   "metadata": {},
   "source": [
    "    * WE HAVE ELIMINATED 29784 ROWS WHICH CONTAINS TEXT DATA OF OTHER LANGUAGE.\n",
    "    * SHAPE OF NEW DATA FRAME IS 651500 ROWS AND 7 COLUMNS."
   ]
  },
  {
   "cell_type": "markdown",
   "id": "cf056977",
   "metadata": {},
   "source": [
    "# 2. Preprocess unstructured data to make it consumable for model training."
   ]
  },
  {
   "cell_type": "markdown",
   "id": "61643043",
   "metadata": {},
   "source": [
    "# A. Eliminate All special Characters and Numbers\n",
    "# B. Lowercase all textual data\n",
    "# C. Remove all Stopwords\n",
    "# D. Remove all extra white spaces"
   ]
  },
  {
   "cell_type": "code",
   "execution_count": 104,
   "id": "b2702e0c",
   "metadata": {},
   "outputs": [
    {
     "data": {
      "text/plain": [
       "'           Info has been found   pages and  MB of pdf files Now i have to wait untill our team leader has processed it and learns html         '"
      ]
     },
     "execution_count": 104,
     "metadata": {},
     "output_type": "execute_result"
    }
   ],
   "source": [
    "# Eliminate All special Characters and Numbers\n",
    "import re\n",
    "NEW_DF.text = NEW_DF['text'].replace(r'[^A-Za-z ]+', '', regex=True)\n",
    "\n",
    "NEW_DF.text[0]"
   ]
  },
  {
   "cell_type": "code",
   "execution_count": 105,
   "id": "45b0adf3",
   "metadata": {},
   "outputs": [
    {
     "data": {
      "text/plain": [
       "'           info has been found   pages and  mb of pdf files now i have to wait untill our team leader has processed it and learns html         '"
      ]
     },
     "execution_count": 105,
     "metadata": {},
     "output_type": "execute_result"
    }
   ],
   "source": [
    "# Lowercase all textual data\n",
    "NEW_DF['text'] = NEW_DF['text'].str.lower()\n",
    "\n",
    "NEW_DF.text[0]"
   ]
  },
  {
   "cell_type": "code",
   "execution_count": 106,
   "id": "c64866d2",
   "metadata": {},
   "outputs": [
    {
     "name": "stderr",
     "output_type": "stream",
     "text": [
      "[nltk_data] Downloading package stopwords to\n",
      "[nltk_data]     C:\\Users\\thril\\AppData\\Roaming\\nltk_data...\n",
      "[nltk_data]   Package stopwords is already up-to-date!\n"
     ]
    },
    {
     "data": {
      "text/plain": [
       "'info found pages mb pdf files wait untill team leader processed learns html'"
      ]
     },
     "execution_count": 106,
     "metadata": {},
     "output_type": "execute_result"
    }
   ],
   "source": [
    "# Remove all Stopwords\n",
    "import nltk\n",
    "from nltk.corpus import stopwords\n",
    "nltk.download('stopwords')\n",
    "\n",
    "stopwords = set(stopwords.words('english'))\n",
    "NEW_DF.text = NEW_DF.text.apply(lambda x: ' '.join([word for word in x.split() if word not in stopwords]))\n",
    "\n",
    "NEW_DF.text[0]"
   ]
  },
  {
   "cell_type": "markdown",
   "id": "f7bb02a3",
   "metadata": {},
   "source": [
    "    * WE HAVE REMOVED UNWANTED CHARS AND NUMBERS FROM THE DATA SET\n",
    "    * WE HAVE REMOVED ADDITIONAL SPACES FROM THE DATA SET\n",
    "    * WE HAVE CONVERTED THE TEXT DATA INTO LOWER CASE."
   ]
  },
  {
   "cell_type": "markdown",
   "id": "ecc20b81",
   "metadata": {},
   "source": [
    "# 3. Build a base Classification model\n",
    "# A. Create dependent and independent variables"
   ]
  },
  {
   "cell_type": "code",
   "execution_count": 107,
   "id": "edf99a6a",
   "metadata": {},
   "outputs": [
    {
     "data": {
      "text/plain": [
       "id         int64\n",
       "gender    object\n",
       "age        int64\n",
       "topic     object\n",
       "sign      object\n",
       "date      object\n",
       "text      object\n",
       "dtype: object"
      ]
     },
     "execution_count": 107,
     "metadata": {},
     "output_type": "execute_result"
    }
   ],
   "source": [
    "NEW_DF.dtypes"
   ]
  },
  {
   "cell_type": "code",
   "execution_count": 108,
   "id": "edf573aa",
   "metadata": {},
   "outputs": [],
   "source": [
    "NEW_DF = NEW_DF.drop(columns = ['id','date'])"
   ]
  },
  {
   "cell_type": "code",
   "execution_count": 109,
   "id": "6a131641",
   "metadata": {},
   "outputs": [],
   "source": [
    "NEW_DF['age'] = NEW_DF['age'].astype(str)"
   ]
  },
  {
   "cell_type": "code",
   "execution_count": 110,
   "id": "35f8f24d",
   "metadata": {},
   "outputs": [
    {
     "data": {
      "text/plain": [
       "gender    object\n",
       "age       object\n",
       "topic     object\n",
       "sign      object\n",
       "text      object\n",
       "dtype: object"
      ]
     },
     "execution_count": 110,
     "metadata": {},
     "output_type": "execute_result"
    }
   ],
   "source": [
    "NEW_DF.dtypes"
   ]
  },
  {
   "cell_type": "code",
   "execution_count": 111,
   "id": "a7594ec0",
   "metadata": {},
   "outputs": [],
   "source": [
    "NEW_DF['labels'] = NEW_DF['gender']+','+ NEW_DF['age'] +','+ NEW_DF['topic'] +','+NEW_DF['sign']"
   ]
  },
  {
   "cell_type": "code",
   "execution_count": 112,
   "id": "98bf9674",
   "metadata": {},
   "outputs": [],
   "source": [
    "NEW_DF.drop(columns = ['gender','age','sign','topic'], axis = 1, inplace = True)"
   ]
  },
  {
   "cell_type": "code",
   "execution_count": 113,
   "id": "d86b2254",
   "metadata": {},
   "outputs": [
    {
     "name": "stdout",
     "output_type": "stream",
     "text": [
      "(5000, 2) \n",
      "\n",
      "                                                 text  \\\n",
      "0  info found pages mb pdf files wait untill team...   \n",
      "1  het kader van kernfusie op aarde maak je eigen...   \n",
      "2                                    testing testing   \n",
      "3  thanks yahoos toolbar capture urls popupswhich...   \n",
      "4  interesting conversation dad morning talking k...   \n",
      "\n",
      "                               labels  \n",
      "0                 male,15,Student,Leo  \n",
      "1                 male,15,Student,Leo  \n",
      "2                 male,15,Student,Leo  \n",
      "3  male,33,InvestmentBanking,Aquarius  \n",
      "4  male,33,InvestmentBanking,Aquarius  \n"
     ]
    }
   ],
   "source": [
    "NEW_DF.reset_index(drop=True, inplace=True)\n",
    "\n",
    "#NEW_DF.to_csv('BACKUP.csv', index = False)\n",
    "\n",
    "# I AM TAKING ONLY 5000 RECORDS FOR TRAINING THE MACHINE DUE TO CPU CRASHES.\n",
    "\n",
    "DATA = NEW_DF[0:5000]\n",
    "\n",
    "print(DATA.shape,'\\n\\n',DATA.head())"
   ]
  },
  {
   "cell_type": "code",
   "execution_count": 114,
   "id": "385d47a2",
   "metadata": {},
   "outputs": [
    {
     "name": "stderr",
     "output_type": "stream",
     "text": [
      "[nltk_data] Downloading package wordnet to\n",
      "[nltk_data]     C:\\Users\\thril\\AppData\\Roaming\\nltk_data...\n",
      "[nltk_data]   Package wordnet is already up-to-date!\n",
      "[nltk_data] Downloading package omw-1.4 to\n",
      "[nltk_data]     C:\\Users\\thril\\AppData\\Roaming\\nltk_data...\n",
      "[nltk_data]   Package omw-1.4 is already up-to-date!\n"
     ]
    }
   ],
   "source": [
    "import nltk\n",
    "from nltk.stem import WordNetLemmatizer\n",
    "nltk.download('wordnet')\n",
    "nltk.download('omw-1.4')\n",
    "\n",
    "LEMMATIZER = WordNetLemmatizer()\n",
    "\n",
    "def LEMMATIZER_FUN(text):\n",
    "    text = [LEMMATIZER.lemmatize(word)for word in text.split()]\n",
    "    return \" \".join(text)"
   ]
  },
  {
   "cell_type": "code",
   "execution_count": 115,
   "id": "4b1766bf",
   "metadata": {},
   "outputs": [
    {
     "data": {
      "text/html": [
       "<div>\n",
       "<style scoped>\n",
       "    .dataframe tbody tr th:only-of-type {\n",
       "        vertical-align: middle;\n",
       "    }\n",
       "\n",
       "    .dataframe tbody tr th {\n",
       "        vertical-align: top;\n",
       "    }\n",
       "\n",
       "    .dataframe thead th {\n",
       "        text-align: right;\n",
       "    }\n",
       "</style>\n",
       "<table border=\"1\" class=\"dataframe\">\n",
       "  <thead>\n",
       "    <tr style=\"text-align: right;\">\n",
       "      <th></th>\n",
       "      <th>text</th>\n",
       "      <th>labels</th>\n",
       "    </tr>\n",
       "  </thead>\n",
       "  <tbody>\n",
       "    <tr>\n",
       "      <th>0</th>\n",
       "      <td>info found page mb pdf file wait untill team l...</td>\n",
       "      <td>male,15,Student,Leo</td>\n",
       "    </tr>\n",
       "    <tr>\n",
       "      <th>1</th>\n",
       "      <td>het kader van kernfusie op aarde maak je eigen...</td>\n",
       "      <td>male,15,Student,Leo</td>\n",
       "    </tr>\n",
       "    <tr>\n",
       "      <th>2</th>\n",
       "      <td>testing testing</td>\n",
       "      <td>male,15,Student,Leo</td>\n",
       "    </tr>\n",
       "    <tr>\n",
       "      <th>3</th>\n",
       "      <td>thanks yahoo toolbar capture url popupswhich m...</td>\n",
       "      <td>male,33,InvestmentBanking,Aquarius</td>\n",
       "    </tr>\n",
       "    <tr>\n",
       "      <th>4</th>\n",
       "      <td>interesting conversation dad morning talking k...</td>\n",
       "      <td>male,33,InvestmentBanking,Aquarius</td>\n",
       "    </tr>\n",
       "  </tbody>\n",
       "</table>\n",
       "</div>"
      ],
      "text/plain": [
       "                                                text  \\\n",
       "0  info found page mb pdf file wait untill team l...   \n",
       "1  het kader van kernfusie op aarde maak je eigen...   \n",
       "2                                    testing testing   \n",
       "3  thanks yahoo toolbar capture url popupswhich m...   \n",
       "4  interesting conversation dad morning talking k...   \n",
       "\n",
       "                               labels  \n",
       "0                 male,15,Student,Leo  \n",
       "1                 male,15,Student,Leo  \n",
       "2                 male,15,Student,Leo  \n",
       "3  male,33,InvestmentBanking,Aquarius  \n",
       "4  male,33,InvestmentBanking,Aquarius  "
      ]
     },
     "execution_count": 115,
     "metadata": {},
     "output_type": "execute_result"
    }
   ],
   "source": [
    "DATA['text'] = DATA['text'].apply(LEMMATIZER_FUN)\n",
    "\n",
    "DATA.head()"
   ]
  },
  {
   "cell_type": "code",
   "execution_count": 116,
   "id": "5db4be66",
   "metadata": {},
   "outputs": [],
   "source": [
    "from nltk.stem.snowball import SnowballStemmer\n",
    "\n",
    "STEMMER = SnowballStemmer(\"english\")\n",
    "\n",
    "def STEMMER_FUN(text):    \n",
    "    '''a function which stems each word in the given text'''\n",
    "    text = [STEMMER.stem(word) for word in text.split()]\n",
    "    return \" \".join(text)"
   ]
  },
  {
   "cell_type": "code",
   "execution_count": 3,
   "id": "065d0ad4",
   "metadata": {},
   "outputs": [
    {
     "data": {
      "text/html": [
       "<div>\n",
       "<style scoped>\n",
       "    .dataframe tbody tr th:only-of-type {\n",
       "        vertical-align: middle;\n",
       "    }\n",
       "\n",
       "    .dataframe tbody tr th {\n",
       "        vertical-align: top;\n",
       "    }\n",
       "\n",
       "    .dataframe thead th {\n",
       "        text-align: right;\n",
       "    }\n",
       "</style>\n",
       "<table border=\"1\" class=\"dataframe\">\n",
       "  <thead>\n",
       "    <tr style=\"text-align: right;\">\n",
       "      <th></th>\n",
       "      <th>text</th>\n",
       "      <th>labels</th>\n",
       "    </tr>\n",
       "  </thead>\n",
       "  <tbody>\n",
       "    <tr>\n",
       "      <th>0</th>\n",
       "      <td>info found page mb pdf file wait until team le...</td>\n",
       "      <td>male,15,Student,Leo</td>\n",
       "    </tr>\n",
       "    <tr>\n",
       "      <th>1</th>\n",
       "      <td>het kader van kernfusi op aard maak je eigen w...</td>\n",
       "      <td>male,15,Student,Leo</td>\n",
       "    </tr>\n",
       "    <tr>\n",
       "      <th>2</th>\n",
       "      <td>test test</td>\n",
       "      <td>male,15,Student,Leo</td>\n",
       "    </tr>\n",
       "    <tr>\n",
       "      <th>3</th>\n",
       "      <td>thank yahoo toolbar captur url popupswhich mea...</td>\n",
       "      <td>male,33,InvestmentBanking,Aquarius</td>\n",
       "    </tr>\n",
       "    <tr>\n",
       "      <th>4</th>\n",
       "      <td>interest convers dad morn talk korean put mone...</td>\n",
       "      <td>male,33,InvestmentBanking,Aquarius</td>\n",
       "    </tr>\n",
       "  </tbody>\n",
       "</table>\n",
       "</div>"
      ],
      "text/plain": [
       "                                                text  \\\n",
       "0  info found page mb pdf file wait until team le...   \n",
       "1  het kader van kernfusi op aard maak je eigen w...   \n",
       "2                                          test test   \n",
       "3  thank yahoo toolbar captur url popupswhich mea...   \n",
       "4  interest convers dad morn talk korean put mone...   \n",
       "\n",
       "                               labels  \n",
       "0                 male,15,Student,Leo  \n",
       "1                 male,15,Student,Leo  \n",
       "2                 male,15,Student,Leo  \n",
       "3  male,33,InvestmentBanking,Aquarius  \n",
       "4  male,33,InvestmentBanking,Aquarius  "
      ]
     },
     "execution_count": 3,
     "metadata": {},
     "output_type": "execute_result"
    }
   ],
   "source": [
    "DATA['text'] = DATA['text'].apply(STEMMER_FUN)\n",
    "\n",
    "DATA.head()\n",
    "\n",
    "#DATA.to_csv('BACKUP2.csv', index = False)\n",
    "\n",
    "#DATA = pd.read_csv('BACKUP2.csv')"
   ]
  },
  {
   "cell_type": "code",
   "execution_count": 4,
   "id": "de3a89a8",
   "metadata": {},
   "outputs": [],
   "source": [
    "X = DATA['text'] # INDEPENDENT VARIABLE\n",
    "Y = DATA['labels'] # DEPENDENT VARIABLE"
   ]
  },
  {
   "cell_type": "code",
   "execution_count": 5,
   "id": "7db82538",
   "metadata": {},
   "outputs": [
    {
     "data": {
      "text/plain": [
       "0    info found page mb pdf file wait until team le...\n",
       "1    het kader van kernfusi op aard maak je eigen w...\n",
       "2                                            test test\n",
       "3    thank yahoo toolbar captur url popupswhich mea...\n",
       "4    interest convers dad morn talk korean put mone...\n",
       "Name: text, dtype: object"
      ]
     },
     "execution_count": 5,
     "metadata": {},
     "output_type": "execute_result"
    }
   ],
   "source": [
    "X.head()"
   ]
  },
  {
   "cell_type": "code",
   "execution_count": 6,
   "id": "2feae73f",
   "metadata": {},
   "outputs": [
    {
     "data": {
      "text/plain": [
       "0                   male,15,Student,Leo\n",
       "1                   male,15,Student,Leo\n",
       "2                   male,15,Student,Leo\n",
       "3    male,33,InvestmentBanking,Aquarius\n",
       "4    male,33,InvestmentBanking,Aquarius\n",
       "Name: labels, dtype: object"
      ]
     },
     "execution_count": 6,
     "metadata": {},
     "output_type": "execute_result"
    }
   ],
   "source": [
    "Y[:5]"
   ]
  },
  {
   "cell_type": "markdown",
   "id": "d77648c4",
   "metadata": {},
   "source": [
    "    * WE HAVE DROPPED ID AND DATE COLUMNS FROM THE DATA FRAME AS THERE IS NO SIGNIFICANT EFFECT\n",
    "    * WE HAVE MERGED GENDER, AGE AND SIGN TO FORM A NEW COLUMN LABEL\n",
    "    * AFTER CREATION OF NEW COLUMN, WE HAVE DROPPED GENDER, AGE AND SIGN COLUMNS\n",
    "    * WE HAVE CREATED INDEPENDENT VARIABLE X AND ASSIGNED TEXT AND LABELS TO IT\n",
    "    * WE HAVE CREATED TARGET VARIABLE X AND ASSIGNED TOPIC AS DEPENDENT VARIABLE.\n",
    "    \n",
    "    \n",
    "    *** I AM CONSIDERING ONLY 5000 RECORDS FOR TRAINING MY MODEL DUE TO CPU CRASHES CONSTANTLY USING HIGH VOLUME\n",
    "        OF DATA SET AND TO AVOID FURTHER CPU CRASHES"
   ]
  },
  {
   "cell_type": "markdown",
   "id": "8627f973",
   "metadata": {},
   "source": [
    "# B. Split data into train and test"
   ]
  },
  {
   "cell_type": "code",
   "execution_count": 7,
   "id": "a394fa65",
   "metadata": {},
   "outputs": [],
   "source": [
    "from sklearn.model_selection import train_test_split\n",
    "\n",
    "X_TRAIN, X_TEST, Y_TRAIN, Y_TEST = train_test_split(X, Y, test_size = 0.25, random_state = 25)"
   ]
  },
  {
   "cell_type": "markdown",
   "id": "87d86e56",
   "metadata": {},
   "source": [
    "    * WE HAVE SPLIT THE DATA INTO TRAIN AND TEST IN RATIO 75:25\n",
    "    \n",
    "    * X_TRAIN AND Y_TRAIN ARE THE TEST DATA AND X_TEST AND Y_TEST ARE THE TEST DATA."
   ]
  },
  {
   "cell_type": "markdown",
   "id": "481af7bf",
   "metadata": {},
   "source": [
    "# C. Vectorize data using any one vectorizer."
   ]
  },
  {
   "cell_type": "code",
   "execution_count": 8,
   "id": "eee87d18",
   "metadata": {},
   "outputs": [],
   "source": [
    "from sklearn.feature_extraction.text import CountVectorizer\n",
    "\n",
    "VECTORIZER = CountVectorizer(binary=True, ngram_range=(1,2))"
   ]
  },
  {
   "cell_type": "code",
   "execution_count": 9,
   "id": "26ee71b7",
   "metadata": {},
   "outputs": [],
   "source": [
    "X_TRAIN_V = VECTORIZER.fit_transform(X_TRAIN)"
   ]
  },
  {
   "cell_type": "code",
   "execution_count": 10,
   "id": "e00f9f16",
   "metadata": {},
   "outputs": [],
   "source": [
    "X_TRAIN_A = X_TRAIN_V.toarray()"
   ]
  },
  {
   "cell_type": "code",
   "execution_count": 11,
   "id": "f637f44e",
   "metadata": {},
   "outputs": [
    {
     "data": {
      "text/plain": [
       "(3750, 244807)"
      ]
     },
     "execution_count": 11,
     "metadata": {},
     "output_type": "execute_result"
    }
   ],
   "source": [
    "X_TRAIN_A.shape"
   ]
  },
  {
   "cell_type": "code",
   "execution_count": 12,
   "id": "dc9500f4",
   "metadata": {},
   "outputs": [
    {
     "data": {
      "text/plain": [
       "(1250, 244807)"
      ]
     },
     "execution_count": 12,
     "metadata": {},
     "output_type": "execute_result"
    }
   ],
   "source": [
    "X_TEST_V = VECTORIZER.transform(X_TEST)\n",
    "\n",
    "X_TEST_A = X_TEST_V.toarray()\n",
    "\n",
    "X_TEST_A.shape"
   ]
  },
  {
   "cell_type": "code",
   "execution_count": 13,
   "id": "95c1fd1c",
   "metadata": {},
   "outputs": [
    {
     "name": "stderr",
     "output_type": "stream",
     "text": [
      "[nltk_data] Downloading package punkt to\n",
      "[nltk_data]     C:\\Users\\thril\\AppData\\Roaming\\nltk_data...\n",
      "[nltk_data]   Package punkt is already up-to-date!\n"
     ]
    },
    {
     "name": "stdout",
     "output_type": "stream",
     "text": [
      "<FreqDist with 54 samples and 20000 outcomes>\n"
     ]
    },
    {
     "data": {
      "text/html": [
       "<div>\n",
       "<style scoped>\n",
       "    .dataframe tbody tr th:only-of-type {\n",
       "        vertical-align: middle;\n",
       "    }\n",
       "\n",
       "    .dataframe tbody tr th {\n",
       "        vertical-align: top;\n",
       "    }\n",
       "\n",
       "    .dataframe thead th {\n",
       "        text-align: right;\n",
       "    }\n",
       "</style>\n",
       "<table border=\"1\" class=\"dataframe\">\n",
       "  <thead>\n",
       "    <tr style=\"text-align: right;\">\n",
       "      <th></th>\n",
       "      <th>WORDS</th>\n",
       "      <th>FREQUENCY</th>\n",
       "    </tr>\n",
       "  </thead>\n",
       "  <tbody>\n",
       "    <tr>\n",
       "      <th>0</th>\n",
       "      <td>male</td>\n",
       "      <td>3066</td>\n",
       "    </tr>\n",
       "    <tr>\n",
       "      <th>1</th>\n",
       "      <td>Aries</td>\n",
       "      <td>2286</td>\n",
       "    </tr>\n",
       "    <tr>\n",
       "      <th>2</th>\n",
       "      <td>Technology</td>\n",
       "      <td>2136</td>\n",
       "    </tr>\n",
       "    <tr>\n",
       "      <th>3</th>\n",
       "      <td>35</td>\n",
       "      <td>2111</td>\n",
       "    </tr>\n",
       "    <tr>\n",
       "      <th>4</th>\n",
       "      <td>female</td>\n",
       "      <td>1934</td>\n",
       "    </tr>\n",
       "  </tbody>\n",
       "</table>\n",
       "</div>"
      ],
      "text/plain": [
       "        WORDS  FREQUENCY\n",
       "0        male       3066\n",
       "1       Aries       2286\n",
       "2  Technology       2136\n",
       "3          35       2111\n",
       "4      female       1934"
      ]
     },
     "execution_count": 13,
     "metadata": {},
     "output_type": "execute_result"
    }
   ],
   "source": [
    "nltk.download('punkt')\n",
    "\n",
    "MAX = 100\n",
    "\n",
    "LABELS = DATA['labels'].str.cat(sep=',')\n",
    "\n",
    "LABELS = LABELS. replace(',',' ')\n",
    "\n",
    "WORDS = nltk.tokenize.word_tokenize(LABELS)\n",
    "\n",
    "word_dist = nltk.FreqDist(WORDS)\n",
    "\n",
    "print (word_dist)\n",
    "\n",
    "RESULTS = pd.DataFrame(word_dist.most_common(MAX),columns=['WORDS', 'FREQUENCY'])\n",
    "\n",
    "RESULTS.head(5)"
   ]
  },
  {
   "cell_type": "code",
   "execution_count": 14,
   "id": "418148b6",
   "metadata": {},
   "outputs": [
    {
     "data": {
      "text/plain": [
       "{'male': 3066,\n",
       " 'Aries': 2286,\n",
       " 'Technology': 2136,\n",
       " '35': 2111,\n",
       " 'female': 1934,\n",
       " 'indUnk': 1618,\n",
       " 'Sagittarius': 682,\n",
       " 'Scorpio': 676,\n",
       " '17': 599,\n",
       " 'Student': 546,\n",
       " '34': 528,\n",
       " 'Libra': 409,\n",
       " '24': 337,\n",
       " '15': 325,\n",
       " 'Aquarius': 317,\n",
       " '25': 262,\n",
       " 'Leo': 183,\n",
       " '14': 168,\n",
       " '23': 128,\n",
       " 'Engineering': 119,\n",
       " 'Education': 116,\n",
       " '33': 101,\n",
       " 'Taurus': 94,\n",
       " '26': 88,\n",
       " '27': 86,\n",
       " 'Capricorn': 84,\n",
       " 'Gemini': 82,\n",
       " 'Cancer': 81,\n",
       " '39': 77,\n",
       " 'BusinessServices': 75,\n",
       " 'Sports-Recreation': 75,\n",
       " 'InvestmentBanking': 70,\n",
       " 'Pisces': 67,\n",
       " '16': 65,\n",
       " 'Communications-Media': 61,\n",
       " '36': 60,\n",
       " 'Non-Profit': 46,\n",
       " 'Virgo': 39,\n",
       " 'Science': 31,\n",
       " 'Arts': 31,\n",
       " 'Internet': 20,\n",
       " '37': 19,\n",
       " 'Banking': 16,\n",
       " 'Consulting': 15,\n",
       " '45': 14,\n",
       " '41': 14,\n",
       " 'Automotive': 14,\n",
       " '42': 9,\n",
       " '46': 6,\n",
       " 'Religion': 4,\n",
       " '44': 3,\n",
       " 'Law': 3,\n",
       " 'Museums-Libraries': 2,\n",
       " 'Accounting': 2}"
      ]
     },
     "execution_count": 14,
     "metadata": {},
     "output_type": "execute_result"
    }
   ],
   "source": [
    "RESULTS_TO_DICT = pd.Series(RESULTS.FREQUENCY.values,index= RESULTS.WORDS).to_dict()\n",
    "\n",
    "RESULTS_TO_DICT"
   ]
  },
  {
   "cell_type": "code",
   "execution_count": 15,
   "id": "0e02596b",
   "metadata": {},
   "outputs": [],
   "source": [
    "# Binarize the labels using multilabel binarizer\n",
    "\n",
    "from sklearn.preprocessing import MultiLabelBinarizer\n",
    "\n",
    "BINARIZER = MultiLabelBinarizer(classes=sorted(RESULTS_TO_DICT.keys()))"
   ]
  },
  {
   "cell_type": "code",
   "execution_count": 16,
   "id": "e1cec570",
   "metadata": {},
   "outputs": [
    {
     "data": {
      "text/html": [
       "<div>\n",
       "<style scoped>\n",
       "    .dataframe tbody tr th:only-of-type {\n",
       "        vertical-align: middle;\n",
       "    }\n",
       "\n",
       "    .dataframe tbody tr th {\n",
       "        vertical-align: top;\n",
       "    }\n",
       "\n",
       "    .dataframe thead th {\n",
       "        text-align: right;\n",
       "    }\n",
       "</style>\n",
       "<table border=\"1\" class=\"dataframe\">\n",
       "  <thead>\n",
       "    <tr style=\"text-align: right;\">\n",
       "      <th></th>\n",
       "      <th>labels</th>\n",
       "      <th>14</th>\n",
       "      <th>15</th>\n",
       "      <th>16</th>\n",
       "      <th>17</th>\n",
       "      <th>23</th>\n",
       "      <th>24</th>\n",
       "      <th>25</th>\n",
       "      <th>26</th>\n",
       "      <th>27</th>\n",
       "      <th>...</th>\n",
       "      <th>Science</th>\n",
       "      <th>Scorpio</th>\n",
       "      <th>Sports-Recreation</th>\n",
       "      <th>Student</th>\n",
       "      <th>Taurus</th>\n",
       "      <th>Technology</th>\n",
       "      <th>Virgo</th>\n",
       "      <th>female</th>\n",
       "      <th>indUnk</th>\n",
       "      <th>male</th>\n",
       "    </tr>\n",
       "  </thead>\n",
       "  <tbody>\n",
       "    <tr>\n",
       "      <th>0</th>\n",
       "      <td>female,17,Student,Aries</td>\n",
       "      <td>0</td>\n",
       "      <td>0</td>\n",
       "      <td>0</td>\n",
       "      <td>1</td>\n",
       "      <td>0</td>\n",
       "      <td>0</td>\n",
       "      <td>0</td>\n",
       "      <td>0</td>\n",
       "      <td>0</td>\n",
       "      <td>...</td>\n",
       "      <td>0</td>\n",
       "      <td>0</td>\n",
       "      <td>0</td>\n",
       "      <td>1</td>\n",
       "      <td>0</td>\n",
       "      <td>0</td>\n",
       "      <td>0</td>\n",
       "      <td>1</td>\n",
       "      <td>0</td>\n",
       "      <td>0</td>\n",
       "    </tr>\n",
       "    <tr>\n",
       "      <th>1</th>\n",
       "      <td>male,25,Non-Profit,Cancer</td>\n",
       "      <td>0</td>\n",
       "      <td>0</td>\n",
       "      <td>0</td>\n",
       "      <td>0</td>\n",
       "      <td>0</td>\n",
       "      <td>0</td>\n",
       "      <td>1</td>\n",
       "      <td>0</td>\n",
       "      <td>0</td>\n",
       "      <td>...</td>\n",
       "      <td>0</td>\n",
       "      <td>0</td>\n",
       "      <td>0</td>\n",
       "      <td>0</td>\n",
       "      <td>0</td>\n",
       "      <td>0</td>\n",
       "      <td>0</td>\n",
       "      <td>0</td>\n",
       "      <td>0</td>\n",
       "      <td>1</td>\n",
       "    </tr>\n",
       "    <tr>\n",
       "      <th>2</th>\n",
       "      <td>female,34,indUnk,Virgo</td>\n",
       "      <td>0</td>\n",
       "      <td>0</td>\n",
       "      <td>0</td>\n",
       "      <td>0</td>\n",
       "      <td>0</td>\n",
       "      <td>0</td>\n",
       "      <td>0</td>\n",
       "      <td>0</td>\n",
       "      <td>0</td>\n",
       "      <td>...</td>\n",
       "      <td>0</td>\n",
       "      <td>0</td>\n",
       "      <td>0</td>\n",
       "      <td>0</td>\n",
       "      <td>0</td>\n",
       "      <td>0</td>\n",
       "      <td>1</td>\n",
       "      <td>1</td>\n",
       "      <td>1</td>\n",
       "      <td>0</td>\n",
       "    </tr>\n",
       "    <tr>\n",
       "      <th>3</th>\n",
       "      <td>male,35,Technology,Aries</td>\n",
       "      <td>0</td>\n",
       "      <td>0</td>\n",
       "      <td>0</td>\n",
       "      <td>0</td>\n",
       "      <td>0</td>\n",
       "      <td>0</td>\n",
       "      <td>0</td>\n",
       "      <td>0</td>\n",
       "      <td>0</td>\n",
       "      <td>...</td>\n",
       "      <td>0</td>\n",
       "      <td>0</td>\n",
       "      <td>0</td>\n",
       "      <td>0</td>\n",
       "      <td>0</td>\n",
       "      <td>1</td>\n",
       "      <td>0</td>\n",
       "      <td>0</td>\n",
       "      <td>0</td>\n",
       "      <td>1</td>\n",
       "    </tr>\n",
       "    <tr>\n",
       "      <th>4</th>\n",
       "      <td>female,24,indUnk,Scorpio</td>\n",
       "      <td>0</td>\n",
       "      <td>0</td>\n",
       "      <td>0</td>\n",
       "      <td>0</td>\n",
       "      <td>0</td>\n",
       "      <td>1</td>\n",
       "      <td>0</td>\n",
       "      <td>0</td>\n",
       "      <td>0</td>\n",
       "      <td>...</td>\n",
       "      <td>0</td>\n",
       "      <td>1</td>\n",
       "      <td>0</td>\n",
       "      <td>0</td>\n",
       "      <td>0</td>\n",
       "      <td>0</td>\n",
       "      <td>0</td>\n",
       "      <td>1</td>\n",
       "      <td>1</td>\n",
       "      <td>0</td>\n",
       "    </tr>\n",
       "  </tbody>\n",
       "</table>\n",
       "<p>5 rows × 55 columns</p>\n",
       "</div>"
      ],
      "text/plain": [
       "                      labels  14  15  16  17  23  24  25  26  27  ...  \\\n",
       "0    female,17,Student,Aries   0   0   0   1   0   0   0   0   0  ...   \n",
       "1  male,25,Non-Profit,Cancer   0   0   0   0   0   0   1   0   0  ...   \n",
       "2     female,34,indUnk,Virgo   0   0   0   0   0   0   0   0   0  ...   \n",
       "3   male,35,Technology,Aries   0   0   0   0   0   0   0   0   0  ...   \n",
       "4   female,24,indUnk,Scorpio   0   0   0   0   0   1   0   0   0  ...   \n",
       "\n",
       "   Science  Scorpio  Sports-Recreation  Student  Taurus  Technology  Virgo  \\\n",
       "0        0        0                  0        1       0           0      0   \n",
       "1        0        0                  0        0       0           0      0   \n",
       "2        0        0                  0        0       0           0      1   \n",
       "3        0        0                  0        0       0           1      0   \n",
       "4        0        1                  0        0       0           0      0   \n",
       "\n",
       "   female  indUnk  male  \n",
       "0       1       0     0  \n",
       "1       0       0     1  \n",
       "2       1       1     0  \n",
       "3       0       0     1  \n",
       "4       1       1     0  \n",
       "\n",
       "[5 rows x 55 columns]"
      ]
     },
     "execution_count": 16,
     "metadata": {},
     "output_type": "execute_result"
    }
   ],
   "source": [
    "D_LABELS = pd.DataFrame(data = Y_TRAIN)\n",
    "\n",
    "#D_LABELS.head()\n",
    "\n",
    "Y_TRAIN_B = pd.DataFrame(BINARIZER.fit_transform(D_LABELS.labels.str.split(',')),\n",
    "                         columns=BINARIZER.classes_,index=D_LABELS.labels).reset_index()\n",
    "\n",
    "Y_TRAIN_B.head()"
   ]
  },
  {
   "cell_type": "code",
   "execution_count": 17,
   "id": "20c12693",
   "metadata": {},
   "outputs": [
    {
     "data": {
      "text/plain": [
       "array([[0, 0, 0, ..., 1, 0, 0],\n",
       "       [0, 0, 0, ..., 0, 0, 1],\n",
       "       [0, 0, 0, ..., 1, 1, 0],\n",
       "       ...,\n",
       "       [0, 0, 0, ..., 0, 0, 1],\n",
       "       [0, 0, 0, ..., 0, 0, 1],\n",
       "       [0, 0, 0, ..., 1, 1, 0]])"
      ]
     },
     "execution_count": 17,
     "metadata": {},
     "output_type": "execute_result"
    }
   ],
   "source": [
    "Y_TRAIN_B.drop(['labels'],inplace = True,axis = 1)\n",
    "\n",
    "Y_TRAIN_B = Y_TRAIN_B.to_numpy()\n",
    "\n",
    "Y_TRAIN_B"
   ]
  },
  {
   "cell_type": "code",
   "execution_count": 18,
   "id": "aee70bb9",
   "metadata": {},
   "outputs": [
    {
     "data": {
      "text/plain": [
       "(3750, 54)"
      ]
     },
     "execution_count": 18,
     "metadata": {},
     "output_type": "execute_result"
    }
   ],
   "source": [
    "Y_TRAIN_B.shape"
   ]
  },
  {
   "cell_type": "code",
   "execution_count": 19,
   "id": "16e8f1d2",
   "metadata": {},
   "outputs": [
    {
     "data": {
      "text/html": [
       "<div>\n",
       "<style scoped>\n",
       "    .dataframe tbody tr th:only-of-type {\n",
       "        vertical-align: middle;\n",
       "    }\n",
       "\n",
       "    .dataframe tbody tr th {\n",
       "        vertical-align: top;\n",
       "    }\n",
       "\n",
       "    .dataframe thead th {\n",
       "        text-align: right;\n",
       "    }\n",
       "</style>\n",
       "<table border=\"1\" class=\"dataframe\">\n",
       "  <thead>\n",
       "    <tr style=\"text-align: right;\">\n",
       "      <th></th>\n",
       "      <th>labels</th>\n",
       "      <th>14</th>\n",
       "      <th>15</th>\n",
       "      <th>16</th>\n",
       "      <th>17</th>\n",
       "      <th>23</th>\n",
       "      <th>24</th>\n",
       "      <th>25</th>\n",
       "      <th>26</th>\n",
       "      <th>27</th>\n",
       "      <th>...</th>\n",
       "      <th>Science</th>\n",
       "      <th>Scorpio</th>\n",
       "      <th>Sports-Recreation</th>\n",
       "      <th>Student</th>\n",
       "      <th>Taurus</th>\n",
       "      <th>Technology</th>\n",
       "      <th>Virgo</th>\n",
       "      <th>female</th>\n",
       "      <th>indUnk</th>\n",
       "      <th>male</th>\n",
       "    </tr>\n",
       "  </thead>\n",
       "  <tbody>\n",
       "    <tr>\n",
       "      <th>0</th>\n",
       "      <td>male,24,Engineering,Libra</td>\n",
       "      <td>0</td>\n",
       "      <td>0</td>\n",
       "      <td>0</td>\n",
       "      <td>0</td>\n",
       "      <td>0</td>\n",
       "      <td>1</td>\n",
       "      <td>0</td>\n",
       "      <td>0</td>\n",
       "      <td>0</td>\n",
       "      <td>...</td>\n",
       "      <td>0</td>\n",
       "      <td>0</td>\n",
       "      <td>0</td>\n",
       "      <td>0</td>\n",
       "      <td>0</td>\n",
       "      <td>0</td>\n",
       "      <td>0</td>\n",
       "      <td>0</td>\n",
       "      <td>0</td>\n",
       "      <td>1</td>\n",
       "    </tr>\n",
       "    <tr>\n",
       "      <th>1</th>\n",
       "      <td>female,17,indUnk,Scorpio</td>\n",
       "      <td>0</td>\n",
       "      <td>0</td>\n",
       "      <td>0</td>\n",
       "      <td>1</td>\n",
       "      <td>0</td>\n",
       "      <td>0</td>\n",
       "      <td>0</td>\n",
       "      <td>0</td>\n",
       "      <td>0</td>\n",
       "      <td>...</td>\n",
       "      <td>0</td>\n",
       "      <td>1</td>\n",
       "      <td>0</td>\n",
       "      <td>0</td>\n",
       "      <td>0</td>\n",
       "      <td>0</td>\n",
       "      <td>0</td>\n",
       "      <td>1</td>\n",
       "      <td>1</td>\n",
       "      <td>0</td>\n",
       "    </tr>\n",
       "    <tr>\n",
       "      <th>2</th>\n",
       "      <td>male,35,Technology,Aries</td>\n",
       "      <td>0</td>\n",
       "      <td>0</td>\n",
       "      <td>0</td>\n",
       "      <td>0</td>\n",
       "      <td>0</td>\n",
       "      <td>0</td>\n",
       "      <td>0</td>\n",
       "      <td>0</td>\n",
       "      <td>0</td>\n",
       "      <td>...</td>\n",
       "      <td>0</td>\n",
       "      <td>0</td>\n",
       "      <td>0</td>\n",
       "      <td>0</td>\n",
       "      <td>0</td>\n",
       "      <td>1</td>\n",
       "      <td>0</td>\n",
       "      <td>0</td>\n",
       "      <td>0</td>\n",
       "      <td>1</td>\n",
       "    </tr>\n",
       "    <tr>\n",
       "      <th>3</th>\n",
       "      <td>male,35,Technology,Aries</td>\n",
       "      <td>0</td>\n",
       "      <td>0</td>\n",
       "      <td>0</td>\n",
       "      <td>0</td>\n",
       "      <td>0</td>\n",
       "      <td>0</td>\n",
       "      <td>0</td>\n",
       "      <td>0</td>\n",
       "      <td>0</td>\n",
       "      <td>...</td>\n",
       "      <td>0</td>\n",
       "      <td>0</td>\n",
       "      <td>0</td>\n",
       "      <td>0</td>\n",
       "      <td>0</td>\n",
       "      <td>1</td>\n",
       "      <td>0</td>\n",
       "      <td>0</td>\n",
       "      <td>0</td>\n",
       "      <td>1</td>\n",
       "    </tr>\n",
       "    <tr>\n",
       "      <th>4</th>\n",
       "      <td>male,35,Technology,Aries</td>\n",
       "      <td>0</td>\n",
       "      <td>0</td>\n",
       "      <td>0</td>\n",
       "      <td>0</td>\n",
       "      <td>0</td>\n",
       "      <td>0</td>\n",
       "      <td>0</td>\n",
       "      <td>0</td>\n",
       "      <td>0</td>\n",
       "      <td>...</td>\n",
       "      <td>0</td>\n",
       "      <td>0</td>\n",
       "      <td>0</td>\n",
       "      <td>0</td>\n",
       "      <td>0</td>\n",
       "      <td>1</td>\n",
       "      <td>0</td>\n",
       "      <td>0</td>\n",
       "      <td>0</td>\n",
       "      <td>1</td>\n",
       "    </tr>\n",
       "  </tbody>\n",
       "</table>\n",
       "<p>5 rows × 55 columns</p>\n",
       "</div>"
      ],
      "text/plain": [
       "                      labels  14  15  16  17  23  24  25  26  27  ...  \\\n",
       "0  male,24,Engineering,Libra   0   0   0   0   0   1   0   0   0  ...   \n",
       "1   female,17,indUnk,Scorpio   0   0   0   1   0   0   0   0   0  ...   \n",
       "2   male,35,Technology,Aries   0   0   0   0   0   0   0   0   0  ...   \n",
       "3   male,35,Technology,Aries   0   0   0   0   0   0   0   0   0  ...   \n",
       "4   male,35,Technology,Aries   0   0   0   0   0   0   0   0   0  ...   \n",
       "\n",
       "   Science  Scorpio  Sports-Recreation  Student  Taurus  Technology  Virgo  \\\n",
       "0        0        0                  0        0       0           0      0   \n",
       "1        0        1                  0        0       0           0      0   \n",
       "2        0        0                  0        0       0           1      0   \n",
       "3        0        0                  0        0       0           1      0   \n",
       "4        0        0                  0        0       0           1      0   \n",
       "\n",
       "   female  indUnk  male  \n",
       "0       0       0     1  \n",
       "1       1       1     0  \n",
       "2       0       0     1  \n",
       "3       0       0     1  \n",
       "4       0       0     1  \n",
       "\n",
       "[5 rows x 55 columns]"
      ]
     },
     "execution_count": 19,
     "metadata": {},
     "output_type": "execute_result"
    }
   ],
   "source": [
    "D_TEST_LABELS = pd.DataFrame(data = Y_TEST)\n",
    "\n",
    "#D_TEST_LABELS.head()\n",
    "\n",
    "Y_TEST_B = pd.DataFrame(BINARIZER.fit_transform(D_TEST_LABELS.labels.str.split(',')),\n",
    "                         columns=BINARIZER.classes_,index=D_TEST_LABELS.labels).reset_index()\n",
    "\n",
    "Y_TEST_B.head()"
   ]
  },
  {
   "cell_type": "code",
   "execution_count": 20,
   "id": "638298cd",
   "metadata": {},
   "outputs": [
    {
     "data": {
      "text/plain": [
       "array([[0, 0, 0, ..., 0, 0, 1],\n",
       "       [0, 0, 0, ..., 1, 1, 0],\n",
       "       [0, 0, 0, ..., 0, 0, 1],\n",
       "       ...,\n",
       "       [0, 0, 0, ..., 1, 1, 0],\n",
       "       [0, 0, 1, ..., 0, 1, 1],\n",
       "       [0, 0, 0, ..., 1, 1, 0]])"
      ]
     },
     "execution_count": 20,
     "metadata": {},
     "output_type": "execute_result"
    }
   ],
   "source": [
    "Y_TEST_B.drop(['labels'],inplace = True,axis = 1)\n",
    "\n",
    "Y_TEST_B = Y_TEST_B.to_numpy()\n",
    "\n",
    "Y_TEST_B"
   ]
  },
  {
   "cell_type": "code",
   "execution_count": 21,
   "id": "e8e7b4c5",
   "metadata": {},
   "outputs": [
    {
     "data": {
      "text/plain": [
       "(1250, 54)"
      ]
     },
     "execution_count": 21,
     "metadata": {},
     "output_type": "execute_result"
    }
   ],
   "source": [
    "Y_TEST_B.shape"
   ]
  },
  {
   "cell_type": "markdown",
   "id": "6f73d480",
   "metadata": {},
   "source": [
    "# D. Build a base model for Supervised Learning - Classification."
   ]
  },
  {
   "cell_type": "code",
   "execution_count": 17,
   "id": "0c3505c6",
   "metadata": {},
   "outputs": [],
   "source": [
    "BASE_MODEL = LogisticRegression(solver='lbfgs')\n",
    "BASE_MODEL = OneVsRestClassifier(BASE_MODEL)"
   ]
  },
  {
   "cell_type": "code",
   "execution_count": 43,
   "id": "eb27094f",
   "metadata": {},
   "outputs": [
    {
     "data": {
      "text/html": [
       "<style>#sk-container-id-3 {color: black;background-color: white;}#sk-container-id-3 pre{padding: 0;}#sk-container-id-3 div.sk-toggleable {background-color: white;}#sk-container-id-3 label.sk-toggleable__label {cursor: pointer;display: block;width: 100%;margin-bottom: 0;padding: 0.3em;box-sizing: border-box;text-align: center;}#sk-container-id-3 label.sk-toggleable__label-arrow:before {content: \"▸\";float: left;margin-right: 0.25em;color: #696969;}#sk-container-id-3 label.sk-toggleable__label-arrow:hover:before {color: black;}#sk-container-id-3 div.sk-estimator:hover label.sk-toggleable__label-arrow:before {color: black;}#sk-container-id-3 div.sk-toggleable__content {max-height: 0;max-width: 0;overflow: hidden;text-align: left;background-color: #f0f8ff;}#sk-container-id-3 div.sk-toggleable__content pre {margin: 0.2em;color: black;border-radius: 0.25em;background-color: #f0f8ff;}#sk-container-id-3 input.sk-toggleable__control:checked~div.sk-toggleable__content {max-height: 200px;max-width: 100%;overflow: auto;}#sk-container-id-3 input.sk-toggleable__control:checked~label.sk-toggleable__label-arrow:before {content: \"▾\";}#sk-container-id-3 div.sk-estimator input.sk-toggleable__control:checked~label.sk-toggleable__label {background-color: #d4ebff;}#sk-container-id-3 div.sk-label input.sk-toggleable__control:checked~label.sk-toggleable__label {background-color: #d4ebff;}#sk-container-id-3 input.sk-hidden--visually {border: 0;clip: rect(1px 1px 1px 1px);clip: rect(1px, 1px, 1px, 1px);height: 1px;margin: -1px;overflow: hidden;padding: 0;position: absolute;width: 1px;}#sk-container-id-3 div.sk-estimator {font-family: monospace;background-color: #f0f8ff;border: 1px dotted black;border-radius: 0.25em;box-sizing: border-box;margin-bottom: 0.5em;}#sk-container-id-3 div.sk-estimator:hover {background-color: #d4ebff;}#sk-container-id-3 div.sk-parallel-item::after {content: \"\";width: 100%;border-bottom: 1px solid gray;flex-grow: 1;}#sk-container-id-3 div.sk-label:hover label.sk-toggleable__label {background-color: #d4ebff;}#sk-container-id-3 div.sk-serial::before {content: \"\";position: absolute;border-left: 1px solid gray;box-sizing: border-box;top: 0;bottom: 0;left: 50%;z-index: 0;}#sk-container-id-3 div.sk-serial {display: flex;flex-direction: column;align-items: center;background-color: white;padding-right: 0.2em;padding-left: 0.2em;position: relative;}#sk-container-id-3 div.sk-item {position: relative;z-index: 1;}#sk-container-id-3 div.sk-parallel {display: flex;align-items: stretch;justify-content: center;background-color: white;position: relative;}#sk-container-id-3 div.sk-item::before, #sk-container-id-3 div.sk-parallel-item::before {content: \"\";position: absolute;border-left: 1px solid gray;box-sizing: border-box;top: 0;bottom: 0;left: 50%;z-index: -1;}#sk-container-id-3 div.sk-parallel-item {display: flex;flex-direction: column;z-index: 1;position: relative;background-color: white;}#sk-container-id-3 div.sk-parallel-item:first-child::after {align-self: flex-end;width: 50%;}#sk-container-id-3 div.sk-parallel-item:last-child::after {align-self: flex-start;width: 50%;}#sk-container-id-3 div.sk-parallel-item:only-child::after {width: 0;}#sk-container-id-3 div.sk-dashed-wrapped {border: 1px dashed gray;margin: 0 0.4em 0.5em 0.4em;box-sizing: border-box;padding-bottom: 0.4em;background-color: white;}#sk-container-id-3 div.sk-label label {font-family: monospace;font-weight: bold;display: inline-block;line-height: 1.2em;}#sk-container-id-3 div.sk-label-container {text-align: center;}#sk-container-id-3 div.sk-container {/* jupyter's `normalize.less` sets `[hidden] { display: none; }` but bootstrap.min.css set `[hidden] { display: none !important; }` so we also need the `!important` here to be able to override the default hidden behavior on the sphinx rendered scikit-learn.org. See: https://github.com/scikit-learn/scikit-learn/issues/21755 */display: inline-block !important;position: relative;}#sk-container-id-3 div.sk-text-repr-fallback {display: none;}</style><div id=\"sk-container-id-3\" class=\"sk-top-container\"><div class=\"sk-text-repr-fallback\"><pre>OneVsRestClassifier(estimator=LogisticRegression())</pre><b>In a Jupyter environment, please rerun this cell to show the HTML representation or trust the notebook. <br />On GitHub, the HTML representation is unable to render, please try loading this page with nbviewer.org.</b></div><div class=\"sk-container\" hidden><div class=\"sk-item sk-dashed-wrapped\"><div class=\"sk-label-container\"><div class=\"sk-label sk-toggleable\"><input class=\"sk-toggleable__control sk-hidden--visually\" id=\"sk-estimator-id-7\" type=\"checkbox\" ><label for=\"sk-estimator-id-7\" class=\"sk-toggleable__label sk-toggleable__label-arrow\">OneVsRestClassifier</label><div class=\"sk-toggleable__content\"><pre>OneVsRestClassifier(estimator=LogisticRegression())</pre></div></div></div><div class=\"sk-parallel\"><div class=\"sk-parallel-item\"><div class=\"sk-item\"><div class=\"sk-label-container\"><div class=\"sk-label sk-toggleable\"><input class=\"sk-toggleable__control sk-hidden--visually\" id=\"sk-estimator-id-8\" type=\"checkbox\" ><label for=\"sk-estimator-id-8\" class=\"sk-toggleable__label sk-toggleable__label-arrow\">estimator: LogisticRegression</label><div class=\"sk-toggleable__content\"><pre>LogisticRegression()</pre></div></div></div><div class=\"sk-serial\"><div class=\"sk-item\"><div class=\"sk-estimator sk-toggleable\"><input class=\"sk-toggleable__control sk-hidden--visually\" id=\"sk-estimator-id-9\" type=\"checkbox\" ><label for=\"sk-estimator-id-9\" class=\"sk-toggleable__label sk-toggleable__label-arrow\">LogisticRegression</label><div class=\"sk-toggleable__content\"><pre>LogisticRegression()</pre></div></div></div></div></div></div></div></div></div></div>"
      ],
      "text/plain": [
       "OneVsRestClassifier(estimator=LogisticRegression())"
      ]
     },
     "execution_count": 43,
     "metadata": {},
     "output_type": "execute_result"
    }
   ],
   "source": [
    "BASE_MODEL.fit(X_TRAIN_A, Y_TRAIN_B)"
   ]
  },
  {
   "cell_type": "code",
   "execution_count": 44,
   "id": "6a21b709",
   "metadata": {},
   "outputs": [],
   "source": [
    "PREDICTIONS = BASE_MODEL.predict(X_TEST_A)"
   ]
  },
  {
   "cell_type": "code",
   "execution_count": 22,
   "id": "ec078080",
   "metadata": {},
   "outputs": [
    {
     "data": {
      "text/plain": [
       "(1250, 54)"
      ]
     },
     "execution_count": 22,
     "metadata": {},
     "output_type": "execute_result"
    }
   ],
   "source": [
    "Y_TEST_B.shape"
   ]
  },
  {
   "cell_type": "code",
   "execution_count": 46,
   "id": "6398401d",
   "metadata": {},
   "outputs": [
    {
     "data": {
      "text/plain": [
       "(1250, 54)"
      ]
     },
     "execution_count": 46,
     "metadata": {},
     "output_type": "execute_result"
    }
   ],
   "source": [
    "PREDICTIONS.shape"
   ]
  },
  {
   "cell_type": "code",
   "execution_count": 47,
   "id": "f7c9e1ab",
   "metadata": {},
   "outputs": [
    {
     "data": {
      "text/plain": [
       "array([[0, 0, 0, ..., 0, 0, 1],\n",
       "       [0, 0, 0, ..., 0, 0, 1],\n",
       "       [0, 0, 0, ..., 0, 0, 1],\n",
       "       ...,\n",
       "       [0, 0, 0, ..., 1, 1, 0],\n",
       "       [0, 0, 0, ..., 1, 0, 0],\n",
       "       [0, 0, 0, ..., 1, 1, 0]])"
      ]
     },
     "execution_count": 47,
     "metadata": {},
     "output_type": "execute_result"
    }
   ],
   "source": [
    "PREDICTIONS"
   ]
  },
  {
   "cell_type": "markdown",
   "id": "5ecd4a6c",
   "metadata": {},
   "source": [
    "# E. Clearly print Performance Metrics."
   ]
  },
  {
   "cell_type": "code",
   "execution_count": 25,
   "id": "266685ed",
   "metadata": {},
   "outputs": [],
   "source": [
    "from sklearn.metrics import accuracy_score, confusion_matrix, precision_score, recall_score, f1_score"
   ]
  },
  {
   "cell_type": "code",
   "execution_count": 77,
   "id": "45bb5732",
   "metadata": {},
   "outputs": [
    {
     "name": "stdout",
     "output_type": "stream",
     "text": [
      "ACCURACY:  0.4696\n",
      "\n",
      "PRECISION:  0.7928180951436132\n",
      "\n",
      "RECALL:  0.6198\n",
      "\n",
      "F1_SCORE:  0.6421249229967048\n"
     ]
    }
   ],
   "source": [
    "print('ACCURACY: ',accuracy_score(Y_TEST_B,PREDICTIONS))\n",
    "print('\\nPRECISION: ',precision_score(Y_TEST_B,PREDICTIONS,average='weighted'))\n",
    "print('\\nRECALL: ',recall_score(Y_TEST_B,PREDICTIONS,average='weighted'))\n",
    "print('\\nF1_SCORE: ',f1_score(Y_TEST_B,PREDICTIONS,average='weighted'))"
   ]
  },
  {
   "cell_type": "code",
   "execution_count": 65,
   "id": "9521ad3c",
   "metadata": {},
   "outputs": [
    {
     "name": "stdout",
     "output_type": "stream",
     "text": [
      "CLASSIFICATION REPORT:\n",
      "\n",
      "               precision    recall  f1-score   support\n",
      "\n",
      "           0       1.00      0.13      0.23        39\n",
      "           1       0.71      0.17      0.28        87\n",
      "           2       0.00      0.00      0.00        10\n",
      "           3       0.75      0.34      0.46       161\n",
      "           4       0.00      0.00      0.00        32\n",
      "           5       0.85      0.20      0.32        86\n",
      "           6       1.00      0.03      0.06        65\n",
      "           7       0.00      0.00      0.00        20\n",
      "           8       1.00      0.05      0.09        22\n",
      "           9       1.00      0.18      0.30        34\n",
      "          10       0.99      0.78      0.88       130\n",
      "          11       0.79      0.89      0.84       499\n",
      "          12       1.00      0.05      0.10        20\n",
      "          13       0.00      0.00      0.00         5\n",
      "          14       0.00      0.00      0.00        26\n",
      "          15       0.00      0.00      0.00         3\n",
      "          16       0.00      0.00      0.00         2\n",
      "          17       0.00      0.00      0.00         1\n",
      "          18       0.00      0.00      0.00         5\n",
      "          19       0.00      0.00      0.00         3\n",
      "          20       0.00      0.00      0.00         0\n",
      "          21       0.88      0.08      0.15        85\n",
      "          22       0.77      0.86      0.82       554\n",
      "          23       0.00      0.00      0.00         6\n",
      "          24       0.00      0.00      0.00         4\n",
      "          25       0.00      0.00      0.00         8\n",
      "          26       1.00      0.07      0.12        15\n",
      "          27       1.00      0.06      0.12        16\n",
      "          28       1.00      0.24      0.38        21\n",
      "          29       0.00      0.00      0.00        19\n",
      "          30       0.00      0.00      0.00         5\n",
      "          31       1.00      0.03      0.06        32\n",
      "          32       1.00      0.04      0.07        28\n",
      "          33       0.00      0.00      0.00        24\n",
      "          34       0.00      0.00      0.00        11\n",
      "          35       1.00      0.29      0.44        21\n",
      "          36       0.00      0.00      0.00         1\n",
      "          37       1.00      0.06      0.12        47\n",
      "          38       0.96      0.21      0.35       112\n",
      "          39       0.00      0.00      0.00         0\n",
      "          40       0.00      0.00      0.00         8\n",
      "          41       1.00      0.05      0.09        22\n",
      "          42       0.00      0.00      0.00         3\n",
      "          43       0.96      0.65      0.77       161\n",
      "          44       0.00      0.00      0.00         7\n",
      "          45       0.75      0.27      0.40       172\n",
      "          46       1.00      0.40      0.57        15\n",
      "          47       0.83      0.22      0.35       154\n",
      "          48       0.00      0.00      0.00        25\n",
      "          49       0.79      0.90      0.84       506\n",
      "          50       0.00      0.00      0.00        11\n",
      "          51       0.87      0.70      0.78       515\n",
      "          52       0.79      0.57      0.66       407\n",
      "          53       0.82      0.93      0.87       735\n",
      "\n",
      "   micro avg       0.81      0.62      0.70      5000\n",
      "   macro avg       0.49      0.17      0.21      5000\n",
      "weighted avg       0.79      0.62      0.64      5000\n",
      " samples avg       0.79      0.62      0.66      5000\n",
      "\n"
     ]
    }
   ],
   "source": [
    "print('CLASSIFICATION REPORT:\\n\\n',classification_report(Y_TEST_B,PREDICTIONS))"
   ]
  },
  {
   "cell_type": "markdown",
   "id": "a3646246",
   "metadata": {},
   "source": [
    "# 4. Improve Performance of model. \n",
    "# A. Experiment with other vectorisers."
   ]
  },
  {
   "cell_type": "code",
   "execution_count": 22,
   "id": "eec7f51e",
   "metadata": {},
   "outputs": [],
   "source": [
    "# USING TFIDF VECTORIZER AND TRAIN THE BASE MODEL.\n",
    "\n",
    "from sklearn.feature_extraction.text import TfidfVectorizer\n",
    "\n",
    "TFID_VEC = TfidfVectorizer(stop_words= 'english')\n",
    "\n",
    "TFID_VEC.fit(X_TRAIN)\n",
    "\n",
    "X_TRAIN_T = TFID_VEC.transform(X_TRAIN)\n",
    "\n",
    "X_TEST_T = TFID_VEC.transform(X_TEST)"
   ]
  },
  {
   "cell_type": "code",
   "execution_count": 23,
   "id": "92bd97c2",
   "metadata": {},
   "outputs": [
    {
     "name": "stdout",
     "output_type": "stream",
     "text": [
      "TRAIN DATA SHAPE:  (3750, 24613)\n",
      "\n",
      "\n",
      "TEST DATA SHAPE:  (1250, 24613)\n"
     ]
    }
   ],
   "source": [
    "print('TRAIN DATA SHAPE: ', X_TRAIN_T.shape)\n",
    "\n",
    "print('\\n\\nTEST DATA SHAPE: ', X_TEST_T.shape)"
   ]
  },
  {
   "cell_type": "code",
   "execution_count": 24,
   "id": "13d12303",
   "metadata": {},
   "outputs": [
    {
     "data": {
      "text/plain": [
       "<3750x24613 sparse matrix of type '<class 'numpy.float64'>'\n",
       "\twith 195037 stored elements in Compressed Sparse Row format>"
      ]
     },
     "execution_count": 24,
     "metadata": {},
     "output_type": "execute_result"
    }
   ],
   "source": [
    "X_TRAIN_T"
   ]
  },
  {
   "cell_type": "code",
   "execution_count": null,
   "id": "aadd2378",
   "metadata": {},
   "outputs": [],
   "source": [
    "BASE_MODEL.fit(X_TRAIN_T, Y_TRAIN_B)"
   ]
  },
  {
   "cell_type": "code",
   "execution_count": 73,
   "id": "089100f2",
   "metadata": {},
   "outputs": [],
   "source": [
    "PREDICTIONS_TFID = BASE_MODEL.predict(X_TEST_T)"
   ]
  },
  {
   "cell_type": "code",
   "execution_count": 74,
   "id": "1816c112",
   "metadata": {},
   "outputs": [
    {
     "name": "stdout",
     "output_type": "stream",
     "text": [
      "ACCURACY_TFID:  0.3616\n"
     ]
    }
   ],
   "source": [
    "print('ACCURACY_TFID: ',accuracy_score(Y_TEST_B,PREDICTIONS_TFID))"
   ]
  },
  {
   "cell_type": "code",
   "execution_count": 75,
   "id": "c3f2667e",
   "metadata": {},
   "outputs": [
    {
     "name": "stdout",
     "output_type": "stream",
     "text": [
      "CLASSIFICATION REPORT:\n",
      "\n",
      "               precision    recall  f1-score   support\n",
      "\n",
      "           0       1.00      0.13      0.23        39\n",
      "           1       0.71      0.17      0.28        87\n",
      "           2       0.00      0.00      0.00        10\n",
      "           3       0.75      0.34      0.46       161\n",
      "           4       0.00      0.00      0.00        32\n",
      "           5       0.85      0.20      0.32        86\n",
      "           6       1.00      0.03      0.06        65\n",
      "           7       0.00      0.00      0.00        20\n",
      "           8       1.00      0.05      0.09        22\n",
      "           9       1.00      0.18      0.30        34\n",
      "          10       0.99      0.78      0.88       130\n",
      "          11       0.79      0.89      0.84       499\n",
      "          12       1.00      0.05      0.10        20\n",
      "          13       0.00      0.00      0.00         5\n",
      "          14       0.00      0.00      0.00        26\n",
      "          15       0.00      0.00      0.00         3\n",
      "          16       0.00      0.00      0.00         2\n",
      "          17       0.00      0.00      0.00         1\n",
      "          18       0.00      0.00      0.00         5\n",
      "          19       0.00      0.00      0.00         3\n",
      "          20       0.00      0.00      0.00         0\n",
      "          21       0.88      0.08      0.15        85\n",
      "          22       0.77      0.86      0.82       554\n",
      "          23       0.00      0.00      0.00         6\n",
      "          24       0.00      0.00      0.00         4\n",
      "          25       0.00      0.00      0.00         8\n",
      "          26       1.00      0.07      0.12        15\n",
      "          27       1.00      0.06      0.12        16\n",
      "          28       1.00      0.24      0.38        21\n",
      "          29       0.00      0.00      0.00        19\n",
      "          30       0.00      0.00      0.00         5\n",
      "          31       1.00      0.03      0.06        32\n",
      "          32       1.00      0.04      0.07        28\n",
      "          33       0.00      0.00      0.00        24\n",
      "          34       0.00      0.00      0.00        11\n",
      "          35       1.00      0.29      0.44        21\n",
      "          36       0.00      0.00      0.00         1\n",
      "          37       1.00      0.06      0.12        47\n",
      "          38       0.96      0.21      0.35       112\n",
      "          39       0.00      0.00      0.00         0\n",
      "          40       0.00      0.00      0.00         8\n",
      "          41       1.00      0.05      0.09        22\n",
      "          42       0.00      0.00      0.00         3\n",
      "          43       0.96      0.65      0.77       161\n",
      "          44       0.00      0.00      0.00         7\n",
      "          45       0.75      0.27      0.40       172\n",
      "          46       1.00      0.40      0.57        15\n",
      "          47       0.83      0.22      0.35       154\n",
      "          48       0.00      0.00      0.00        25\n",
      "          49       0.79      0.90      0.84       506\n",
      "          50       0.00      0.00      0.00        11\n",
      "          51       0.87      0.70      0.78       515\n",
      "          52       0.79      0.57      0.66       407\n",
      "          53       0.82      0.93      0.87       735\n",
      "\n",
      "   micro avg       0.81      0.62      0.70      5000\n",
      "   macro avg       0.49      0.17      0.21      5000\n",
      "weighted avg       0.79      0.62      0.64      5000\n",
      " samples avg       0.79      0.62      0.66      5000\n",
      "\n"
     ]
    }
   ],
   "source": [
    "print('CLASSIFICATION REPORT:\\n\\n',classification_report(Y_TEST_B,PREDICTIONS))"
   ]
  },
  {
   "cell_type": "code",
   "execution_count": 78,
   "id": "ca55ef9a",
   "metadata": {},
   "outputs": [
    {
     "name": "stdout",
     "output_type": "stream",
     "text": [
      "ACCURACY:  0.3616\n",
      "\n",
      "PRECISION:  0.7766332943479283\n",
      "\n",
      "RECALL:  0.522\n",
      "\n",
      "F1_SCORE:  0.5524569754617406\n"
     ]
    }
   ],
   "source": [
    "print('ACCURACY: ',accuracy_score(Y_TEST_B,PREDICTIONS_TFID))\n",
    "print('\\nPRECISION: ',precision_score(Y_TEST_B,PREDICTIONS_TFID,average='weighted'))\n",
    "print('\\nRECALL: ',recall_score(Y_TEST_B,PREDICTIONS_TFID,average='weighted'))\n",
    "print('\\nF1_SCORE: ',f1_score(Y_TEST_B,PREDICTIONS_TFID,average='weighted'))"
   ]
  },
  {
   "cell_type": "code",
   "execution_count": 79,
   "id": "9515f669",
   "metadata": {},
   "outputs": [
    {
     "data": {
      "text/plain": [
       "(3750, 24613)"
      ]
     },
     "execution_count": 79,
     "metadata": {},
     "output_type": "execute_result"
    }
   ],
   "source": [
    "# USE WORD2VEC VECTORIZER\n",
    "\n",
    "TFID_TRAIN = TFID_VEC.fit_transform(X_TRAIN)\n",
    "\n",
    "TFID_TRAIN.shape"
   ]
  },
  {
   "cell_type": "code",
   "execution_count": 80,
   "id": "a8c81317",
   "metadata": {},
   "outputs": [],
   "source": [
    "TFID_TRAIN_CORPUS = pd.DataFrame(TFID_TRAIN.toarray(), columns = TFID_VEC.get_feature_names(), index = X_TRAIN.index)"
   ]
  },
  {
   "cell_type": "code",
   "execution_count": 81,
   "id": "4e785952",
   "metadata": {},
   "outputs": [
    {
     "data": {
      "text/plain": [
       "(3750, 24613)"
      ]
     },
     "execution_count": 81,
     "metadata": {},
     "output_type": "execute_result"
    }
   ],
   "source": [
    "TFID_TRAIN_CORPUS.shape"
   ]
  },
  {
   "cell_type": "code",
   "execution_count": 82,
   "id": "4fca8240",
   "metadata": {},
   "outputs": [
    {
     "data": {
      "text/plain": [
       "urllink    0.029574\n",
       "im         0.027815\n",
       "like       0.024794\n",
       "know       0.019543\n",
       "dont       0.019042\n",
       "think      0.018049\n",
       "time       0.016546\n",
       "realli     0.016169\n",
       "good       0.015711\n",
       "day        0.015660\n",
       "dtype: float64"
      ]
     },
     "execution_count": 82,
     "metadata": {},
     "output_type": "execute_result"
    }
   ],
   "source": [
    "TFID_TRAIN_CORPUS.mean().sort_values(ascending = False).head(10)"
   ]
  },
  {
   "cell_type": "code",
   "execution_count": 83,
   "id": "507b9603",
   "metadata": {},
   "outputs": [
    {
     "data": {
      "text/plain": [
       "Index(['urllink', 'im', 'like', 'know', 'dont', 'think', 'time', 'realli',\n",
       "       'good', 'day', 'thing', 'want', 'peopl', 'love', 'make', 'work', 'say',\n",
       "       'feel', 'got', 'look', 'today', 'ive', 'new', 'littl', 'need', 'come',\n",
       "       'right', 'life', 'someth', 'night', 'way', 'post', 'blog', 'year',\n",
       "       'diva', 'read', 'friend', 'ill', 'thought', 'tri', 'start', 'week',\n",
       "       'mean', 'went', 'thank', 'oh', 'talk', 'said', 'didnt', 'hope'],\n",
       "      dtype='object')"
      ]
     },
     "execution_count": 83,
     "metadata": {},
     "output_type": "execute_result"
    }
   ],
   "source": [
    "TOP50_TOKENS_TRAIN = (TFID_TRAIN_CORPUS.mean().sort_values(ascending = False).head(50).index)\n",
    "\n",
    "TOP50_TOKENS_TRAIN"
   ]
  },
  {
   "cell_type": "markdown",
   "id": "ab0f0c5b",
   "metadata": {},
   "source": [
    "# B. Build classifier Models using other algorithms than base model"
   ]
  },
  {
   "cell_type": "code",
   "execution_count": 26,
   "id": "d312202a",
   "metadata": {},
   "outputs": [],
   "source": [
    "RFC = RandomForestClassifier()\n",
    "\n",
    "RFC = OneVsRestClassifier(RFC)\n",
    "\n",
    "RFC.fit(X_TRAIN_A, Y_TRAIN_B)"
   ]
  },
  {
   "cell_type": "code",
   "execution_count": 28,
   "id": "e4d7a7b4",
   "metadata": {},
   "outputs": [],
   "source": [
    "PREDICTIONS_RFC = RFC.predict(X_TEST_A)"
   ]
  },
  {
   "cell_type": "code",
   "execution_count": 29,
   "id": "8519b8fd",
   "metadata": {},
   "outputs": [
    {
     "name": "stdout",
     "output_type": "stream",
     "text": [
      "ACCURACY:  0.3576\n",
      "\n",
      "PRECISION:  0.5796927544458358\n",
      "\n",
      "RECALL:  0.4854\n",
      "\n",
      "F1_SCORE:  0.4540750413295921\n"
     ]
    }
   ],
   "source": [
    "print('ACCURACY: ',accuracy_score(Y_TEST_B,PREDICTIONS_RFC))\n",
    "print('\\nPRECISION: ',precision_score(Y_TEST_B,PREDICTIONS_RFC,average='weighted'))\n",
    "print('\\nRECALL: ',recall_score(Y_TEST_B,PREDICTIONS_RFC,average='weighted'))\n",
    "print('\\nF1_SCORE: ',f1_score(Y_TEST_B,PREDICTIONS_RFC,average='weighted'))"
   ]
  },
  {
   "cell_type": "code",
   "execution_count": 27,
   "id": "ca47bee5",
   "metadata": {},
   "outputs": [
    {
     "data": {
      "text/html": [
       "<style>#sk-container-id-1 {color: black;background-color: white;}#sk-container-id-1 pre{padding: 0;}#sk-container-id-1 div.sk-toggleable {background-color: white;}#sk-container-id-1 label.sk-toggleable__label {cursor: pointer;display: block;width: 100%;margin-bottom: 0;padding: 0.3em;box-sizing: border-box;text-align: center;}#sk-container-id-1 label.sk-toggleable__label-arrow:before {content: \"▸\";float: left;margin-right: 0.25em;color: #696969;}#sk-container-id-1 label.sk-toggleable__label-arrow:hover:before {color: black;}#sk-container-id-1 div.sk-estimator:hover label.sk-toggleable__label-arrow:before {color: black;}#sk-container-id-1 div.sk-toggleable__content {max-height: 0;max-width: 0;overflow: hidden;text-align: left;background-color: #f0f8ff;}#sk-container-id-1 div.sk-toggleable__content pre {margin: 0.2em;color: black;border-radius: 0.25em;background-color: #f0f8ff;}#sk-container-id-1 input.sk-toggleable__control:checked~div.sk-toggleable__content {max-height: 200px;max-width: 100%;overflow: auto;}#sk-container-id-1 input.sk-toggleable__control:checked~label.sk-toggleable__label-arrow:before {content: \"▾\";}#sk-container-id-1 div.sk-estimator input.sk-toggleable__control:checked~label.sk-toggleable__label {background-color: #d4ebff;}#sk-container-id-1 div.sk-label input.sk-toggleable__control:checked~label.sk-toggleable__label {background-color: #d4ebff;}#sk-container-id-1 input.sk-hidden--visually {border: 0;clip: rect(1px 1px 1px 1px);clip: rect(1px, 1px, 1px, 1px);height: 1px;margin: -1px;overflow: hidden;padding: 0;position: absolute;width: 1px;}#sk-container-id-1 div.sk-estimator {font-family: monospace;background-color: #f0f8ff;border: 1px dotted black;border-radius: 0.25em;box-sizing: border-box;margin-bottom: 0.5em;}#sk-container-id-1 div.sk-estimator:hover {background-color: #d4ebff;}#sk-container-id-1 div.sk-parallel-item::after {content: \"\";width: 100%;border-bottom: 1px solid gray;flex-grow: 1;}#sk-container-id-1 div.sk-label:hover label.sk-toggleable__label {background-color: #d4ebff;}#sk-container-id-1 div.sk-serial::before {content: \"\";position: absolute;border-left: 1px solid gray;box-sizing: border-box;top: 0;bottom: 0;left: 50%;z-index: 0;}#sk-container-id-1 div.sk-serial {display: flex;flex-direction: column;align-items: center;background-color: white;padding-right: 0.2em;padding-left: 0.2em;position: relative;}#sk-container-id-1 div.sk-item {position: relative;z-index: 1;}#sk-container-id-1 div.sk-parallel {display: flex;align-items: stretch;justify-content: center;background-color: white;position: relative;}#sk-container-id-1 div.sk-item::before, #sk-container-id-1 div.sk-parallel-item::before {content: \"\";position: absolute;border-left: 1px solid gray;box-sizing: border-box;top: 0;bottom: 0;left: 50%;z-index: -1;}#sk-container-id-1 div.sk-parallel-item {display: flex;flex-direction: column;z-index: 1;position: relative;background-color: white;}#sk-container-id-1 div.sk-parallel-item:first-child::after {align-self: flex-end;width: 50%;}#sk-container-id-1 div.sk-parallel-item:last-child::after {align-self: flex-start;width: 50%;}#sk-container-id-1 div.sk-parallel-item:only-child::after {width: 0;}#sk-container-id-1 div.sk-dashed-wrapped {border: 1px dashed gray;margin: 0 0.4em 0.5em 0.4em;box-sizing: border-box;padding-bottom: 0.4em;background-color: white;}#sk-container-id-1 div.sk-label label {font-family: monospace;font-weight: bold;display: inline-block;line-height: 1.2em;}#sk-container-id-1 div.sk-label-container {text-align: center;}#sk-container-id-1 div.sk-container {/* jupyter's `normalize.less` sets `[hidden] { display: none; }` but bootstrap.min.css set `[hidden] { display: none !important; }` so we also need the `!important` here to be able to override the default hidden behavior on the sphinx rendered scikit-learn.org. See: https://github.com/scikit-learn/scikit-learn/issues/21755 */display: inline-block !important;position: relative;}#sk-container-id-1 div.sk-text-repr-fallback {display: none;}</style><div id=\"sk-container-id-1\" class=\"sk-top-container\"><div class=\"sk-text-repr-fallback\"><pre>OneVsRestClassifier(estimator=RandomForestClassifier())</pre><b>In a Jupyter environment, please rerun this cell to show the HTML representation or trust the notebook. <br />On GitHub, the HTML representation is unable to render, please try loading this page with nbviewer.org.</b></div><div class=\"sk-container\" hidden><div class=\"sk-item sk-dashed-wrapped\"><div class=\"sk-label-container\"><div class=\"sk-label sk-toggleable\"><input class=\"sk-toggleable__control sk-hidden--visually\" id=\"sk-estimator-id-1\" type=\"checkbox\" ><label for=\"sk-estimator-id-1\" class=\"sk-toggleable__label sk-toggleable__label-arrow\">OneVsRestClassifier</label><div class=\"sk-toggleable__content\"><pre>OneVsRestClassifier(estimator=RandomForestClassifier())</pre></div></div></div><div class=\"sk-parallel\"><div class=\"sk-parallel-item\"><div class=\"sk-item\"><div class=\"sk-label-container\"><div class=\"sk-label sk-toggleable\"><input class=\"sk-toggleable__control sk-hidden--visually\" id=\"sk-estimator-id-2\" type=\"checkbox\" ><label for=\"sk-estimator-id-2\" class=\"sk-toggleable__label sk-toggleable__label-arrow\">estimator: RandomForestClassifier</label><div class=\"sk-toggleable__content\"><pre>RandomForestClassifier()</pre></div></div></div><div class=\"sk-serial\"><div class=\"sk-item\"><div class=\"sk-estimator sk-toggleable\"><input class=\"sk-toggleable__control sk-hidden--visually\" id=\"sk-estimator-id-3\" type=\"checkbox\" ><label for=\"sk-estimator-id-3\" class=\"sk-toggleable__label sk-toggleable__label-arrow\">RandomForestClassifier</label><div class=\"sk-toggleable__content\"><pre>RandomForestClassifier()</pre></div></div></div></div></div></div></div></div></div></div>"
      ],
      "text/plain": [
       "OneVsRestClassifier(estimator=RandomForestClassifier())"
      ]
     },
     "execution_count": 27,
     "metadata": {},
     "output_type": "execute_result"
    }
   ],
   "source": [
    "#RFC = OneVsRestClassifier(RFC)\n",
    "\n",
    "RFC.fit(X_TRAIN_T, Y_TRAIN_B)"
   ]
  },
  {
   "cell_type": "code",
   "execution_count": 28,
   "id": "311df79d",
   "metadata": {},
   "outputs": [],
   "source": [
    "PREDICTIONS_RFCT = RFC.predict(X_TEST_T)"
   ]
  },
  {
   "cell_type": "code",
   "execution_count": 29,
   "id": "3f8b0b86",
   "metadata": {},
   "outputs": [
    {
     "name": "stdout",
     "output_type": "stream",
     "text": [
      "ACCURACY:  0.3512\n",
      "\n",
      "PRECISION:  0.7775546298296782\n",
      "\n",
      "RECALL:  0.5168\n",
      "\n",
      "F1_SCORE:  0.549017216136401\n"
     ]
    }
   ],
   "source": [
    "print('ACCURACY: ',accuracy_score(Y_TEST_B,PREDICTIONS_RFCT))\n",
    "print('\\nPRECISION: ',precision_score(Y_TEST_B,PREDICTIONS_RFCT,average='weighted'))\n",
    "print('\\nRECALL: ',recall_score(Y_TEST_B,PREDICTIONS_RFCT,average='weighted'))\n",
    "print('\\nF1_SCORE: ',f1_score(Y_TEST_B,PREDICTIONS_RFCT,average='weighted'))"
   ]
  },
  {
   "cell_type": "code",
   "execution_count": 57,
   "id": "faa46c31",
   "metadata": {},
   "outputs": [],
   "source": [
    "from sklearn.ensemble import AdaBoostClassifier\n",
    "\n",
    "ABC = AdaBoostClassifier()\n",
    "\n",
    "ABC = OneVsRestClassifier(ABC)"
   ]
  },
  {
   "cell_type": "code",
   "execution_count": 64,
   "id": "4dd46418",
   "metadata": {},
   "outputs": [
    {
     "data": {
      "text/html": [
       "<style>#sk-container-id-16 {color: black;background-color: white;}#sk-container-id-16 pre{padding: 0;}#sk-container-id-16 div.sk-toggleable {background-color: white;}#sk-container-id-16 label.sk-toggleable__label {cursor: pointer;display: block;width: 100%;margin-bottom: 0;padding: 0.3em;box-sizing: border-box;text-align: center;}#sk-container-id-16 label.sk-toggleable__label-arrow:before {content: \"▸\";float: left;margin-right: 0.25em;color: #696969;}#sk-container-id-16 label.sk-toggleable__label-arrow:hover:before {color: black;}#sk-container-id-16 div.sk-estimator:hover label.sk-toggleable__label-arrow:before {color: black;}#sk-container-id-16 div.sk-toggleable__content {max-height: 0;max-width: 0;overflow: hidden;text-align: left;background-color: #f0f8ff;}#sk-container-id-16 div.sk-toggleable__content pre {margin: 0.2em;color: black;border-radius: 0.25em;background-color: #f0f8ff;}#sk-container-id-16 input.sk-toggleable__control:checked~div.sk-toggleable__content {max-height: 200px;max-width: 100%;overflow: auto;}#sk-container-id-16 input.sk-toggleable__control:checked~label.sk-toggleable__label-arrow:before {content: \"▾\";}#sk-container-id-16 div.sk-estimator input.sk-toggleable__control:checked~label.sk-toggleable__label {background-color: #d4ebff;}#sk-container-id-16 div.sk-label input.sk-toggleable__control:checked~label.sk-toggleable__label {background-color: #d4ebff;}#sk-container-id-16 input.sk-hidden--visually {border: 0;clip: rect(1px 1px 1px 1px);clip: rect(1px, 1px, 1px, 1px);height: 1px;margin: -1px;overflow: hidden;padding: 0;position: absolute;width: 1px;}#sk-container-id-16 div.sk-estimator {font-family: monospace;background-color: #f0f8ff;border: 1px dotted black;border-radius: 0.25em;box-sizing: border-box;margin-bottom: 0.5em;}#sk-container-id-16 div.sk-estimator:hover {background-color: #d4ebff;}#sk-container-id-16 div.sk-parallel-item::after {content: \"\";width: 100%;border-bottom: 1px solid gray;flex-grow: 1;}#sk-container-id-16 div.sk-label:hover label.sk-toggleable__label {background-color: #d4ebff;}#sk-container-id-16 div.sk-serial::before {content: \"\";position: absolute;border-left: 1px solid gray;box-sizing: border-box;top: 0;bottom: 0;left: 50%;z-index: 0;}#sk-container-id-16 div.sk-serial {display: flex;flex-direction: column;align-items: center;background-color: white;padding-right: 0.2em;padding-left: 0.2em;position: relative;}#sk-container-id-16 div.sk-item {position: relative;z-index: 1;}#sk-container-id-16 div.sk-parallel {display: flex;align-items: stretch;justify-content: center;background-color: white;position: relative;}#sk-container-id-16 div.sk-item::before, #sk-container-id-16 div.sk-parallel-item::before {content: \"\";position: absolute;border-left: 1px solid gray;box-sizing: border-box;top: 0;bottom: 0;left: 50%;z-index: -1;}#sk-container-id-16 div.sk-parallel-item {display: flex;flex-direction: column;z-index: 1;position: relative;background-color: white;}#sk-container-id-16 div.sk-parallel-item:first-child::after {align-self: flex-end;width: 50%;}#sk-container-id-16 div.sk-parallel-item:last-child::after {align-self: flex-start;width: 50%;}#sk-container-id-16 div.sk-parallel-item:only-child::after {width: 0;}#sk-container-id-16 div.sk-dashed-wrapped {border: 1px dashed gray;margin: 0 0.4em 0.5em 0.4em;box-sizing: border-box;padding-bottom: 0.4em;background-color: white;}#sk-container-id-16 div.sk-label label {font-family: monospace;font-weight: bold;display: inline-block;line-height: 1.2em;}#sk-container-id-16 div.sk-label-container {text-align: center;}#sk-container-id-16 div.sk-container {/* jupyter's `normalize.less` sets `[hidden] { display: none; }` but bootstrap.min.css set `[hidden] { display: none !important; }` so we also need the `!important` here to be able to override the default hidden behavior on the sphinx rendered scikit-learn.org. See: https://github.com/scikit-learn/scikit-learn/issues/21755 */display: inline-block !important;position: relative;}#sk-container-id-16 div.sk-text-repr-fallback {display: none;}</style><div id=\"sk-container-id-16\" class=\"sk-top-container\"><div class=\"sk-text-repr-fallback\"><pre>OneVsRestClassifier(estimator=AdaBoostClassifier())</pre><b>In a Jupyter environment, please rerun this cell to show the HTML representation or trust the notebook. <br />On GitHub, the HTML representation is unable to render, please try loading this page with nbviewer.org.</b></div><div class=\"sk-container\" hidden><div class=\"sk-item sk-dashed-wrapped\"><div class=\"sk-label-container\"><div class=\"sk-label sk-toggleable\"><input class=\"sk-toggleable__control sk-hidden--visually\" id=\"sk-estimator-id-48\" type=\"checkbox\" ><label for=\"sk-estimator-id-48\" class=\"sk-toggleable__label sk-toggleable__label-arrow\">OneVsRestClassifier</label><div class=\"sk-toggleable__content\"><pre>OneVsRestClassifier(estimator=AdaBoostClassifier())</pre></div></div></div><div class=\"sk-parallel\"><div class=\"sk-parallel-item\"><div class=\"sk-item\"><div class=\"sk-label-container\"><div class=\"sk-label sk-toggleable\"><input class=\"sk-toggleable__control sk-hidden--visually\" id=\"sk-estimator-id-49\" type=\"checkbox\" ><label for=\"sk-estimator-id-49\" class=\"sk-toggleable__label sk-toggleable__label-arrow\">estimator: AdaBoostClassifier</label><div class=\"sk-toggleable__content\"><pre>AdaBoostClassifier()</pre></div></div></div><div class=\"sk-serial\"><div class=\"sk-item\"><div class=\"sk-estimator sk-toggleable\"><input class=\"sk-toggleable__control sk-hidden--visually\" id=\"sk-estimator-id-50\" type=\"checkbox\" ><label for=\"sk-estimator-id-50\" class=\"sk-toggleable__label sk-toggleable__label-arrow\">AdaBoostClassifier</label><div class=\"sk-toggleable__content\"><pre>AdaBoostClassifier()</pre></div></div></div></div></div></div></div></div></div></div>"
      ],
      "text/plain": [
       "OneVsRestClassifier(estimator=AdaBoostClassifier())"
      ]
     },
     "execution_count": 64,
     "metadata": {},
     "output_type": "execute_result"
    }
   ],
   "source": [
    "ABC.fit(X_TRAIN_T, Y_TRAIN_B)"
   ]
  },
  {
   "cell_type": "code",
   "execution_count": 65,
   "id": "25c6bb95",
   "metadata": {},
   "outputs": [
    {
     "name": "stdout",
     "output_type": "stream",
     "text": [
      "ACCURACY:  0.3888\n",
      "\n",
      "PRECISION:  0.7087703201541039\n",
      "\n",
      "RECALL:  0.6242\n",
      "\n",
      "F1_SCORE:  0.6473237444826353\n"
     ]
    }
   ],
   "source": [
    "PREDICTIONS_RFCT = ABC.predict(X_TEST_T)\n",
    "\n",
    "print('ACCURACY: ',accuracy_score(Y_TEST_B,PREDICTIONS_RFCT))\n",
    "print('\\nPRECISION: ',precision_score(Y_TEST_B,PREDICTIONS_RFCT,average='weighted'))\n",
    "print('\\nRECALL: ',recall_score(Y_TEST_B,PREDICTIONS_RFCT,average='weighted'))\n",
    "print('\\nF1_SCORE: ',f1_score(Y_TEST_B,PREDICTIONS_RFCT,average='weighted'))"
   ]
  },
  {
   "cell_type": "markdown",
   "id": "1b68464e",
   "metadata": {},
   "source": [
    "# C. Tune Parameters/Hyperparameters of the model/s."
   ]
  },
  {
   "cell_type": "code",
   "execution_count": 33,
   "id": "cee8b8f2",
   "metadata": {},
   "outputs": [],
   "source": [
    "RFC_TUNED = RandomForestClassifier(n_estimators= 300, max_features= 'sqrt', \n",
    "                                   max_depth= 6, criterion= 'entropy', bootstrap= True)"
   ]
  },
  {
   "cell_type": "code",
   "execution_count": 34,
   "id": "62427f8f",
   "metadata": {},
   "outputs": [],
   "source": [
    "BASE_MODEL_TUNED = LogisticRegression(solver= 'newton-cg', penalty= 'none', C= 0.5)\n",
    "\n",
    "BASE_MODEL_TUNED = OneVsRestClassifier(BASE_MODEL_TUNED)"
   ]
  },
  {
   "cell_type": "code",
   "execution_count": null,
   "id": "0c4dbbb6",
   "metadata": {},
   "outputs": [],
   "source": [
    "BASE_MODEL_TUNED.fit(X_TRAIN_A, Y_TRAIN_B)"
   ]
  },
  {
   "cell_type": "code",
   "execution_count": 35,
   "id": "260784f0",
   "metadata": {},
   "outputs": [
    {
     "data": {
      "text/html": [
       "<style>#sk-container-id-3 {color: black;background-color: white;}#sk-container-id-3 pre{padding: 0;}#sk-container-id-3 div.sk-toggleable {background-color: white;}#sk-container-id-3 label.sk-toggleable__label {cursor: pointer;display: block;width: 100%;margin-bottom: 0;padding: 0.3em;box-sizing: border-box;text-align: center;}#sk-container-id-3 label.sk-toggleable__label-arrow:before {content: \"▸\";float: left;margin-right: 0.25em;color: #696969;}#sk-container-id-3 label.sk-toggleable__label-arrow:hover:before {color: black;}#sk-container-id-3 div.sk-estimator:hover label.sk-toggleable__label-arrow:before {color: black;}#sk-container-id-3 div.sk-toggleable__content {max-height: 0;max-width: 0;overflow: hidden;text-align: left;background-color: #f0f8ff;}#sk-container-id-3 div.sk-toggleable__content pre {margin: 0.2em;color: black;border-radius: 0.25em;background-color: #f0f8ff;}#sk-container-id-3 input.sk-toggleable__control:checked~div.sk-toggleable__content {max-height: 200px;max-width: 100%;overflow: auto;}#sk-container-id-3 input.sk-toggleable__control:checked~label.sk-toggleable__label-arrow:before {content: \"▾\";}#sk-container-id-3 div.sk-estimator input.sk-toggleable__control:checked~label.sk-toggleable__label {background-color: #d4ebff;}#sk-container-id-3 div.sk-label input.sk-toggleable__control:checked~label.sk-toggleable__label {background-color: #d4ebff;}#sk-container-id-3 input.sk-hidden--visually {border: 0;clip: rect(1px 1px 1px 1px);clip: rect(1px, 1px, 1px, 1px);height: 1px;margin: -1px;overflow: hidden;padding: 0;position: absolute;width: 1px;}#sk-container-id-3 div.sk-estimator {font-family: monospace;background-color: #f0f8ff;border: 1px dotted black;border-radius: 0.25em;box-sizing: border-box;margin-bottom: 0.5em;}#sk-container-id-3 div.sk-estimator:hover {background-color: #d4ebff;}#sk-container-id-3 div.sk-parallel-item::after {content: \"\";width: 100%;border-bottom: 1px solid gray;flex-grow: 1;}#sk-container-id-3 div.sk-label:hover label.sk-toggleable__label {background-color: #d4ebff;}#sk-container-id-3 div.sk-serial::before {content: \"\";position: absolute;border-left: 1px solid gray;box-sizing: border-box;top: 0;bottom: 0;left: 50%;z-index: 0;}#sk-container-id-3 div.sk-serial {display: flex;flex-direction: column;align-items: center;background-color: white;padding-right: 0.2em;padding-left: 0.2em;position: relative;}#sk-container-id-3 div.sk-item {position: relative;z-index: 1;}#sk-container-id-3 div.sk-parallel {display: flex;align-items: stretch;justify-content: center;background-color: white;position: relative;}#sk-container-id-3 div.sk-item::before, #sk-container-id-3 div.sk-parallel-item::before {content: \"\";position: absolute;border-left: 1px solid gray;box-sizing: border-box;top: 0;bottom: 0;left: 50%;z-index: -1;}#sk-container-id-3 div.sk-parallel-item {display: flex;flex-direction: column;z-index: 1;position: relative;background-color: white;}#sk-container-id-3 div.sk-parallel-item:first-child::after {align-self: flex-end;width: 50%;}#sk-container-id-3 div.sk-parallel-item:last-child::after {align-self: flex-start;width: 50%;}#sk-container-id-3 div.sk-parallel-item:only-child::after {width: 0;}#sk-container-id-3 div.sk-dashed-wrapped {border: 1px dashed gray;margin: 0 0.4em 0.5em 0.4em;box-sizing: border-box;padding-bottom: 0.4em;background-color: white;}#sk-container-id-3 div.sk-label label {font-family: monospace;font-weight: bold;display: inline-block;line-height: 1.2em;}#sk-container-id-3 div.sk-label-container {text-align: center;}#sk-container-id-3 div.sk-container {/* jupyter's `normalize.less` sets `[hidden] { display: none; }` but bootstrap.min.css set `[hidden] { display: none !important; }` so we also need the `!important` here to be able to override the default hidden behavior on the sphinx rendered scikit-learn.org. See: https://github.com/scikit-learn/scikit-learn/issues/21755 */display: inline-block !important;position: relative;}#sk-container-id-3 div.sk-text-repr-fallback {display: none;}</style><div id=\"sk-container-id-3\" class=\"sk-top-container\"><div class=\"sk-text-repr-fallback\"><pre>OneVsRestClassifier(estimator=RandomForestClassifier(criterion=&#x27;entropy&#x27;,\n",
       "                                                     max_depth=6,\n",
       "                                                     n_estimators=300))</pre><b>In a Jupyter environment, please rerun this cell to show the HTML representation or trust the notebook. <br />On GitHub, the HTML representation is unable to render, please try loading this page with nbviewer.org.</b></div><div class=\"sk-container\" hidden><div class=\"sk-item sk-dashed-wrapped\"><div class=\"sk-label-container\"><div class=\"sk-label sk-toggleable\"><input class=\"sk-toggleable__control sk-hidden--visually\" id=\"sk-estimator-id-7\" type=\"checkbox\" ><label for=\"sk-estimator-id-7\" class=\"sk-toggleable__label sk-toggleable__label-arrow\">OneVsRestClassifier</label><div class=\"sk-toggleable__content\"><pre>OneVsRestClassifier(estimator=RandomForestClassifier(criterion=&#x27;entropy&#x27;,\n",
       "                                                     max_depth=6,\n",
       "                                                     n_estimators=300))</pre></div></div></div><div class=\"sk-parallel\"><div class=\"sk-parallel-item\"><div class=\"sk-item\"><div class=\"sk-label-container\"><div class=\"sk-label sk-toggleable\"><input class=\"sk-toggleable__control sk-hidden--visually\" id=\"sk-estimator-id-8\" type=\"checkbox\" ><label for=\"sk-estimator-id-8\" class=\"sk-toggleable__label sk-toggleable__label-arrow\">estimator: RandomForestClassifier</label><div class=\"sk-toggleable__content\"><pre>RandomForestClassifier(criterion=&#x27;entropy&#x27;, max_depth=6, n_estimators=300)</pre></div></div></div><div class=\"sk-serial\"><div class=\"sk-item\"><div class=\"sk-estimator sk-toggleable\"><input class=\"sk-toggleable__control sk-hidden--visually\" id=\"sk-estimator-id-9\" type=\"checkbox\" ><label for=\"sk-estimator-id-9\" class=\"sk-toggleable__label sk-toggleable__label-arrow\">RandomForestClassifier</label><div class=\"sk-toggleable__content\"><pre>RandomForestClassifier(criterion=&#x27;entropy&#x27;, max_depth=6, n_estimators=300)</pre></div></div></div></div></div></div></div></div></div></div>"
      ],
      "text/plain": [
       "OneVsRestClassifier(estimator=RandomForestClassifier(criterion='entropy',\n",
       "                                                     max_depth=6,\n",
       "                                                     n_estimators=300))"
      ]
     },
     "execution_count": 35,
     "metadata": {},
     "output_type": "execute_result"
    }
   ],
   "source": [
    "RFC_TUNED = OneVsRestClassifier(RFC_TUNED)\n",
    "\n",
    "RFC_TUNED.fit(X_TRAIN_A, Y_TRAIN_B)"
   ]
  },
  {
   "cell_type": "code",
   "execution_count": 36,
   "id": "a71a726a",
   "metadata": {},
   "outputs": [
    {
     "data": {
      "text/html": [
       "<style>#sk-container-id-4 {color: black;background-color: white;}#sk-container-id-4 pre{padding: 0;}#sk-container-id-4 div.sk-toggleable {background-color: white;}#sk-container-id-4 label.sk-toggleable__label {cursor: pointer;display: block;width: 100%;margin-bottom: 0;padding: 0.3em;box-sizing: border-box;text-align: center;}#sk-container-id-4 label.sk-toggleable__label-arrow:before {content: \"▸\";float: left;margin-right: 0.25em;color: #696969;}#sk-container-id-4 label.sk-toggleable__label-arrow:hover:before {color: black;}#sk-container-id-4 div.sk-estimator:hover label.sk-toggleable__label-arrow:before {color: black;}#sk-container-id-4 div.sk-toggleable__content {max-height: 0;max-width: 0;overflow: hidden;text-align: left;background-color: #f0f8ff;}#sk-container-id-4 div.sk-toggleable__content pre {margin: 0.2em;color: black;border-radius: 0.25em;background-color: #f0f8ff;}#sk-container-id-4 input.sk-toggleable__control:checked~div.sk-toggleable__content {max-height: 200px;max-width: 100%;overflow: auto;}#sk-container-id-4 input.sk-toggleable__control:checked~label.sk-toggleable__label-arrow:before {content: \"▾\";}#sk-container-id-4 div.sk-estimator input.sk-toggleable__control:checked~label.sk-toggleable__label {background-color: #d4ebff;}#sk-container-id-4 div.sk-label input.sk-toggleable__control:checked~label.sk-toggleable__label {background-color: #d4ebff;}#sk-container-id-4 input.sk-hidden--visually {border: 0;clip: rect(1px 1px 1px 1px);clip: rect(1px, 1px, 1px, 1px);height: 1px;margin: -1px;overflow: hidden;padding: 0;position: absolute;width: 1px;}#sk-container-id-4 div.sk-estimator {font-family: monospace;background-color: #f0f8ff;border: 1px dotted black;border-radius: 0.25em;box-sizing: border-box;margin-bottom: 0.5em;}#sk-container-id-4 div.sk-estimator:hover {background-color: #d4ebff;}#sk-container-id-4 div.sk-parallel-item::after {content: \"\";width: 100%;border-bottom: 1px solid gray;flex-grow: 1;}#sk-container-id-4 div.sk-label:hover label.sk-toggleable__label {background-color: #d4ebff;}#sk-container-id-4 div.sk-serial::before {content: \"\";position: absolute;border-left: 1px solid gray;box-sizing: border-box;top: 0;bottom: 0;left: 50%;z-index: 0;}#sk-container-id-4 div.sk-serial {display: flex;flex-direction: column;align-items: center;background-color: white;padding-right: 0.2em;padding-left: 0.2em;position: relative;}#sk-container-id-4 div.sk-item {position: relative;z-index: 1;}#sk-container-id-4 div.sk-parallel {display: flex;align-items: stretch;justify-content: center;background-color: white;position: relative;}#sk-container-id-4 div.sk-item::before, #sk-container-id-4 div.sk-parallel-item::before {content: \"\";position: absolute;border-left: 1px solid gray;box-sizing: border-box;top: 0;bottom: 0;left: 50%;z-index: -1;}#sk-container-id-4 div.sk-parallel-item {display: flex;flex-direction: column;z-index: 1;position: relative;background-color: white;}#sk-container-id-4 div.sk-parallel-item:first-child::after {align-self: flex-end;width: 50%;}#sk-container-id-4 div.sk-parallel-item:last-child::after {align-self: flex-start;width: 50%;}#sk-container-id-4 div.sk-parallel-item:only-child::after {width: 0;}#sk-container-id-4 div.sk-dashed-wrapped {border: 1px dashed gray;margin: 0 0.4em 0.5em 0.4em;box-sizing: border-box;padding-bottom: 0.4em;background-color: white;}#sk-container-id-4 div.sk-label label {font-family: monospace;font-weight: bold;display: inline-block;line-height: 1.2em;}#sk-container-id-4 div.sk-label-container {text-align: center;}#sk-container-id-4 div.sk-container {/* jupyter's `normalize.less` sets `[hidden] { display: none; }` but bootstrap.min.css set `[hidden] { display: none !important; }` so we also need the `!important` here to be able to override the default hidden behavior on the sphinx rendered scikit-learn.org. See: https://github.com/scikit-learn/scikit-learn/issues/21755 */display: inline-block !important;position: relative;}#sk-container-id-4 div.sk-text-repr-fallback {display: none;}</style><div id=\"sk-container-id-4\" class=\"sk-top-container\"><div class=\"sk-text-repr-fallback\"><pre>OneVsRestClassifier(estimator=OneVsRestClassifier(estimator=RandomForestClassifier(criterion=&#x27;entropy&#x27;,\n",
       "                                                                                   max_depth=6,\n",
       "                                                                                   n_estimators=300)))</pre><b>In a Jupyter environment, please rerun this cell to show the HTML representation or trust the notebook. <br />On GitHub, the HTML representation is unable to render, please try loading this page with nbviewer.org.</b></div><div class=\"sk-container\" hidden><div class=\"sk-item sk-dashed-wrapped\"><div class=\"sk-label-container\"><div class=\"sk-label sk-toggleable\"><input class=\"sk-toggleable__control sk-hidden--visually\" id=\"sk-estimator-id-10\" type=\"checkbox\" ><label for=\"sk-estimator-id-10\" class=\"sk-toggleable__label sk-toggleable__label-arrow\">OneVsRestClassifier</label><div class=\"sk-toggleable__content\"><pre>OneVsRestClassifier(estimator=OneVsRestClassifier(estimator=RandomForestClassifier(criterion=&#x27;entropy&#x27;,\n",
       "                                                                                   max_depth=6,\n",
       "                                                                                   n_estimators=300)))</pre></div></div></div><div class=\"sk-parallel\"><div class=\"sk-parallel-item\"><div class=\"sk-item\"><div class=\"sk-label-container\"><div class=\"sk-label sk-toggleable\"><input class=\"sk-toggleable__control sk-hidden--visually\" id=\"sk-estimator-id-11\" type=\"checkbox\" ><label for=\"sk-estimator-id-11\" class=\"sk-toggleable__label sk-toggleable__label-arrow\">estimator: OneVsRestClassifier</label><div class=\"sk-toggleable__content\"><pre>OneVsRestClassifier(estimator=RandomForestClassifier(criterion=&#x27;entropy&#x27;,\n",
       "                                                     max_depth=6,\n",
       "                                                     n_estimators=300))</pre></div></div></div><div class=\"sk-serial\"><div class=\"sk-item sk-dashed-wrapped\"><div class=\"sk-parallel\"><div class=\"sk-parallel-item\"><div class=\"sk-item\"><div class=\"sk-label-container\"><div class=\"sk-label sk-toggleable\"><input class=\"sk-toggleable__control sk-hidden--visually\" id=\"sk-estimator-id-12\" type=\"checkbox\" ><label for=\"sk-estimator-id-12\" class=\"sk-toggleable__label sk-toggleable__label-arrow\">estimator: RandomForestClassifier</label><div class=\"sk-toggleable__content\"><pre>RandomForestClassifier(criterion=&#x27;entropy&#x27;, max_depth=6, n_estimators=300)</pre></div></div></div><div class=\"sk-serial\"><div class=\"sk-item\"><div class=\"sk-estimator sk-toggleable\"><input class=\"sk-toggleable__control sk-hidden--visually\" id=\"sk-estimator-id-13\" type=\"checkbox\" ><label for=\"sk-estimator-id-13\" class=\"sk-toggleable__label sk-toggleable__label-arrow\">RandomForestClassifier</label><div class=\"sk-toggleable__content\"><pre>RandomForestClassifier(criterion=&#x27;entropy&#x27;, max_depth=6, n_estimators=300)</pre></div></div></div></div></div></div></div></div></div></div></div></div></div></div></div>"
      ],
      "text/plain": [
       "OneVsRestClassifier(estimator=OneVsRestClassifier(estimator=RandomForestClassifier(criterion='entropy',\n",
       "                                                                                   max_depth=6,\n",
       "                                                                                   n_estimators=300)))"
      ]
     },
     "execution_count": 36,
     "metadata": {},
     "output_type": "execute_result"
    }
   ],
   "source": [
    "RFC_OVS = OneVsRestClassifier(RFC_TUNED)\n",
    "\n",
    "RFC_OVS.fit(X_TRAIN_T, Y_TRAIN_B)"
   ]
  },
  {
   "cell_type": "code",
   "execution_count": 37,
   "id": "f5d31cce",
   "metadata": {},
   "outputs": [
    {
     "name": "stdout",
     "output_type": "stream",
     "text": [
      "ACCURACY:  0.2432\n"
     ]
    }
   ],
   "source": [
    "PREDICTIONS_TUNED = RFC_OVS.predict(X_TEST_T)\n",
    "\n",
    "print('ACCURACY: ',accuracy_score(Y_TEST_B,PREDICTIONS_TUNED))"
   ]
  },
  {
   "cell_type": "code",
   "execution_count": null,
   "id": "757d9c9a",
   "metadata": {},
   "outputs": [],
   "source": []
  },
  {
   "cell_type": "code",
   "execution_count": 38,
   "id": "1e652e7a",
   "metadata": {},
   "outputs": [
    {
     "data": {
      "text/html": [
       "<style>#sk-container-id-5 {color: black;background-color: white;}#sk-container-id-5 pre{padding: 0;}#sk-container-id-5 div.sk-toggleable {background-color: white;}#sk-container-id-5 label.sk-toggleable__label {cursor: pointer;display: block;width: 100%;margin-bottom: 0;padding: 0.3em;box-sizing: border-box;text-align: center;}#sk-container-id-5 label.sk-toggleable__label-arrow:before {content: \"▸\";float: left;margin-right: 0.25em;color: #696969;}#sk-container-id-5 label.sk-toggleable__label-arrow:hover:before {color: black;}#sk-container-id-5 div.sk-estimator:hover label.sk-toggleable__label-arrow:before {color: black;}#sk-container-id-5 div.sk-toggleable__content {max-height: 0;max-width: 0;overflow: hidden;text-align: left;background-color: #f0f8ff;}#sk-container-id-5 div.sk-toggleable__content pre {margin: 0.2em;color: black;border-radius: 0.25em;background-color: #f0f8ff;}#sk-container-id-5 input.sk-toggleable__control:checked~div.sk-toggleable__content {max-height: 200px;max-width: 100%;overflow: auto;}#sk-container-id-5 input.sk-toggleable__control:checked~label.sk-toggleable__label-arrow:before {content: \"▾\";}#sk-container-id-5 div.sk-estimator input.sk-toggleable__control:checked~label.sk-toggleable__label {background-color: #d4ebff;}#sk-container-id-5 div.sk-label input.sk-toggleable__control:checked~label.sk-toggleable__label {background-color: #d4ebff;}#sk-container-id-5 input.sk-hidden--visually {border: 0;clip: rect(1px 1px 1px 1px);clip: rect(1px, 1px, 1px, 1px);height: 1px;margin: -1px;overflow: hidden;padding: 0;position: absolute;width: 1px;}#sk-container-id-5 div.sk-estimator {font-family: monospace;background-color: #f0f8ff;border: 1px dotted black;border-radius: 0.25em;box-sizing: border-box;margin-bottom: 0.5em;}#sk-container-id-5 div.sk-estimator:hover {background-color: #d4ebff;}#sk-container-id-5 div.sk-parallel-item::after {content: \"\";width: 100%;border-bottom: 1px solid gray;flex-grow: 1;}#sk-container-id-5 div.sk-label:hover label.sk-toggleable__label {background-color: #d4ebff;}#sk-container-id-5 div.sk-serial::before {content: \"\";position: absolute;border-left: 1px solid gray;box-sizing: border-box;top: 0;bottom: 0;left: 50%;z-index: 0;}#sk-container-id-5 div.sk-serial {display: flex;flex-direction: column;align-items: center;background-color: white;padding-right: 0.2em;padding-left: 0.2em;position: relative;}#sk-container-id-5 div.sk-item {position: relative;z-index: 1;}#sk-container-id-5 div.sk-parallel {display: flex;align-items: stretch;justify-content: center;background-color: white;position: relative;}#sk-container-id-5 div.sk-item::before, #sk-container-id-5 div.sk-parallel-item::before {content: \"\";position: absolute;border-left: 1px solid gray;box-sizing: border-box;top: 0;bottom: 0;left: 50%;z-index: -1;}#sk-container-id-5 div.sk-parallel-item {display: flex;flex-direction: column;z-index: 1;position: relative;background-color: white;}#sk-container-id-5 div.sk-parallel-item:first-child::after {align-self: flex-end;width: 50%;}#sk-container-id-5 div.sk-parallel-item:last-child::after {align-self: flex-start;width: 50%;}#sk-container-id-5 div.sk-parallel-item:only-child::after {width: 0;}#sk-container-id-5 div.sk-dashed-wrapped {border: 1px dashed gray;margin: 0 0.4em 0.5em 0.4em;box-sizing: border-box;padding-bottom: 0.4em;background-color: white;}#sk-container-id-5 div.sk-label label {font-family: monospace;font-weight: bold;display: inline-block;line-height: 1.2em;}#sk-container-id-5 div.sk-label-container {text-align: center;}#sk-container-id-5 div.sk-container {/* jupyter's `normalize.less` sets `[hidden] { display: none; }` but bootstrap.min.css set `[hidden] { display: none !important; }` so we also need the `!important` here to be able to override the default hidden behavior on the sphinx rendered scikit-learn.org. See: https://github.com/scikit-learn/scikit-learn/issues/21755 */display: inline-block !important;position: relative;}#sk-container-id-5 div.sk-text-repr-fallback {display: none;}</style><div id=\"sk-container-id-5\" class=\"sk-top-container\"><div class=\"sk-text-repr-fallback\"><pre>OneVsRestClassifier(estimator=RandomForestClassifier(criterion=&#x27;entropy&#x27;,\n",
       "                                                     max_depth=6,\n",
       "                                                     n_estimators=300))</pre><b>In a Jupyter environment, please rerun this cell to show the HTML representation or trust the notebook. <br />On GitHub, the HTML representation is unable to render, please try loading this page with nbviewer.org.</b></div><div class=\"sk-container\" hidden><div class=\"sk-item sk-dashed-wrapped\"><div class=\"sk-label-container\"><div class=\"sk-label sk-toggleable\"><input class=\"sk-toggleable__control sk-hidden--visually\" id=\"sk-estimator-id-14\" type=\"checkbox\" ><label for=\"sk-estimator-id-14\" class=\"sk-toggleable__label sk-toggleable__label-arrow\">OneVsRestClassifier</label><div class=\"sk-toggleable__content\"><pre>OneVsRestClassifier(estimator=RandomForestClassifier(criterion=&#x27;entropy&#x27;,\n",
       "                                                     max_depth=6,\n",
       "                                                     n_estimators=300))</pre></div></div></div><div class=\"sk-parallel\"><div class=\"sk-parallel-item\"><div class=\"sk-item\"><div class=\"sk-label-container\"><div class=\"sk-label sk-toggleable\"><input class=\"sk-toggleable__control sk-hidden--visually\" id=\"sk-estimator-id-15\" type=\"checkbox\" ><label for=\"sk-estimator-id-15\" class=\"sk-toggleable__label sk-toggleable__label-arrow\">estimator: RandomForestClassifier</label><div class=\"sk-toggleable__content\"><pre>RandomForestClassifier(criterion=&#x27;entropy&#x27;, max_depth=6, n_estimators=300)</pre></div></div></div><div class=\"sk-serial\"><div class=\"sk-item\"><div class=\"sk-estimator sk-toggleable\"><input class=\"sk-toggleable__control sk-hidden--visually\" id=\"sk-estimator-id-16\" type=\"checkbox\" ><label for=\"sk-estimator-id-16\" class=\"sk-toggleable__label sk-toggleable__label-arrow\">RandomForestClassifier</label><div class=\"sk-toggleable__content\"><pre>RandomForestClassifier(criterion=&#x27;entropy&#x27;, max_depth=6, n_estimators=300)</pre></div></div></div></div></div></div></div></div></div></div>"
      ],
      "text/plain": [
       "OneVsRestClassifier(estimator=RandomForestClassifier(criterion='entropy',\n",
       "                                                     max_depth=6,\n",
       "                                                     n_estimators=300))"
      ]
     },
     "execution_count": 38,
     "metadata": {},
     "output_type": "execute_result"
    }
   ],
   "source": [
    "#Bag of Words vectorizer is givning very less accuracy. Let us try with TFID vectorizer\n",
    "\n",
    "RFC_TUNED.fit(X_TRAIN_T, Y_TRAIN_B)"
   ]
  },
  {
   "cell_type": "code",
   "execution_count": 39,
   "id": "65263ce3",
   "metadata": {},
   "outputs": [
    {
     "name": "stdout",
     "output_type": "stream",
     "text": [
      "ACCURACY:  0.2536\n"
     ]
    }
   ],
   "source": [
    "PREDICTIONS_TUNED = RFC_TUNED.predict(X_TEST_T)\n",
    "\n",
    "print('ACCURACY: ',accuracy_score(Y_TEST_B,PREDICTIONS_TUNED))"
   ]
  },
  {
   "cell_type": "code",
   "execution_count": 40,
   "id": "090b7496",
   "metadata": {},
   "outputs": [
    {
     "data": {
      "text/html": [
       "<style>#sk-container-id-6 {color: black;background-color: white;}#sk-container-id-6 pre{padding: 0;}#sk-container-id-6 div.sk-toggleable {background-color: white;}#sk-container-id-6 label.sk-toggleable__label {cursor: pointer;display: block;width: 100%;margin-bottom: 0;padding: 0.3em;box-sizing: border-box;text-align: center;}#sk-container-id-6 label.sk-toggleable__label-arrow:before {content: \"▸\";float: left;margin-right: 0.25em;color: #696969;}#sk-container-id-6 label.sk-toggleable__label-arrow:hover:before {color: black;}#sk-container-id-6 div.sk-estimator:hover label.sk-toggleable__label-arrow:before {color: black;}#sk-container-id-6 div.sk-toggleable__content {max-height: 0;max-width: 0;overflow: hidden;text-align: left;background-color: #f0f8ff;}#sk-container-id-6 div.sk-toggleable__content pre {margin: 0.2em;color: black;border-radius: 0.25em;background-color: #f0f8ff;}#sk-container-id-6 input.sk-toggleable__control:checked~div.sk-toggleable__content {max-height: 200px;max-width: 100%;overflow: auto;}#sk-container-id-6 input.sk-toggleable__control:checked~label.sk-toggleable__label-arrow:before {content: \"▾\";}#sk-container-id-6 div.sk-estimator input.sk-toggleable__control:checked~label.sk-toggleable__label {background-color: #d4ebff;}#sk-container-id-6 div.sk-label input.sk-toggleable__control:checked~label.sk-toggleable__label {background-color: #d4ebff;}#sk-container-id-6 input.sk-hidden--visually {border: 0;clip: rect(1px 1px 1px 1px);clip: rect(1px, 1px, 1px, 1px);height: 1px;margin: -1px;overflow: hidden;padding: 0;position: absolute;width: 1px;}#sk-container-id-6 div.sk-estimator {font-family: monospace;background-color: #f0f8ff;border: 1px dotted black;border-radius: 0.25em;box-sizing: border-box;margin-bottom: 0.5em;}#sk-container-id-6 div.sk-estimator:hover {background-color: #d4ebff;}#sk-container-id-6 div.sk-parallel-item::after {content: \"\";width: 100%;border-bottom: 1px solid gray;flex-grow: 1;}#sk-container-id-6 div.sk-label:hover label.sk-toggleable__label {background-color: #d4ebff;}#sk-container-id-6 div.sk-serial::before {content: \"\";position: absolute;border-left: 1px solid gray;box-sizing: border-box;top: 0;bottom: 0;left: 50%;z-index: 0;}#sk-container-id-6 div.sk-serial {display: flex;flex-direction: column;align-items: center;background-color: white;padding-right: 0.2em;padding-left: 0.2em;position: relative;}#sk-container-id-6 div.sk-item {position: relative;z-index: 1;}#sk-container-id-6 div.sk-parallel {display: flex;align-items: stretch;justify-content: center;background-color: white;position: relative;}#sk-container-id-6 div.sk-item::before, #sk-container-id-6 div.sk-parallel-item::before {content: \"\";position: absolute;border-left: 1px solid gray;box-sizing: border-box;top: 0;bottom: 0;left: 50%;z-index: -1;}#sk-container-id-6 div.sk-parallel-item {display: flex;flex-direction: column;z-index: 1;position: relative;background-color: white;}#sk-container-id-6 div.sk-parallel-item:first-child::after {align-self: flex-end;width: 50%;}#sk-container-id-6 div.sk-parallel-item:last-child::after {align-self: flex-start;width: 50%;}#sk-container-id-6 div.sk-parallel-item:only-child::after {width: 0;}#sk-container-id-6 div.sk-dashed-wrapped {border: 1px dashed gray;margin: 0 0.4em 0.5em 0.4em;box-sizing: border-box;padding-bottom: 0.4em;background-color: white;}#sk-container-id-6 div.sk-label label {font-family: monospace;font-weight: bold;display: inline-block;line-height: 1.2em;}#sk-container-id-6 div.sk-label-container {text-align: center;}#sk-container-id-6 div.sk-container {/* jupyter's `normalize.less` sets `[hidden] { display: none; }` but bootstrap.min.css set `[hidden] { display: none !important; }` so we also need the `!important` here to be able to override the default hidden behavior on the sphinx rendered scikit-learn.org. See: https://github.com/scikit-learn/scikit-learn/issues/21755 */display: inline-block !important;position: relative;}#sk-container-id-6 div.sk-text-repr-fallback {display: none;}</style><div id=\"sk-container-id-6\" class=\"sk-top-container\"><div class=\"sk-text-repr-fallback\"><pre>OneVsRestClassifier(estimator=RandomForestClassifier(max_depth=6,\n",
       "                                                     n_estimators=300))</pre><b>In a Jupyter environment, please rerun this cell to show the HTML representation or trust the notebook. <br />On GitHub, the HTML representation is unable to render, please try loading this page with nbviewer.org.</b></div><div class=\"sk-container\" hidden><div class=\"sk-item sk-dashed-wrapped\"><div class=\"sk-label-container\"><div class=\"sk-label sk-toggleable\"><input class=\"sk-toggleable__control sk-hidden--visually\" id=\"sk-estimator-id-17\" type=\"checkbox\" ><label for=\"sk-estimator-id-17\" class=\"sk-toggleable__label sk-toggleable__label-arrow\">OneVsRestClassifier</label><div class=\"sk-toggleable__content\"><pre>OneVsRestClassifier(estimator=RandomForestClassifier(max_depth=6,\n",
       "                                                     n_estimators=300))</pre></div></div></div><div class=\"sk-parallel\"><div class=\"sk-parallel-item\"><div class=\"sk-item\"><div class=\"sk-label-container\"><div class=\"sk-label sk-toggleable\"><input class=\"sk-toggleable__control sk-hidden--visually\" id=\"sk-estimator-id-18\" type=\"checkbox\" ><label for=\"sk-estimator-id-18\" class=\"sk-toggleable__label sk-toggleable__label-arrow\">estimator: RandomForestClassifier</label><div class=\"sk-toggleable__content\"><pre>RandomForestClassifier(max_depth=6, n_estimators=300)</pre></div></div></div><div class=\"sk-serial\"><div class=\"sk-item\"><div class=\"sk-estimator sk-toggleable\"><input class=\"sk-toggleable__control sk-hidden--visually\" id=\"sk-estimator-id-19\" type=\"checkbox\" ><label for=\"sk-estimator-id-19\" class=\"sk-toggleable__label sk-toggleable__label-arrow\">RandomForestClassifier</label><div class=\"sk-toggleable__content\"><pre>RandomForestClassifier(max_depth=6, n_estimators=300)</pre></div></div></div></div></div></div></div></div></div></div>"
      ],
      "text/plain": [
       "OneVsRestClassifier(estimator=RandomForestClassifier(max_depth=6,\n",
       "                                                     n_estimators=300))"
      ]
     },
     "execution_count": 40,
     "metadata": {},
     "output_type": "execute_result"
    }
   ],
   "source": [
    "#Try with gini entropy. I am using only TFID vectorizer data to train the model\n",
    "\n",
    "RFC_TUNED = RandomForestClassifier(n_estimators= 300, max_features= 'sqrt', \n",
    "                                   max_depth= 6, criterion= 'gini', bootstrap= True)\n",
    "\n",
    "RFC_OVS = OneVsRestClassifier(RFC_TUNED)\n",
    "\n",
    "RFC_OVS.fit(X_TRAIN_T, Y_TRAIN_B)"
   ]
  },
  {
   "cell_type": "code",
   "execution_count": 41,
   "id": "f0a0ec27",
   "metadata": {},
   "outputs": [
    {
     "name": "stdout",
     "output_type": "stream",
     "text": [
      "ACCURACY:  0.2392\n"
     ]
    }
   ],
   "source": [
    "PREDICTIONS_TUNED = RFC_OVS.predict(X_TEST_T)\n",
    "\n",
    "print('ACCURACY: ',accuracy_score(Y_TEST_B,PREDICTIONS_TUNED))"
   ]
  },
  {
   "cell_type": "code",
   "execution_count": 42,
   "id": "ab806721",
   "metadata": {},
   "outputs": [
    {
     "data": {
      "text/html": [
       "<style>#sk-container-id-7 {color: black;background-color: white;}#sk-container-id-7 pre{padding: 0;}#sk-container-id-7 div.sk-toggleable {background-color: white;}#sk-container-id-7 label.sk-toggleable__label {cursor: pointer;display: block;width: 100%;margin-bottom: 0;padding: 0.3em;box-sizing: border-box;text-align: center;}#sk-container-id-7 label.sk-toggleable__label-arrow:before {content: \"▸\";float: left;margin-right: 0.25em;color: #696969;}#sk-container-id-7 label.sk-toggleable__label-arrow:hover:before {color: black;}#sk-container-id-7 div.sk-estimator:hover label.sk-toggleable__label-arrow:before {color: black;}#sk-container-id-7 div.sk-toggleable__content {max-height: 0;max-width: 0;overflow: hidden;text-align: left;background-color: #f0f8ff;}#sk-container-id-7 div.sk-toggleable__content pre {margin: 0.2em;color: black;border-radius: 0.25em;background-color: #f0f8ff;}#sk-container-id-7 input.sk-toggleable__control:checked~div.sk-toggleable__content {max-height: 200px;max-width: 100%;overflow: auto;}#sk-container-id-7 input.sk-toggleable__control:checked~label.sk-toggleable__label-arrow:before {content: \"▾\";}#sk-container-id-7 div.sk-estimator input.sk-toggleable__control:checked~label.sk-toggleable__label {background-color: #d4ebff;}#sk-container-id-7 div.sk-label input.sk-toggleable__control:checked~label.sk-toggleable__label {background-color: #d4ebff;}#sk-container-id-7 input.sk-hidden--visually {border: 0;clip: rect(1px 1px 1px 1px);clip: rect(1px, 1px, 1px, 1px);height: 1px;margin: -1px;overflow: hidden;padding: 0;position: absolute;width: 1px;}#sk-container-id-7 div.sk-estimator {font-family: monospace;background-color: #f0f8ff;border: 1px dotted black;border-radius: 0.25em;box-sizing: border-box;margin-bottom: 0.5em;}#sk-container-id-7 div.sk-estimator:hover {background-color: #d4ebff;}#sk-container-id-7 div.sk-parallel-item::after {content: \"\";width: 100%;border-bottom: 1px solid gray;flex-grow: 1;}#sk-container-id-7 div.sk-label:hover label.sk-toggleable__label {background-color: #d4ebff;}#sk-container-id-7 div.sk-serial::before {content: \"\";position: absolute;border-left: 1px solid gray;box-sizing: border-box;top: 0;bottom: 0;left: 50%;z-index: 0;}#sk-container-id-7 div.sk-serial {display: flex;flex-direction: column;align-items: center;background-color: white;padding-right: 0.2em;padding-left: 0.2em;position: relative;}#sk-container-id-7 div.sk-item {position: relative;z-index: 1;}#sk-container-id-7 div.sk-parallel {display: flex;align-items: stretch;justify-content: center;background-color: white;position: relative;}#sk-container-id-7 div.sk-item::before, #sk-container-id-7 div.sk-parallel-item::before {content: \"\";position: absolute;border-left: 1px solid gray;box-sizing: border-box;top: 0;bottom: 0;left: 50%;z-index: -1;}#sk-container-id-7 div.sk-parallel-item {display: flex;flex-direction: column;z-index: 1;position: relative;background-color: white;}#sk-container-id-7 div.sk-parallel-item:first-child::after {align-self: flex-end;width: 50%;}#sk-container-id-7 div.sk-parallel-item:last-child::after {align-self: flex-start;width: 50%;}#sk-container-id-7 div.sk-parallel-item:only-child::after {width: 0;}#sk-container-id-7 div.sk-dashed-wrapped {border: 1px dashed gray;margin: 0 0.4em 0.5em 0.4em;box-sizing: border-box;padding-bottom: 0.4em;background-color: white;}#sk-container-id-7 div.sk-label label {font-family: monospace;font-weight: bold;display: inline-block;line-height: 1.2em;}#sk-container-id-7 div.sk-label-container {text-align: center;}#sk-container-id-7 div.sk-container {/* jupyter's `normalize.less` sets `[hidden] { display: none; }` but bootstrap.min.css set `[hidden] { display: none !important; }` so we also need the `!important` here to be able to override the default hidden behavior on the sphinx rendered scikit-learn.org. See: https://github.com/scikit-learn/scikit-learn/issues/21755 */display: inline-block !important;position: relative;}#sk-container-id-7 div.sk-text-repr-fallback {display: none;}</style><div id=\"sk-container-id-7\" class=\"sk-top-container\"><div class=\"sk-text-repr-fallback\"><pre>OneVsRestClassifier(estimator=RandomForestClassifier(criterion=&#x27;log_loss&#x27;,\n",
       "                                                     max_depth=6,\n",
       "                                                     n_estimators=300))</pre><b>In a Jupyter environment, please rerun this cell to show the HTML representation or trust the notebook. <br />On GitHub, the HTML representation is unable to render, please try loading this page with nbviewer.org.</b></div><div class=\"sk-container\" hidden><div class=\"sk-item sk-dashed-wrapped\"><div class=\"sk-label-container\"><div class=\"sk-label sk-toggleable\"><input class=\"sk-toggleable__control sk-hidden--visually\" id=\"sk-estimator-id-20\" type=\"checkbox\" ><label for=\"sk-estimator-id-20\" class=\"sk-toggleable__label sk-toggleable__label-arrow\">OneVsRestClassifier</label><div class=\"sk-toggleable__content\"><pre>OneVsRestClassifier(estimator=RandomForestClassifier(criterion=&#x27;log_loss&#x27;,\n",
       "                                                     max_depth=6,\n",
       "                                                     n_estimators=300))</pre></div></div></div><div class=\"sk-parallel\"><div class=\"sk-parallel-item\"><div class=\"sk-item\"><div class=\"sk-label-container\"><div class=\"sk-label sk-toggleable\"><input class=\"sk-toggleable__control sk-hidden--visually\" id=\"sk-estimator-id-21\" type=\"checkbox\" ><label for=\"sk-estimator-id-21\" class=\"sk-toggleable__label sk-toggleable__label-arrow\">estimator: RandomForestClassifier</label><div class=\"sk-toggleable__content\"><pre>RandomForestClassifier(criterion=&#x27;log_loss&#x27;, max_depth=6, n_estimators=300)</pre></div></div></div><div class=\"sk-serial\"><div class=\"sk-item\"><div class=\"sk-estimator sk-toggleable\"><input class=\"sk-toggleable__control sk-hidden--visually\" id=\"sk-estimator-id-22\" type=\"checkbox\" ><label for=\"sk-estimator-id-22\" class=\"sk-toggleable__label sk-toggleable__label-arrow\">RandomForestClassifier</label><div class=\"sk-toggleable__content\"><pre>RandomForestClassifier(criterion=&#x27;log_loss&#x27;, max_depth=6, n_estimators=300)</pre></div></div></div></div></div></div></div></div></div></div>"
      ],
      "text/plain": [
       "OneVsRestClassifier(estimator=RandomForestClassifier(criterion='log_loss',\n",
       "                                                     max_depth=6,\n",
       "                                                     n_estimators=300))"
      ]
     },
     "execution_count": 42,
     "metadata": {},
     "output_type": "execute_result"
    }
   ],
   "source": [
    "# NO improvement in accuracy. Try with log loss entropy\n",
    "\n",
    "RFC_TUNED = RandomForestClassifier(n_estimators= 300, max_features= 'sqrt', \n",
    "                                   max_depth= 6, criterion= 'log_loss', bootstrap= True)\n",
    "\n",
    "RFC_OVS = OneVsRestClassifier(RFC_TUNED)\n",
    "\n",
    "RFC_OVS.fit(X_TRAIN_T, Y_TRAIN_B)"
   ]
  },
  {
   "cell_type": "code",
   "execution_count": 43,
   "id": "496e1e86",
   "metadata": {},
   "outputs": [
    {
     "name": "stdout",
     "output_type": "stream",
     "text": [
      "ACCURACY:  0.244\n"
     ]
    }
   ],
   "source": [
    "PREDICTIONS_TUNED = RFC_OVS.predict(X_TEST_T)\n",
    "\n",
    "print('ACCURACY: ',accuracy_score(Y_TEST_B,PREDICTIONS_TUNED))"
   ]
  },
  {
   "cell_type": "code",
   "execution_count": 44,
   "id": "e9da1895",
   "metadata": {},
   "outputs": [
    {
     "data": {
      "text/html": [
       "<style>#sk-container-id-8 {color: black;background-color: white;}#sk-container-id-8 pre{padding: 0;}#sk-container-id-8 div.sk-toggleable {background-color: white;}#sk-container-id-8 label.sk-toggleable__label {cursor: pointer;display: block;width: 100%;margin-bottom: 0;padding: 0.3em;box-sizing: border-box;text-align: center;}#sk-container-id-8 label.sk-toggleable__label-arrow:before {content: \"▸\";float: left;margin-right: 0.25em;color: #696969;}#sk-container-id-8 label.sk-toggleable__label-arrow:hover:before {color: black;}#sk-container-id-8 div.sk-estimator:hover label.sk-toggleable__label-arrow:before {color: black;}#sk-container-id-8 div.sk-toggleable__content {max-height: 0;max-width: 0;overflow: hidden;text-align: left;background-color: #f0f8ff;}#sk-container-id-8 div.sk-toggleable__content pre {margin: 0.2em;color: black;border-radius: 0.25em;background-color: #f0f8ff;}#sk-container-id-8 input.sk-toggleable__control:checked~div.sk-toggleable__content {max-height: 200px;max-width: 100%;overflow: auto;}#sk-container-id-8 input.sk-toggleable__control:checked~label.sk-toggleable__label-arrow:before {content: \"▾\";}#sk-container-id-8 div.sk-estimator input.sk-toggleable__control:checked~label.sk-toggleable__label {background-color: #d4ebff;}#sk-container-id-8 div.sk-label input.sk-toggleable__control:checked~label.sk-toggleable__label {background-color: #d4ebff;}#sk-container-id-8 input.sk-hidden--visually {border: 0;clip: rect(1px 1px 1px 1px);clip: rect(1px, 1px, 1px, 1px);height: 1px;margin: -1px;overflow: hidden;padding: 0;position: absolute;width: 1px;}#sk-container-id-8 div.sk-estimator {font-family: monospace;background-color: #f0f8ff;border: 1px dotted black;border-radius: 0.25em;box-sizing: border-box;margin-bottom: 0.5em;}#sk-container-id-8 div.sk-estimator:hover {background-color: #d4ebff;}#sk-container-id-8 div.sk-parallel-item::after {content: \"\";width: 100%;border-bottom: 1px solid gray;flex-grow: 1;}#sk-container-id-8 div.sk-label:hover label.sk-toggleable__label {background-color: #d4ebff;}#sk-container-id-8 div.sk-serial::before {content: \"\";position: absolute;border-left: 1px solid gray;box-sizing: border-box;top: 0;bottom: 0;left: 50%;z-index: 0;}#sk-container-id-8 div.sk-serial {display: flex;flex-direction: column;align-items: center;background-color: white;padding-right: 0.2em;padding-left: 0.2em;position: relative;}#sk-container-id-8 div.sk-item {position: relative;z-index: 1;}#sk-container-id-8 div.sk-parallel {display: flex;align-items: stretch;justify-content: center;background-color: white;position: relative;}#sk-container-id-8 div.sk-item::before, #sk-container-id-8 div.sk-parallel-item::before {content: \"\";position: absolute;border-left: 1px solid gray;box-sizing: border-box;top: 0;bottom: 0;left: 50%;z-index: -1;}#sk-container-id-8 div.sk-parallel-item {display: flex;flex-direction: column;z-index: 1;position: relative;background-color: white;}#sk-container-id-8 div.sk-parallel-item:first-child::after {align-self: flex-end;width: 50%;}#sk-container-id-8 div.sk-parallel-item:last-child::after {align-self: flex-start;width: 50%;}#sk-container-id-8 div.sk-parallel-item:only-child::after {width: 0;}#sk-container-id-8 div.sk-dashed-wrapped {border: 1px dashed gray;margin: 0 0.4em 0.5em 0.4em;box-sizing: border-box;padding-bottom: 0.4em;background-color: white;}#sk-container-id-8 div.sk-label label {font-family: monospace;font-weight: bold;display: inline-block;line-height: 1.2em;}#sk-container-id-8 div.sk-label-container {text-align: center;}#sk-container-id-8 div.sk-container {/* jupyter's `normalize.less` sets `[hidden] { display: none; }` but bootstrap.min.css set `[hidden] { display: none !important; }` so we also need the `!important` here to be able to override the default hidden behavior on the sphinx rendered scikit-learn.org. See: https://github.com/scikit-learn/scikit-learn/issues/21755 */display: inline-block !important;position: relative;}#sk-container-id-8 div.sk-text-repr-fallback {display: none;}</style><div id=\"sk-container-id-8\" class=\"sk-top-container\"><div class=\"sk-text-repr-fallback\"><pre>OneVsRestClassifier(estimator=RandomForestClassifier(criterion=&#x27;entropy&#x27;,\n",
       "                                                     max_depth=8))</pre><b>In a Jupyter environment, please rerun this cell to show the HTML representation or trust the notebook. <br />On GitHub, the HTML representation is unable to render, please try loading this page with nbviewer.org.</b></div><div class=\"sk-container\" hidden><div class=\"sk-item sk-dashed-wrapped\"><div class=\"sk-label-container\"><div class=\"sk-label sk-toggleable\"><input class=\"sk-toggleable__control sk-hidden--visually\" id=\"sk-estimator-id-23\" type=\"checkbox\" ><label for=\"sk-estimator-id-23\" class=\"sk-toggleable__label sk-toggleable__label-arrow\">OneVsRestClassifier</label><div class=\"sk-toggleable__content\"><pre>OneVsRestClassifier(estimator=RandomForestClassifier(criterion=&#x27;entropy&#x27;,\n",
       "                                                     max_depth=8))</pre></div></div></div><div class=\"sk-parallel\"><div class=\"sk-parallel-item\"><div class=\"sk-item\"><div class=\"sk-label-container\"><div class=\"sk-label sk-toggleable\"><input class=\"sk-toggleable__control sk-hidden--visually\" id=\"sk-estimator-id-24\" type=\"checkbox\" ><label for=\"sk-estimator-id-24\" class=\"sk-toggleable__label sk-toggleable__label-arrow\">estimator: RandomForestClassifier</label><div class=\"sk-toggleable__content\"><pre>RandomForestClassifier(criterion=&#x27;entropy&#x27;, max_depth=8)</pre></div></div></div><div class=\"sk-serial\"><div class=\"sk-item\"><div class=\"sk-estimator sk-toggleable\"><input class=\"sk-toggleable__control sk-hidden--visually\" id=\"sk-estimator-id-25\" type=\"checkbox\" ><label for=\"sk-estimator-id-25\" class=\"sk-toggleable__label sk-toggleable__label-arrow\">RandomForestClassifier</label><div class=\"sk-toggleable__content\"><pre>RandomForestClassifier(criterion=&#x27;entropy&#x27;, max_depth=8)</pre></div></div></div></div></div></div></div></div></div></div>"
      ],
      "text/plain": [
       "OneVsRestClassifier(estimator=RandomForestClassifier(criterion='entropy',\n",
       "                                                     max_depth=8))"
      ]
     },
     "execution_count": 44,
     "metadata": {},
     "output_type": "execute_result"
    }
   ],
   "source": [
    "# try with reducing the n_estimators to 100 and criterion to entropy and max depth to 8\n",
    "\n",
    "RFC_TUNED = RandomForestClassifier(n_estimators= 100, max_features= 'sqrt', \n",
    "                                   max_depth= 8, criterion= 'entropy', bootstrap= True)\n",
    "\n",
    "RFC_OVS = OneVsRestClassifier(RFC_TUNED)\n",
    "\n",
    "RFC_OVS.fit(X_TRAIN_T, Y_TRAIN_B)"
   ]
  },
  {
   "cell_type": "code",
   "execution_count": 45,
   "id": "7b518f16",
   "metadata": {},
   "outputs": [
    {
     "name": "stdout",
     "output_type": "stream",
     "text": [
      "ACCURACY:  0.2696\n"
     ]
    }
   ],
   "source": [
    "PREDICTIONS_TUNED = RFC_OVS.predict(X_TEST_T)\n",
    "\n",
    "print('ACCURACY: ',accuracy_score(Y_TEST_B,PREDICTIONS_TUNED))"
   ]
  },
  {
   "cell_type": "code",
   "execution_count": 46,
   "id": "5fd23b90",
   "metadata": {},
   "outputs": [
    {
     "data": {
      "text/html": [
       "<style>#sk-container-id-9 {color: black;background-color: white;}#sk-container-id-9 pre{padding: 0;}#sk-container-id-9 div.sk-toggleable {background-color: white;}#sk-container-id-9 label.sk-toggleable__label {cursor: pointer;display: block;width: 100%;margin-bottom: 0;padding: 0.3em;box-sizing: border-box;text-align: center;}#sk-container-id-9 label.sk-toggleable__label-arrow:before {content: \"▸\";float: left;margin-right: 0.25em;color: #696969;}#sk-container-id-9 label.sk-toggleable__label-arrow:hover:before {color: black;}#sk-container-id-9 div.sk-estimator:hover label.sk-toggleable__label-arrow:before {color: black;}#sk-container-id-9 div.sk-toggleable__content {max-height: 0;max-width: 0;overflow: hidden;text-align: left;background-color: #f0f8ff;}#sk-container-id-9 div.sk-toggleable__content pre {margin: 0.2em;color: black;border-radius: 0.25em;background-color: #f0f8ff;}#sk-container-id-9 input.sk-toggleable__control:checked~div.sk-toggleable__content {max-height: 200px;max-width: 100%;overflow: auto;}#sk-container-id-9 input.sk-toggleable__control:checked~label.sk-toggleable__label-arrow:before {content: \"▾\";}#sk-container-id-9 div.sk-estimator input.sk-toggleable__control:checked~label.sk-toggleable__label {background-color: #d4ebff;}#sk-container-id-9 div.sk-label input.sk-toggleable__control:checked~label.sk-toggleable__label {background-color: #d4ebff;}#sk-container-id-9 input.sk-hidden--visually {border: 0;clip: rect(1px 1px 1px 1px);clip: rect(1px, 1px, 1px, 1px);height: 1px;margin: -1px;overflow: hidden;padding: 0;position: absolute;width: 1px;}#sk-container-id-9 div.sk-estimator {font-family: monospace;background-color: #f0f8ff;border: 1px dotted black;border-radius: 0.25em;box-sizing: border-box;margin-bottom: 0.5em;}#sk-container-id-9 div.sk-estimator:hover {background-color: #d4ebff;}#sk-container-id-9 div.sk-parallel-item::after {content: \"\";width: 100%;border-bottom: 1px solid gray;flex-grow: 1;}#sk-container-id-9 div.sk-label:hover label.sk-toggleable__label {background-color: #d4ebff;}#sk-container-id-9 div.sk-serial::before {content: \"\";position: absolute;border-left: 1px solid gray;box-sizing: border-box;top: 0;bottom: 0;left: 50%;z-index: 0;}#sk-container-id-9 div.sk-serial {display: flex;flex-direction: column;align-items: center;background-color: white;padding-right: 0.2em;padding-left: 0.2em;position: relative;}#sk-container-id-9 div.sk-item {position: relative;z-index: 1;}#sk-container-id-9 div.sk-parallel {display: flex;align-items: stretch;justify-content: center;background-color: white;position: relative;}#sk-container-id-9 div.sk-item::before, #sk-container-id-9 div.sk-parallel-item::before {content: \"\";position: absolute;border-left: 1px solid gray;box-sizing: border-box;top: 0;bottom: 0;left: 50%;z-index: -1;}#sk-container-id-9 div.sk-parallel-item {display: flex;flex-direction: column;z-index: 1;position: relative;background-color: white;}#sk-container-id-9 div.sk-parallel-item:first-child::after {align-self: flex-end;width: 50%;}#sk-container-id-9 div.sk-parallel-item:last-child::after {align-self: flex-start;width: 50%;}#sk-container-id-9 div.sk-parallel-item:only-child::after {width: 0;}#sk-container-id-9 div.sk-dashed-wrapped {border: 1px dashed gray;margin: 0 0.4em 0.5em 0.4em;box-sizing: border-box;padding-bottom: 0.4em;background-color: white;}#sk-container-id-9 div.sk-label label {font-family: monospace;font-weight: bold;display: inline-block;line-height: 1.2em;}#sk-container-id-9 div.sk-label-container {text-align: center;}#sk-container-id-9 div.sk-container {/* jupyter's `normalize.less` sets `[hidden] { display: none; }` but bootstrap.min.css set `[hidden] { display: none !important; }` so we also need the `!important` here to be able to override the default hidden behavior on the sphinx rendered scikit-learn.org. See: https://github.com/scikit-learn/scikit-learn/issues/21755 */display: inline-block !important;position: relative;}#sk-container-id-9 div.sk-text-repr-fallback {display: none;}</style><div id=\"sk-container-id-9\" class=\"sk-top-container\"><div class=\"sk-text-repr-fallback\"><pre>OneVsRestClassifier(estimator=RandomForestClassifier(criterion=&#x27;entropy&#x27;,\n",
       "                                                     max_depth=10))</pre><b>In a Jupyter environment, please rerun this cell to show the HTML representation or trust the notebook. <br />On GitHub, the HTML representation is unable to render, please try loading this page with nbviewer.org.</b></div><div class=\"sk-container\" hidden><div class=\"sk-item sk-dashed-wrapped\"><div class=\"sk-label-container\"><div class=\"sk-label sk-toggleable\"><input class=\"sk-toggleable__control sk-hidden--visually\" id=\"sk-estimator-id-26\" type=\"checkbox\" ><label for=\"sk-estimator-id-26\" class=\"sk-toggleable__label sk-toggleable__label-arrow\">OneVsRestClassifier</label><div class=\"sk-toggleable__content\"><pre>OneVsRestClassifier(estimator=RandomForestClassifier(criterion=&#x27;entropy&#x27;,\n",
       "                                                     max_depth=10))</pre></div></div></div><div class=\"sk-parallel\"><div class=\"sk-parallel-item\"><div class=\"sk-item\"><div class=\"sk-label-container\"><div class=\"sk-label sk-toggleable\"><input class=\"sk-toggleable__control sk-hidden--visually\" id=\"sk-estimator-id-27\" type=\"checkbox\" ><label for=\"sk-estimator-id-27\" class=\"sk-toggleable__label sk-toggleable__label-arrow\">estimator: RandomForestClassifier</label><div class=\"sk-toggleable__content\"><pre>RandomForestClassifier(criterion=&#x27;entropy&#x27;, max_depth=10)</pre></div></div></div><div class=\"sk-serial\"><div class=\"sk-item\"><div class=\"sk-estimator sk-toggleable\"><input class=\"sk-toggleable__control sk-hidden--visually\" id=\"sk-estimator-id-28\" type=\"checkbox\" ><label for=\"sk-estimator-id-28\" class=\"sk-toggleable__label sk-toggleable__label-arrow\">RandomForestClassifier</label><div class=\"sk-toggleable__content\"><pre>RandomForestClassifier(criterion=&#x27;entropy&#x27;, max_depth=10)</pre></div></div></div></div></div></div></div></div></div></div>"
      ],
      "text/plain": [
       "OneVsRestClassifier(estimator=RandomForestClassifier(criterion='entropy',\n",
       "                                                     max_depth=10))"
      ]
     },
     "execution_count": 46,
     "metadata": {},
     "output_type": "execute_result"
    }
   ],
   "source": [
    "# try with max_depth = 10\n",
    "\n",
    "RFC_TUNED = RandomForestClassifier(n_estimators= 100, max_features= 'sqrt', \n",
    "                                   max_depth= 10, criterion= 'entropy', bootstrap= True)\n",
    "\n",
    "RFC_OVS = OneVsRestClassifier(RFC_TUNED)\n",
    "\n",
    "RFC_OVS.fit(X_TRAIN_T, Y_TRAIN_B)"
   ]
  },
  {
   "cell_type": "code",
   "execution_count": 47,
   "id": "ac051856",
   "metadata": {},
   "outputs": [
    {
     "name": "stdout",
     "output_type": "stream",
     "text": [
      "ACCURACY:  0.2792\n"
     ]
    }
   ],
   "source": [
    "PREDICTIONS_TUNED = RFC_OVS.predict(X_TEST_T)\n",
    "\n",
    "print('ACCURACY: ',accuracy_score(Y_TEST_B,PREDICTIONS_TUNED))"
   ]
  },
  {
   "cell_type": "code",
   "execution_count": 48,
   "id": "4c2c9334",
   "metadata": {},
   "outputs": [
    {
     "data": {
      "text/html": [
       "<style>#sk-container-id-10 {color: black;background-color: white;}#sk-container-id-10 pre{padding: 0;}#sk-container-id-10 div.sk-toggleable {background-color: white;}#sk-container-id-10 label.sk-toggleable__label {cursor: pointer;display: block;width: 100%;margin-bottom: 0;padding: 0.3em;box-sizing: border-box;text-align: center;}#sk-container-id-10 label.sk-toggleable__label-arrow:before {content: \"▸\";float: left;margin-right: 0.25em;color: #696969;}#sk-container-id-10 label.sk-toggleable__label-arrow:hover:before {color: black;}#sk-container-id-10 div.sk-estimator:hover label.sk-toggleable__label-arrow:before {color: black;}#sk-container-id-10 div.sk-toggleable__content {max-height: 0;max-width: 0;overflow: hidden;text-align: left;background-color: #f0f8ff;}#sk-container-id-10 div.sk-toggleable__content pre {margin: 0.2em;color: black;border-radius: 0.25em;background-color: #f0f8ff;}#sk-container-id-10 input.sk-toggleable__control:checked~div.sk-toggleable__content {max-height: 200px;max-width: 100%;overflow: auto;}#sk-container-id-10 input.sk-toggleable__control:checked~label.sk-toggleable__label-arrow:before {content: \"▾\";}#sk-container-id-10 div.sk-estimator input.sk-toggleable__control:checked~label.sk-toggleable__label {background-color: #d4ebff;}#sk-container-id-10 div.sk-label input.sk-toggleable__control:checked~label.sk-toggleable__label {background-color: #d4ebff;}#sk-container-id-10 input.sk-hidden--visually {border: 0;clip: rect(1px 1px 1px 1px);clip: rect(1px, 1px, 1px, 1px);height: 1px;margin: -1px;overflow: hidden;padding: 0;position: absolute;width: 1px;}#sk-container-id-10 div.sk-estimator {font-family: monospace;background-color: #f0f8ff;border: 1px dotted black;border-radius: 0.25em;box-sizing: border-box;margin-bottom: 0.5em;}#sk-container-id-10 div.sk-estimator:hover {background-color: #d4ebff;}#sk-container-id-10 div.sk-parallel-item::after {content: \"\";width: 100%;border-bottom: 1px solid gray;flex-grow: 1;}#sk-container-id-10 div.sk-label:hover label.sk-toggleable__label {background-color: #d4ebff;}#sk-container-id-10 div.sk-serial::before {content: \"\";position: absolute;border-left: 1px solid gray;box-sizing: border-box;top: 0;bottom: 0;left: 50%;z-index: 0;}#sk-container-id-10 div.sk-serial {display: flex;flex-direction: column;align-items: center;background-color: white;padding-right: 0.2em;padding-left: 0.2em;position: relative;}#sk-container-id-10 div.sk-item {position: relative;z-index: 1;}#sk-container-id-10 div.sk-parallel {display: flex;align-items: stretch;justify-content: center;background-color: white;position: relative;}#sk-container-id-10 div.sk-item::before, #sk-container-id-10 div.sk-parallel-item::before {content: \"\";position: absolute;border-left: 1px solid gray;box-sizing: border-box;top: 0;bottom: 0;left: 50%;z-index: -1;}#sk-container-id-10 div.sk-parallel-item {display: flex;flex-direction: column;z-index: 1;position: relative;background-color: white;}#sk-container-id-10 div.sk-parallel-item:first-child::after {align-self: flex-end;width: 50%;}#sk-container-id-10 div.sk-parallel-item:last-child::after {align-self: flex-start;width: 50%;}#sk-container-id-10 div.sk-parallel-item:only-child::after {width: 0;}#sk-container-id-10 div.sk-dashed-wrapped {border: 1px dashed gray;margin: 0 0.4em 0.5em 0.4em;box-sizing: border-box;padding-bottom: 0.4em;background-color: white;}#sk-container-id-10 div.sk-label label {font-family: monospace;font-weight: bold;display: inline-block;line-height: 1.2em;}#sk-container-id-10 div.sk-label-container {text-align: center;}#sk-container-id-10 div.sk-container {/* jupyter's `normalize.less` sets `[hidden] { display: none; }` but bootstrap.min.css set `[hidden] { display: none !important; }` so we also need the `!important` here to be able to override the default hidden behavior on the sphinx rendered scikit-learn.org. See: https://github.com/scikit-learn/scikit-learn/issues/21755 */display: inline-block !important;position: relative;}#sk-container-id-10 div.sk-text-repr-fallback {display: none;}</style><div id=\"sk-container-id-10\" class=\"sk-top-container\"><div class=\"sk-text-repr-fallback\"><pre>OneVsRestClassifier(estimator=RandomForestClassifier(criterion=&#x27;entropy&#x27;,\n",
       "                                                     max_depth=10,\n",
       "                                                     n_estimators=50))</pre><b>In a Jupyter environment, please rerun this cell to show the HTML representation or trust the notebook. <br />On GitHub, the HTML representation is unable to render, please try loading this page with nbviewer.org.</b></div><div class=\"sk-container\" hidden><div class=\"sk-item sk-dashed-wrapped\"><div class=\"sk-label-container\"><div class=\"sk-label sk-toggleable\"><input class=\"sk-toggleable__control sk-hidden--visually\" id=\"sk-estimator-id-29\" type=\"checkbox\" ><label for=\"sk-estimator-id-29\" class=\"sk-toggleable__label sk-toggleable__label-arrow\">OneVsRestClassifier</label><div class=\"sk-toggleable__content\"><pre>OneVsRestClassifier(estimator=RandomForestClassifier(criterion=&#x27;entropy&#x27;,\n",
       "                                                     max_depth=10,\n",
       "                                                     n_estimators=50))</pre></div></div></div><div class=\"sk-parallel\"><div class=\"sk-parallel-item\"><div class=\"sk-item\"><div class=\"sk-label-container\"><div class=\"sk-label sk-toggleable\"><input class=\"sk-toggleable__control sk-hidden--visually\" id=\"sk-estimator-id-30\" type=\"checkbox\" ><label for=\"sk-estimator-id-30\" class=\"sk-toggleable__label sk-toggleable__label-arrow\">estimator: RandomForestClassifier</label><div class=\"sk-toggleable__content\"><pre>RandomForestClassifier(criterion=&#x27;entropy&#x27;, max_depth=10, n_estimators=50)</pre></div></div></div><div class=\"sk-serial\"><div class=\"sk-item\"><div class=\"sk-estimator sk-toggleable\"><input class=\"sk-toggleable__control sk-hidden--visually\" id=\"sk-estimator-id-31\" type=\"checkbox\" ><label for=\"sk-estimator-id-31\" class=\"sk-toggleable__label sk-toggleable__label-arrow\">RandomForestClassifier</label><div class=\"sk-toggleable__content\"><pre>RandomForestClassifier(criterion=&#x27;entropy&#x27;, max_depth=10, n_estimators=50)</pre></div></div></div></div></div></div></div></div></div></div>"
      ],
      "text/plain": [
       "OneVsRestClassifier(estimator=RandomForestClassifier(criterion='entropy',\n",
       "                                                     max_depth=10,\n",
       "                                                     n_estimators=50))"
      ]
     },
     "execution_count": 48,
     "metadata": {},
     "output_type": "execute_result"
    }
   ],
   "source": [
    "# try with n_estimators = 50\n",
    "\n",
    "RFC_TUNED = RandomForestClassifier(n_estimators= 50, max_features= 'sqrt', \n",
    "                                   max_depth= 10, criterion= 'entropy', bootstrap= True)\n",
    "\n",
    "RFC_OVS = OneVsRestClassifier(RFC_TUNED)\n",
    "\n",
    "RFC_OVS.fit(X_TRAIN_T, Y_TRAIN_B)"
   ]
  },
  {
   "cell_type": "code",
   "execution_count": 49,
   "id": "f3399a13",
   "metadata": {},
   "outputs": [
    {
     "name": "stdout",
     "output_type": "stream",
     "text": [
      "ACCURACY:  0.2768\n"
     ]
    }
   ],
   "source": [
    "PREDICTIONS_TUNED = RFC_OVS.predict(X_TEST_T)\n",
    "\n",
    "print('ACCURACY: ',accuracy_score(Y_TEST_B,PREDICTIONS_TUNED))"
   ]
  },
  {
   "cell_type": "code",
   "execution_count": 50,
   "id": "af850c93",
   "metadata": {},
   "outputs": [
    {
     "data": {
      "text/html": [
       "<style>#sk-container-id-11 {color: black;background-color: white;}#sk-container-id-11 pre{padding: 0;}#sk-container-id-11 div.sk-toggleable {background-color: white;}#sk-container-id-11 label.sk-toggleable__label {cursor: pointer;display: block;width: 100%;margin-bottom: 0;padding: 0.3em;box-sizing: border-box;text-align: center;}#sk-container-id-11 label.sk-toggleable__label-arrow:before {content: \"▸\";float: left;margin-right: 0.25em;color: #696969;}#sk-container-id-11 label.sk-toggleable__label-arrow:hover:before {color: black;}#sk-container-id-11 div.sk-estimator:hover label.sk-toggleable__label-arrow:before {color: black;}#sk-container-id-11 div.sk-toggleable__content {max-height: 0;max-width: 0;overflow: hidden;text-align: left;background-color: #f0f8ff;}#sk-container-id-11 div.sk-toggleable__content pre {margin: 0.2em;color: black;border-radius: 0.25em;background-color: #f0f8ff;}#sk-container-id-11 input.sk-toggleable__control:checked~div.sk-toggleable__content {max-height: 200px;max-width: 100%;overflow: auto;}#sk-container-id-11 input.sk-toggleable__control:checked~label.sk-toggleable__label-arrow:before {content: \"▾\";}#sk-container-id-11 div.sk-estimator input.sk-toggleable__control:checked~label.sk-toggleable__label {background-color: #d4ebff;}#sk-container-id-11 div.sk-label input.sk-toggleable__control:checked~label.sk-toggleable__label {background-color: #d4ebff;}#sk-container-id-11 input.sk-hidden--visually {border: 0;clip: rect(1px 1px 1px 1px);clip: rect(1px, 1px, 1px, 1px);height: 1px;margin: -1px;overflow: hidden;padding: 0;position: absolute;width: 1px;}#sk-container-id-11 div.sk-estimator {font-family: monospace;background-color: #f0f8ff;border: 1px dotted black;border-radius: 0.25em;box-sizing: border-box;margin-bottom: 0.5em;}#sk-container-id-11 div.sk-estimator:hover {background-color: #d4ebff;}#sk-container-id-11 div.sk-parallel-item::after {content: \"\";width: 100%;border-bottom: 1px solid gray;flex-grow: 1;}#sk-container-id-11 div.sk-label:hover label.sk-toggleable__label {background-color: #d4ebff;}#sk-container-id-11 div.sk-serial::before {content: \"\";position: absolute;border-left: 1px solid gray;box-sizing: border-box;top: 0;bottom: 0;left: 50%;z-index: 0;}#sk-container-id-11 div.sk-serial {display: flex;flex-direction: column;align-items: center;background-color: white;padding-right: 0.2em;padding-left: 0.2em;position: relative;}#sk-container-id-11 div.sk-item {position: relative;z-index: 1;}#sk-container-id-11 div.sk-parallel {display: flex;align-items: stretch;justify-content: center;background-color: white;position: relative;}#sk-container-id-11 div.sk-item::before, #sk-container-id-11 div.sk-parallel-item::before {content: \"\";position: absolute;border-left: 1px solid gray;box-sizing: border-box;top: 0;bottom: 0;left: 50%;z-index: -1;}#sk-container-id-11 div.sk-parallel-item {display: flex;flex-direction: column;z-index: 1;position: relative;background-color: white;}#sk-container-id-11 div.sk-parallel-item:first-child::after {align-self: flex-end;width: 50%;}#sk-container-id-11 div.sk-parallel-item:last-child::after {align-self: flex-start;width: 50%;}#sk-container-id-11 div.sk-parallel-item:only-child::after {width: 0;}#sk-container-id-11 div.sk-dashed-wrapped {border: 1px dashed gray;margin: 0 0.4em 0.5em 0.4em;box-sizing: border-box;padding-bottom: 0.4em;background-color: white;}#sk-container-id-11 div.sk-label label {font-family: monospace;font-weight: bold;display: inline-block;line-height: 1.2em;}#sk-container-id-11 div.sk-label-container {text-align: center;}#sk-container-id-11 div.sk-container {/* jupyter's `normalize.less` sets `[hidden] { display: none; }` but bootstrap.min.css set `[hidden] { display: none !important; }` so we also need the `!important` here to be able to override the default hidden behavior on the sphinx rendered scikit-learn.org. See: https://github.com/scikit-learn/scikit-learn/issues/21755 */display: inline-block !important;position: relative;}#sk-container-id-11 div.sk-text-repr-fallback {display: none;}</style><div id=\"sk-container-id-11\" class=\"sk-top-container\"><div class=\"sk-text-repr-fallback\"><pre>OneVsRestClassifier(estimator=RandomForestClassifier(criterion=&#x27;entropy&#x27;,\n",
       "                                                     max_depth=25,\n",
       "                                                     n_estimators=50))</pre><b>In a Jupyter environment, please rerun this cell to show the HTML representation or trust the notebook. <br />On GitHub, the HTML representation is unable to render, please try loading this page with nbviewer.org.</b></div><div class=\"sk-container\" hidden><div class=\"sk-item sk-dashed-wrapped\"><div class=\"sk-label-container\"><div class=\"sk-label sk-toggleable\"><input class=\"sk-toggleable__control sk-hidden--visually\" id=\"sk-estimator-id-32\" type=\"checkbox\" ><label for=\"sk-estimator-id-32\" class=\"sk-toggleable__label sk-toggleable__label-arrow\">OneVsRestClassifier</label><div class=\"sk-toggleable__content\"><pre>OneVsRestClassifier(estimator=RandomForestClassifier(criterion=&#x27;entropy&#x27;,\n",
       "                                                     max_depth=25,\n",
       "                                                     n_estimators=50))</pre></div></div></div><div class=\"sk-parallel\"><div class=\"sk-parallel-item\"><div class=\"sk-item\"><div class=\"sk-label-container\"><div class=\"sk-label sk-toggleable\"><input class=\"sk-toggleable__control sk-hidden--visually\" id=\"sk-estimator-id-33\" type=\"checkbox\" ><label for=\"sk-estimator-id-33\" class=\"sk-toggleable__label sk-toggleable__label-arrow\">estimator: RandomForestClassifier</label><div class=\"sk-toggleable__content\"><pre>RandomForestClassifier(criterion=&#x27;entropy&#x27;, max_depth=25, n_estimators=50)</pre></div></div></div><div class=\"sk-serial\"><div class=\"sk-item\"><div class=\"sk-estimator sk-toggleable\"><input class=\"sk-toggleable__control sk-hidden--visually\" id=\"sk-estimator-id-34\" type=\"checkbox\" ><label for=\"sk-estimator-id-34\" class=\"sk-toggleable__label sk-toggleable__label-arrow\">RandomForestClassifier</label><div class=\"sk-toggleable__content\"><pre>RandomForestClassifier(criterion=&#x27;entropy&#x27;, max_depth=25, n_estimators=50)</pre></div></div></div></div></div></div></div></div></div></div>"
      ],
      "text/plain": [
       "OneVsRestClassifier(estimator=RandomForestClassifier(criterion='entropy',\n",
       "                                                     max_depth=25,\n",
       "                                                     n_estimators=50))"
      ]
     },
     "execution_count": 50,
     "metadata": {},
     "output_type": "execute_result"
    }
   ],
   "source": [
    "# try with n_estimators = 50 and max_depth = 15\n",
    "\n",
    "RFC_TUNED = RandomForestClassifier(n_estimators= 50, max_features= 'sqrt', \n",
    "                                   max_depth= 25, criterion= 'entropy', bootstrap= True)\n",
    "\n",
    "RFC_OVS = OneVsRestClassifier(RFC_TUNED)\n",
    "\n",
    "RFC_OVS.fit(X_TRAIN_T, Y_TRAIN_B)"
   ]
  },
  {
   "cell_type": "code",
   "execution_count": 51,
   "id": "ea8481a3",
   "metadata": {},
   "outputs": [
    {
     "name": "stdout",
     "output_type": "stream",
     "text": [
      "ACCURACY:  0.2904\n"
     ]
    }
   ],
   "source": [
    "PREDICTIONS_TUNED = RFC_OVS.predict(X_TEST_T)\n",
    "\n",
    "print('ACCURACY: ',accuracy_score(Y_TEST_B,PREDICTIONS_TUNED))"
   ]
  },
  {
   "cell_type": "code",
   "execution_count": null,
   "id": "8574bb38",
   "metadata": {},
   "outputs": [],
   "source": [
    "from sklearn.tree import DecisionTreeClassifier\n",
    "\n",
    "DTC_ALG = DecisionTreeClassifier()\n",
    "\n",
    "ABC_TUNING = AdaBoostClassifier(base_estimator=DTC_ALG,algorithm='SAMME')\n",
    "\n",
    "ABC_OVS = OneVsRestClassifier(ABC_TUNING)\n",
    "\n",
    "ABC_OVS.fit(X_TRAIN_T, Y_TRAIN_B)"
   ]
  },
  {
   "cell_type": "code",
   "execution_count": 53,
   "id": "cbaa4da0",
   "metadata": {},
   "outputs": [
    {
     "name": "stdout",
     "output_type": "stream",
     "text": [
      "ACCURACY:  0.2312\n",
      "\n",
      "PRECISION:  0.6303979270685621\n",
      "\n",
      "RECALL:  0.6002\n",
      "\n",
      "F1_SCORE:  0.610896885725206\n"
     ]
    }
   ],
   "source": [
    "PREDICTIONS_ABCT = ABC_OVS.predict(X_TEST_T)\n",
    "\n",
    "print('ACCURACY: ',accuracy_score(Y_TEST_B,PREDICTIONS_ABCT))\n",
    "print('\\nPRECISION: ',precision_score(Y_TEST_B,PREDICTIONS_ABCT,average='weighted'))\n",
    "print('\\nRECALL: ',recall_score(Y_TEST_B,PREDICTIONS_ABCT,average='weighted'))\n",
    "print('\\nF1_SCORE: ',f1_score(Y_TEST_B,PREDICTIONS_ABCT,average='weighted'))"
   ]
  },
  {
   "cell_type": "code",
   "execution_count": null,
   "id": "0bce5976",
   "metadata": {},
   "outputs": [],
   "source": [
    "#LOG_REG = LogisticRegression(solver='lbfgs', max_iter=2000,random_state=1)\n",
    "\n",
    "from sklearn.svm import SVC\n",
    "\n",
    "SVM = SVC()\n",
    "\n",
    "ABC_TUNING = AdaBoostClassifier(base_estimator=SVM,algorithm='SAMME')\n",
    "\n",
    "ABC_OVS = OneVsRestClassifier(ABC_TUNING)\n",
    "\n",
    "ABC_OVS.fit(X_TRAIN_T, Y_TRAIN_B)"
   ]
  },
  {
   "cell_type": "markdown",
   "id": "d9429bd3",
   "metadata": {},
   "source": [
    "# D. Clearly print Performance Metrics."
   ]
  },
  {
   "cell_type": "code",
   "execution_count": 66,
   "id": "72b78093",
   "metadata": {},
   "outputs": [
    {
     "name": "stdout",
     "output_type": "stream",
     "text": [
      "ACCURACY:  0.3888\n",
      "\n",
      "PRECISION:  0.7087703201541039\n",
      "\n",
      "RECALL:  0.6242\n",
      "\n",
      "F1_SCORE:  0.6473237444826353\n"
     ]
    }
   ],
   "source": [
    "PREDICTIONS_RFCT = ABC.predict(X_TEST_T)\n",
    "\n",
    "print('ACCURACY: ',accuracy_score(Y_TEST_B,PREDICTIONS_RFCT))\n",
    "print('\\nPRECISION: ',precision_score(Y_TEST_B,PREDICTIONS_RFCT,average='weighted'))\n",
    "print('\\nRECALL: ',recall_score(Y_TEST_B,PREDICTIONS_RFCT,average='weighted'))\n",
    "print('\\nF1_SCORE: ',f1_score(Y_TEST_B,PREDICTIONS_RFCT,average='weighted'))"
   ]
  },
  {
   "cell_type": "code",
   "execution_count": 67,
   "id": "5e57c1b2",
   "metadata": {},
   "outputs": [
    {
     "name": "stdout",
     "output_type": "stream",
     "text": [
      "CLASSIFICATION REPORT:\n",
      "\n",
      "               precision    recall  f1-score   support\n",
      "\n",
      "           0       0.42      0.26      0.32        39\n",
      "           1       0.72      0.30      0.42        87\n",
      "           2       0.20      0.20      0.20        10\n",
      "           3       0.60      0.31      0.41       161\n",
      "           4       0.36      0.12      0.19        32\n",
      "           5       0.66      0.36      0.47        86\n",
      "           6       0.57      0.18      0.28        65\n",
      "           7       0.38      0.15      0.21        20\n",
      "           8       0.31      0.18      0.23        22\n",
      "           9       0.91      0.59      0.71        34\n",
      "          10       0.96      0.82      0.89       130\n",
      "          11       0.74      0.85      0.79       499\n",
      "          12       0.62      0.25      0.36        20\n",
      "          13       0.00      0.00      0.00         5\n",
      "          14       0.44      0.15      0.23        26\n",
      "          15       0.00      0.00      0.00         3\n",
      "          16       0.00      0.00      0.00         2\n",
      "          17       0.00      0.00      0.00         1\n",
      "          18       0.50      0.20      0.29         5\n",
      "          19       0.00      0.00      0.00         3\n",
      "          20       0.00      0.00      0.00         0\n",
      "          21       0.48      0.28      0.36        85\n",
      "          22       0.74      0.78      0.76       554\n",
      "          23       0.83      0.83      0.83         6\n",
      "          24       0.00      0.00      0.00         4\n",
      "          25       0.00      0.00      0.00         8\n",
      "          26       0.14      0.07      0.09        15\n",
      "          27       0.50      0.19      0.27        16\n",
      "          28       0.80      0.38      0.52        21\n",
      "          29       0.67      0.21      0.32        19\n",
      "          30       0.00      0.00      0.00         5\n",
      "          31       0.42      0.25      0.31        32\n",
      "          32       0.43      0.21      0.29        28\n",
      "          33       0.38      0.12      0.19        24\n",
      "          34       0.00      0.00      0.00        11\n",
      "          35       0.95      0.86      0.90        21\n",
      "          36       0.33      1.00      0.50         1\n",
      "          37       0.26      0.11      0.15        47\n",
      "          38       0.66      0.31      0.42       112\n",
      "          39       0.00      0.00      0.00         0\n",
      "          40       0.33      0.12      0.18         8\n",
      "          41       0.67      0.27      0.39        22\n",
      "          42       0.00      0.00      0.00         3\n",
      "          43       0.86      0.67      0.76       161\n",
      "          44       0.67      0.29      0.40         7\n",
      "          45       0.62      0.31      0.41       172\n",
      "          46       0.91      0.67      0.77        15\n",
      "          47       0.60      0.32      0.42       154\n",
      "          48       0.55      0.24      0.33        25\n",
      "          49       0.73      0.82      0.77       506\n",
      "          50       0.00      0.00      0.00        11\n",
      "          51       0.83      0.64      0.72       515\n",
      "          52       0.73      0.53      0.62       407\n",
      "          53       0.78      0.91      0.84       735\n",
      "\n",
      "   micro avg       0.74      0.62      0.68      5000\n",
      "   macro avg       0.45      0.30      0.34      5000\n",
      "weighted avg       0.71      0.62      0.65      5000\n",
      " samples avg       0.72      0.62      0.65      5000\n",
      "\n"
     ]
    }
   ],
   "source": [
    "print('CLASSIFICATION REPORT:\\n\\n',classification_report(Y_TEST_B,PREDICTIONS_RFCT))"
   ]
  },
  {
   "cell_type": "markdown",
   "id": "d476e80c",
   "metadata": {},
   "source": [
    "# 5. Share insights on relative performance comparison"
   ]
  },
  {
   "cell_type": "markdown",
   "id": "97e68a80",
   "metadata": {},
   "source": [
    "# A. Which vectorizer performed better? Probable reason?\n",
    "\n",
    "    \n",
    "    * USING BAG OF WORDS VECTORIZER, MODEL IS EVALUATED AT 47% ACCURACY. BUT USING TFID IT IS REDUCED TO 36%\n",
    "    \n",
    "    * BAG OF WORDS IS MORE FLEXIBLE AND MOST USED VECTORIZER WHEN WE ARE SOLVING CLASSIFICATION PROBLEMS.\n",
    "    \n",
    "    * EXTRACTING FEATURES FROM THE DOCUEMNTS IS SIMPLE.\n",
    "    \n",
    "    * CREATES MORE NULL VALUES AND MAKES IT MORE TIME COMPLEX IN PROCESSING THE MODEL.\n",
    "    \n",
    "    * SINCE I USED ONLY A PORTION OF THE DATA FOR TRAINING THE MODEL, ACCURACY OF THE MODEL IS EXPECTED TO BE LESS.\n",
    "    \n",
    "    * AND EVEN WITH LESS AMOUNT OF DATA USED, BAG OF WORDS VECTORISER HAS TAKEN MORE TIME AND MEMORY CONSUMPTION.\n",
    "    \n",
    "    * TF-IDF VECTORISER IN TURN USED VERY LESS TIME AND MEMORY SPACE FOR EXECUTION. THIS CAN HELP TO ADD MORE DATA\n",
    "      TO TRAIN THE MODEL AND INCREASE THE ACCURACY. ALSO PERFORMING THE PARAMETER TUNING ON CLASSIFIER AND LATER \n",
    "      TRAINING THE MODEL WITH TF-IDF VECTORIZER IS MUCH EASIER.\n",
    "      \n",
    "    * TF-IDF VECTORIZER REGAINS THE CONTEXT OF THE TRAINING DATA WHERE AS BAG OF WORDS SOME TIME GIVES SIMILAR\n",
    "      CONTEXT TO SENTENCES WITH SIMILAR WORDS.\n",
    "      \n",
    "    * CONSIDERING THESE POINTS, TF-IDF HAS PERFORMED BETTER OVER BAG OF WORDS."
   ]
  },
  {
   "cell_type": "markdown",
   "id": "f413601b",
   "metadata": {},
   "source": [
    "# B. Which model outperformed? Probable reason?\n",
    "\n",
    "\n",
    "    * WE HAVE USED ONLY ONE VS MANY CLASSIFIER SINCE WE ARE DEALING WITH MULTI-LABEL CLASSIFICATION PROBLEM.\n",
    "    \n",
    "    * FOR THE BASE MODEL, WE USED LOGISTIC REGRESSION WHICH GAVE 47% ACCURACY WHICH IS VERY LESS FOR A MODEL,\n",
    "      BUT WE ARE USING 5000 RECORDS FOR TRAIN AND TEST THE MODEL WHICH IS VERY LESS COMPARED TO 8.8 LAKH RECORDS\n",
    "      \n",
    "    * IN THE CURRENT CONTEXT BASE MODEL USED WITH LOGISTIC REGRESSION OUTPERFORMED OVER OTHER MODELS IN ACCURACY.\n",
    "    \n",
    "    * THE PROBLEM WITH BASE MODEL WITH LOGISTIC REGRESSION IS MORE TIME AND MEMORY CONSUMPTION EVEN WIH TF-IDF \n",
    "      VECTORIZED DATA.\n",
    "      \n",
    "    * SINCE WE ARE USING BINARY DATA FOR CLASSIFICATION, WE BUILD OTHER MODEL USING ESTIMATOR AS ADA BOOST,\n",
    "      WHICH GAVE 38.8% OF ACCURACY WITH TF-IDF VECTORIZED DATA AND CONSUMEND VERY LESS TIME AND MEMORY.\n",
    "      \n",
    "    * OTHER MODELS WHERE WE HYPERTUNED THE PARAMETERS FOR RANDOM FOREST CLASSIFIER AND ADA BOOST GAVE LESS \n",
    "      ACCURACY THAN THE BASE MODEL WITH ADA BOOST CLASSIFIER.\n",
    "      \n",
    "    * COSIDERING THE ALL POINTS, ONE VS MANY CLASSIFIER WITH ADA BOOST ESTIMATOR OUTPERFORMED OTHER MODELS SINCE\n",
    "      IT TOOK WAY LESS TIME AND MEMORY SPACE MAKING IT LEAST TIME COMPLEX AND MEMORY USAGE OF ALL THE MODELS."
   ]
  },
  {
   "cell_type": "markdown",
   "id": "9182445b",
   "metadata": {},
   "source": [
    "# C. Which parameter/hyperparameter significantly helped to improve performance?Probable reason?\n",
    "\n",
    "    * TUING THE PARAMETERS GAVE VERY LESS ACCURACY THAN USING MODEL AS IS.\n",
    "    \n",
    "    * IN RFC ESTIMATOR, WE CAN SEE THAT TUNING PARAMETES STARTED TO IMPROVE THE ACCURACY STARTING FROM LOW\n",
    "      WHEN WE REDUCED THE N_ESTIMATORS AND INCREASED THE DEPTH. FURTHER INCREASE IN DEPTH CAN FIT MORE DATA\n",
    "      INCASE MORE RECORDS ARE USED FOR TRAINING THE MODEL.\n",
    "      \n",
    "    * SINCE WE USED LESS DATA FOR TRAIN AND TEST THE MODEL, WE CAN SEE THE PERFORMANCE OF THE MODEL IS EVALUATED \n",
    "      AT VERY LOW."
   ]
  },
  {
   "cell_type": "markdown",
   "id": "eec09787",
   "metadata": {},
   "source": [
    "# D. According to you, which performance metric should be given most importance, why?\n",
    "\n",
    "    * PRECISION AND RECALL SHOULD BE TWO PERFORMANCE METRICS I GIVE MOST IMPORTANCE TO.\n",
    "    \n",
    "    * WHILE BUILDING THE CLASSIFICATION MODEL, MOST IMPORTANT ASPECT IS TO REDUCE THE FALSE POSITIVES AND \n",
    "      FALSE NEGATIVES THAT MAKES THE MODEL TO PREDICT THE MORE TRUE POSITIVES.\n",
    "      \n",
    "    * ACCURACY GIVES ONLY OVERALL PICTURE OF MODEL IN CLASSIFYING THE TEST RECORDS WHICH MAY NOT BE IDEAL.\n",
    "    \n",
    "    * WHEN WE CONSIDER PRECISION AND RECALL, THE MORE THE VALUE IS NEARING TO 1, THE MORE THE MODEL IS DOING\n",
    "      ACTUAL PREDICTIONS AND CLASSIFYING THEM CORRECTLY.\n",
    "      \n",
    "    * EVENTHOUGH THE MODEL ACCURACY IS VERY LESS, WE CAN ACTUALLY SEE THAT PRECISION IS ABOVE 70% IN MOST\n",
    "      OF THE CASES AND RECALL IS ABOVE 60% WHICH CAN BE FURTHER INCREASED IF WE USE MORE AND MORE DATA TO \n",
    "      FIT INTO THE MODEL THAT MAKES THE TEST RECORDS TO BE CLASSIFIED CORRECTLY.\n",
    "      \n",
    "    * HENCE PRECISION AND RECALL ARE THE TWO PERFORMANCE METRICS THAT I LOOK OUT FOR WHILE BUILDING THE MODEL"
   ]
  },
  {
   "cell_type": "markdown",
   "id": "22643057",
   "metadata": {},
   "source": [
    "# DOMAIN: Customer support\n",
    "\n",
    "# CONTEXT: Great Learning has a an academic support department which receives numerous support requests every day throughout the year. Teams are spread across geographies and try to provide support round the year. Sometimes there are circumstances where due to heavy workload certain request resolutions are delayed, impacting company’s business. Some of the requests are very generic where a proper resolution procedure delivered to the user can solve the problem. Company is looking forward to design an automation which can interact with the user, understand the problem and display the resolution procedure [ if found as a generic request ] or redirect the request to an actual human support executive if the request is complex or not in it’s database.\n",
    "\n",
    "# DATA DESCRIPTION: A sample corpus is attached for your reference. Please enhance/add more data to the corpus using your linguistics skills.\n",
    "\n",
    "# PROJECT OBJECTIVE: Design a python based interactive semi - rule based chatbot which can do the following:\n",
    "\n",
    "# 1. Start chat session with greetings and ask what the user is looking for.\n",
    "\n",
    "# 2. Accept dynamic text based questions from the user. Reply back with relevant answer from the designed corpus.\n",
    "\n",
    "# 3. End the chat session only if the user requests to end else ask what the user is looking for. Loop continues till the user asks to end it."
   ]
  },
  {
   "cell_type": "code",
   "execution_count": 68,
   "id": "05e376db",
   "metadata": {},
   "outputs": [],
   "source": [
    "import io\n",
    "import random\n",
    "import string # to process standard python strings\n",
    "import nltk\n",
    "import warnings\n",
    "import numpy as np\n",
    "from sklearn.feature_extraction.text import TfidfVectorizer\n",
    "from sklearn.metrics.pairwise import cosine_similarity\n",
    "import warnings\n",
    "warnings.filterwarnings('ignore')"
   ]
  },
  {
   "cell_type": "code",
   "execution_count": 92,
   "id": "36af790e",
   "metadata": {},
   "outputs": [],
   "source": [
    "DATA = pd.read_json('GL+Bot.json')"
   ]
  },
  {
   "cell_type": "code",
   "execution_count": 93,
   "id": "b7672f8f",
   "metadata": {},
   "outputs": [
    {
     "data": {
      "text/html": [
       "<div>\n",
       "<style scoped>\n",
       "    .dataframe tbody tr th:only-of-type {\n",
       "        vertical-align: middle;\n",
       "    }\n",
       "\n",
       "    .dataframe tbody tr th {\n",
       "        vertical-align: top;\n",
       "    }\n",
       "\n",
       "    .dataframe thead th {\n",
       "        text-align: right;\n",
       "    }\n",
       "</style>\n",
       "<table border=\"1\" class=\"dataframe\">\n",
       "  <thead>\n",
       "    <tr style=\"text-align: right;\">\n",
       "      <th></th>\n",
       "      <th>intents</th>\n",
       "    </tr>\n",
       "  </thead>\n",
       "  <tbody>\n",
       "    <tr>\n",
       "      <th>0</th>\n",
       "      <td>{'tag': 'Intro', 'patterns': ['hi', 'how are y...</td>\n",
       "    </tr>\n",
       "    <tr>\n",
       "      <th>1</th>\n",
       "      <td>{'tag': 'Exit', 'patterns': ['thank you', 'tha...</td>\n",
       "    </tr>\n",
       "    <tr>\n",
       "      <th>2</th>\n",
       "      <td>{'tag': 'Olympus', 'patterns': ['olympus', 'ex...</td>\n",
       "    </tr>\n",
       "    <tr>\n",
       "      <th>3</th>\n",
       "      <td>{'tag': 'SL', 'patterns': ['i am not able to u...</td>\n",
       "    </tr>\n",
       "    <tr>\n",
       "      <th>4</th>\n",
       "      <td>{'tag': 'NN', 'patterns': ['what is deep learn...</td>\n",
       "    </tr>\n",
       "  </tbody>\n",
       "</table>\n",
       "</div>"
      ],
      "text/plain": [
       "                                             intents\n",
       "0  {'tag': 'Intro', 'patterns': ['hi', 'how are y...\n",
       "1  {'tag': 'Exit', 'patterns': ['thank you', 'tha...\n",
       "2  {'tag': 'Olympus', 'patterns': ['olympus', 'ex...\n",
       "3  {'tag': 'SL', 'patterns': ['i am not able to u...\n",
       "4  {'tag': 'NN', 'patterns': ['what is deep learn..."
      ]
     },
     "execution_count": 93,
     "metadata": {},
     "output_type": "execute_result"
    }
   ],
   "source": [
    "DATA.head()"
   ]
  },
  {
   "cell_type": "code",
   "execution_count": 94,
   "id": "4a6db0df",
   "metadata": {},
   "outputs": [
    {
     "data": {
      "text/html": [
       "<div>\n",
       "<style scoped>\n",
       "    .dataframe tbody tr th:only-of-type {\n",
       "        vertical-align: middle;\n",
       "    }\n",
       "\n",
       "    .dataframe tbody tr th {\n",
       "        vertical-align: top;\n",
       "    }\n",
       "\n",
       "    .dataframe thead th {\n",
       "        text-align: right;\n",
       "    }\n",
       "</style>\n",
       "<table border=\"1\" class=\"dataframe\">\n",
       "  <thead>\n",
       "    <tr style=\"text-align: right;\">\n",
       "      <th></th>\n",
       "      <th>intents</th>\n",
       "    </tr>\n",
       "  </thead>\n",
       "  <tbody>\n",
       "    <tr>\n",
       "      <th>3</th>\n",
       "      <td>{'tag': 'SL', 'patterns': ['i am not able to u...</td>\n",
       "    </tr>\n",
       "    <tr>\n",
       "      <th>4</th>\n",
       "      <td>{'tag': 'NN', 'patterns': ['what is deep learn...</td>\n",
       "    </tr>\n",
       "    <tr>\n",
       "      <th>5</th>\n",
       "      <td>{'tag': 'Bot', 'patterns': ['what is your name...</td>\n",
       "    </tr>\n",
       "    <tr>\n",
       "      <th>6</th>\n",
       "      <td>{'tag': 'Profane', 'patterns': ['what the hell...</td>\n",
       "    </tr>\n",
       "    <tr>\n",
       "      <th>7</th>\n",
       "      <td>{'tag': 'Ticket', 'patterns': ['my problem is ...</td>\n",
       "    </tr>\n",
       "  </tbody>\n",
       "</table>\n",
       "</div>"
      ],
      "text/plain": [
       "                                             intents\n",
       "3  {'tag': 'SL', 'patterns': ['i am not able to u...\n",
       "4  {'tag': 'NN', 'patterns': ['what is deep learn...\n",
       "5  {'tag': 'Bot', 'patterns': ['what is your name...\n",
       "6  {'tag': 'Profane', 'patterns': ['what the hell...\n",
       "7  {'tag': 'Ticket', 'patterns': ['my problem is ..."
      ]
     },
     "execution_count": 94,
     "metadata": {},
     "output_type": "execute_result"
    }
   ],
   "source": [
    "DATA.tail()"
   ]
  },
  {
   "cell_type": "code",
   "execution_count": 95,
   "id": "f0686ad2",
   "metadata": {},
   "outputs": [
    {
     "data": {
      "text/plain": [
       "(8, 1)"
      ]
     },
     "execution_count": 95,
     "metadata": {},
     "output_type": "execute_result"
    }
   ],
   "source": [
    "DATA.shape"
   ]
  },
  {
   "cell_type": "code",
   "execution_count": 97,
   "id": "2a5e612e",
   "metadata": {},
   "outputs": [
    {
     "data": {
      "text/plain": [
       "intents    object\n",
       "dtype: object"
      ]
     },
     "execution_count": 97,
     "metadata": {},
     "output_type": "execute_result"
    }
   ],
   "source": [
    "DATA.dtypes"
   ]
  },
  {
   "cell_type": "code",
   "execution_count": 74,
   "id": "a5a5f85c",
   "metadata": {},
   "outputs": [
    {
     "name": "stderr",
     "output_type": "stream",
     "text": [
      "[nltk_data] Downloading package punkt to\n",
      "[nltk_data]     C:\\Users\\thril\\AppData\\Roaming\\nltk_data...\n",
      "[nltk_data]   Package punkt is already up-to-date!\n",
      "[nltk_data] Downloading package wordnet to\n",
      "[nltk_data]     C:\\Users\\thril\\AppData\\Roaming\\nltk_data...\n",
      "[nltk_data]   Package wordnet is already up-to-date!\n"
     ]
    },
    {
     "data": {
      "text/plain": [
       "True"
      ]
     },
     "execution_count": 74,
     "metadata": {},
     "output_type": "execute_result"
    }
   ],
   "source": [
    "nltk.download('popular', quiet=True)\n",
    "nltk.download('punkt')\n",
    "nltk.download('wordnet')"
   ]
  },
  {
   "cell_type": "markdown",
   "id": "ed412f11",
   "metadata": {},
   "source": [
    "# CONVERT THE DATA INTO LIST OF WORDS\n",
    "\n",
    "# ADD PATTERNS AND ASSOCIATED TAGS"
   ]
  },
  {
   "cell_type": "code",
   "execution_count": 98,
   "id": "e2754fe6",
   "metadata": {},
   "outputs": [],
   "source": [
    "WORDS = []\n",
    "LABELS = []\n",
    "PATTERNS = []\n",
    "TAGS = []"
   ]
  },
  {
   "cell_type": "code",
   "execution_count": 99,
   "id": "90a5b4eb",
   "metadata": {},
   "outputs": [],
   "source": [
    "for intent in DATA['intents']:\n",
    "    for PATTERN in intent['patterns']:\n",
    "        WORD = nltk.word_tokenize(PATTERN)\n",
    "        WORDS.extend(WORD)\n",
    "        PATTERNS.append(WORD)\n",
    "        TAGS.append(intent[\"tag\"])\n",
    "        \n",
    "    if intent['tag'] not in LABELS:\n",
    "        LABELS.append(intent['tag'])"
   ]
  },
  {
   "cell_type": "code",
   "execution_count": 100,
   "id": "ae04afc7",
   "metadata": {},
   "outputs": [
    {
     "data": {
      "text/plain": [
       "array(['Bot', 'Exit', 'Intro', 'NN', 'Olympus', 'Profane', 'SL', 'Ticket'],\n",
       "      dtype='<U7')"
      ]
     },
     "execution_count": 100,
     "metadata": {},
     "output_type": "execute_result"
    }
   ],
   "source": [
    "np.unique(TAGS)"
   ]
  },
  {
   "cell_type": "code",
   "execution_count": 101,
   "id": "1edac69a",
   "metadata": {},
   "outputs": [],
   "source": [
    "from nltk.stem.lancaster import LancasterStemmer\n",
    "stemmer = LancasterStemmer()\n",
    "\n",
    "WORDS = [stemmer.stem(w.lower()) for w in WORDS if w != \"?\"]\n",
    "WORDS = sorted(list(set(WORDS)))\n",
    "\n",
    "LABELS = sorted(LABELS)"
   ]
  },
  {
   "cell_type": "code",
   "execution_count": 102,
   "id": "4907e399",
   "metadata": {},
   "outputs": [],
   "source": [
    "# SINCE ML ALGORITHMS USE NUMERIC DATA, SO USE BAG OF WORDS TO FORMAT THE INPUT FOR ML ALGORITHM\n",
    "\n",
    "TRAINING_DATA = []\n",
    "RESPONSES = []\n",
    "\n",
    "out_empty = [0 for _ in range(len(LABELS))]\n",
    "\n",
    "for x, doc in enumerate(PATTERNS):\n",
    "    BAG = []\n",
    "\n",
    "    WORD = [stemmer.stem(w.lower()) for w in doc]\n",
    "\n",
    "    for w in WORDS:\n",
    "        if w in WORD:\n",
    "            BAG.append(1)\n",
    "        else:\n",
    "            BAG.append(0)\n",
    "\n",
    "    RESPONSE = out_empty[:]\n",
    "    RESPONSE[LABELS.index(TAGS[x])] = 1\n",
    "\n",
    "    TRAINING_DATA.append(BAG)\n",
    "    RESPONSES.append(RESPONSE)"
   ]
  },
  {
   "cell_type": "code",
   "execution_count": 103,
   "id": "3aa288a1",
   "metadata": {},
   "outputs": [],
   "source": [
    "TRAINING_DATA = np.array(TRAINING_DATA)\n",
    "\n",
    "RESPONSES = np.array(RESPONSES)"
   ]
  },
  {
   "cell_type": "markdown",
   "id": "a66259dd",
   "metadata": {},
   "source": [
    "# DESIGN, TRAIN AND SAVE THE MODEL\n",
    "\n",
    "    * NOW THAT WE HAVE THE INPUTS AND RESPONSES READY, WE WILL DESIGN THE MODEL AND TRAIN IT.\n",
    "    * SAVE THE MODEL FOR FUTURE USAGE"
   ]
  },
  {
   "cell_type": "code",
   "execution_count": 104,
   "id": "7240c965",
   "metadata": {},
   "outputs": [
    {
     "name": "stdout",
     "output_type": "stream",
     "text": [
      "WARNING:tensorflow:From C:\\Users\\thril\\AppData\\Roaming\\Python\\Python39\\site-packages\\tensorflow\\python\\compat\\v2_compat.py:107: disable_resource_variables (from tensorflow.python.ops.variable_scope) is deprecated and will be removed in a future version.\n",
      "Instructions for updating:\n",
      "non-resource variables are not supported in the long term\n"
     ]
    }
   ],
   "source": [
    "import tflearn\n",
    "import tensorflow\n",
    "import random"
   ]
  },
  {
   "cell_type": "code",
   "execution_count": 105,
   "id": "7748aa79",
   "metadata": {},
   "outputs": [
    {
     "name": "stdout",
     "output_type": "stream",
     "text": [
      "WARNING:tensorflow:From C:\\ProgramData\\Anaconda3\\lib\\site-packages\\tflearn\\initializations.py:164: calling TruncatedNormal.__init__ (from tensorflow.python.ops.init_ops) with dtype is deprecated and will be removed in a future version.\n",
      "Instructions for updating:\n",
      "Call initializer instance with the dtype argument instead of passing it to the constructor\n"
     ]
    }
   ],
   "source": [
    "tensorflow.compat.v1.reset_default_graph()\n",
    "\n",
    "TRAIN_MODEL = tflearn.input_data(shape=[None, len(TRAINING_DATA[0])])\n",
    "TRAIN_MODEL = tflearn.fully_connected(TRAIN_MODEL, 8)\n",
    "TRAIN_MODEL = tflearn.fully_connected(TRAIN_MODEL, 8)\n",
    "TRAIN_MODEL = tflearn.fully_connected(TRAIN_MODEL, len(RESPONSES[0]), activation=\"softmax\")\n",
    "TRAIN_MODEL = tflearn.regression(TRAIN_MODEL)\n",
    "\n",
    "CHATBOT_MODEL = tflearn.DNN(TRAIN_MODEL)"
   ]
  },
  {
   "cell_type": "code",
   "execution_count": 106,
   "id": "f2c1d01f",
   "metadata": {},
   "outputs": [
    {
     "name": "stdout",
     "output_type": "stream",
     "text": [
      "Training Step: 15999  | total loss: \u001b[1m\u001b[32m0.00046\u001b[0m\u001b[0m | time: 0.091s\n",
      "| Adam | epoch: 1000 | loss: 0.00046 - acc: 1.0000 -- iter: 120/128\n",
      "Training Step: 16000  | total loss: \u001b[1m\u001b[32m0.00048\u001b[0m\u001b[0m | time: 0.107s\n",
      "| Adam | epoch: 1000 | loss: 0.00048 - acc: 1.0000 -- iter: 128/128\n",
      "--\n"
     ]
    }
   ],
   "source": [
    "CHATBOT_MODEL.fit(TRAINING_DATA, RESPONSES, n_epoch = 1000, batch_size = 8, show_metric = True)"
   ]
  },
  {
   "cell_type": "code",
   "execution_count": 107,
   "id": "da6b45a6",
   "metadata": {},
   "outputs": [
    {
     "name": "stdout",
     "output_type": "stream",
     "text": [
      "INFO:tensorflow:C:\\Users\\thril\\CHATBOT_MODEL.tflearn is not in all_model_checkpoint_paths. Manually adding it.\n",
      "INFO:tensorflow:C:\\Users\\thril\\CHATBOT_MODEL.tflearn.data-00000-of-00001\n",
      "INFO:tensorflow:0\n",
      "INFO:tensorflow:C:\\Users\\thril\\CHATBOT_MODEL.tflearn.index\n",
      "INFO:tensorflow:0\n",
      "INFO:tensorflow:C:\\Users\\thril\\CHATBOT_MODEL.tflearn.meta\n",
      "INFO:tensorflow:100\n"
     ]
    }
   ],
   "source": [
    "CHATBOT_MODEL.save(\"CHATBOT_MODEL.tflearn\")"
   ]
  },
  {
   "cell_type": "code",
   "execution_count": 108,
   "id": "eb960c67",
   "metadata": {},
   "outputs": [],
   "source": [
    "def INPUT_WORDS(INPUT, WORDS):\n",
    "    BAG = [0 for _ in range(len(WORDS))]\n",
    "\n",
    "    INPUT_WORDS = nltk.word_tokenize(INPUT)\n",
    "    INPUT_WORDS = [stemmer.stem(word.lower()) for word in INPUT_WORDS]\n",
    "\n",
    "    for se in INPUT_WORDS:\n",
    "        for i, w in enumerate(WORDS):\n",
    "            if w == se:\n",
    "                BAG[i] = 1\n",
    "            \n",
    "    return np.array(BAG)"
   ]
  },
  {
   "cell_type": "code",
   "execution_count": 109,
   "id": "0b111fca",
   "metadata": {},
   "outputs": [],
   "source": [
    "def CHATBOT_FUNC():\n",
    "    print(\"Welcome, Start talking with the bot (type quit to stop)!\")\n",
    "    while True:\n",
    "        INPUT = input(\"You: \")\n",
    "        if INPUT.lower() == \"quit\":\n",
    "            break\n",
    "\n",
    "        RESULTS = CHATBOT_MODEL.predict([INPUT_WORDS(INPUT, WORDS)])\n",
    "        RESULTS_INDEX = np.argmax(RESULTS)\n",
    "        TG = LABELS[RESULTS_INDEX]\n",
    "\n",
    "        for TGS in DATA[\"intents\"]:\n",
    "            if TGS['tag'] == TG:\n",
    "                RESPONSES = TGS['responses']\n",
    "\n",
    "        print(random.choice(RESPONSES))"
   ]
  },
  {
   "cell_type": "code",
   "execution_count": 110,
   "id": "544e19b2",
   "metadata": {},
   "outputs": [
    {
     "name": "stdout",
     "output_type": "stream",
     "text": [
      "Welcome, Start talking with the bot (type quit to stop)!\n",
      "You: hi\n",
      "Hello! how can i help you ?\n",
      "You: GREAT LEARNING\n",
      "Hello! how can i help you ?\n",
      "You: need to learn about COMPuter ViSiOn\n",
      "Link: Neural Nets wiki\n",
      "You: MAChinE LEarNiNg\n",
      "Link: Machine Learning wiki \n",
      "You: need more help\n",
      "I hope I was able to assist you, Good Bye\n",
      "You: not satisfied with the help\n",
      "Tarnsferring the request to your PM\n",
      "You: thanks. take me to olypus\n",
      "I hope I was able to assist you, Good Bye\n",
      "You: thanks take me to olympus\n",
      "Tarnsferring the request to your PM\n",
      "You: what the hell\n",
      "Please use respectful words\n",
      "You: you are not smart\n",
      "I am your virtual learning assistant\n",
      "You: i know it\n",
      "Hello! how can i help you ?\n",
      "You: you are not helping me\n",
      "I am your virtual learning assistant\n",
      "You: i hate you\n",
      "Please use respectful words\n",
      "You: i never disrespected you\n",
      "I hope I was able to assist you, Good Bye\n",
      "You: no you are not able to assist\n",
      "Tarnsferring the request to your PM\n",
      "You: I think I have to add more data to your file to make you more interactive\n",
      "Hello! how can i help you ?\n",
      "You: it's you who need the help\n",
      "I am your virtual learning assistant\n",
      "You: yes, still you are virtual and i am real\n",
      "I hope I was able to assist you, Good Bye\n",
      "You: no you are not\n",
      "Tarnsferring the request to your PM\n",
      "You: okay bye\n",
      "Hello! how can i help you ?\n",
      "You: i said ye\n",
      "Hello! how can i help you ?\n",
      "You: i said bye\n",
      "Hello! how can i help you ?\n",
      "You: okay. GOOD BYE\n",
      "Please use respectful words\n",
      "You: OKAY. GOODBYE\n",
      "I hope I was able to assist you, Good Bye\n",
      "You: quit\n"
     ]
    }
   ],
   "source": [
    "CHATBOT_FUNC()"
   ]
  },
  {
   "cell_type": "markdown",
   "id": "eb63e329",
   "metadata": {},
   "source": [
    "                                        *** END OF NLP PROJECT 1 ***\n",
    "                                                *** THANKS ***"
   ]
  }
 ],
 "metadata": {
  "kernelspec": {
   "display_name": "Python 3 (ipykernel)",
   "language": "python",
   "name": "python3"
  },
  "language_info": {
   "codemirror_mode": {
    "name": "ipython",
    "version": 3
   },
   "file_extension": ".py",
   "mimetype": "text/x-python",
   "name": "python",
   "nbconvert_exporter": "python",
   "pygments_lexer": "ipython3",
   "version": "3.9.12"
  }
 },
 "nbformat": 4,
 "nbformat_minor": 5
}
