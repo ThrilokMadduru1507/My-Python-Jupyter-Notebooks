{
 "cells": [
  {
   "cell_type": "markdown",
   "metadata": {
    "id": "700acefd-8120-42a9-a650-c610467e2a4c"
   },
   "source": [
    "# Activity: Build a random forest model"
   ]
  },
  {
   "cell_type": "markdown",
   "metadata": {
    "id": "167f3ab7"
   },
   "source": [
    "## **Introduction**\n",
    "\n",
    "\n",
    "As you're learning, random forests are popular statistical learning algorithms. Some of their primary benefits include reducing variance, bias, and the chance of overfitting.\n",
    "\n",
    "This activity is a continuation of the project you began modeling with decision trees for an airline. Here, you will train, tune, and evaluate a random forest model using data from spreadsheet of survey responses from 129,880 customers. It includes data points such as class, flight distance, and inflight entertainment. Your random forest model will be used to predict whether a customer will be satisfied with their flight experience.\n",
    "\n",
    "**Note:** Because this lab uses a real dataset, this notebook first requires exploratory data analysis, data cleaning, and other manipulations to prepare it for modeling."
   ]
  },
  {
   "cell_type": "markdown",
   "metadata": {
    "id": "b42252b9-b980-4ee0-8cfd-82f4239b6d1a"
   },
   "source": [
    "## **Step 1: Imports** \n"
   ]
  },
  {
   "cell_type": "markdown",
   "metadata": {
    "id": "jwVaqXCywHpx"
   },
   "source": [
    "Import relevant Python libraries and modules, including `numpy` and `pandas`libraries for data processing; the `pickle` package to save the model; and the `sklearn` library, containing:\n",
    "- The module `ensemble`, which has the function `RandomForestClassifier`\n",
    "- The module `model_selection`, which has the functions `train_test_split`, `PredefinedSplit`, and `GridSearchCV` \n",
    "- The module `metrics`, which has the functions `f1_score`, `precision_score`, `recall_score`, and `accuracy_score`\n"
   ]
  },
  {
   "cell_type": "code",
   "execution_count": 1,
   "metadata": {
    "id": "ebc64d8b"
   },
   "outputs": [],
   "source": [
    "# Import `numpy`, `pandas`, `pickle`, and `sklearn`.\n",
    "# Import the relevant functions from `sklearn.ensemble`, `sklearn.model_selection`, and `sklearn.metrics`.\n",
    "\n",
    "### YOUR CODE HERE ###\n",
    " \n",
    "import numpy as np\n",
    "import pandas as pd\n",
    "\n",
    "import pickle as pkl\n",
    " \n",
    "from sklearn.ensemble import RandomForestClassifier\n",
    "from sklearn.model_selection import train_test_split, PredefinedSplit, GridSearchCV\n",
    "from sklearn.metrics import f1_score, precision_score, recall_score, accuracy_score"
   ]
  },
  {
   "cell_type": "markdown",
   "metadata": {
    "id": "B6msd7EKhg3X"
   },
   "source": [
    "As shown in this cell, the dataset has been automatically loaded in for you. You do not need to download the .csv file, or provide more code, in order to access the dataset and proceed with this lab. Please continue with this activity by completing the following instructions."
   ]
  },
  {
   "cell_type": "code",
   "execution_count": 2,
   "metadata": {
    "id": "ZvRXUsRChmtg"
   },
   "outputs": [],
   "source": [
    "# RUN THIS CELL TO IMPORT YOUR DATA. \n",
    "\n",
    "### YOUR CODE HERE ###\n",
    "\n",
    "air_data = pd.read_csv(\"Invistico_Airline.csv\")"
   ]
  },
  {
   "cell_type": "markdown",
   "metadata": {
    "id": "kRC0c_6M3ruN"
   },
   "source": [
    "<details>\n",
    "  <summary><h4><strong>Hint 1</strong></h4></summary>\n",
    "\n",
    "The `read_csv()` function from the `pandas` library can be helpful here.\n",
    " \n",
    "</details>"
   ]
  },
  {
   "cell_type": "markdown",
   "metadata": {
    "id": "pUvhnNqmvnXP"
   },
   "source": [
    "Now, you're ready to begin cleaning your data. "
   ]
  },
  {
   "cell_type": "markdown",
   "metadata": {
    "id": "7ac7573d"
   },
   "source": [
    "## **Step 2: Data cleaning** "
   ]
  },
  {
   "cell_type": "markdown",
   "metadata": {
    "id": "555658e4"
   },
   "source": [
    "To get a sense of the data, display the first 10 rows."
   ]
  },
  {
   "cell_type": "code",
   "execution_count": 4,
   "metadata": {
    "id": "cda01022"
   },
   "outputs": [
    {
     "data": {
      "text/html": [
       "<style type=\"text/css\">\n",
       "#T_3aa33_row0_col0, #T_3aa33_row0_col1, #T_3aa33_row0_col2, #T_3aa33_row0_col3, #T_3aa33_row0_col4, #T_3aa33_row0_col5, #T_3aa33_row0_col6, #T_3aa33_row0_col7, #T_3aa33_row0_col8, #T_3aa33_row0_col9, #T_3aa33_row0_col10, #T_3aa33_row0_col11, #T_3aa33_row0_col12, #T_3aa33_row0_col13, #T_3aa33_row0_col14, #T_3aa33_row0_col15, #T_3aa33_row0_col16, #T_3aa33_row0_col17, #T_3aa33_row0_col18, #T_3aa33_row0_col19, #T_3aa33_row0_col20, #T_3aa33_row0_col21, #T_3aa33_row1_col0, #T_3aa33_row1_col1, #T_3aa33_row1_col2, #T_3aa33_row1_col3, #T_3aa33_row1_col4, #T_3aa33_row1_col5, #T_3aa33_row1_col6, #T_3aa33_row1_col7, #T_3aa33_row1_col8, #T_3aa33_row1_col9, #T_3aa33_row1_col10, #T_3aa33_row1_col11, #T_3aa33_row1_col12, #T_3aa33_row1_col13, #T_3aa33_row1_col14, #T_3aa33_row1_col15, #T_3aa33_row1_col16, #T_3aa33_row1_col17, #T_3aa33_row1_col18, #T_3aa33_row1_col19, #T_3aa33_row1_col20, #T_3aa33_row1_col21, #T_3aa33_row2_col0, #T_3aa33_row2_col1, #T_3aa33_row2_col2, #T_3aa33_row2_col3, #T_3aa33_row2_col4, #T_3aa33_row2_col5, #T_3aa33_row2_col6, #T_3aa33_row2_col7, #T_3aa33_row2_col8, #T_3aa33_row2_col9, #T_3aa33_row2_col10, #T_3aa33_row2_col11, #T_3aa33_row2_col12, #T_3aa33_row2_col13, #T_3aa33_row2_col14, #T_3aa33_row2_col15, #T_3aa33_row2_col16, #T_3aa33_row2_col17, #T_3aa33_row2_col18, #T_3aa33_row2_col19, #T_3aa33_row2_col20, #T_3aa33_row2_col21, #T_3aa33_row3_col0, #T_3aa33_row3_col1, #T_3aa33_row3_col2, #T_3aa33_row3_col3, #T_3aa33_row3_col4, #T_3aa33_row3_col5, #T_3aa33_row3_col6, #T_3aa33_row3_col7, #T_3aa33_row3_col8, #T_3aa33_row3_col9, #T_3aa33_row3_col10, #T_3aa33_row3_col11, #T_3aa33_row3_col12, #T_3aa33_row3_col13, #T_3aa33_row3_col14, #T_3aa33_row3_col15, #T_3aa33_row3_col16, #T_3aa33_row3_col17, #T_3aa33_row3_col18, #T_3aa33_row3_col19, #T_3aa33_row3_col20, #T_3aa33_row3_col21, #T_3aa33_row4_col0, #T_3aa33_row4_col1, #T_3aa33_row4_col2, #T_3aa33_row4_col3, #T_3aa33_row4_col4, #T_3aa33_row4_col5, #T_3aa33_row4_col6, #T_3aa33_row4_col7, #T_3aa33_row4_col8, #T_3aa33_row4_col9, #T_3aa33_row4_col10, #T_3aa33_row4_col11, #T_3aa33_row4_col12, #T_3aa33_row4_col13, #T_3aa33_row4_col14, #T_3aa33_row4_col15, #T_3aa33_row4_col16, #T_3aa33_row4_col17, #T_3aa33_row4_col18, #T_3aa33_row4_col19, #T_3aa33_row4_col20, #T_3aa33_row4_col21, #T_3aa33_row5_col0, #T_3aa33_row5_col1, #T_3aa33_row5_col2, #T_3aa33_row5_col3, #T_3aa33_row5_col4, #T_3aa33_row5_col5, #T_3aa33_row5_col6, #T_3aa33_row5_col7, #T_3aa33_row5_col8, #T_3aa33_row5_col9, #T_3aa33_row5_col10, #T_3aa33_row5_col11, #T_3aa33_row5_col12, #T_3aa33_row5_col13, #T_3aa33_row5_col14, #T_3aa33_row5_col15, #T_3aa33_row5_col16, #T_3aa33_row5_col17, #T_3aa33_row5_col18, #T_3aa33_row5_col19, #T_3aa33_row5_col20, #T_3aa33_row5_col21, #T_3aa33_row6_col0, #T_3aa33_row6_col1, #T_3aa33_row6_col2, #T_3aa33_row6_col3, #T_3aa33_row6_col4, #T_3aa33_row6_col5, #T_3aa33_row6_col6, #T_3aa33_row6_col7, #T_3aa33_row6_col8, #T_3aa33_row6_col9, #T_3aa33_row6_col10, #T_3aa33_row6_col11, #T_3aa33_row6_col12, #T_3aa33_row6_col13, #T_3aa33_row6_col14, #T_3aa33_row6_col15, #T_3aa33_row6_col16, #T_3aa33_row6_col17, #T_3aa33_row6_col18, #T_3aa33_row6_col19, #T_3aa33_row6_col20, #T_3aa33_row6_col21, #T_3aa33_row7_col0, #T_3aa33_row7_col1, #T_3aa33_row7_col2, #T_3aa33_row7_col3, #T_3aa33_row7_col4, #T_3aa33_row7_col5, #T_3aa33_row7_col6, #T_3aa33_row7_col7, #T_3aa33_row7_col8, #T_3aa33_row7_col9, #T_3aa33_row7_col10, #T_3aa33_row7_col11, #T_3aa33_row7_col12, #T_3aa33_row7_col13, #T_3aa33_row7_col14, #T_3aa33_row7_col15, #T_3aa33_row7_col16, #T_3aa33_row7_col17, #T_3aa33_row7_col18, #T_3aa33_row7_col19, #T_3aa33_row7_col20, #T_3aa33_row7_col21, #T_3aa33_row8_col0, #T_3aa33_row8_col1, #T_3aa33_row8_col2, #T_3aa33_row8_col3, #T_3aa33_row8_col4, #T_3aa33_row8_col5, #T_3aa33_row8_col6, #T_3aa33_row8_col7, #T_3aa33_row8_col8, #T_3aa33_row8_col9, #T_3aa33_row8_col10, #T_3aa33_row8_col11, #T_3aa33_row8_col12, #T_3aa33_row8_col13, #T_3aa33_row8_col14, #T_3aa33_row8_col15, #T_3aa33_row8_col16, #T_3aa33_row8_col17, #T_3aa33_row8_col18, #T_3aa33_row8_col19, #T_3aa33_row8_col20, #T_3aa33_row8_col21, #T_3aa33_row9_col0, #T_3aa33_row9_col1, #T_3aa33_row9_col2, #T_3aa33_row9_col3, #T_3aa33_row9_col4, #T_3aa33_row9_col5, #T_3aa33_row9_col6, #T_3aa33_row9_col7, #T_3aa33_row9_col8, #T_3aa33_row9_col9, #T_3aa33_row9_col10, #T_3aa33_row9_col11, #T_3aa33_row9_col12, #T_3aa33_row9_col13, #T_3aa33_row9_col14, #T_3aa33_row9_col15, #T_3aa33_row9_col16, #T_3aa33_row9_col17, #T_3aa33_row9_col18, #T_3aa33_row9_col19, #T_3aa33_row9_col20, #T_3aa33_row9_col21 {\n",
       "  border: 1.3px solid black;\n",
       "  color: blue;\n",
       "}\n",
       "</style>\n",
       "<table id=\"T_3aa33_\">\n",
       "  <thead>\n",
       "    <tr>\n",
       "      <th class=\"blank level0\" >&nbsp;</th>\n",
       "      <th class=\"col_heading level0 col0\" >satisfaction</th>\n",
       "      <th class=\"col_heading level0 col1\" >Customer Type</th>\n",
       "      <th class=\"col_heading level0 col2\" >Age</th>\n",
       "      <th class=\"col_heading level0 col3\" >Type of Travel</th>\n",
       "      <th class=\"col_heading level0 col4\" >Class</th>\n",
       "      <th class=\"col_heading level0 col5\" >Flight Distance</th>\n",
       "      <th class=\"col_heading level0 col6\" >Seat comfort</th>\n",
       "      <th class=\"col_heading level0 col7\" >Departure/Arrival time convenient</th>\n",
       "      <th class=\"col_heading level0 col8\" >Food and drink</th>\n",
       "      <th class=\"col_heading level0 col9\" >Gate location</th>\n",
       "      <th class=\"col_heading level0 col10\" >Inflight wifi service</th>\n",
       "      <th class=\"col_heading level0 col11\" >Inflight entertainment</th>\n",
       "      <th class=\"col_heading level0 col12\" >Online support</th>\n",
       "      <th class=\"col_heading level0 col13\" >Ease of Online booking</th>\n",
       "      <th class=\"col_heading level0 col14\" >On-board service</th>\n",
       "      <th class=\"col_heading level0 col15\" >Leg room service</th>\n",
       "      <th class=\"col_heading level0 col16\" >Baggage handling</th>\n",
       "      <th class=\"col_heading level0 col17\" >Checkin service</th>\n",
       "      <th class=\"col_heading level0 col18\" >Cleanliness</th>\n",
       "      <th class=\"col_heading level0 col19\" >Online boarding</th>\n",
       "      <th class=\"col_heading level0 col20\" >Departure Delay in Minutes</th>\n",
       "      <th class=\"col_heading level0 col21\" >Arrival Delay in Minutes</th>\n",
       "    </tr>\n",
       "  </thead>\n",
       "  <tbody>\n",
       "    <tr>\n",
       "      <th id=\"T_3aa33_level0_row0\" class=\"row_heading level0 row0\" >0</th>\n",
       "      <td id=\"T_3aa33_row0_col0\" class=\"data row0 col0\" >satisfied</td>\n",
       "      <td id=\"T_3aa33_row0_col1\" class=\"data row0 col1\" >Loyal Customer</td>\n",
       "      <td id=\"T_3aa33_row0_col2\" class=\"data row0 col2\" >65</td>\n",
       "      <td id=\"T_3aa33_row0_col3\" class=\"data row0 col3\" >Personal Travel</td>\n",
       "      <td id=\"T_3aa33_row0_col4\" class=\"data row0 col4\" >Eco</td>\n",
       "      <td id=\"T_3aa33_row0_col5\" class=\"data row0 col5\" >265</td>\n",
       "      <td id=\"T_3aa33_row0_col6\" class=\"data row0 col6\" >0</td>\n",
       "      <td id=\"T_3aa33_row0_col7\" class=\"data row0 col7\" >0</td>\n",
       "      <td id=\"T_3aa33_row0_col8\" class=\"data row0 col8\" >0</td>\n",
       "      <td id=\"T_3aa33_row0_col9\" class=\"data row0 col9\" >2</td>\n",
       "      <td id=\"T_3aa33_row0_col10\" class=\"data row0 col10\" >2</td>\n",
       "      <td id=\"T_3aa33_row0_col11\" class=\"data row0 col11\" >4</td>\n",
       "      <td id=\"T_3aa33_row0_col12\" class=\"data row0 col12\" >2</td>\n",
       "      <td id=\"T_3aa33_row0_col13\" class=\"data row0 col13\" >3</td>\n",
       "      <td id=\"T_3aa33_row0_col14\" class=\"data row0 col14\" >3</td>\n",
       "      <td id=\"T_3aa33_row0_col15\" class=\"data row0 col15\" >0</td>\n",
       "      <td id=\"T_3aa33_row0_col16\" class=\"data row0 col16\" >3</td>\n",
       "      <td id=\"T_3aa33_row0_col17\" class=\"data row0 col17\" >5</td>\n",
       "      <td id=\"T_3aa33_row0_col18\" class=\"data row0 col18\" >3</td>\n",
       "      <td id=\"T_3aa33_row0_col19\" class=\"data row0 col19\" >2</td>\n",
       "      <td id=\"T_3aa33_row0_col20\" class=\"data row0 col20\" >0</td>\n",
       "      <td id=\"T_3aa33_row0_col21\" class=\"data row0 col21\" >0.000000</td>\n",
       "    </tr>\n",
       "    <tr>\n",
       "      <th id=\"T_3aa33_level0_row1\" class=\"row_heading level0 row1\" >1</th>\n",
       "      <td id=\"T_3aa33_row1_col0\" class=\"data row1 col0\" >satisfied</td>\n",
       "      <td id=\"T_3aa33_row1_col1\" class=\"data row1 col1\" >Loyal Customer</td>\n",
       "      <td id=\"T_3aa33_row1_col2\" class=\"data row1 col2\" >47</td>\n",
       "      <td id=\"T_3aa33_row1_col3\" class=\"data row1 col3\" >Personal Travel</td>\n",
       "      <td id=\"T_3aa33_row1_col4\" class=\"data row1 col4\" >Business</td>\n",
       "      <td id=\"T_3aa33_row1_col5\" class=\"data row1 col5\" >2464</td>\n",
       "      <td id=\"T_3aa33_row1_col6\" class=\"data row1 col6\" >0</td>\n",
       "      <td id=\"T_3aa33_row1_col7\" class=\"data row1 col7\" >0</td>\n",
       "      <td id=\"T_3aa33_row1_col8\" class=\"data row1 col8\" >0</td>\n",
       "      <td id=\"T_3aa33_row1_col9\" class=\"data row1 col9\" >3</td>\n",
       "      <td id=\"T_3aa33_row1_col10\" class=\"data row1 col10\" >0</td>\n",
       "      <td id=\"T_3aa33_row1_col11\" class=\"data row1 col11\" >2</td>\n",
       "      <td id=\"T_3aa33_row1_col12\" class=\"data row1 col12\" >2</td>\n",
       "      <td id=\"T_3aa33_row1_col13\" class=\"data row1 col13\" >3</td>\n",
       "      <td id=\"T_3aa33_row1_col14\" class=\"data row1 col14\" >4</td>\n",
       "      <td id=\"T_3aa33_row1_col15\" class=\"data row1 col15\" >4</td>\n",
       "      <td id=\"T_3aa33_row1_col16\" class=\"data row1 col16\" >4</td>\n",
       "      <td id=\"T_3aa33_row1_col17\" class=\"data row1 col17\" >2</td>\n",
       "      <td id=\"T_3aa33_row1_col18\" class=\"data row1 col18\" >3</td>\n",
       "      <td id=\"T_3aa33_row1_col19\" class=\"data row1 col19\" >2</td>\n",
       "      <td id=\"T_3aa33_row1_col20\" class=\"data row1 col20\" >310</td>\n",
       "      <td id=\"T_3aa33_row1_col21\" class=\"data row1 col21\" >305.000000</td>\n",
       "    </tr>\n",
       "    <tr>\n",
       "      <th id=\"T_3aa33_level0_row2\" class=\"row_heading level0 row2\" >2</th>\n",
       "      <td id=\"T_3aa33_row2_col0\" class=\"data row2 col0\" >satisfied</td>\n",
       "      <td id=\"T_3aa33_row2_col1\" class=\"data row2 col1\" >Loyal Customer</td>\n",
       "      <td id=\"T_3aa33_row2_col2\" class=\"data row2 col2\" >15</td>\n",
       "      <td id=\"T_3aa33_row2_col3\" class=\"data row2 col3\" >Personal Travel</td>\n",
       "      <td id=\"T_3aa33_row2_col4\" class=\"data row2 col4\" >Eco</td>\n",
       "      <td id=\"T_3aa33_row2_col5\" class=\"data row2 col5\" >2138</td>\n",
       "      <td id=\"T_3aa33_row2_col6\" class=\"data row2 col6\" >0</td>\n",
       "      <td id=\"T_3aa33_row2_col7\" class=\"data row2 col7\" >0</td>\n",
       "      <td id=\"T_3aa33_row2_col8\" class=\"data row2 col8\" >0</td>\n",
       "      <td id=\"T_3aa33_row2_col9\" class=\"data row2 col9\" >3</td>\n",
       "      <td id=\"T_3aa33_row2_col10\" class=\"data row2 col10\" >2</td>\n",
       "      <td id=\"T_3aa33_row2_col11\" class=\"data row2 col11\" >0</td>\n",
       "      <td id=\"T_3aa33_row2_col12\" class=\"data row2 col12\" >2</td>\n",
       "      <td id=\"T_3aa33_row2_col13\" class=\"data row2 col13\" >2</td>\n",
       "      <td id=\"T_3aa33_row2_col14\" class=\"data row2 col14\" >3</td>\n",
       "      <td id=\"T_3aa33_row2_col15\" class=\"data row2 col15\" >3</td>\n",
       "      <td id=\"T_3aa33_row2_col16\" class=\"data row2 col16\" >4</td>\n",
       "      <td id=\"T_3aa33_row2_col17\" class=\"data row2 col17\" >4</td>\n",
       "      <td id=\"T_3aa33_row2_col18\" class=\"data row2 col18\" >4</td>\n",
       "      <td id=\"T_3aa33_row2_col19\" class=\"data row2 col19\" >2</td>\n",
       "      <td id=\"T_3aa33_row2_col20\" class=\"data row2 col20\" >0</td>\n",
       "      <td id=\"T_3aa33_row2_col21\" class=\"data row2 col21\" >0.000000</td>\n",
       "    </tr>\n",
       "    <tr>\n",
       "      <th id=\"T_3aa33_level0_row3\" class=\"row_heading level0 row3\" >3</th>\n",
       "      <td id=\"T_3aa33_row3_col0\" class=\"data row3 col0\" >satisfied</td>\n",
       "      <td id=\"T_3aa33_row3_col1\" class=\"data row3 col1\" >Loyal Customer</td>\n",
       "      <td id=\"T_3aa33_row3_col2\" class=\"data row3 col2\" >60</td>\n",
       "      <td id=\"T_3aa33_row3_col3\" class=\"data row3 col3\" >Personal Travel</td>\n",
       "      <td id=\"T_3aa33_row3_col4\" class=\"data row3 col4\" >Eco</td>\n",
       "      <td id=\"T_3aa33_row3_col5\" class=\"data row3 col5\" >623</td>\n",
       "      <td id=\"T_3aa33_row3_col6\" class=\"data row3 col6\" >0</td>\n",
       "      <td id=\"T_3aa33_row3_col7\" class=\"data row3 col7\" >0</td>\n",
       "      <td id=\"T_3aa33_row3_col8\" class=\"data row3 col8\" >0</td>\n",
       "      <td id=\"T_3aa33_row3_col9\" class=\"data row3 col9\" >3</td>\n",
       "      <td id=\"T_3aa33_row3_col10\" class=\"data row3 col10\" >3</td>\n",
       "      <td id=\"T_3aa33_row3_col11\" class=\"data row3 col11\" >4</td>\n",
       "      <td id=\"T_3aa33_row3_col12\" class=\"data row3 col12\" >3</td>\n",
       "      <td id=\"T_3aa33_row3_col13\" class=\"data row3 col13\" >1</td>\n",
       "      <td id=\"T_3aa33_row3_col14\" class=\"data row3 col14\" >1</td>\n",
       "      <td id=\"T_3aa33_row3_col15\" class=\"data row3 col15\" >0</td>\n",
       "      <td id=\"T_3aa33_row3_col16\" class=\"data row3 col16\" >1</td>\n",
       "      <td id=\"T_3aa33_row3_col17\" class=\"data row3 col17\" >4</td>\n",
       "      <td id=\"T_3aa33_row3_col18\" class=\"data row3 col18\" >1</td>\n",
       "      <td id=\"T_3aa33_row3_col19\" class=\"data row3 col19\" >3</td>\n",
       "      <td id=\"T_3aa33_row3_col20\" class=\"data row3 col20\" >0</td>\n",
       "      <td id=\"T_3aa33_row3_col21\" class=\"data row3 col21\" >0.000000</td>\n",
       "    </tr>\n",
       "    <tr>\n",
       "      <th id=\"T_3aa33_level0_row4\" class=\"row_heading level0 row4\" >4</th>\n",
       "      <td id=\"T_3aa33_row4_col0\" class=\"data row4 col0\" >satisfied</td>\n",
       "      <td id=\"T_3aa33_row4_col1\" class=\"data row4 col1\" >Loyal Customer</td>\n",
       "      <td id=\"T_3aa33_row4_col2\" class=\"data row4 col2\" >70</td>\n",
       "      <td id=\"T_3aa33_row4_col3\" class=\"data row4 col3\" >Personal Travel</td>\n",
       "      <td id=\"T_3aa33_row4_col4\" class=\"data row4 col4\" >Eco</td>\n",
       "      <td id=\"T_3aa33_row4_col5\" class=\"data row4 col5\" >354</td>\n",
       "      <td id=\"T_3aa33_row4_col6\" class=\"data row4 col6\" >0</td>\n",
       "      <td id=\"T_3aa33_row4_col7\" class=\"data row4 col7\" >0</td>\n",
       "      <td id=\"T_3aa33_row4_col8\" class=\"data row4 col8\" >0</td>\n",
       "      <td id=\"T_3aa33_row4_col9\" class=\"data row4 col9\" >3</td>\n",
       "      <td id=\"T_3aa33_row4_col10\" class=\"data row4 col10\" >4</td>\n",
       "      <td id=\"T_3aa33_row4_col11\" class=\"data row4 col11\" >3</td>\n",
       "      <td id=\"T_3aa33_row4_col12\" class=\"data row4 col12\" >4</td>\n",
       "      <td id=\"T_3aa33_row4_col13\" class=\"data row4 col13\" >2</td>\n",
       "      <td id=\"T_3aa33_row4_col14\" class=\"data row4 col14\" >2</td>\n",
       "      <td id=\"T_3aa33_row4_col15\" class=\"data row4 col15\" >0</td>\n",
       "      <td id=\"T_3aa33_row4_col16\" class=\"data row4 col16\" >2</td>\n",
       "      <td id=\"T_3aa33_row4_col17\" class=\"data row4 col17\" >4</td>\n",
       "      <td id=\"T_3aa33_row4_col18\" class=\"data row4 col18\" >2</td>\n",
       "      <td id=\"T_3aa33_row4_col19\" class=\"data row4 col19\" >5</td>\n",
       "      <td id=\"T_3aa33_row4_col20\" class=\"data row4 col20\" >0</td>\n",
       "      <td id=\"T_3aa33_row4_col21\" class=\"data row4 col21\" >0.000000</td>\n",
       "    </tr>\n",
       "    <tr>\n",
       "      <th id=\"T_3aa33_level0_row5\" class=\"row_heading level0 row5\" >5</th>\n",
       "      <td id=\"T_3aa33_row5_col0\" class=\"data row5 col0\" >satisfied</td>\n",
       "      <td id=\"T_3aa33_row5_col1\" class=\"data row5 col1\" >Loyal Customer</td>\n",
       "      <td id=\"T_3aa33_row5_col2\" class=\"data row5 col2\" >30</td>\n",
       "      <td id=\"T_3aa33_row5_col3\" class=\"data row5 col3\" >Personal Travel</td>\n",
       "      <td id=\"T_3aa33_row5_col4\" class=\"data row5 col4\" >Eco</td>\n",
       "      <td id=\"T_3aa33_row5_col5\" class=\"data row5 col5\" >1894</td>\n",
       "      <td id=\"T_3aa33_row5_col6\" class=\"data row5 col6\" >0</td>\n",
       "      <td id=\"T_3aa33_row5_col7\" class=\"data row5 col7\" >0</td>\n",
       "      <td id=\"T_3aa33_row5_col8\" class=\"data row5 col8\" >0</td>\n",
       "      <td id=\"T_3aa33_row5_col9\" class=\"data row5 col9\" >3</td>\n",
       "      <td id=\"T_3aa33_row5_col10\" class=\"data row5 col10\" >2</td>\n",
       "      <td id=\"T_3aa33_row5_col11\" class=\"data row5 col11\" >0</td>\n",
       "      <td id=\"T_3aa33_row5_col12\" class=\"data row5 col12\" >2</td>\n",
       "      <td id=\"T_3aa33_row5_col13\" class=\"data row5 col13\" >2</td>\n",
       "      <td id=\"T_3aa33_row5_col14\" class=\"data row5 col14\" >5</td>\n",
       "      <td id=\"T_3aa33_row5_col15\" class=\"data row5 col15\" >4</td>\n",
       "      <td id=\"T_3aa33_row5_col16\" class=\"data row5 col16\" >5</td>\n",
       "      <td id=\"T_3aa33_row5_col17\" class=\"data row5 col17\" >5</td>\n",
       "      <td id=\"T_3aa33_row5_col18\" class=\"data row5 col18\" >4</td>\n",
       "      <td id=\"T_3aa33_row5_col19\" class=\"data row5 col19\" >2</td>\n",
       "      <td id=\"T_3aa33_row5_col20\" class=\"data row5 col20\" >0</td>\n",
       "      <td id=\"T_3aa33_row5_col21\" class=\"data row5 col21\" >0.000000</td>\n",
       "    </tr>\n",
       "    <tr>\n",
       "      <th id=\"T_3aa33_level0_row6\" class=\"row_heading level0 row6\" >6</th>\n",
       "      <td id=\"T_3aa33_row6_col0\" class=\"data row6 col0\" >satisfied</td>\n",
       "      <td id=\"T_3aa33_row6_col1\" class=\"data row6 col1\" >Loyal Customer</td>\n",
       "      <td id=\"T_3aa33_row6_col2\" class=\"data row6 col2\" >66</td>\n",
       "      <td id=\"T_3aa33_row6_col3\" class=\"data row6 col3\" >Personal Travel</td>\n",
       "      <td id=\"T_3aa33_row6_col4\" class=\"data row6 col4\" >Eco</td>\n",
       "      <td id=\"T_3aa33_row6_col5\" class=\"data row6 col5\" >227</td>\n",
       "      <td id=\"T_3aa33_row6_col6\" class=\"data row6 col6\" >0</td>\n",
       "      <td id=\"T_3aa33_row6_col7\" class=\"data row6 col7\" >0</td>\n",
       "      <td id=\"T_3aa33_row6_col8\" class=\"data row6 col8\" >0</td>\n",
       "      <td id=\"T_3aa33_row6_col9\" class=\"data row6 col9\" >3</td>\n",
       "      <td id=\"T_3aa33_row6_col10\" class=\"data row6 col10\" >2</td>\n",
       "      <td id=\"T_3aa33_row6_col11\" class=\"data row6 col11\" >5</td>\n",
       "      <td id=\"T_3aa33_row6_col12\" class=\"data row6 col12\" >5</td>\n",
       "      <td id=\"T_3aa33_row6_col13\" class=\"data row6 col13\" >5</td>\n",
       "      <td id=\"T_3aa33_row6_col14\" class=\"data row6 col14\" >5</td>\n",
       "      <td id=\"T_3aa33_row6_col15\" class=\"data row6 col15\" >0</td>\n",
       "      <td id=\"T_3aa33_row6_col16\" class=\"data row6 col16\" >5</td>\n",
       "      <td id=\"T_3aa33_row6_col17\" class=\"data row6 col17\" >5</td>\n",
       "      <td id=\"T_3aa33_row6_col18\" class=\"data row6 col18\" >5</td>\n",
       "      <td id=\"T_3aa33_row6_col19\" class=\"data row6 col19\" >3</td>\n",
       "      <td id=\"T_3aa33_row6_col20\" class=\"data row6 col20\" >17</td>\n",
       "      <td id=\"T_3aa33_row6_col21\" class=\"data row6 col21\" >15.000000</td>\n",
       "    </tr>\n",
       "    <tr>\n",
       "      <th id=\"T_3aa33_level0_row7\" class=\"row_heading level0 row7\" >7</th>\n",
       "      <td id=\"T_3aa33_row7_col0\" class=\"data row7 col0\" >satisfied</td>\n",
       "      <td id=\"T_3aa33_row7_col1\" class=\"data row7 col1\" >Loyal Customer</td>\n",
       "      <td id=\"T_3aa33_row7_col2\" class=\"data row7 col2\" >10</td>\n",
       "      <td id=\"T_3aa33_row7_col3\" class=\"data row7 col3\" >Personal Travel</td>\n",
       "      <td id=\"T_3aa33_row7_col4\" class=\"data row7 col4\" >Eco</td>\n",
       "      <td id=\"T_3aa33_row7_col5\" class=\"data row7 col5\" >1812</td>\n",
       "      <td id=\"T_3aa33_row7_col6\" class=\"data row7 col6\" >0</td>\n",
       "      <td id=\"T_3aa33_row7_col7\" class=\"data row7 col7\" >0</td>\n",
       "      <td id=\"T_3aa33_row7_col8\" class=\"data row7 col8\" >0</td>\n",
       "      <td id=\"T_3aa33_row7_col9\" class=\"data row7 col9\" >3</td>\n",
       "      <td id=\"T_3aa33_row7_col10\" class=\"data row7 col10\" >2</td>\n",
       "      <td id=\"T_3aa33_row7_col11\" class=\"data row7 col11\" >0</td>\n",
       "      <td id=\"T_3aa33_row7_col12\" class=\"data row7 col12\" >2</td>\n",
       "      <td id=\"T_3aa33_row7_col13\" class=\"data row7 col13\" >2</td>\n",
       "      <td id=\"T_3aa33_row7_col14\" class=\"data row7 col14\" >3</td>\n",
       "      <td id=\"T_3aa33_row7_col15\" class=\"data row7 col15\" >3</td>\n",
       "      <td id=\"T_3aa33_row7_col16\" class=\"data row7 col16\" >4</td>\n",
       "      <td id=\"T_3aa33_row7_col17\" class=\"data row7 col17\" >5</td>\n",
       "      <td id=\"T_3aa33_row7_col18\" class=\"data row7 col18\" >4</td>\n",
       "      <td id=\"T_3aa33_row7_col19\" class=\"data row7 col19\" >2</td>\n",
       "      <td id=\"T_3aa33_row7_col20\" class=\"data row7 col20\" >0</td>\n",
       "      <td id=\"T_3aa33_row7_col21\" class=\"data row7 col21\" >0.000000</td>\n",
       "    </tr>\n",
       "    <tr>\n",
       "      <th id=\"T_3aa33_level0_row8\" class=\"row_heading level0 row8\" >8</th>\n",
       "      <td id=\"T_3aa33_row8_col0\" class=\"data row8 col0\" >satisfied</td>\n",
       "      <td id=\"T_3aa33_row8_col1\" class=\"data row8 col1\" >Loyal Customer</td>\n",
       "      <td id=\"T_3aa33_row8_col2\" class=\"data row8 col2\" >56</td>\n",
       "      <td id=\"T_3aa33_row8_col3\" class=\"data row8 col3\" >Personal Travel</td>\n",
       "      <td id=\"T_3aa33_row8_col4\" class=\"data row8 col4\" >Business</td>\n",
       "      <td id=\"T_3aa33_row8_col5\" class=\"data row8 col5\" >73</td>\n",
       "      <td id=\"T_3aa33_row8_col6\" class=\"data row8 col6\" >0</td>\n",
       "      <td id=\"T_3aa33_row8_col7\" class=\"data row8 col7\" >0</td>\n",
       "      <td id=\"T_3aa33_row8_col8\" class=\"data row8 col8\" >0</td>\n",
       "      <td id=\"T_3aa33_row8_col9\" class=\"data row8 col9\" >3</td>\n",
       "      <td id=\"T_3aa33_row8_col10\" class=\"data row8 col10\" >5</td>\n",
       "      <td id=\"T_3aa33_row8_col11\" class=\"data row8 col11\" >3</td>\n",
       "      <td id=\"T_3aa33_row8_col12\" class=\"data row8 col12\" >5</td>\n",
       "      <td id=\"T_3aa33_row8_col13\" class=\"data row8 col13\" >4</td>\n",
       "      <td id=\"T_3aa33_row8_col14\" class=\"data row8 col14\" >4</td>\n",
       "      <td id=\"T_3aa33_row8_col15\" class=\"data row8 col15\" >0</td>\n",
       "      <td id=\"T_3aa33_row8_col16\" class=\"data row8 col16\" >1</td>\n",
       "      <td id=\"T_3aa33_row8_col17\" class=\"data row8 col17\" >5</td>\n",
       "      <td id=\"T_3aa33_row8_col18\" class=\"data row8 col18\" >4</td>\n",
       "      <td id=\"T_3aa33_row8_col19\" class=\"data row8 col19\" >4</td>\n",
       "      <td id=\"T_3aa33_row8_col20\" class=\"data row8 col20\" >0</td>\n",
       "      <td id=\"T_3aa33_row8_col21\" class=\"data row8 col21\" >0.000000</td>\n",
       "    </tr>\n",
       "    <tr>\n",
       "      <th id=\"T_3aa33_level0_row9\" class=\"row_heading level0 row9\" >9</th>\n",
       "      <td id=\"T_3aa33_row9_col0\" class=\"data row9 col0\" >satisfied</td>\n",
       "      <td id=\"T_3aa33_row9_col1\" class=\"data row9 col1\" >Loyal Customer</td>\n",
       "      <td id=\"T_3aa33_row9_col2\" class=\"data row9 col2\" >22</td>\n",
       "      <td id=\"T_3aa33_row9_col3\" class=\"data row9 col3\" >Personal Travel</td>\n",
       "      <td id=\"T_3aa33_row9_col4\" class=\"data row9 col4\" >Eco</td>\n",
       "      <td id=\"T_3aa33_row9_col5\" class=\"data row9 col5\" >1556</td>\n",
       "      <td id=\"T_3aa33_row9_col6\" class=\"data row9 col6\" >0</td>\n",
       "      <td id=\"T_3aa33_row9_col7\" class=\"data row9 col7\" >0</td>\n",
       "      <td id=\"T_3aa33_row9_col8\" class=\"data row9 col8\" >0</td>\n",
       "      <td id=\"T_3aa33_row9_col9\" class=\"data row9 col9\" >3</td>\n",
       "      <td id=\"T_3aa33_row9_col10\" class=\"data row9 col10\" >2</td>\n",
       "      <td id=\"T_3aa33_row9_col11\" class=\"data row9 col11\" >0</td>\n",
       "      <td id=\"T_3aa33_row9_col12\" class=\"data row9 col12\" >2</td>\n",
       "      <td id=\"T_3aa33_row9_col13\" class=\"data row9 col13\" >2</td>\n",
       "      <td id=\"T_3aa33_row9_col14\" class=\"data row9 col14\" >2</td>\n",
       "      <td id=\"T_3aa33_row9_col15\" class=\"data row9 col15\" >4</td>\n",
       "      <td id=\"T_3aa33_row9_col16\" class=\"data row9 col16\" >5</td>\n",
       "      <td id=\"T_3aa33_row9_col17\" class=\"data row9 col17\" >3</td>\n",
       "      <td id=\"T_3aa33_row9_col18\" class=\"data row9 col18\" >4</td>\n",
       "      <td id=\"T_3aa33_row9_col19\" class=\"data row9 col19\" >2</td>\n",
       "      <td id=\"T_3aa33_row9_col20\" class=\"data row9 col20\" >30</td>\n",
       "      <td id=\"T_3aa33_row9_col21\" class=\"data row9 col21\" >26.000000</td>\n",
       "    </tr>\n",
       "  </tbody>\n",
       "</table>\n"
      ],
      "text/plain": [
       "<pandas.io.formats.style.Styler at 0x7f42be2c58d0>"
      ]
     },
     "execution_count": 4,
     "metadata": {},
     "output_type": "execute_result"
    }
   ],
   "source": [
    "# Display first 10 rows.\n",
    "\n",
    "air_data.head(10).style.set_properties(**{'border': '1.3px solid black','color': 'blue'})"
   ]
  },
  {
   "cell_type": "markdown",
   "metadata": {
    "id": "E7IVcXx_3fFq"
   },
   "source": [
    "<details>\n",
    "  <summary><h4><strong>Hint 1</strong></h4></summary>\n",
    "\n",
    "The `head()` function from the `pandas` library can be helpful here.\n",
    " \n",
    "</details>"
   ]
  },
  {
   "cell_type": "markdown",
   "metadata": {
    "id": "8XnaSp-1bco5"
   },
   "source": [
    "Now, display the variable names and their data types. "
   ]
  },
  {
   "cell_type": "code",
   "execution_count": 5,
   "metadata": {
    "id": "yjTctqf_cZZk"
   },
   "outputs": [
    {
     "data": {
      "text/plain": [
       "satisfaction                          object\n",
       "Customer Type                         object\n",
       "Age                                    int64\n",
       "Type of Travel                        object\n",
       "Class                                 object\n",
       "Flight Distance                        int64\n",
       "Seat comfort                           int64\n",
       "Departure/Arrival time convenient      int64\n",
       "Food and drink                         int64\n",
       "Gate location                          int64\n",
       "Inflight wifi service                  int64\n",
       "Inflight entertainment                 int64\n",
       "Online support                         int64\n",
       "Ease of Online booking                 int64\n",
       "On-board service                       int64\n",
       "Leg room service                       int64\n",
       "Baggage handling                       int64\n",
       "Checkin service                        int64\n",
       "Cleanliness                            int64\n",
       "Online boarding                        int64\n",
       "Departure Delay in Minutes             int64\n",
       "Arrival Delay in Minutes             float64\n",
       "dtype: object"
      ]
     },
     "execution_count": 5,
     "metadata": {},
     "output_type": "execute_result"
    }
   ],
   "source": [
    "# Display variable names and types.\n",
    "\n",
    "air_data.dtypes"
   ]
  },
  {
   "cell_type": "markdown",
   "metadata": {
    "id": "oyjsCPSFdWSi"
   },
   "source": [
    "<details>\n",
    "  <summary><h4><strong>Hint 1</strong></h4></summary>\n",
    "\n",
    "DataFrames have an attribute that outputs variable names and data types in one result.\n",
    " \n",
    "</details>"
   ]
  },
  {
   "cell_type": "markdown",
   "metadata": {
    "id": "mZWcyh0ia_mn"
   },
   "source": [
    "**Question:** What do you observe about the differences in data types among the variables included in the data?\n",
    "\n",
    "- There are 3 types of data present in the data set - int64, float64 and object"
   ]
  },
  {
   "cell_type": "markdown",
   "metadata": {
    "id": "yDHCzUpwBqTD"
   },
   "source": [
    "Next, to understand the size of the dataset, identify the number of rows and the number of columns."
   ]
  },
  {
   "cell_type": "code",
   "execution_count": 6,
   "metadata": {
    "id": "p-s0dOOgBr-1"
   },
   "outputs": [
    {
     "data": {
      "text/plain": [
       "(129880, 22)"
      ]
     },
     "execution_count": 6,
     "metadata": {},
     "output_type": "execute_result"
    }
   ],
   "source": [
    "# Identify the number of rows and the number of columns.\n",
    "\n",
    "air_data.shape"
   ]
  },
  {
   "cell_type": "markdown",
   "metadata": {
    "id": "7phg3U50drdh"
   },
   "source": [
    "<details>\n",
    "  <summary><h4><strong>Hint 1</strong></h4></summary>\n",
    "\n",
    "There is a method in the `pandas` library that outputs the number of rows and the number of columns in one result.\n",
    "\n",
    "</details>"
   ]
  },
  {
   "cell_type": "markdown",
   "metadata": {
    "id": "ada5a098-e0d2-4a59-9ac5-132d8ea1eb3c",
    "tags": []
   },
   "source": [
    "Now, check for missing values in the rows of the data. Start with .isna() to get Booleans indicating whether each value in the data is missing. Then, use .any(axis=1) to get Booleans indicating whether there are any missing values along the columns in each row. Finally, use .sum() to get the number of rows that contain missing values."
   ]
  },
  {
   "cell_type": "code",
   "execution_count": 8,
   "metadata": {
    "id": "db9be321-d578-4252-833c-a2dfd0e2e937"
   },
   "outputs": [
    {
     "name": "stdout",
     "output_type": "stream",
     "text": [
      "\n",
      "There are 393 missing values in the data set\n",
      "\n",
      "\n",
      "satisfaction                           0\n",
      "Customer Type                          0\n",
      "Age                                    0\n",
      "Type of Travel                         0\n",
      "Class                                  0\n",
      "Flight Distance                        0\n",
      "Seat comfort                           0\n",
      "Departure/Arrival time convenient      0\n",
      "Food and drink                         0\n",
      "Gate location                          0\n",
      "Inflight wifi service                  0\n",
      "Inflight entertainment                 0\n",
      "Online support                         0\n",
      "Ease of Online booking                 0\n",
      "On-board service                       0\n",
      "Leg room service                       0\n",
      "Baggage handling                       0\n",
      "Checkin service                        0\n",
      "Cleanliness                            0\n",
      "Online boarding                        0\n",
      "Departure Delay in Minutes             0\n",
      "Arrival Delay in Minutes             393\n",
      "dtype: int64\n"
     ]
    }
   ],
   "source": [
    "# Get Booleans to find missing values in data.\n",
    "# Get Booleans to find missing values along columns.\n",
    "# Get the number of rows that contain missing values.\n",
    "\n",
    "if(air_data.isna().sum().sum() == 0):\n",
    "    print('\\nThere are no missing values in the data set')\n",
    "else:\n",
    "    print('\\nThere are',air_data.isna().sum().sum(),'missing values in the data set')\n",
    "    print('\\n')\n",
    "    print(air_data.isna().sum())\n"
   ]
  },
  {
   "cell_type": "markdown",
   "metadata": {
    "id": "74e5308a-7607-4277-a508-d0efa10d9116"
   },
   "source": [
    "**Question:** How many rows of data are missing values?**\n",
    "\n",
    "- There are total of 393 rows of missing data in the data set"
   ]
  },
  {
   "cell_type": "markdown",
   "metadata": {
    "id": "eb005a73-4621-45b9-8114-30472ce20327"
   },
   "source": [
    "Drop the rows with missing values. This is an important step in data cleaning, as it makes the data more useful for analysis and regression. Then, save the resulting pandas DataFrame in a variable named `air_data_subset`."
   ]
  },
  {
   "cell_type": "code",
   "execution_count": 9,
   "metadata": {
    "id": "1cee438e-8b1f-4855-855e-3723d1958b69"
   },
   "outputs": [],
   "source": [
    "# Drop missing values.\n",
    "# Save the DataFrame in variable `air_data_subset`.\n",
    "\n",
    "air_data_subset = air_data.dropna(axis = 0).reset_index(drop = True)"
   ]
  },
  {
   "cell_type": "markdown",
   "metadata": {
    "id": "2AHDkLF5pnao"
   },
   "source": [
    "<details>\n",
    "<summary><h4><strong>Hint 1</strong></h4></summary>\n",
    "\n",
    "The `dropna()` function is helpful here.\n",
    "</details>"
   ]
  },
  {
   "cell_type": "markdown",
   "metadata": {},
   "source": [
    "<details>\n",
    "<summary><h4><strong>Hint 2</strong></h4></summary>\n",
    "\n",
    "The axis parameter passed in to this function should be set to 0 (if you want to drop rows containing missing values) or 1 (if you want to drop columns containing missing values).\n",
    "</details>"
   ]
  },
  {
   "cell_type": "markdown",
   "metadata": {
    "id": "0021b18e-4c93-4628-8d0d-2c55a98cc691"
   },
   "source": [
    "Next, display the first 10 rows to examine the data subset."
   ]
  },
  {
   "cell_type": "code",
   "execution_count": 10,
   "metadata": {
    "id": "ad471526-eb38-4cc3-afa7-f9542439ea35"
   },
   "outputs": [
    {
     "data": {
      "text/html": [
       "<style type=\"text/css\">\n",
       "#T_3e144_row0_col0, #T_3e144_row0_col1, #T_3e144_row0_col2, #T_3e144_row0_col3, #T_3e144_row0_col4, #T_3e144_row0_col5, #T_3e144_row0_col6, #T_3e144_row0_col7, #T_3e144_row0_col8, #T_3e144_row0_col9, #T_3e144_row0_col10, #T_3e144_row0_col11, #T_3e144_row0_col12, #T_3e144_row0_col13, #T_3e144_row0_col14, #T_3e144_row0_col15, #T_3e144_row0_col16, #T_3e144_row0_col17, #T_3e144_row0_col18, #T_3e144_row0_col19, #T_3e144_row0_col20, #T_3e144_row0_col21, #T_3e144_row1_col0, #T_3e144_row1_col1, #T_3e144_row1_col2, #T_3e144_row1_col3, #T_3e144_row1_col4, #T_3e144_row1_col5, #T_3e144_row1_col6, #T_3e144_row1_col7, #T_3e144_row1_col8, #T_3e144_row1_col9, #T_3e144_row1_col10, #T_3e144_row1_col11, #T_3e144_row1_col12, #T_3e144_row1_col13, #T_3e144_row1_col14, #T_3e144_row1_col15, #T_3e144_row1_col16, #T_3e144_row1_col17, #T_3e144_row1_col18, #T_3e144_row1_col19, #T_3e144_row1_col20, #T_3e144_row1_col21, #T_3e144_row2_col0, #T_3e144_row2_col1, #T_3e144_row2_col2, #T_3e144_row2_col3, #T_3e144_row2_col4, #T_3e144_row2_col5, #T_3e144_row2_col6, #T_3e144_row2_col7, #T_3e144_row2_col8, #T_3e144_row2_col9, #T_3e144_row2_col10, #T_3e144_row2_col11, #T_3e144_row2_col12, #T_3e144_row2_col13, #T_3e144_row2_col14, #T_3e144_row2_col15, #T_3e144_row2_col16, #T_3e144_row2_col17, #T_3e144_row2_col18, #T_3e144_row2_col19, #T_3e144_row2_col20, #T_3e144_row2_col21, #T_3e144_row3_col0, #T_3e144_row3_col1, #T_3e144_row3_col2, #T_3e144_row3_col3, #T_3e144_row3_col4, #T_3e144_row3_col5, #T_3e144_row3_col6, #T_3e144_row3_col7, #T_3e144_row3_col8, #T_3e144_row3_col9, #T_3e144_row3_col10, #T_3e144_row3_col11, #T_3e144_row3_col12, #T_3e144_row3_col13, #T_3e144_row3_col14, #T_3e144_row3_col15, #T_3e144_row3_col16, #T_3e144_row3_col17, #T_3e144_row3_col18, #T_3e144_row3_col19, #T_3e144_row3_col20, #T_3e144_row3_col21, #T_3e144_row4_col0, #T_3e144_row4_col1, #T_3e144_row4_col2, #T_3e144_row4_col3, #T_3e144_row4_col4, #T_3e144_row4_col5, #T_3e144_row4_col6, #T_3e144_row4_col7, #T_3e144_row4_col8, #T_3e144_row4_col9, #T_3e144_row4_col10, #T_3e144_row4_col11, #T_3e144_row4_col12, #T_3e144_row4_col13, #T_3e144_row4_col14, #T_3e144_row4_col15, #T_3e144_row4_col16, #T_3e144_row4_col17, #T_3e144_row4_col18, #T_3e144_row4_col19, #T_3e144_row4_col20, #T_3e144_row4_col21, #T_3e144_row5_col0, #T_3e144_row5_col1, #T_3e144_row5_col2, #T_3e144_row5_col3, #T_3e144_row5_col4, #T_3e144_row5_col5, #T_3e144_row5_col6, #T_3e144_row5_col7, #T_3e144_row5_col8, #T_3e144_row5_col9, #T_3e144_row5_col10, #T_3e144_row5_col11, #T_3e144_row5_col12, #T_3e144_row5_col13, #T_3e144_row5_col14, #T_3e144_row5_col15, #T_3e144_row5_col16, #T_3e144_row5_col17, #T_3e144_row5_col18, #T_3e144_row5_col19, #T_3e144_row5_col20, #T_3e144_row5_col21, #T_3e144_row6_col0, #T_3e144_row6_col1, #T_3e144_row6_col2, #T_3e144_row6_col3, #T_3e144_row6_col4, #T_3e144_row6_col5, #T_3e144_row6_col6, #T_3e144_row6_col7, #T_3e144_row6_col8, #T_3e144_row6_col9, #T_3e144_row6_col10, #T_3e144_row6_col11, #T_3e144_row6_col12, #T_3e144_row6_col13, #T_3e144_row6_col14, #T_3e144_row6_col15, #T_3e144_row6_col16, #T_3e144_row6_col17, #T_3e144_row6_col18, #T_3e144_row6_col19, #T_3e144_row6_col20, #T_3e144_row6_col21, #T_3e144_row7_col0, #T_3e144_row7_col1, #T_3e144_row7_col2, #T_3e144_row7_col3, #T_3e144_row7_col4, #T_3e144_row7_col5, #T_3e144_row7_col6, #T_3e144_row7_col7, #T_3e144_row7_col8, #T_3e144_row7_col9, #T_3e144_row7_col10, #T_3e144_row7_col11, #T_3e144_row7_col12, #T_3e144_row7_col13, #T_3e144_row7_col14, #T_3e144_row7_col15, #T_3e144_row7_col16, #T_3e144_row7_col17, #T_3e144_row7_col18, #T_3e144_row7_col19, #T_3e144_row7_col20, #T_3e144_row7_col21, #T_3e144_row8_col0, #T_3e144_row8_col1, #T_3e144_row8_col2, #T_3e144_row8_col3, #T_3e144_row8_col4, #T_3e144_row8_col5, #T_3e144_row8_col6, #T_3e144_row8_col7, #T_3e144_row8_col8, #T_3e144_row8_col9, #T_3e144_row8_col10, #T_3e144_row8_col11, #T_3e144_row8_col12, #T_3e144_row8_col13, #T_3e144_row8_col14, #T_3e144_row8_col15, #T_3e144_row8_col16, #T_3e144_row8_col17, #T_3e144_row8_col18, #T_3e144_row8_col19, #T_3e144_row8_col20, #T_3e144_row8_col21, #T_3e144_row9_col0, #T_3e144_row9_col1, #T_3e144_row9_col2, #T_3e144_row9_col3, #T_3e144_row9_col4, #T_3e144_row9_col5, #T_3e144_row9_col6, #T_3e144_row9_col7, #T_3e144_row9_col8, #T_3e144_row9_col9, #T_3e144_row9_col10, #T_3e144_row9_col11, #T_3e144_row9_col12, #T_3e144_row9_col13, #T_3e144_row9_col14, #T_3e144_row9_col15, #T_3e144_row9_col16, #T_3e144_row9_col17, #T_3e144_row9_col18, #T_3e144_row9_col19, #T_3e144_row9_col20, #T_3e144_row9_col21 {\n",
       "  border: 1.3px solid black;\n",
       "  color: blue;\n",
       "}\n",
       "</style>\n",
       "<table id=\"T_3e144_\">\n",
       "  <thead>\n",
       "    <tr>\n",
       "      <th class=\"blank level0\" >&nbsp;</th>\n",
       "      <th class=\"col_heading level0 col0\" >satisfaction</th>\n",
       "      <th class=\"col_heading level0 col1\" >Customer Type</th>\n",
       "      <th class=\"col_heading level0 col2\" >Age</th>\n",
       "      <th class=\"col_heading level0 col3\" >Type of Travel</th>\n",
       "      <th class=\"col_heading level0 col4\" >Class</th>\n",
       "      <th class=\"col_heading level0 col5\" >Flight Distance</th>\n",
       "      <th class=\"col_heading level0 col6\" >Seat comfort</th>\n",
       "      <th class=\"col_heading level0 col7\" >Departure/Arrival time convenient</th>\n",
       "      <th class=\"col_heading level0 col8\" >Food and drink</th>\n",
       "      <th class=\"col_heading level0 col9\" >Gate location</th>\n",
       "      <th class=\"col_heading level0 col10\" >Inflight wifi service</th>\n",
       "      <th class=\"col_heading level0 col11\" >Inflight entertainment</th>\n",
       "      <th class=\"col_heading level0 col12\" >Online support</th>\n",
       "      <th class=\"col_heading level0 col13\" >Ease of Online booking</th>\n",
       "      <th class=\"col_heading level0 col14\" >On-board service</th>\n",
       "      <th class=\"col_heading level0 col15\" >Leg room service</th>\n",
       "      <th class=\"col_heading level0 col16\" >Baggage handling</th>\n",
       "      <th class=\"col_heading level0 col17\" >Checkin service</th>\n",
       "      <th class=\"col_heading level0 col18\" >Cleanliness</th>\n",
       "      <th class=\"col_heading level0 col19\" >Online boarding</th>\n",
       "      <th class=\"col_heading level0 col20\" >Departure Delay in Minutes</th>\n",
       "      <th class=\"col_heading level0 col21\" >Arrival Delay in Minutes</th>\n",
       "    </tr>\n",
       "  </thead>\n",
       "  <tbody>\n",
       "    <tr>\n",
       "      <th id=\"T_3e144_level0_row0\" class=\"row_heading level0 row0\" >0</th>\n",
       "      <td id=\"T_3e144_row0_col0\" class=\"data row0 col0\" >satisfied</td>\n",
       "      <td id=\"T_3e144_row0_col1\" class=\"data row0 col1\" >Loyal Customer</td>\n",
       "      <td id=\"T_3e144_row0_col2\" class=\"data row0 col2\" >65</td>\n",
       "      <td id=\"T_3e144_row0_col3\" class=\"data row0 col3\" >Personal Travel</td>\n",
       "      <td id=\"T_3e144_row0_col4\" class=\"data row0 col4\" >Eco</td>\n",
       "      <td id=\"T_3e144_row0_col5\" class=\"data row0 col5\" >265</td>\n",
       "      <td id=\"T_3e144_row0_col6\" class=\"data row0 col6\" >0</td>\n",
       "      <td id=\"T_3e144_row0_col7\" class=\"data row0 col7\" >0</td>\n",
       "      <td id=\"T_3e144_row0_col8\" class=\"data row0 col8\" >0</td>\n",
       "      <td id=\"T_3e144_row0_col9\" class=\"data row0 col9\" >2</td>\n",
       "      <td id=\"T_3e144_row0_col10\" class=\"data row0 col10\" >2</td>\n",
       "      <td id=\"T_3e144_row0_col11\" class=\"data row0 col11\" >4</td>\n",
       "      <td id=\"T_3e144_row0_col12\" class=\"data row0 col12\" >2</td>\n",
       "      <td id=\"T_3e144_row0_col13\" class=\"data row0 col13\" >3</td>\n",
       "      <td id=\"T_3e144_row0_col14\" class=\"data row0 col14\" >3</td>\n",
       "      <td id=\"T_3e144_row0_col15\" class=\"data row0 col15\" >0</td>\n",
       "      <td id=\"T_3e144_row0_col16\" class=\"data row0 col16\" >3</td>\n",
       "      <td id=\"T_3e144_row0_col17\" class=\"data row0 col17\" >5</td>\n",
       "      <td id=\"T_3e144_row0_col18\" class=\"data row0 col18\" >3</td>\n",
       "      <td id=\"T_3e144_row0_col19\" class=\"data row0 col19\" >2</td>\n",
       "      <td id=\"T_3e144_row0_col20\" class=\"data row0 col20\" >0</td>\n",
       "      <td id=\"T_3e144_row0_col21\" class=\"data row0 col21\" >0.000000</td>\n",
       "    </tr>\n",
       "    <tr>\n",
       "      <th id=\"T_3e144_level0_row1\" class=\"row_heading level0 row1\" >1</th>\n",
       "      <td id=\"T_3e144_row1_col0\" class=\"data row1 col0\" >satisfied</td>\n",
       "      <td id=\"T_3e144_row1_col1\" class=\"data row1 col1\" >Loyal Customer</td>\n",
       "      <td id=\"T_3e144_row1_col2\" class=\"data row1 col2\" >47</td>\n",
       "      <td id=\"T_3e144_row1_col3\" class=\"data row1 col3\" >Personal Travel</td>\n",
       "      <td id=\"T_3e144_row1_col4\" class=\"data row1 col4\" >Business</td>\n",
       "      <td id=\"T_3e144_row1_col5\" class=\"data row1 col5\" >2464</td>\n",
       "      <td id=\"T_3e144_row1_col6\" class=\"data row1 col6\" >0</td>\n",
       "      <td id=\"T_3e144_row1_col7\" class=\"data row1 col7\" >0</td>\n",
       "      <td id=\"T_3e144_row1_col8\" class=\"data row1 col8\" >0</td>\n",
       "      <td id=\"T_3e144_row1_col9\" class=\"data row1 col9\" >3</td>\n",
       "      <td id=\"T_3e144_row1_col10\" class=\"data row1 col10\" >0</td>\n",
       "      <td id=\"T_3e144_row1_col11\" class=\"data row1 col11\" >2</td>\n",
       "      <td id=\"T_3e144_row1_col12\" class=\"data row1 col12\" >2</td>\n",
       "      <td id=\"T_3e144_row1_col13\" class=\"data row1 col13\" >3</td>\n",
       "      <td id=\"T_3e144_row1_col14\" class=\"data row1 col14\" >4</td>\n",
       "      <td id=\"T_3e144_row1_col15\" class=\"data row1 col15\" >4</td>\n",
       "      <td id=\"T_3e144_row1_col16\" class=\"data row1 col16\" >4</td>\n",
       "      <td id=\"T_3e144_row1_col17\" class=\"data row1 col17\" >2</td>\n",
       "      <td id=\"T_3e144_row1_col18\" class=\"data row1 col18\" >3</td>\n",
       "      <td id=\"T_3e144_row1_col19\" class=\"data row1 col19\" >2</td>\n",
       "      <td id=\"T_3e144_row1_col20\" class=\"data row1 col20\" >310</td>\n",
       "      <td id=\"T_3e144_row1_col21\" class=\"data row1 col21\" >305.000000</td>\n",
       "    </tr>\n",
       "    <tr>\n",
       "      <th id=\"T_3e144_level0_row2\" class=\"row_heading level0 row2\" >2</th>\n",
       "      <td id=\"T_3e144_row2_col0\" class=\"data row2 col0\" >satisfied</td>\n",
       "      <td id=\"T_3e144_row2_col1\" class=\"data row2 col1\" >Loyal Customer</td>\n",
       "      <td id=\"T_3e144_row2_col2\" class=\"data row2 col2\" >15</td>\n",
       "      <td id=\"T_3e144_row2_col3\" class=\"data row2 col3\" >Personal Travel</td>\n",
       "      <td id=\"T_3e144_row2_col4\" class=\"data row2 col4\" >Eco</td>\n",
       "      <td id=\"T_3e144_row2_col5\" class=\"data row2 col5\" >2138</td>\n",
       "      <td id=\"T_3e144_row2_col6\" class=\"data row2 col6\" >0</td>\n",
       "      <td id=\"T_3e144_row2_col7\" class=\"data row2 col7\" >0</td>\n",
       "      <td id=\"T_3e144_row2_col8\" class=\"data row2 col8\" >0</td>\n",
       "      <td id=\"T_3e144_row2_col9\" class=\"data row2 col9\" >3</td>\n",
       "      <td id=\"T_3e144_row2_col10\" class=\"data row2 col10\" >2</td>\n",
       "      <td id=\"T_3e144_row2_col11\" class=\"data row2 col11\" >0</td>\n",
       "      <td id=\"T_3e144_row2_col12\" class=\"data row2 col12\" >2</td>\n",
       "      <td id=\"T_3e144_row2_col13\" class=\"data row2 col13\" >2</td>\n",
       "      <td id=\"T_3e144_row2_col14\" class=\"data row2 col14\" >3</td>\n",
       "      <td id=\"T_3e144_row2_col15\" class=\"data row2 col15\" >3</td>\n",
       "      <td id=\"T_3e144_row2_col16\" class=\"data row2 col16\" >4</td>\n",
       "      <td id=\"T_3e144_row2_col17\" class=\"data row2 col17\" >4</td>\n",
       "      <td id=\"T_3e144_row2_col18\" class=\"data row2 col18\" >4</td>\n",
       "      <td id=\"T_3e144_row2_col19\" class=\"data row2 col19\" >2</td>\n",
       "      <td id=\"T_3e144_row2_col20\" class=\"data row2 col20\" >0</td>\n",
       "      <td id=\"T_3e144_row2_col21\" class=\"data row2 col21\" >0.000000</td>\n",
       "    </tr>\n",
       "    <tr>\n",
       "      <th id=\"T_3e144_level0_row3\" class=\"row_heading level0 row3\" >3</th>\n",
       "      <td id=\"T_3e144_row3_col0\" class=\"data row3 col0\" >satisfied</td>\n",
       "      <td id=\"T_3e144_row3_col1\" class=\"data row3 col1\" >Loyal Customer</td>\n",
       "      <td id=\"T_3e144_row3_col2\" class=\"data row3 col2\" >60</td>\n",
       "      <td id=\"T_3e144_row3_col3\" class=\"data row3 col3\" >Personal Travel</td>\n",
       "      <td id=\"T_3e144_row3_col4\" class=\"data row3 col4\" >Eco</td>\n",
       "      <td id=\"T_3e144_row3_col5\" class=\"data row3 col5\" >623</td>\n",
       "      <td id=\"T_3e144_row3_col6\" class=\"data row3 col6\" >0</td>\n",
       "      <td id=\"T_3e144_row3_col7\" class=\"data row3 col7\" >0</td>\n",
       "      <td id=\"T_3e144_row3_col8\" class=\"data row3 col8\" >0</td>\n",
       "      <td id=\"T_3e144_row3_col9\" class=\"data row3 col9\" >3</td>\n",
       "      <td id=\"T_3e144_row3_col10\" class=\"data row3 col10\" >3</td>\n",
       "      <td id=\"T_3e144_row3_col11\" class=\"data row3 col11\" >4</td>\n",
       "      <td id=\"T_3e144_row3_col12\" class=\"data row3 col12\" >3</td>\n",
       "      <td id=\"T_3e144_row3_col13\" class=\"data row3 col13\" >1</td>\n",
       "      <td id=\"T_3e144_row3_col14\" class=\"data row3 col14\" >1</td>\n",
       "      <td id=\"T_3e144_row3_col15\" class=\"data row3 col15\" >0</td>\n",
       "      <td id=\"T_3e144_row3_col16\" class=\"data row3 col16\" >1</td>\n",
       "      <td id=\"T_3e144_row3_col17\" class=\"data row3 col17\" >4</td>\n",
       "      <td id=\"T_3e144_row3_col18\" class=\"data row3 col18\" >1</td>\n",
       "      <td id=\"T_3e144_row3_col19\" class=\"data row3 col19\" >3</td>\n",
       "      <td id=\"T_3e144_row3_col20\" class=\"data row3 col20\" >0</td>\n",
       "      <td id=\"T_3e144_row3_col21\" class=\"data row3 col21\" >0.000000</td>\n",
       "    </tr>\n",
       "    <tr>\n",
       "      <th id=\"T_3e144_level0_row4\" class=\"row_heading level0 row4\" >4</th>\n",
       "      <td id=\"T_3e144_row4_col0\" class=\"data row4 col0\" >satisfied</td>\n",
       "      <td id=\"T_3e144_row4_col1\" class=\"data row4 col1\" >Loyal Customer</td>\n",
       "      <td id=\"T_3e144_row4_col2\" class=\"data row4 col2\" >70</td>\n",
       "      <td id=\"T_3e144_row4_col3\" class=\"data row4 col3\" >Personal Travel</td>\n",
       "      <td id=\"T_3e144_row4_col4\" class=\"data row4 col4\" >Eco</td>\n",
       "      <td id=\"T_3e144_row4_col5\" class=\"data row4 col5\" >354</td>\n",
       "      <td id=\"T_3e144_row4_col6\" class=\"data row4 col6\" >0</td>\n",
       "      <td id=\"T_3e144_row4_col7\" class=\"data row4 col7\" >0</td>\n",
       "      <td id=\"T_3e144_row4_col8\" class=\"data row4 col8\" >0</td>\n",
       "      <td id=\"T_3e144_row4_col9\" class=\"data row4 col9\" >3</td>\n",
       "      <td id=\"T_3e144_row4_col10\" class=\"data row4 col10\" >4</td>\n",
       "      <td id=\"T_3e144_row4_col11\" class=\"data row4 col11\" >3</td>\n",
       "      <td id=\"T_3e144_row4_col12\" class=\"data row4 col12\" >4</td>\n",
       "      <td id=\"T_3e144_row4_col13\" class=\"data row4 col13\" >2</td>\n",
       "      <td id=\"T_3e144_row4_col14\" class=\"data row4 col14\" >2</td>\n",
       "      <td id=\"T_3e144_row4_col15\" class=\"data row4 col15\" >0</td>\n",
       "      <td id=\"T_3e144_row4_col16\" class=\"data row4 col16\" >2</td>\n",
       "      <td id=\"T_3e144_row4_col17\" class=\"data row4 col17\" >4</td>\n",
       "      <td id=\"T_3e144_row4_col18\" class=\"data row4 col18\" >2</td>\n",
       "      <td id=\"T_3e144_row4_col19\" class=\"data row4 col19\" >5</td>\n",
       "      <td id=\"T_3e144_row4_col20\" class=\"data row4 col20\" >0</td>\n",
       "      <td id=\"T_3e144_row4_col21\" class=\"data row4 col21\" >0.000000</td>\n",
       "    </tr>\n",
       "    <tr>\n",
       "      <th id=\"T_3e144_level0_row5\" class=\"row_heading level0 row5\" >5</th>\n",
       "      <td id=\"T_3e144_row5_col0\" class=\"data row5 col0\" >satisfied</td>\n",
       "      <td id=\"T_3e144_row5_col1\" class=\"data row5 col1\" >Loyal Customer</td>\n",
       "      <td id=\"T_3e144_row5_col2\" class=\"data row5 col2\" >30</td>\n",
       "      <td id=\"T_3e144_row5_col3\" class=\"data row5 col3\" >Personal Travel</td>\n",
       "      <td id=\"T_3e144_row5_col4\" class=\"data row5 col4\" >Eco</td>\n",
       "      <td id=\"T_3e144_row5_col5\" class=\"data row5 col5\" >1894</td>\n",
       "      <td id=\"T_3e144_row5_col6\" class=\"data row5 col6\" >0</td>\n",
       "      <td id=\"T_3e144_row5_col7\" class=\"data row5 col7\" >0</td>\n",
       "      <td id=\"T_3e144_row5_col8\" class=\"data row5 col8\" >0</td>\n",
       "      <td id=\"T_3e144_row5_col9\" class=\"data row5 col9\" >3</td>\n",
       "      <td id=\"T_3e144_row5_col10\" class=\"data row5 col10\" >2</td>\n",
       "      <td id=\"T_3e144_row5_col11\" class=\"data row5 col11\" >0</td>\n",
       "      <td id=\"T_3e144_row5_col12\" class=\"data row5 col12\" >2</td>\n",
       "      <td id=\"T_3e144_row5_col13\" class=\"data row5 col13\" >2</td>\n",
       "      <td id=\"T_3e144_row5_col14\" class=\"data row5 col14\" >5</td>\n",
       "      <td id=\"T_3e144_row5_col15\" class=\"data row5 col15\" >4</td>\n",
       "      <td id=\"T_3e144_row5_col16\" class=\"data row5 col16\" >5</td>\n",
       "      <td id=\"T_3e144_row5_col17\" class=\"data row5 col17\" >5</td>\n",
       "      <td id=\"T_3e144_row5_col18\" class=\"data row5 col18\" >4</td>\n",
       "      <td id=\"T_3e144_row5_col19\" class=\"data row5 col19\" >2</td>\n",
       "      <td id=\"T_3e144_row5_col20\" class=\"data row5 col20\" >0</td>\n",
       "      <td id=\"T_3e144_row5_col21\" class=\"data row5 col21\" >0.000000</td>\n",
       "    </tr>\n",
       "    <tr>\n",
       "      <th id=\"T_3e144_level0_row6\" class=\"row_heading level0 row6\" >6</th>\n",
       "      <td id=\"T_3e144_row6_col0\" class=\"data row6 col0\" >satisfied</td>\n",
       "      <td id=\"T_3e144_row6_col1\" class=\"data row6 col1\" >Loyal Customer</td>\n",
       "      <td id=\"T_3e144_row6_col2\" class=\"data row6 col2\" >66</td>\n",
       "      <td id=\"T_3e144_row6_col3\" class=\"data row6 col3\" >Personal Travel</td>\n",
       "      <td id=\"T_3e144_row6_col4\" class=\"data row6 col4\" >Eco</td>\n",
       "      <td id=\"T_3e144_row6_col5\" class=\"data row6 col5\" >227</td>\n",
       "      <td id=\"T_3e144_row6_col6\" class=\"data row6 col6\" >0</td>\n",
       "      <td id=\"T_3e144_row6_col7\" class=\"data row6 col7\" >0</td>\n",
       "      <td id=\"T_3e144_row6_col8\" class=\"data row6 col8\" >0</td>\n",
       "      <td id=\"T_3e144_row6_col9\" class=\"data row6 col9\" >3</td>\n",
       "      <td id=\"T_3e144_row6_col10\" class=\"data row6 col10\" >2</td>\n",
       "      <td id=\"T_3e144_row6_col11\" class=\"data row6 col11\" >5</td>\n",
       "      <td id=\"T_3e144_row6_col12\" class=\"data row6 col12\" >5</td>\n",
       "      <td id=\"T_3e144_row6_col13\" class=\"data row6 col13\" >5</td>\n",
       "      <td id=\"T_3e144_row6_col14\" class=\"data row6 col14\" >5</td>\n",
       "      <td id=\"T_3e144_row6_col15\" class=\"data row6 col15\" >0</td>\n",
       "      <td id=\"T_3e144_row6_col16\" class=\"data row6 col16\" >5</td>\n",
       "      <td id=\"T_3e144_row6_col17\" class=\"data row6 col17\" >5</td>\n",
       "      <td id=\"T_3e144_row6_col18\" class=\"data row6 col18\" >5</td>\n",
       "      <td id=\"T_3e144_row6_col19\" class=\"data row6 col19\" >3</td>\n",
       "      <td id=\"T_3e144_row6_col20\" class=\"data row6 col20\" >17</td>\n",
       "      <td id=\"T_3e144_row6_col21\" class=\"data row6 col21\" >15.000000</td>\n",
       "    </tr>\n",
       "    <tr>\n",
       "      <th id=\"T_3e144_level0_row7\" class=\"row_heading level0 row7\" >7</th>\n",
       "      <td id=\"T_3e144_row7_col0\" class=\"data row7 col0\" >satisfied</td>\n",
       "      <td id=\"T_3e144_row7_col1\" class=\"data row7 col1\" >Loyal Customer</td>\n",
       "      <td id=\"T_3e144_row7_col2\" class=\"data row7 col2\" >10</td>\n",
       "      <td id=\"T_3e144_row7_col3\" class=\"data row7 col3\" >Personal Travel</td>\n",
       "      <td id=\"T_3e144_row7_col4\" class=\"data row7 col4\" >Eco</td>\n",
       "      <td id=\"T_3e144_row7_col5\" class=\"data row7 col5\" >1812</td>\n",
       "      <td id=\"T_3e144_row7_col6\" class=\"data row7 col6\" >0</td>\n",
       "      <td id=\"T_3e144_row7_col7\" class=\"data row7 col7\" >0</td>\n",
       "      <td id=\"T_3e144_row7_col8\" class=\"data row7 col8\" >0</td>\n",
       "      <td id=\"T_3e144_row7_col9\" class=\"data row7 col9\" >3</td>\n",
       "      <td id=\"T_3e144_row7_col10\" class=\"data row7 col10\" >2</td>\n",
       "      <td id=\"T_3e144_row7_col11\" class=\"data row7 col11\" >0</td>\n",
       "      <td id=\"T_3e144_row7_col12\" class=\"data row7 col12\" >2</td>\n",
       "      <td id=\"T_3e144_row7_col13\" class=\"data row7 col13\" >2</td>\n",
       "      <td id=\"T_3e144_row7_col14\" class=\"data row7 col14\" >3</td>\n",
       "      <td id=\"T_3e144_row7_col15\" class=\"data row7 col15\" >3</td>\n",
       "      <td id=\"T_3e144_row7_col16\" class=\"data row7 col16\" >4</td>\n",
       "      <td id=\"T_3e144_row7_col17\" class=\"data row7 col17\" >5</td>\n",
       "      <td id=\"T_3e144_row7_col18\" class=\"data row7 col18\" >4</td>\n",
       "      <td id=\"T_3e144_row7_col19\" class=\"data row7 col19\" >2</td>\n",
       "      <td id=\"T_3e144_row7_col20\" class=\"data row7 col20\" >0</td>\n",
       "      <td id=\"T_3e144_row7_col21\" class=\"data row7 col21\" >0.000000</td>\n",
       "    </tr>\n",
       "    <tr>\n",
       "      <th id=\"T_3e144_level0_row8\" class=\"row_heading level0 row8\" >8</th>\n",
       "      <td id=\"T_3e144_row8_col0\" class=\"data row8 col0\" >satisfied</td>\n",
       "      <td id=\"T_3e144_row8_col1\" class=\"data row8 col1\" >Loyal Customer</td>\n",
       "      <td id=\"T_3e144_row8_col2\" class=\"data row8 col2\" >56</td>\n",
       "      <td id=\"T_3e144_row8_col3\" class=\"data row8 col3\" >Personal Travel</td>\n",
       "      <td id=\"T_3e144_row8_col4\" class=\"data row8 col4\" >Business</td>\n",
       "      <td id=\"T_3e144_row8_col5\" class=\"data row8 col5\" >73</td>\n",
       "      <td id=\"T_3e144_row8_col6\" class=\"data row8 col6\" >0</td>\n",
       "      <td id=\"T_3e144_row8_col7\" class=\"data row8 col7\" >0</td>\n",
       "      <td id=\"T_3e144_row8_col8\" class=\"data row8 col8\" >0</td>\n",
       "      <td id=\"T_3e144_row8_col9\" class=\"data row8 col9\" >3</td>\n",
       "      <td id=\"T_3e144_row8_col10\" class=\"data row8 col10\" >5</td>\n",
       "      <td id=\"T_3e144_row8_col11\" class=\"data row8 col11\" >3</td>\n",
       "      <td id=\"T_3e144_row8_col12\" class=\"data row8 col12\" >5</td>\n",
       "      <td id=\"T_3e144_row8_col13\" class=\"data row8 col13\" >4</td>\n",
       "      <td id=\"T_3e144_row8_col14\" class=\"data row8 col14\" >4</td>\n",
       "      <td id=\"T_3e144_row8_col15\" class=\"data row8 col15\" >0</td>\n",
       "      <td id=\"T_3e144_row8_col16\" class=\"data row8 col16\" >1</td>\n",
       "      <td id=\"T_3e144_row8_col17\" class=\"data row8 col17\" >5</td>\n",
       "      <td id=\"T_3e144_row8_col18\" class=\"data row8 col18\" >4</td>\n",
       "      <td id=\"T_3e144_row8_col19\" class=\"data row8 col19\" >4</td>\n",
       "      <td id=\"T_3e144_row8_col20\" class=\"data row8 col20\" >0</td>\n",
       "      <td id=\"T_3e144_row8_col21\" class=\"data row8 col21\" >0.000000</td>\n",
       "    </tr>\n",
       "    <tr>\n",
       "      <th id=\"T_3e144_level0_row9\" class=\"row_heading level0 row9\" >9</th>\n",
       "      <td id=\"T_3e144_row9_col0\" class=\"data row9 col0\" >satisfied</td>\n",
       "      <td id=\"T_3e144_row9_col1\" class=\"data row9 col1\" >Loyal Customer</td>\n",
       "      <td id=\"T_3e144_row9_col2\" class=\"data row9 col2\" >22</td>\n",
       "      <td id=\"T_3e144_row9_col3\" class=\"data row9 col3\" >Personal Travel</td>\n",
       "      <td id=\"T_3e144_row9_col4\" class=\"data row9 col4\" >Eco</td>\n",
       "      <td id=\"T_3e144_row9_col5\" class=\"data row9 col5\" >1556</td>\n",
       "      <td id=\"T_3e144_row9_col6\" class=\"data row9 col6\" >0</td>\n",
       "      <td id=\"T_3e144_row9_col7\" class=\"data row9 col7\" >0</td>\n",
       "      <td id=\"T_3e144_row9_col8\" class=\"data row9 col8\" >0</td>\n",
       "      <td id=\"T_3e144_row9_col9\" class=\"data row9 col9\" >3</td>\n",
       "      <td id=\"T_3e144_row9_col10\" class=\"data row9 col10\" >2</td>\n",
       "      <td id=\"T_3e144_row9_col11\" class=\"data row9 col11\" >0</td>\n",
       "      <td id=\"T_3e144_row9_col12\" class=\"data row9 col12\" >2</td>\n",
       "      <td id=\"T_3e144_row9_col13\" class=\"data row9 col13\" >2</td>\n",
       "      <td id=\"T_3e144_row9_col14\" class=\"data row9 col14\" >2</td>\n",
       "      <td id=\"T_3e144_row9_col15\" class=\"data row9 col15\" >4</td>\n",
       "      <td id=\"T_3e144_row9_col16\" class=\"data row9 col16\" >5</td>\n",
       "      <td id=\"T_3e144_row9_col17\" class=\"data row9 col17\" >3</td>\n",
       "      <td id=\"T_3e144_row9_col18\" class=\"data row9 col18\" >4</td>\n",
       "      <td id=\"T_3e144_row9_col19\" class=\"data row9 col19\" >2</td>\n",
       "      <td id=\"T_3e144_row9_col20\" class=\"data row9 col20\" >30</td>\n",
       "      <td id=\"T_3e144_row9_col21\" class=\"data row9 col21\" >26.000000</td>\n",
       "    </tr>\n",
       "  </tbody>\n",
       "</table>\n"
      ],
      "text/plain": [
       "<pandas.io.formats.style.Styler at 0x7f42be1a2d90>"
      ]
     },
     "execution_count": 10,
     "metadata": {},
     "output_type": "execute_result"
    }
   ],
   "source": [
    "# Display the first 10 rows.\n",
    "\n",
    "air_data_subset.head(10).style.set_properties(**{'border': '1.3px solid black','color': 'blue'})"
   ]
  },
  {
   "cell_type": "markdown",
   "metadata": {
    "id": "3c74ad00-3eaf-4868-b3a9-3aa87a5bc0d3",
    "tags": []
   },
   "source": [
    "Confirm that it does not contain any missing values."
   ]
  },
  {
   "cell_type": "code",
   "execution_count": 12,
   "metadata": {
    "id": "f22e303c-2c42-4227-9083-447839e2b300"
   },
   "outputs": [
    {
     "name": "stdout",
     "output_type": "stream",
     "text": [
      "\n",
      "There are no missing values in the data set\n"
     ]
    }
   ],
   "source": [
    "# Count of missing values.\n",
    "\n",
    "if(air_data_subset.isna().sum().sum() == 0):\n",
    "    print('\\nThere are no missing values in the data set')\n",
    "else:\n",
    "    print('\\nThere are',air_data_subset.isna().sum().sum(),'missing values in the data set')\n",
    "    print('\\n')\n",
    "    print(air_data_subset.isna().sum())"
   ]
  },
  {
   "cell_type": "markdown",
   "metadata": {
    "id": "I0Y9g4C17al8"
   },
   "source": [
    "<details>\n",
    "<summary><h4><strong>Hint 1</strong></h4></summary>\n",
    "\n",
    "You can use the `.isna().sum()` to get the number of missing values for each variable.\n",
    "\n",
    "</details>"
   ]
  },
  {
   "cell_type": "markdown",
   "metadata": {
    "id": "23bbe395"
   },
   "source": [
    "Next, convert the categorical features to indicator (one-hot encoded) features. \n",
    "\n",
    "**Note:** The `drop_first` argument can be kept as default (`False`) during one-hot encoding for random forest models, so it does not need to be specified. Also, the target variable, `satisfaction`, does not need to be encoded and will be extracted in a later step."
   ]
  },
  {
   "cell_type": "code",
   "execution_count": 13,
   "metadata": {
    "id": "03d00d56"
   },
   "outputs": [],
   "source": [
    "# Convert categorical features to one-hot encoded features.\n",
    "\n",
    "air_data_subset_dummies = pd.get_dummies(air_data_subset, columns=['Customer Type','Type of Travel','Class'])"
   ]
  },
  {
   "cell_type": "markdown",
   "metadata": {
    "id": "a9d3a8d5"
   },
   "source": [
    "<details>\n",
    "<summary><h4><strong>Hint 1</strong></h4></summary>\n",
    "\n",
    "You can use the `pd.get_dummies()` function to convert categorical variables to one-hot encoded variables.\n",
    "</details>"
   ]
  },
  {
   "cell_type": "markdown",
   "metadata": {
    "id": "fY6JM-6zfNLK"
   },
   "source": [
    "**Question:** Why is it necessary to convert categorical data into dummy variables?**\n",
    "\n",
    "- Converting categorical data into dummy variables using one-hot encoding is essential for ensuring compatibility with machine learning algorithms, preserving information contained in categorical variables, avoiding bias, and enabling effective modeling of categorical features in predictive modeling tasks."
   ]
  },
  {
   "cell_type": "markdown",
   "metadata": {
    "id": "dfe87acc"
   },
   "source": [
    "Next, display the first 10 rows to review the `air_data_subset_dummies`. "
   ]
  },
  {
   "cell_type": "code",
   "execution_count": 14,
   "metadata": {
    "id": "139cb903"
   },
   "outputs": [
    {
     "data": {
      "text/html": [
       "<div>\n",
       "<style scoped>\n",
       "    .dataframe tbody tr th:only-of-type {\n",
       "        vertical-align: middle;\n",
       "    }\n",
       "\n",
       "    .dataframe tbody tr th {\n",
       "        vertical-align: top;\n",
       "    }\n",
       "\n",
       "    .dataframe thead th {\n",
       "        text-align: right;\n",
       "    }\n",
       "</style>\n",
       "<table border=\"1\" class=\"dataframe\">\n",
       "  <thead>\n",
       "    <tr style=\"text-align: right;\">\n",
       "      <th></th>\n",
       "      <th>satisfaction</th>\n",
       "      <th>Age</th>\n",
       "      <th>Flight Distance</th>\n",
       "      <th>Seat comfort</th>\n",
       "      <th>Departure/Arrival time convenient</th>\n",
       "      <th>Food and drink</th>\n",
       "      <th>Gate location</th>\n",
       "      <th>Inflight wifi service</th>\n",
       "      <th>Inflight entertainment</th>\n",
       "      <th>Online support</th>\n",
       "      <th>...</th>\n",
       "      <th>Online boarding</th>\n",
       "      <th>Departure Delay in Minutes</th>\n",
       "      <th>Arrival Delay in Minutes</th>\n",
       "      <th>Customer Type_Loyal Customer</th>\n",
       "      <th>Customer Type_disloyal Customer</th>\n",
       "      <th>Type of Travel_Business travel</th>\n",
       "      <th>Type of Travel_Personal Travel</th>\n",
       "      <th>Class_Business</th>\n",
       "      <th>Class_Eco</th>\n",
       "      <th>Class_Eco Plus</th>\n",
       "    </tr>\n",
       "  </thead>\n",
       "  <tbody>\n",
       "    <tr>\n",
       "      <th>0</th>\n",
       "      <td>satisfied</td>\n",
       "      <td>65</td>\n",
       "      <td>265</td>\n",
       "      <td>0</td>\n",
       "      <td>0</td>\n",
       "      <td>0</td>\n",
       "      <td>2</td>\n",
       "      <td>2</td>\n",
       "      <td>4</td>\n",
       "      <td>2</td>\n",
       "      <td>...</td>\n",
       "      <td>2</td>\n",
       "      <td>0</td>\n",
       "      <td>0.0</td>\n",
       "      <td>1</td>\n",
       "      <td>0</td>\n",
       "      <td>0</td>\n",
       "      <td>1</td>\n",
       "      <td>0</td>\n",
       "      <td>1</td>\n",
       "      <td>0</td>\n",
       "    </tr>\n",
       "    <tr>\n",
       "      <th>1</th>\n",
       "      <td>satisfied</td>\n",
       "      <td>47</td>\n",
       "      <td>2464</td>\n",
       "      <td>0</td>\n",
       "      <td>0</td>\n",
       "      <td>0</td>\n",
       "      <td>3</td>\n",
       "      <td>0</td>\n",
       "      <td>2</td>\n",
       "      <td>2</td>\n",
       "      <td>...</td>\n",
       "      <td>2</td>\n",
       "      <td>310</td>\n",
       "      <td>305.0</td>\n",
       "      <td>1</td>\n",
       "      <td>0</td>\n",
       "      <td>0</td>\n",
       "      <td>1</td>\n",
       "      <td>1</td>\n",
       "      <td>0</td>\n",
       "      <td>0</td>\n",
       "    </tr>\n",
       "    <tr>\n",
       "      <th>2</th>\n",
       "      <td>satisfied</td>\n",
       "      <td>15</td>\n",
       "      <td>2138</td>\n",
       "      <td>0</td>\n",
       "      <td>0</td>\n",
       "      <td>0</td>\n",
       "      <td>3</td>\n",
       "      <td>2</td>\n",
       "      <td>0</td>\n",
       "      <td>2</td>\n",
       "      <td>...</td>\n",
       "      <td>2</td>\n",
       "      <td>0</td>\n",
       "      <td>0.0</td>\n",
       "      <td>1</td>\n",
       "      <td>0</td>\n",
       "      <td>0</td>\n",
       "      <td>1</td>\n",
       "      <td>0</td>\n",
       "      <td>1</td>\n",
       "      <td>0</td>\n",
       "    </tr>\n",
       "    <tr>\n",
       "      <th>3</th>\n",
       "      <td>satisfied</td>\n",
       "      <td>60</td>\n",
       "      <td>623</td>\n",
       "      <td>0</td>\n",
       "      <td>0</td>\n",
       "      <td>0</td>\n",
       "      <td>3</td>\n",
       "      <td>3</td>\n",
       "      <td>4</td>\n",
       "      <td>3</td>\n",
       "      <td>...</td>\n",
       "      <td>3</td>\n",
       "      <td>0</td>\n",
       "      <td>0.0</td>\n",
       "      <td>1</td>\n",
       "      <td>0</td>\n",
       "      <td>0</td>\n",
       "      <td>1</td>\n",
       "      <td>0</td>\n",
       "      <td>1</td>\n",
       "      <td>0</td>\n",
       "    </tr>\n",
       "    <tr>\n",
       "      <th>4</th>\n",
       "      <td>satisfied</td>\n",
       "      <td>70</td>\n",
       "      <td>354</td>\n",
       "      <td>0</td>\n",
       "      <td>0</td>\n",
       "      <td>0</td>\n",
       "      <td>3</td>\n",
       "      <td>4</td>\n",
       "      <td>3</td>\n",
       "      <td>4</td>\n",
       "      <td>...</td>\n",
       "      <td>5</td>\n",
       "      <td>0</td>\n",
       "      <td>0.0</td>\n",
       "      <td>1</td>\n",
       "      <td>0</td>\n",
       "      <td>0</td>\n",
       "      <td>1</td>\n",
       "      <td>0</td>\n",
       "      <td>1</td>\n",
       "      <td>0</td>\n",
       "    </tr>\n",
       "    <tr>\n",
       "      <th>5</th>\n",
       "      <td>satisfied</td>\n",
       "      <td>30</td>\n",
       "      <td>1894</td>\n",
       "      <td>0</td>\n",
       "      <td>0</td>\n",
       "      <td>0</td>\n",
       "      <td>3</td>\n",
       "      <td>2</td>\n",
       "      <td>0</td>\n",
       "      <td>2</td>\n",
       "      <td>...</td>\n",
       "      <td>2</td>\n",
       "      <td>0</td>\n",
       "      <td>0.0</td>\n",
       "      <td>1</td>\n",
       "      <td>0</td>\n",
       "      <td>0</td>\n",
       "      <td>1</td>\n",
       "      <td>0</td>\n",
       "      <td>1</td>\n",
       "      <td>0</td>\n",
       "    </tr>\n",
       "    <tr>\n",
       "      <th>6</th>\n",
       "      <td>satisfied</td>\n",
       "      <td>66</td>\n",
       "      <td>227</td>\n",
       "      <td>0</td>\n",
       "      <td>0</td>\n",
       "      <td>0</td>\n",
       "      <td>3</td>\n",
       "      <td>2</td>\n",
       "      <td>5</td>\n",
       "      <td>5</td>\n",
       "      <td>...</td>\n",
       "      <td>3</td>\n",
       "      <td>17</td>\n",
       "      <td>15.0</td>\n",
       "      <td>1</td>\n",
       "      <td>0</td>\n",
       "      <td>0</td>\n",
       "      <td>1</td>\n",
       "      <td>0</td>\n",
       "      <td>1</td>\n",
       "      <td>0</td>\n",
       "    </tr>\n",
       "    <tr>\n",
       "      <th>7</th>\n",
       "      <td>satisfied</td>\n",
       "      <td>10</td>\n",
       "      <td>1812</td>\n",
       "      <td>0</td>\n",
       "      <td>0</td>\n",
       "      <td>0</td>\n",
       "      <td>3</td>\n",
       "      <td>2</td>\n",
       "      <td>0</td>\n",
       "      <td>2</td>\n",
       "      <td>...</td>\n",
       "      <td>2</td>\n",
       "      <td>0</td>\n",
       "      <td>0.0</td>\n",
       "      <td>1</td>\n",
       "      <td>0</td>\n",
       "      <td>0</td>\n",
       "      <td>1</td>\n",
       "      <td>0</td>\n",
       "      <td>1</td>\n",
       "      <td>0</td>\n",
       "    </tr>\n",
       "    <tr>\n",
       "      <th>8</th>\n",
       "      <td>satisfied</td>\n",
       "      <td>56</td>\n",
       "      <td>73</td>\n",
       "      <td>0</td>\n",
       "      <td>0</td>\n",
       "      <td>0</td>\n",
       "      <td>3</td>\n",
       "      <td>5</td>\n",
       "      <td>3</td>\n",
       "      <td>5</td>\n",
       "      <td>...</td>\n",
       "      <td>4</td>\n",
       "      <td>0</td>\n",
       "      <td>0.0</td>\n",
       "      <td>1</td>\n",
       "      <td>0</td>\n",
       "      <td>0</td>\n",
       "      <td>1</td>\n",
       "      <td>1</td>\n",
       "      <td>0</td>\n",
       "      <td>0</td>\n",
       "    </tr>\n",
       "    <tr>\n",
       "      <th>9</th>\n",
       "      <td>satisfied</td>\n",
       "      <td>22</td>\n",
       "      <td>1556</td>\n",
       "      <td>0</td>\n",
       "      <td>0</td>\n",
       "      <td>0</td>\n",
       "      <td>3</td>\n",
       "      <td>2</td>\n",
       "      <td>0</td>\n",
       "      <td>2</td>\n",
       "      <td>...</td>\n",
       "      <td>2</td>\n",
       "      <td>30</td>\n",
       "      <td>26.0</td>\n",
       "      <td>1</td>\n",
       "      <td>0</td>\n",
       "      <td>0</td>\n",
       "      <td>1</td>\n",
       "      <td>0</td>\n",
       "      <td>1</td>\n",
       "      <td>0</td>\n",
       "    </tr>\n",
       "  </tbody>\n",
       "</table>\n",
       "<p>10 rows × 26 columns</p>\n",
       "</div>"
      ],
      "text/plain": [
       "  satisfaction  Age  Flight Distance  Seat comfort  \\\n",
       "0    satisfied   65              265             0   \n",
       "1    satisfied   47             2464             0   \n",
       "2    satisfied   15             2138             0   \n",
       "3    satisfied   60              623             0   \n",
       "4    satisfied   70              354             0   \n",
       "5    satisfied   30             1894             0   \n",
       "6    satisfied   66              227             0   \n",
       "7    satisfied   10             1812             0   \n",
       "8    satisfied   56               73             0   \n",
       "9    satisfied   22             1556             0   \n",
       "\n",
       "   Departure/Arrival time convenient  Food and drink  Gate location  \\\n",
       "0                                  0               0              2   \n",
       "1                                  0               0              3   \n",
       "2                                  0               0              3   \n",
       "3                                  0               0              3   \n",
       "4                                  0               0              3   \n",
       "5                                  0               0              3   \n",
       "6                                  0               0              3   \n",
       "7                                  0               0              3   \n",
       "8                                  0               0              3   \n",
       "9                                  0               0              3   \n",
       "\n",
       "   Inflight wifi service  Inflight entertainment  Online support  ...  \\\n",
       "0                      2                       4               2  ...   \n",
       "1                      0                       2               2  ...   \n",
       "2                      2                       0               2  ...   \n",
       "3                      3                       4               3  ...   \n",
       "4                      4                       3               4  ...   \n",
       "5                      2                       0               2  ...   \n",
       "6                      2                       5               5  ...   \n",
       "7                      2                       0               2  ...   \n",
       "8                      5                       3               5  ...   \n",
       "9                      2                       0               2  ...   \n",
       "\n",
       "   Online boarding  Departure Delay in Minutes  Arrival Delay in Minutes  \\\n",
       "0                2                           0                       0.0   \n",
       "1                2                         310                     305.0   \n",
       "2                2                           0                       0.0   \n",
       "3                3                           0                       0.0   \n",
       "4                5                           0                       0.0   \n",
       "5                2                           0                       0.0   \n",
       "6                3                          17                      15.0   \n",
       "7                2                           0                       0.0   \n",
       "8                4                           0                       0.0   \n",
       "9                2                          30                      26.0   \n",
       "\n",
       "   Customer Type_Loyal Customer  Customer Type_disloyal Customer  \\\n",
       "0                             1                                0   \n",
       "1                             1                                0   \n",
       "2                             1                                0   \n",
       "3                             1                                0   \n",
       "4                             1                                0   \n",
       "5                             1                                0   \n",
       "6                             1                                0   \n",
       "7                             1                                0   \n",
       "8                             1                                0   \n",
       "9                             1                                0   \n",
       "\n",
       "   Type of Travel_Business travel  Type of Travel_Personal Travel  \\\n",
       "0                               0                               1   \n",
       "1                               0                               1   \n",
       "2                               0                               1   \n",
       "3                               0                               1   \n",
       "4                               0                               1   \n",
       "5                               0                               1   \n",
       "6                               0                               1   \n",
       "7                               0                               1   \n",
       "8                               0                               1   \n",
       "9                               0                               1   \n",
       "\n",
       "   Class_Business  Class_Eco  Class_Eco Plus  \n",
       "0               0          1               0  \n",
       "1               1          0               0  \n",
       "2               0          1               0  \n",
       "3               0          1               0  \n",
       "4               0          1               0  \n",
       "5               0          1               0  \n",
       "6               0          1               0  \n",
       "7               0          1               0  \n",
       "8               1          0               0  \n",
       "9               0          1               0  \n",
       "\n",
       "[10 rows x 26 columns]"
      ]
     },
     "execution_count": 14,
     "metadata": {},
     "output_type": "execute_result"
    }
   ],
   "source": [
    "# Display the first 10 rows.\n",
    "\n",
    "air_data_subset_dummies.head(10)"
   ]
  },
  {
   "cell_type": "markdown",
   "metadata": {
    "id": "fXzLIPbYYvud"
   },
   "source": [
    "Then, check the variables of air_data_subset_dummies."
   ]
  },
  {
   "cell_type": "code",
   "execution_count": 15,
   "metadata": {
    "id": "X1V76nRmZoWN"
   },
   "outputs": [
    {
     "data": {
      "text/plain": [
       "satisfaction                          object\n",
       "Age                                    int64\n",
       "Flight Distance                        int64\n",
       "Seat comfort                           int64\n",
       "Departure/Arrival time convenient      int64\n",
       "Food and drink                         int64\n",
       "Gate location                          int64\n",
       "Inflight wifi service                  int64\n",
       "Inflight entertainment                 int64\n",
       "Online support                         int64\n",
       "Ease of Online booking                 int64\n",
       "On-board service                       int64\n",
       "Leg room service                       int64\n",
       "Baggage handling                       int64\n",
       "Checkin service                        int64\n",
       "Cleanliness                            int64\n",
       "Online boarding                        int64\n",
       "Departure Delay in Minutes             int64\n",
       "Arrival Delay in Minutes             float64\n",
       "Customer Type_Loyal Customer           uint8\n",
       "Customer Type_disloyal Customer        uint8\n",
       "Type of Travel_Business travel         uint8\n",
       "Type of Travel_Personal Travel         uint8\n",
       "Class_Business                         uint8\n",
       "Class_Eco                              uint8\n",
       "Class_Eco Plus                         uint8\n",
       "dtype: object"
      ]
     },
     "execution_count": 15,
     "metadata": {},
     "output_type": "execute_result"
    }
   ],
   "source": [
    "# Display variables.\n",
    "\n",
    "air_data_subset_dummies.dtypes"
   ]
  },
  {
   "cell_type": "markdown",
   "metadata": {
    "id": "GJkFXh96gIA2"
   },
   "source": [
    "**Question:** What changes do you observe after converting the string data to dummy variables?**\n",
    "\n",
    "- It transforms qualitative information into a format that machine learning algorithms can understand and process, ultimately leading to improved model performance and interpretability."
   ]
  },
  {
   "cell_type": "markdown",
   "metadata": {
    "id": "6b7f8803-44ee-47cf-b97a-efaf5c0fdd59",
    "tags": []
   },
   "source": [
    "## **Step 3: Model building** "
   ]
  },
  {
   "cell_type": "markdown",
   "metadata": {
    "id": "7sf5gGBFySHv"
   },
   "source": [
    "The first step to building your model is separating the labels (y) from the features (X)."
   ]
  },
  {
   "cell_type": "code",
   "execution_count": 16,
   "metadata": {
    "id": "80535d2f-8b1a-4715-b07a-f3734d8cc4c5"
   },
   "outputs": [],
   "source": [
    "# Separate the dataset into labels (y) and features (X).\n",
    "\n",
    "y = air_data_subset_dummies[\"satisfaction\"]\n",
    "X = air_data_subset_dummies.drop(\"satisfaction\", axis=1)"
   ]
  },
  {
   "cell_type": "markdown",
   "metadata": {
    "id": "18fn6lxL8O8Q"
   },
   "source": [
    "<details>\n",
    "<summary><h4><strong>Hint 1</strong></h4></summary>\n",
    "\n",
    "Save the labels (the values in the `satisfaction` column) as `y`.\n",
    "\n",
    "Save the features as `X`. \n",
    "\n",
    "</details>"
   ]
  },
  {
   "cell_type": "markdown",
   "metadata": {},
   "source": [
    "<details>\n",
    "<summary><h4><strong>Hint 2</strong></h4></summary>\n",
    "\n",
    "To obtain the features, drop the `satisfaction` column from the DataFrame.\n",
    "\n",
    "</details>"
   ]
  },
  {
   "cell_type": "markdown",
   "metadata": {
    "id": "49a6c7ae"
   },
   "source": [
    "Once separated, split the data into train, validate, and test sets. "
   ]
  },
  {
   "cell_type": "code",
   "execution_count": 17,
   "metadata": {
    "id": "0de77cb8"
   },
   "outputs": [],
   "source": [
    "# Separate into train, validate, test sets.\n",
    "\n",
    "X_tr, X_test, y_tr, y_test = train_test_split(X, y, test_size = 0.20, random_state = 28)\n",
    "X_train, X_val, y_train, y_val = train_test_split(X_tr, y_tr, test_size = 0.25, random_state = 28)"
   ]
  },
  {
   "cell_type": "markdown",
   "metadata": {
    "id": "16c78c74"
   },
   "source": [
    "<details>\n",
    "<summary><h4><strong>Hint 1</strong></h4></summary>\n",
    "\n",
    "Use the `train_test_split()` function twice to create train/validate/test sets, passing in `random_state` for reproducible results. \n",
    "\n",
    "</details>"
   ]
  },
  {
   "cell_type": "markdown",
   "metadata": {},
   "source": [
    "<details>\n",
    "<summary><h4><strong>Hint 1</strong></h4></summary>\n",
    "\n",
    "Split `X`, `y` to get `X_train`, `X_test`, `y_train`, `y_test`. Set the `test_size` argument to the proportion of data points you want to select for testing. \n",
    "\n",
    "Split `X_train`, `y_train` to get `X_tr`, `X_val`, `y_tr`, `y_val`. Set the `test_size` argument to the proportion of data points you want to select for validation. \n",
    "\n",
    "</details>"
   ]
  },
  {
   "cell_type": "markdown",
   "metadata": {
    "id": "59bbd17e-84e5-463c-8806-f2b5286f9ac8",
    "tags": []
   },
   "source": [
    "### Tune the model\n",
    "\n",
    "Now, fit and tune a random forest model with separate validation set. Begin by determining a set of hyperparameters for tuning the model using GridSearchCV.\n"
   ]
  },
  {
   "cell_type": "code",
   "execution_count": 56,
   "metadata": {
    "id": "7bfdf346"
   },
   "outputs": [],
   "source": [
    "# Determine set of hyperparameters.\n",
    "\n",
    "RF_PARAMS = {'n_estimators' : [50,100], \n",
    "              'max_depth' : [10,50],        \n",
    "              'min_samples_leaf' : [0.5,1], \n",
    "              'min_samples_split' : [0.001, 0.01],\n",
    "              'max_features' : [\"sqrt\"], \n",
    "              'max_samples' : [.5,.9]}"
   ]
  },
  {
   "cell_type": "markdown",
   "metadata": {
    "id": "zMdizCS0rZB4"
   },
   "source": [
    "<details>\n",
    "<summary><h4><strong>Hint 1</strong></h4></summary>\n",
    "\n",
    "Create a dictionary `cv_params` that maps each hyperparameter name to a list of values. The GridSearch you conduct will set the hyperparameter to each possible value, as specified, and determine which value is optimal.\n",
    "\n",
    "</details>"
   ]
  },
  {
   "cell_type": "markdown",
   "metadata": {
    "id": "Swkbtmw7tMMv"
   },
   "source": [
    "<details>\n",
    "<summary><h4><strong>Hint 2</strong></h4></summary>\n",
    "\n",
    "The main hyperparameters here include `'n_estimators', 'max_depth', 'min_samples_leaf', 'min_samples_split', 'max_features', and 'max_samples'`. These will be the keys in the dictionary `cv_params`.\n",
    "\n",
    "</details>"
   ]
  },
  {
   "cell_type": "markdown",
   "metadata": {},
   "source": [
    "Next, create a list of split indices."
   ]
  },
  {
   "cell_type": "code",
   "execution_count": 57,
   "metadata": {
    "id": "a58b4d77-6023-428d-89aa-4d2ac52003dc"
   },
   "outputs": [],
   "source": [
    "# Create list of split indices.\n",
    "\n",
    "split_index = [0 if x in X_val.index else -1 for x in X_tr.index]\n",
    "custom_split = PredefinedSplit(split_index)"
   ]
  },
  {
   "cell_type": "markdown",
   "metadata": {
    "id": "USX90GwZt3xU"
   },
   "source": [
    "<details>\n",
    "<summary><h4><strong>Hint 1</strong></h4></summary>\n",
    "\n",
    "Use list comprehension, iterating over the indices of `X_train`. The list can consists of 0s to indicate data points that should be treated as validation data and -1s to indicate data points that should be treated as training data.\n",
    "\n",
    "</details>"
   ]
  },
  {
   "cell_type": "markdown",
   "metadata": {},
   "source": [
    "<details>\n",
    "<summary><h4><strong>Hint 2</strong></h4></summary>\n",
    "\n",
    "Use `PredfinedSplit()`, passing in `split_index`, saving the output as `custom_split`. This will serve as a custom split that will identify which data points from the train set should be treated as validation data during GridSearch.\n",
    "\n",
    "</details>"
   ]
  },
  {
   "cell_type": "markdown",
   "metadata": {},
   "source": [
    "Now, instantiate your model."
   ]
  },
  {
   "cell_type": "code",
   "execution_count": 58,
   "metadata": {
    "id": "U0qvZjujbTKL"
   },
   "outputs": [],
   "source": [
    "# Instantiate model.\n",
    "\n",
    "RF_MODEL = RandomForestClassifier(random_state=0)"
   ]
  },
  {
   "cell_type": "markdown",
   "metadata": {
    "id": "voetM7-QwI5w"
   },
   "source": [
    "<details>\n",
    "<summary><h4><strong>Hint 1</strong></h4></summary>\n",
    "\n",
    "Use `RandomForestClassifier()`, specifying the `random_state` argument for reproducible results. This will help you instantiate a random forest model, `rf`.\n",
    "\n",
    "</details>"
   ]
  },
  {
   "cell_type": "markdown",
   "metadata": {},
   "source": [
    "Next, use GridSearchCV to search over the specified parameters."
   ]
  },
  {
   "cell_type": "code",
   "execution_count": 60,
   "metadata": {
    "id": "228e65c3"
   },
   "outputs": [],
   "source": [
    "# Search over specified parameters.\n",
    "\n",
    "GRID_RF = GridSearchCV(estimator = RF_MODEL, param_grid = RF_PARAMS,refit='f1',\n",
    "                              scoring='accuracy', n_jobs=-1, cv= custom_split, verbose = 1)"
   ]
  },
  {
   "cell_type": "markdown",
   "metadata": {
    "id": "bppjmuqzwZf3"
   },
   "source": [
    "<details>\n",
    "<summary><h4><strong>Hint 1</strong></h4></summary>\n",
    "\n",
    "Use `GridSearchCV()`, passing in `rf` and `cv_params` and specifying `cv` as `custom_split`. Additional arguments that you can specify include: `refit='f1', n_jobs = -1, verbose = 1`. \n",
    "\n",
    "</details>"
   ]
  },
  {
   "cell_type": "markdown",
   "metadata": {},
   "source": [
    "Now, fit your model."
   ]
  },
  {
   "cell_type": "code",
   "execution_count": 61,
   "metadata": {
    "id": "gw_woSKtfsAk"
   },
   "outputs": [
    {
     "name": "stdout",
     "output_type": "stream",
     "text": [
      "Fitting 1 folds for each of 32 candidates, totalling 32 fits\n"
     ]
    },
    {
     "name": "stderr",
     "output_type": "stream",
     "text": [
      "[Parallel(n_jobs=-1)]: Using backend LokyBackend with 2 concurrent workers.\n",
      "[Parallel(n_jobs=-1)]: Done  32 out of  32 | elapsed:   43.4s finished\n"
     ]
    },
    {
     "name": "stdout",
     "output_type": "stream",
     "text": [
      "CPU times: user 10.2 s, sys: 111 ms, total: 10.3 s\n",
      "Wall time: 53.2 s\n"
     ]
    },
    {
     "data": {
      "text/plain": [
       "GridSearchCV(cv=PredefinedSplit(test_fold=array([-1, -1, ..., -1,  0])),\n",
       "             error_score=nan,\n",
       "             estimator=RandomForestClassifier(bootstrap=True, ccp_alpha=0.0,\n",
       "                                              class_weight=None,\n",
       "                                              criterion='gini', max_depth=None,\n",
       "                                              max_features='auto',\n",
       "                                              max_leaf_nodes=None,\n",
       "                                              max_samples=None,\n",
       "                                              min_impurity_decrease=0.0,\n",
       "                                              min_impurity_split=None,\n",
       "                                              min_samples_leaf=1,\n",
       "                                              min_samples_split=2,\n",
       "                                              min_weigh...\n",
       "                                              n_estimators=100, n_jobs=None,\n",
       "                                              oob_score=False, random_state=0,\n",
       "                                              verbose=0, warm_start=False),\n",
       "             iid='deprecated', n_jobs=-1,\n",
       "             param_grid={'max_depth': [10, 50], 'max_features': ['sqrt'],\n",
       "                         'max_samples': [0.5, 0.9],\n",
       "                         'min_samples_leaf': [0.5, 1],\n",
       "                         'min_samples_split': [0.001, 0.01],\n",
       "                         'n_estimators': [50, 100]},\n",
       "             pre_dispatch='2*n_jobs', refit='f1', return_train_score=False,\n",
       "             scoring='accuracy', verbose=1)"
      ]
     },
     "execution_count": 61,
     "metadata": {},
     "output_type": "execute_result"
    }
   ],
   "source": [
    "%%time\n",
    "\n",
    "GRID_RF.fit(X_tr,y_tr)"
   ]
  },
  {
   "cell_type": "markdown",
   "metadata": {
    "id": "aUYHWoZsyJs0"
   },
   "source": [
    "<details>\n",
    "<summary><h4><strong>Hint 1</strong></h4></summary>\n",
    "\n",
    "Use the `fit()` method to train the GridSearchCV model on `X_train` and `y_train`. \n",
    "\n",
    "</details>"
   ]
  },
  {
   "cell_type": "markdown",
   "metadata": {},
   "source": [
    "<details>\n",
    "<summary><h4><strong>Hint 2</strong></h4></summary>\n",
    "\n",
    "Add the magic function `%%time` to keep track of the amount of time it takes to fit the model and display this information once execution has completed. Remember that this code must be the first line in the cell.\n",
    "\n",
    "</details>"
   ]
  },
  {
   "cell_type": "markdown",
   "metadata": {},
   "source": [
    "Finally, obtain the optimal parameters."
   ]
  },
  {
   "cell_type": "code",
   "execution_count": 62,
   "metadata": {
    "id": "c76a0bd9"
   },
   "outputs": [
    {
     "data": {
      "text/plain": [
       "{'max_depth': 50,\n",
       " 'max_features': 'sqrt',\n",
       " 'max_samples': 0.9,\n",
       " 'min_samples_leaf': 1,\n",
       " 'min_samples_split': 0.001,\n",
       " 'n_estimators': 100}"
      ]
     },
     "execution_count": 62,
     "metadata": {},
     "output_type": "execute_result"
    }
   ],
   "source": [
    "# Obtain optimal parameters.\n",
    "\n",
    "GRID_RF.best_params_"
   ]
  },
  {
   "cell_type": "markdown",
   "metadata": {
    "id": "604a475e"
   },
   "source": [
    "<details>\n",
    "<summary><h4><strong>Hint 1</strong></h4></summary>\n",
    "\n",
    "Use the `best_params_` attribute to obtain the optimal values for the hyperparameters from the GridSearchCV model.\n",
    "\n",
    "</details>"
   ]
  },
  {
   "cell_type": "markdown",
   "metadata": {
    "id": "70fc3ec6-a89a-4b25-a574-29f9d4325694"
   },
   "source": [
    "## **Step 4: Results and evaluation** "
   ]
  },
  {
   "cell_type": "markdown",
   "metadata": {
    "id": "zXqywQtvyrS1"
   },
   "source": [
    "Use the selected model to predict on your test data. Use the optimal parameters found via GridSearchCV."
   ]
  },
  {
   "cell_type": "code",
   "execution_count": 63,
   "metadata": {
    "id": "c6b8aa2d-984f-467a-b52a-e7f21d603a8c"
   },
   "outputs": [],
   "source": [
    "# Use optimal parameters on GridSearchCV.\n",
    "\n",
    "RF_TUNED = RandomForestClassifier(n_estimators = 100, max_depth = 50, \n",
    "                                min_samples_leaf = 1, min_samples_split = 0.001,\n",
    "                                max_features=\"sqrt\", max_samples = 0.9, random_state = 0)"
   ]
  },
  {
   "cell_type": "markdown",
   "metadata": {
    "id": "Tu3sgtdRzmmJ"
   },
   "source": [
    "<details>\n",
    "<summary><h4><strong>Hint 1</strong></h4></summary>\n",
    "\n",
    "Use `RandomForestClassifier()`, specifying the `random_state` argument for reproducible results and passing in the optimal hyperparameters found in the previous step. To distinguish this from the previous random forest model, consider naming this variable `rf_opt`.\n",
    "\n",
    "</details>"
   ]
  },
  {
   "cell_type": "markdown",
   "metadata": {},
   "source": [
    "Once again, fit the optimal model."
   ]
  },
  {
   "cell_type": "code",
   "execution_count": 65,
   "metadata": {
    "id": "iJ7MkQ3hjh3u"
   },
   "outputs": [
    {
     "data": {
      "text/plain": [
       "RandomForestClassifier(bootstrap=True, ccp_alpha=0.0, class_weight=None,\n",
       "                       criterion='gini', max_depth=50, max_features='sqrt',\n",
       "                       max_leaf_nodes=None, max_samples=0.9,\n",
       "                       min_impurity_decrease=0.0, min_impurity_split=None,\n",
       "                       min_samples_leaf=1, min_samples_split=0.001,\n",
       "                       min_weight_fraction_leaf=0.0, n_estimators=100,\n",
       "                       n_jobs=None, oob_score=False, random_state=0, verbose=0,\n",
       "                       warm_start=False)"
      ]
     },
     "execution_count": 65,
     "metadata": {},
     "output_type": "execute_result"
    }
   ],
   "source": [
    "# Fit the optimal model.\n",
    "\n",
    "RF_TUNED.fit(X_tr,y_tr)"
   ]
  },
  {
   "cell_type": "markdown",
   "metadata": {
    "id": "SAKs_7Ms0HAO"
   },
   "source": [
    "<details>\n",
    "<summary><h4><strong>Hint 1</strong></h4></summary>\n",
    "\n",
    "Use the `fit()` method to train `rf_opt` on `X_train` and `y_train`.\n",
    "\n",
    "</details>"
   ]
  },
  {
   "cell_type": "markdown",
   "metadata": {},
   "source": [
    "And predict on the test set using the optimal model."
   ]
  },
  {
   "cell_type": "code",
   "execution_count": 67,
   "metadata": {
    "id": "2cc40ec1-5fa4-4803-9021-abea9699a804"
   },
   "outputs": [],
   "source": [
    "# Predict on test set.\n",
    "\n",
    "y_pred = RF_TUNED.predict(X_test)"
   ]
  },
  {
   "cell_type": "markdown",
   "metadata": {
    "id": "4df36d33"
   },
   "source": [
    "<details>\n",
    "<summary><h4><strong>Hint 1</strong></h4></summary>\n",
    "\n",
    "You can call the `predict()` function to make predictions on `X_test` using `rf_opt`. Save the predictions now (for example, as `y_pred`), to use them later for comparing to the true labels. \n",
    "\n",
    "</details>"
   ]
  },
  {
   "cell_type": "markdown",
   "metadata": {
    "id": "153a8200"
   },
   "source": [
    "### Obtain performance scores"
   ]
  },
  {
   "cell_type": "markdown",
   "metadata": {
    "id": "cea208e9"
   },
   "source": [
    "First, get your precision score."
   ]
  },
  {
   "cell_type": "code",
   "execution_count": 68,
   "metadata": {
    "id": "6913aa4b"
   },
   "outputs": [
    {
     "name": "stdout",
     "output_type": "stream",
     "text": [
      "The precision score is 0.954\n"
     ]
    }
   ],
   "source": [
    "# Get precision score.\n",
    "\n",
    "PRECISION = precision_score(y_test, y_pred, pos_label = \"satisfied\")\n",
    "print(\"The precision score is {pc:.3f}\".format(pc = PRECISION))"
   ]
  },
  {
   "cell_type": "markdown",
   "metadata": {
    "id": "XVtVtsLV0ddI"
   },
   "source": [
    "<details>\n",
    "<summary><h4><strong>Hint 1</strong></h4></summary>\n",
    "\n",
    "You can call the `precision_score()` function from `sklearn.metrics`, passing in `y_test` and `y_pred` and specifying the `pos_label` argument as `\"satisfied\"`.\n",
    "</details>"
   ]
  },
  {
   "cell_type": "markdown",
   "metadata": {
    "id": "66dda49b"
   },
   "source": [
    "Then, collect the recall score."
   ]
  },
  {
   "cell_type": "code",
   "execution_count": 69,
   "metadata": {
    "id": "dd971df6"
   },
   "outputs": [
    {
     "name": "stdout",
     "output_type": "stream",
     "text": [
      "The recall score is 0.946\n"
     ]
    }
   ],
   "source": [
    "# Get recall score.\n",
    "\n",
    "RECALL = recall_score(y_test, y_pred, pos_label = \"satisfied\")\n",
    "print(\"The recall score is {rc:.3f}\".format(rc = RECALL))"
   ]
  },
  {
   "cell_type": "markdown",
   "metadata": {
    "id": "5XUaS34s1yH_"
   },
   "source": [
    "<details>\n",
    "<summary><h4><strong>Hint 1</strong></h4></summary>\n",
    "\n",
    "You can call the `recall_score()` function from `sklearn.metrics`, passing in `y_test` and `y_pred` and specifying the `pos_label` argument as `\"satisfied\"`.\n",
    "</details>"
   ]
  },
  {
   "cell_type": "markdown",
   "metadata": {
    "id": "ea594a68"
   },
   "source": [
    "Next, obtain your accuracy score."
   ]
  },
  {
   "cell_type": "code",
   "execution_count": 70,
   "metadata": {
    "id": "011b8b71"
   },
   "outputs": [
    {
     "name": "stdout",
     "output_type": "stream",
     "text": [
      "The accuracy score is 0.946\n"
     ]
    }
   ],
   "source": [
    "# Get accuracy score.\n",
    "\n",
    "ACCURACY = accuracy_score(y_test, y_pred)\n",
    "print(\"The accuracy score is {ac:.3f}\".format(ac = ACCURACY))"
   ]
  },
  {
   "cell_type": "markdown",
   "metadata": {
    "id": "QProyXMS10zG"
   },
   "source": [
    "<details>\n",
    "<summary><h4><strong>Hint 1</strong></h4></summary>\n",
    "\n",
    "You can call the `accuracy_score()` function from `sklearn.metrics`, passing in `y_test` and `y_pred` and specifying the `pos_label` argument as `\"satisfied\"`.\n",
    "</details>"
   ]
  },
  {
   "cell_type": "markdown",
   "metadata": {
    "id": "871ea5cb"
   },
   "source": [
    "Finally, collect your F1-score."
   ]
  },
  {
   "cell_type": "code",
   "execution_count": 72,
   "metadata": {
    "id": "490fcb3e"
   },
   "outputs": [
    {
     "name": "stdout",
     "output_type": "stream",
     "text": [
      "The F1 score is 0.950\n"
     ]
    }
   ],
   "source": [
    "# Get F1 score.\n",
    "\n",
    "F1_SCORE = f1_score(y_test, y_pred, pos_label = \"satisfied\")\n",
    "print(\"The F1 score is {f1:.3f}\".format(f1 = F1_SCORE))"
   ]
  },
  {
   "cell_type": "markdown",
   "metadata": {
    "id": "vtBQWSVs13dT"
   },
   "source": [
    "<details>\n",
    "<summary><h4><strong>Hint 1</strong></h4></summary>\n",
    "\n",
    "You can call the `f1_score()` function from `sklearn.metrics`, passing in `y_test` and `y_pred` and specifying the `pos_label` argument as `\"satisfied\"`.\n",
    "</details>"
   ]
  },
  {
   "cell_type": "markdown",
   "metadata": {
    "id": "1edc4c95-1cf4-4e05-b2a2-dc18cadb3d63"
   },
   "source": [
    "**Question:** How is the F1-score calculated?\n",
    "\n",
    "F1-Score = 2×Precision×Recall/(Precision+Recall)"
   ]
  },
  {
   "cell_type": "markdown",
   "metadata": {
    "id": "cfkbwjlvcX3k"
   },
   "source": [
    "**Question:** What are the pros and cons of performing the model selection using test data instead of a separate validation dataset?\n",
    "\n",
    "- while using test data for model selection offers simplicity and efficiency, it comes with significant risks, including overfitting, data leakage, and limited generalization. It is generally recommended to use a separate validation dataset for model selection to ensure unbiased evaluation and robust generalization performance. This approach adheres to best practices in machine learning and helps mitigate potential pitfalls associated with using test data for model selection.\n",
    "\n"
   ]
  },
  {
   "cell_type": "markdown",
   "metadata": {
    "id": "510b2158-2813-4600-868e-a909595a2366"
   },
   "source": [
    "### Evaluate the model\n",
    "\n",
    "Now that you have results, evaluate the model. "
   ]
  },
  {
   "cell_type": "markdown",
   "metadata": {
    "id": "57771b26"
   },
   "source": [
    "**Question:** What are the four basic parameters for evaluating the performance of a classification model?\n",
    "\n",
    "    True Positive: Instances correctly predicted as positive by the model.\n",
    "    True Negative: Instances correctly predicted as negative by the model.\n",
    "    False Positive: Instances incorrectly predicted as positive by the model.\n",
    "    False Negative: Instances incorrectly predicted as negative by the model."
   ]
  },
  {
   "cell_type": "markdown",
   "metadata": {
    "id": "LojJPkIrjNbJ"
   },
   "source": [
    "**Question:**  What do the four scores demonstrate about your model, and how do you calculate them?\n",
    "\n",
    "    Accuracy: Proportion of correct predictions out of total predictions made by the model.\n",
    "    Accuracy\t=\t(True Positives+True Negatives)/Total Prediction\n",
    "\n",
    "    Precision: Proportion of true positive predictions out of all positive predictions made by the model.\n",
    "    Precision\t=\tTrue Positives/(True Positives+False Positives)\n",
    "\n",
    "    Recall (Sensitivity): Proportion of true positive predictions out of all actual positive instances in the dataset.\n",
    "    Recall\t\t=\tTrue Positives/(True Positives+False Negatives)\n",
    "    \n",
    "    F1-Score: Harmonic mean of precision and recall, providing a balance between these two metrics.\n",
    "    F1-Score\t=\t2×Precision×Recall/(Precision+Recall)"
   ]
  },
  {
   "cell_type": "markdown",
   "metadata": {},
   "source": [
    "Calculate the scores: precision score, recall score, accuracy score, F1 score."
   ]
  },
  {
   "cell_type": "code",
   "execution_count": 73,
   "metadata": {
    "id": "RUT99rnqOds3"
   },
   "outputs": [
    {
     "name": "stdout",
     "output_type": "stream",
     "text": [
      "The precision score on test data is 0.954\n"
     ]
    }
   ],
   "source": [
    "# Precision score on test data set.\n",
    "\n",
    "print(\"The precision score on test data is {pc:.3f}\".format(pc = PRECISION))"
   ]
  },
  {
   "cell_type": "code",
   "execution_count": 75,
   "metadata": {
    "id": "GTiaHUVvTiUN"
   },
   "outputs": [
    {
     "name": "stdout",
     "output_type": "stream",
     "text": [
      "The recall score on test data is 0.946\n"
     ]
    }
   ],
   "source": [
    "# Recall score on test data set.\n",
    "\n",
    "print(\"The recall score on test data is {pc:.3f}\".format(pc = RECALL))"
   ]
  },
  {
   "cell_type": "code",
   "execution_count": 76,
   "metadata": {
    "id": "VrYHruUdV1Os"
   },
   "outputs": [
    {
     "name": "stdout",
     "output_type": "stream",
     "text": [
      "The accuracy score on test data is 0.946\n"
     ]
    }
   ],
   "source": [
    "# Accuracy score on test data set.\n",
    "\n",
    "print(\"The accuracy score on test data is {pc:.3f}\".format(pc = ACCURACY))"
   ]
  },
  {
   "cell_type": "code",
   "execution_count": 77,
   "metadata": {
    "id": "pKGc64U2YbL1"
   },
   "outputs": [
    {
     "name": "stdout",
     "output_type": "stream",
     "text": [
      "The f1_score score on test data is 0.950\n"
     ]
    }
   ],
   "source": [
    "# F1 score on test data set.\n",
    "\n",
    "print(\"The f1_score score on test data is {pc:.3f}\".format(pc = F1_SCORE))"
   ]
  },
  {
   "cell_type": "markdown",
   "metadata": {},
   "source": [
    "**Question:** How does this model perform based on the four scores?\n",
    "\n",
    "- The model is performing is very well with more than 95% of precision"
   ]
  },
  {
   "cell_type": "markdown",
   "metadata": {
    "id": "PaKUSbqDW28K"
   },
   "source": [
    "### Evaluate the model\n",
    "\n",
    "Finally, create a table of results that you can use to evaluate the performace of your model."
   ]
  },
  {
   "cell_type": "code",
   "execution_count": 81,
   "metadata": {
    "id": "6L7AgdeldsKZ"
   },
   "outputs": [
    {
     "data": {
      "text/html": [
       "<style type=\"text/css\">\n",
       "#T_bb169_row0_col0, #T_bb169_row0_col1, #T_bb169_row0_col2, #T_bb169_row0_col3, #T_bb169_row0_col4, #T_bb169_row1_col0, #T_bb169_row1_col1, #T_bb169_row1_col2, #T_bb169_row1_col3, #T_bb169_row1_col4 {\n",
       "  border: 1.3px solid black;\n",
       "  color: blue;\n",
       "}\n",
       "</style>\n",
       "<table id=\"T_bb169_\">\n",
       "  <thead>\n",
       "    <tr>\n",
       "      <th class=\"col_heading level0 col0\" >Model</th>\n",
       "      <th class=\"col_heading level0 col1\" >F1</th>\n",
       "      <th class=\"col_heading level0 col2\" >Recall</th>\n",
       "      <th class=\"col_heading level0 col3\" >Precision</th>\n",
       "      <th class=\"col_heading level0 col4\" >Accuracy</th>\n",
       "    </tr>\n",
       "  </thead>\n",
       "  <tbody>\n",
       "    <tr>\n",
       "      <td id=\"T_bb169_row0_col0\" class=\"data row0 col0\" >DECISION TREE TUNED</td>\n",
       "      <td id=\"T_bb169_row0_col1\" class=\"data row0 col1\" >0.943750</td>\n",
       "      <td id=\"T_bb169_row0_col2\" class=\"data row0 col2\" >0.935863</td>\n",
       "      <td id=\"T_bb169_row0_col3\" class=\"data row0 col3\" >0.951779</td>\n",
       "      <td id=\"T_bb169_row0_col4\" class=\"data row0 col4\" >0.938835</td>\n",
       "    </tr>\n",
       "    <tr>\n",
       "      <td id=\"T_bb169_row1_col0\" class=\"data row1 col0\" >RANDOM FOREST</td>\n",
       "      <td id=\"T_bb169_row1_col1\" class=\"data row1 col1\" >0.949973</td>\n",
       "      <td id=\"T_bb169_row1_col2\" class=\"data row1 col2\" >0.945915</td>\n",
       "      <td id=\"T_bb169_row1_col3\" class=\"data row1 col3\" >0.954066</td>\n",
       "      <td id=\"T_bb169_row1_col4\" class=\"data row1 col4\" >0.945517</td>\n",
       "    </tr>\n",
       "  </tbody>\n",
       "</table>\n"
      ],
      "text/plain": [
       "<pandas.io.formats.style.Styler at 0x7f4378a7ef50>"
      ]
     },
     "execution_count": 81,
     "metadata": {},
     "output_type": "execute_result"
    }
   ],
   "source": [
    "# Create table of results.\n",
    "\n",
    "RESULTS = pd.DataFrame({'Model': [\"DECISION TREE TUNED\", \"RANDOM FOREST\"],\n",
    "                        'F1':  [0.94375, F1_SCORE],\n",
    "                        'Recall': [0.935863, RECALL],\n",
    "                        'Precision': [0.951779, PRECISION],\n",
    "                        'Accuracy': [0.938835, ACCURACY]\n",
    "                      }\n",
    "                    )\n",
    "RESULTS.style.set_properties(**{'border': '1.3px solid black','color': 'blue'}).hide_index()"
   ]
  },
  {
   "cell_type": "markdown",
   "metadata": {
    "id": "qqu9L0ip328H"
   },
   "source": [
    "\n",
    "<details>\n",
    "<summary><h4><strong>Hint 1</strong></h4></summary>\n",
    "\n",
    "Build a table to compare the performance of the models. Create a DataFrame using the `pd.DataFrame()` function.\n",
    "\n",
    "</details>"
   ]
  },
  {
   "cell_type": "markdown",
   "metadata": {
    "id": "trUO9XEHbXG6"
   },
   "source": [
    "**Question:** How does the random forest model compare to the decision tree model you built in the previous lab?\n",
    "\n",
    "- Random Forest has performed better than decision tree showing improvement in all the model valuation scores.\n",
    "\n"
   ]
  },
  {
   "cell_type": "markdown",
   "metadata": {
    "id": "okMTunOhpotF"
   },
   "source": [
    "## **Considerations**\n",
    "\n",
    "\n",
    "**What are the key takeaways from this lab?**\n",
    "- Data exploring, cleaning, and encoding are necessary for model building.\n",
    "- A separate validation set is typically used for tuning a model, rather than using the test set. This also helps avoid the evaluation becoming biased.\n",
    "-  F1 scores are usually more useful than accuracy scores. If the cost of false positives and false negatives are very different, it’s better to use the F1 score and combine the information from precision and recall. \n",
    "* The random forest model yields a more effective performance than a decision tree model. \n",
    "\n",
    "**What summary would you provide to stakeholders?**\n",
    "* The random forest model predicted satisfaction with more than 94.55% accuracy. The precision is over 95.4% and the recall is approximately 94.5%. \n",
    "* The random forest model outperformed the tuned decision tree with the best hyperparameters in most of the four scores. This indicates that the random forest model may perform better.\n",
    "* Because stakeholders were interested in learning about the factors that are most important to customer satisfaction, this would be shared based on the tuned random forest. \n",
    "* In addition, you would provide details about the precision, recall, accuracy, and F1 scores to support your findings. "
   ]
  },
  {
   "cell_type": "markdown",
   "metadata": {
    "id": "eb58bfc4"
   },
   "source": [
    "### References"
   ]
  },
  {
   "cell_type": "markdown",
   "metadata": {
    "id": "3c2abcc0"
   },
   "source": [
    "[What is the Difference Between Test and Validation Datasets?,  Jason Brownlee](https://machinelearningmastery.com/difference-test-validation-datasets/)\n",
    "\n",
    "[Decision Trees and Random Forests Neil Liberman](https://towardsdatascience.com/decision-trees-and-random-forests-df0c3123f991)"
   ]
  },
  {
   "cell_type": "markdown",
   "metadata": {},
   "source": [
    "**Congratulations!** You've completed this lab. However, you may not notice a green check mark next to this item on Coursera's platform. Please continue your progress regardless of the check mark. Just click on the \"save\" icon at the top of this notebook to ensure your work has been logged"
   ]
  }
 ],
 "metadata": {
  "colab": {
   "collapsed_sections": [],
   "provenance": [
    {
     "file_id": "1ajeXfekjHYYlATQqDdzWb2bjoSQPy9e5",
     "timestamp": 1661470003810
    },
    {
     "file_id": "1sKzoVdsFNq2nBg0uus6LyTzuD2Ktou4t",
     "timestamp": 1661452831142
    }
   ]
  },
  "gpuClass": "standard",
  "kernelspec": {
   "display_name": "Python 3",
   "language": "python",
   "name": "python3"
  },
  "language_info": {
   "codemirror_mode": {
    "name": "ipython",
    "version": 3
   },
   "file_extension": ".py",
   "mimetype": "text/x-python",
   "name": "python",
   "nbconvert_exporter": "python",
   "pygments_lexer": "ipython3",
   "version": "3.7.6"
  }
 },
 "nbformat": 4,
 "nbformat_minor": 5
}
