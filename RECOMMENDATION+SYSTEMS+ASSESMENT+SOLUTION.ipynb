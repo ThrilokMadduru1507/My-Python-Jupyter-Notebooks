{
 "cells": [
  {
   "cell_type": "markdown",
   "id": "334d71b6",
   "metadata": {},
   "source": [
    "# • DOMAIN: Smartphone, Electronics\n",
    "\n",
    "# • CONTEXT: India is the second largest market globally for smartphones after China. About 134 million smartphones were sold across India in the year 2017 and is estimated to increase to about 442 million in 2022. India ranked second in the average time spent on mobile web by smartphone users across Asia Pacific. The combination of very high sales volumes and the average smartphone consumer behaviour has made India a very attractive market for foreign vendors. As per Consumer behaviour, 97% of consumers turn to a search engine when they are buying a product vs. 15% who turn to social media. If a seller succeeds to publish smartphones based on user’s behaviour/choice at the right place, there are 90% chances that user will enquire for the same. This Case Study is targeted to build a recommendation system based on individual consumer’s behaviour or choice."
   ]
  },
  {
   "cell_type": "markdown",
   "id": "917ecdb8",
   "metadata": {},
   "source": [
    "# • DATA DESCRIPTION:\n",
    "    • author : name of the person who gave the rating\n",
    "    • country : country the person who gave the rating belongs to\n",
    "    • data : date of the rating\n",
    "    • domain: website from which the rating was taken from\n",
    "    • extract: rating content\n",
    "    • language: language in which the rating was given\n",
    "    • product: name of the product/mobile phone for which the rating was given\n",
    "    • score: average rating for the phone\n",
    "    • score_max: highest rating given for the phone\n",
    "    • source: source from where the rating was taken\n",
    "\n",
    "# • PROJECT OBJECTIVE: We will build a recommendation system using popularity based and collaborative filtering methods to recommend mobile phones to a user which are most popular and personalised respectively."
   ]
  },
  {
   "cell_type": "markdown",
   "id": "a9e0b7c9",
   "metadata": {},
   "source": [
    "# 1. Import the necessary libraries and read the provided CSVs as a data frame and perform the below steps."
   ]
  },
  {
   "cell_type": "markdown",
   "id": "afc98f23",
   "metadata": {},
   "source": [
    "# A. Merge all the provided CSVs into one dataFrame."
   ]
  },
  {
   "cell_type": "code",
   "execution_count": 1,
   "id": "c7617360",
   "metadata": {},
   "outputs": [],
   "source": [
    "# IMPORT ALL THE NECESSARY LIBRARIES:\n",
    "\n",
    "import numpy as np\n",
    "import pandas as pd\n",
    "from math import*\n",
    "\n",
    "import matplotlib.pyplot as plt\n",
    "%matplotlib inline\n",
    "import seaborn as sns\n",
    "\n",
    "from sklearn.metrics.pairwise import linear_kernel\n",
    "from sklearn.metrics.pairwise import cosine_similarity\n",
    "from sklearn.feature_extraction.text import CountVectorizer\n",
    "from sklearn.feature_extraction.text import TfidfVectorizer\n",
    "from sklearn.preprocessing import LabelEncoder\n",
    "from sklearn.preprocessing import StandardScaler\n",
    "\n",
    "from collections import defaultdict\n",
    "from surprise import Reader\n",
    "from surprise import accuracy\n",
    "from surprise import Dataset\n",
    "from surprise import KNNWithMeans\n",
    "from surprise import SVD\n",
    "from surprise.model_selection import train_test_split\n",
    "from surprise.model_selection import cross_validate\n",
    "\n",
    "from scipy.linalg import svd\n",
    "\n",
    "from rake_nltk import Rake\n",
    "\n",
    "import warnings\n",
    "warnings.filterwarnings('ignore')"
   ]
  },
  {
   "cell_type": "code",
   "execution_count": 2,
   "id": "fb3306d9",
   "metadata": {},
   "outputs": [],
   "source": [
    "# IMPORT ALL THE 6 FILES AND ASSIGN THEM TO A VARIABLES DF_1 TO DF_6\n",
    "\n",
    "DF_1 = pd.read_csv(\"phone_user_review_file_1.csv\",encoding='iso-8859-1')\n",
    "DF_2 = pd.read_csv(\"phone_user_review_file_2.csv\",encoding='iso-8859-1')\n",
    "DF_3 = pd.read_csv(\"phone_user_review_file_3.csv\",encoding='iso-8859-1')\n",
    "DF_4 = pd.read_csv(\"phone_user_review_file_4.csv\",encoding='iso-8859-1')\n",
    "DF_5 = pd.read_csv(\"phone_user_review_file_5.csv\",encoding='iso-8859-1')\n",
    "DF_6 = pd.read_csv(\"phone_user_review_file_6.csv\",encoding='iso-8859-1')"
   ]
  },
  {
   "cell_type": "code",
   "execution_count": 3,
   "id": "1e0f6caa",
   "metadata": {},
   "outputs": [
    {
     "name": "stdout",
     "output_type": "stream",
     "text": [
      "COLUMNS PRESENT IN ALL THE DATA FRAMES:\n",
      "\n",
      "\n",
      "COLUMNS IN DF_1\n",
      " Index(['phone_url', 'date', 'lang', 'country', 'source', 'domain', 'score',\n",
      "       'score_max', 'extract', 'author', 'product'],\n",
      "      dtype='object') \n",
      "\n",
      "COLUMNS IN DF_2\n",
      " Index(['phone_url', 'date', 'lang', 'country', 'source', 'domain', 'score',\n",
      "       'score_max', 'extract', 'author', 'product'],\n",
      "      dtype='object') \n",
      "\n",
      "COLUMNS IN DF_3\n",
      " Index(['phone_url', 'date', 'lang', 'country', 'source', 'domain', 'score',\n",
      "       'score_max', 'extract', 'author', 'product'],\n",
      "      dtype='object') \n",
      "\n",
      "COLUMNS IN DF_3\n",
      " Index(['phone_url', 'date', 'lang', 'country', 'source', 'domain', 'score',\n",
      "       'score_max', 'extract', 'author', 'product'],\n",
      "      dtype='object') \n",
      "\n",
      "COLUMNS IN DF_4\n",
      " Index(['phone_url', 'date', 'lang', 'country', 'source', 'domain', 'score',\n",
      "       'score_max', 'extract', 'author', 'product'],\n",
      "      dtype='object') \n",
      "\n",
      "COLUMNS IN DF_5\n",
      " Index(['phone_url', 'date', 'lang', 'country', 'source', 'domain', 'score',\n",
      "       'score_max', 'extract', 'author', 'product'],\n",
      "      dtype='object') \n",
      "\n",
      "COLUMNS IN DF_6\n",
      " Index(['phone_url', 'date', 'lang', 'country', 'source', 'domain', 'score',\n",
      "       'score_max', 'extract', 'author', 'product'],\n",
      "      dtype='object')\n",
      "\n",
      "\n",
      "\n",
      " NO OF ROWS AND COLUMNS IN EACH DATA SET:\n",
      "\n",
      "\n",
      " ROWS IN DF_1: 374910    COLUMNS IN DF_1: 11 \n",
      " ROWS IN DF_2: 114925    COLUMNS IN DF_2: 11 \n",
      " ROWS IN DF_3: 312961    COLUMNS IN DF_3: 11 \n",
      " ROWS IN DF_4: 98284     COLUMNS IN DF_4: 11 \n",
      " ROWS IN DF_5: 350216    COLUMNS IN DF_5: 11 \n",
      " ROWS IN DF_6: 163837    COLUMNS IN DF_6: 11 \n",
      "\n"
     ]
    }
   ],
   "source": [
    "print('COLUMNS PRESENT IN ALL THE DATA FRAMES:\\n\\n')\n",
    "\n",
    "print('COLUMNS IN DF_1\\n',DF_1.columns,\n",
    "      '\\n\\nCOLUMNS IN DF_2\\n',DF_2.columns,\n",
    "      '\\n\\nCOLUMNS IN DF_3\\n',DF_3.columns,\n",
    "      '\\n\\nCOLUMNS IN DF_3\\n',DF_3.columns,\n",
    "      '\\n\\nCOLUMNS IN DF_4\\n',DF_4.columns,\n",
    "      '\\n\\nCOLUMNS IN DF_5\\n',DF_5.columns,\n",
    "      '\\n\\nCOLUMNS IN DF_6\\n',DF_6.columns)\n",
    "\n",
    "print('\\n\\n')\n",
    "\n",
    "print(' NO OF ROWS AND COLUMNS IN EACH DATA SET:\\n\\n')\n",
    "\n",
    "print(' ROWS IN DF_1:',DF_1.shape[0], '   COLUMNS IN DF_1:',DF_1.shape[1],'\\n',\n",
    "      'ROWS IN DF_2:',DF_2.shape[0], '   COLUMNS IN DF_2:',DF_2.shape[1],'\\n',\n",
    "      'ROWS IN DF_3:',DF_3.shape[0], '   COLUMNS IN DF_3:',DF_3.shape[1],'\\n',\n",
    "      'ROWS IN DF_4:',DF_4.shape[0], '    COLUMNS IN DF_4:',DF_4.shape[1],'\\n',\n",
    "      'ROWS IN DF_5:',DF_5.shape[0], '   COLUMNS IN DF_5:',DF_5.shape[1],'\\n',\n",
    "      'ROWS IN DF_6:',DF_6.shape[0], '   COLUMNS IN DF_6:',DF_6.shape[1],'\\n')"
   ]
  },
  {
   "cell_type": "markdown",
   "id": "1885076e",
   "metadata": {},
   "source": [
    "    * ALL THE DATA SETS CONTAINS 11 COLUMNS\n",
    "    \n",
    "    * WE CAN SEE THAT ALL THE DATA SETS HAVE SAME COLUMNS.\n",
    "    \n",
    "    * LET US CONCAT ALL THE DATA SETS INTO A SINGLE ONE."
   ]
  },
  {
   "cell_type": "code",
   "execution_count": 4,
   "id": "a7d9c0fb",
   "metadata": {},
   "outputs": [],
   "source": [
    "# WE WILL MERGE ALL THE DATA SETS INTO A SINGLE DATA SET DF\n",
    "\n",
    "DF = pd.concat([DF_1, DF_2, DF_3, DF_4, DF_5, DF_6], ignore_index = True)"
   ]
  },
  {
   "cell_type": "code",
   "execution_count": 5,
   "id": "eb5e8821",
   "metadata": {},
   "outputs": [],
   "source": [
    "# CREATE A BACK UP OF ORIGINAL DATA FRAME.\n",
    "\n",
    "BACKUP_DF = DF.copy()"
   ]
  },
  {
   "cell_type": "code",
   "execution_count": 6,
   "id": "dd48541d",
   "metadata": {},
   "outputs": [
    {
     "name": "stdout",
     "output_type": "stream",
     "text": [
      "COLUMNS PRESENT IN THE MERGED DATA FRAME:\n",
      "\n",
      "\n",
      "COLUMNS IN DF\n",
      " Index(['phone_url', 'date', 'lang', 'country', 'source', 'domain', 'score',\n",
      "       'score_max', 'extract', 'author', 'product'],\n",
      "      dtype='object')\n",
      "\n",
      "\n",
      "\n",
      " NO OF ROWS AND COLUMNS IN MERGED DATA SET:\n",
      "\n",
      "\n",
      "ROWS IN DF: 1415133 \n",
      "\n",
      "COLUMNS IN DF: 11 \n",
      "\n"
     ]
    }
   ],
   "source": [
    "print('COLUMNS PRESENT IN THE MERGED DATA FRAME:\\n\\n')\n",
    "\n",
    "print('COLUMNS IN DF\\n',DF.columns)\n",
    "\n",
    "print('\\n\\n')\n",
    "\n",
    "print(' NO OF ROWS AND COLUMNS IN MERGED DATA SET:\\n\\n')\n",
    "\n",
    "print('ROWS IN DF:',DF.shape[0], '\\n\\nCOLUMNS IN DF:',DF.shape[1],'\\n')"
   ]
  },
  {
   "cell_type": "code",
   "execution_count": 7,
   "id": "5e97e8b5",
   "metadata": {},
   "outputs": [
    {
     "name": "stdout",
     "output_type": "stream",
     "text": [
      "                        phone_url       date lang country            source  \\\n",
      "0  /cellphones/samsung-galaxy-s8/   5/2/2017   en      us  Verizon Wireless   \n",
      "1  /cellphones/samsung-galaxy-s8/  4/28/2017   en      us       Phone Arena   \n",
      "2  /cellphones/samsung-galaxy-s8/   5/4/2017   en      us            Amazon   \n",
      "3  /cellphones/samsung-galaxy-s8/   5/2/2017   en      us           Samsung   \n",
      "4  /cellphones/samsung-galaxy-s8/  5/11/2017   en      us  Verizon Wireless   \n",
      "\n",
      "                domain  score  score_max  \\\n",
      "0  verizonwireless.com   10.0       10.0   \n",
      "1       phonearena.com   10.0       10.0   \n",
      "2           amazon.com    6.0       10.0   \n",
      "3          samsung.com    9.2       10.0   \n",
      "4  verizonwireless.com    4.0       10.0   \n",
      "\n",
      "                                             extract       author  \\\n",
      "0  As a diehard Samsung fan who has had every Sam...   CarolAnn35   \n",
      "1  Love the phone. the phone is sleek and smooth ...    james0923   \n",
      "2  Adequate feel. Nice heft. Processor's still sl...     R. Craig   \n",
      "3  Never disappointed. One of the reasons I've be...  Buster2020    \n",
      "4  I've now found that i'm in a group of people t...   S Ate Mine   \n",
      "\n",
      "                                             product  \n",
      "0                                  Samsung Galaxy S8  \n",
      "1                                  Samsung Galaxy S8  \n",
      "2  Samsung Galaxy S8 (64GB) G950U 5.8\" 4G LTE Unl...  \n",
      "3                      Samsung Galaxy S8 64GB (AT&T)  \n",
      "4                                  Samsung Galaxy S8  \n"
     ]
    }
   ],
   "source": [
    "print(DF.head())"
   ]
  },
  {
   "cell_type": "code",
   "execution_count": 8,
   "id": "07d06a35",
   "metadata": {},
   "outputs": [
    {
     "name": "stdout",
     "output_type": "stream",
     "text": [
      "                                 phone_url       date lang country source  \\\n",
      "1415128  /cellphones/alcatel-ot-club_1187/  5/12/2000   de      de   Ciao   \n",
      "1415129  /cellphones/alcatel-ot-club_1187/  5/11/2000   de      de   Ciao   \n",
      "1415130  /cellphones/alcatel-ot-club_1187/   5/4/2000   de      de   Ciao   \n",
      "1415131  /cellphones/alcatel-ot-club_1187/   5/1/2000   de      de   Ciao   \n",
      "1415132  /cellphones/alcatel-ot-club_1187/  4/25/2000   de      de   Ciao   \n",
      "\n",
      "          domain  score  score_max  \\\n",
      "1415128  ciao.de    2.0       10.0   \n",
      "1415129  ciao.de   10.0       10.0   \n",
      "1415130  ciao.de    2.0       10.0   \n",
      "1415131  ciao.de    8.0       10.0   \n",
      "1415132  ciao.de    2.0       10.0   \n",
      "\n",
      "                                                   extract        author  \\\n",
      "1415128  Weil mein Onkel bei ALcatel arbeitet habe ich ...    david.paul   \n",
      "1415129  Hy Liebe Leserinnen und Leser!! Ich habe seit ...  Christiane14   \n",
      "1415130  Jetzt hat wohl Alcatell gedacht ,sie machen wa...    michaelawr   \n",
      "1415131  Ich bin seit 2 Jahren (stolzer) Besitzer eines...   claudia0815   \n",
      "1415132  Was sich Alkatel hier wieder ausgedacht hat,sc...    michaelawr   \n",
      "\n",
      "                         product  \n",
      "1415128  Alcatel Club Plus Handy  \n",
      "1415129  Alcatel Club Plus Handy  \n",
      "1415130  Alcatel Club Plus Handy  \n",
      "1415131  Alcatel Club Plus Handy  \n",
      "1415132  Alcatel Club Plus Handy  \n"
     ]
    }
   ],
   "source": [
    "print(DF.tail())"
   ]
  },
  {
   "cell_type": "markdown",
   "id": "af665a85",
   "metadata": {},
   "source": [
    "    * MERGED DATA SET DF CONTAINS 11 COLUMNS AND 141533 ROWS."
   ]
  },
  {
   "cell_type": "markdown",
   "id": "c67adc20",
   "metadata": {},
   "source": [
    "# B. Explore, understand the Data and share at least 2 observations."
   ]
  },
  {
   "cell_type": "code",
   "execution_count": 9,
   "id": "e39ea876",
   "metadata": {},
   "outputs": [
    {
     "name": "stdout",
     "output_type": "stream",
     "text": [
      "<class 'pandas.core.frame.DataFrame'>\n",
      "RangeIndex: 1415133 entries, 0 to 1415132\n",
      "Data columns (total 11 columns):\n",
      " #   Column     Non-Null Count    Dtype  \n",
      "---  ------     --------------    -----  \n",
      " 0   phone_url  1415133 non-null  object \n",
      " 1   date       1415133 non-null  object \n",
      " 2   lang       1415133 non-null  object \n",
      " 3   country    1415133 non-null  object \n",
      " 4   source     1415133 non-null  object \n",
      " 5   domain     1415133 non-null  object \n",
      " 6   score      1351644 non-null  float64\n",
      " 7   score_max  1351644 non-null  float64\n",
      " 8   extract    1395772 non-null  object \n",
      " 9   author     1351931 non-null  object \n",
      " 10  product    1415132 non-null  object \n",
      "dtypes: float64(2), object(9)\n",
      "memory usage: 118.8+ MB\n",
      "None\n"
     ]
    }
   ],
   "source": [
    "# INFO REGARDING THE MERGED DATA FRAME DF\n",
    "\n",
    "print(DF.info())"
   ]
  },
  {
   "cell_type": "code",
   "execution_count": 10,
   "id": "a8f95e6d",
   "metadata": {},
   "outputs": [
    {
     "name": "stdout",
     "output_type": "stream",
     "text": [
      "              score  score_max\n",
      "count  1.351644e+06  1351644.0\n",
      "mean   8.007060e+00       10.0\n",
      "std    2.616121e+00        0.0\n",
      "min    2.000000e-01       10.0\n",
      "25%    7.200000e+00       10.0\n",
      "50%    9.200000e+00       10.0\n",
      "75%    1.000000e+01       10.0\n",
      "max    1.000000e+01       10.0\n"
     ]
    }
   ],
   "source": [
    "# PRINT CHARACTERISTICS OF THE MERGED DATA FRAME DF\n",
    "\n",
    "print(DF.describe())"
   ]
  },
  {
   "cell_type": "code",
   "execution_count": 11,
   "id": "6aa5a9ff",
   "metadata": {},
   "outputs": [
    {
     "name": "stdout",
     "output_type": "stream",
     "text": [
      "LET US SEE WHETHER THERE ARE ANY NULL VALUES IN THE DATA:\n",
      "\n",
      "\n",
      "phone_url        0\n",
      "date             0\n",
      "lang             0\n",
      "country          0\n",
      "source           0\n",
      "domain           0\n",
      "score        63489\n",
      "score_max    63489\n",
      "extract      19361\n",
      "author       63202\n",
      "product          1\n",
      "dtype: int64\n"
     ]
    }
   ],
   "source": [
    "# CHECK FOR THE PRESENCE OF ANY NULL VALUES IN THE DATA FRAME\n",
    "\n",
    "print('LET US SEE WHETHER THERE ARE ANY NULL VALUES IN THE DATA:\\n\\n')\n",
    "\n",
    "print(DF.isna().sum())"
   ]
  },
  {
   "cell_type": "code",
   "execution_count": 12,
   "id": "f75b4b18",
   "metadata": {},
   "outputs": [
    {
     "name": "stdout",
     "output_type": "stream",
     "text": [
      "LET US SEE ABOUT THE UNIQUE VALUES IN THE DATA FRAME:\n",
      "\n",
      "\n",
      "phone_url       5556\n",
      "date            7728\n",
      "lang              22\n",
      "country           42\n",
      "source           331\n",
      "domain           384\n",
      "score             86\n",
      "score_max          1\n",
      "extract      1321353\n",
      "author        801103\n",
      "product        61313\n",
      "dtype: int64\n"
     ]
    }
   ],
   "source": [
    "# CHECK THE UNIQUE VALUES IN THE DATA FRAME DF\n",
    "\n",
    "print('LET US SEE ABOUT THE UNIQUE VALUES IN THE DATA FRAME:\\n\\n')\n",
    "\n",
    "print(DF.nunique())"
   ]
  },
  {
   "cell_type": "code",
   "execution_count": 13,
   "id": "3287e628",
   "metadata": {},
   "outputs": [
    {
     "name": "stdout",
     "output_type": "stream",
     "text": [
      "NO OF USERS IN EACH LANGUAGE CATEGORY:\n",
      "\n",
      "\n",
      "en    554746\n",
      "ru    207443\n",
      "de    176600\n",
      "it    116120\n",
      "es     99739\n",
      "fr     95080\n",
      "pt     67155\n",
      "nl     38375\n",
      "tr     28359\n",
      "sv     17149\n",
      "fi      6953\n",
      "cs      2533\n",
      "no      1918\n",
      "he      1370\n",
      "pl       493\n",
      "da       418\n",
      "hu       346\n",
      "id       271\n",
      "ja        33\n",
      "zh        19\n",
      "ar        12\n",
      "ko         1\n",
      "Name: lang, dtype: int64\n"
     ]
    }
   ],
   "source": [
    "# LANG COLUMN HAS 22 UNIQUE VALUES. LET US SEE HOW MANY USERS ARE PRESENT IN THE EACH LANG TYPE\n",
    "\n",
    "print('NO OF USERS IN EACH LANGUAGE CATEGORY:\\n\\n')\n",
    "\n",
    "print(DF['lang'].value_counts())"
   ]
  },
  {
   "cell_type": "code",
   "execution_count": 14,
   "id": "0e566aab",
   "metadata": {},
   "outputs": [
    {
     "name": "stdout",
     "output_type": "stream",
     "text": [
      "NO OF USERS IN EACH COUNTRY CATEGORY:\n",
      "\n",
      "\n",
      "us    318435\n",
      "de    176525\n",
      "ru    174945\n",
      "in    127876\n",
      "it    116120\n",
      "gb     95795\n",
      "fr     95080\n",
      "es     76271\n",
      "br     63975\n",
      "ua     32498\n",
      "tr     28359\n",
      "nl     25716\n",
      "se     17149\n",
      "ar     15636\n",
      "be     12659\n",
      "ca     11118\n",
      "fi      6953\n",
      "pt      3180\n",
      "mx      3142\n",
      "cz      2533\n",
      "no      1918\n",
      "ec      1478\n",
      "au      1413\n",
      "il      1370\n",
      "co      1350\n",
      "uy       725\n",
      "cl       603\n",
      "pl       493\n",
      "dk       418\n",
      "ve       389\n",
      "hu       346\n",
      "id       271\n",
      "pe       145\n",
      "ch        75\n",
      "nz        74\n",
      "jp        33\n",
      "za        25\n",
      "tw        14\n",
      "ae        12\n",
      "sg        10\n",
      "cn         5\n",
      "kr         1\n",
      "Name: country, dtype: int64\n"
     ]
    }
   ],
   "source": [
    "# LET US SEE HOW MANY USERS ARE PRESENT IN THE EACH COUNTRY\n",
    "\n",
    "print('NO OF USERS IN EACH COUNTRY CATEGORY:\\n\\n')\n",
    "\n",
    "print(DF['country'].value_counts())"
   ]
  },
  {
   "cell_type": "code",
   "execution_count": 15,
   "id": "11a914d3",
   "metadata": {},
   "outputs": [
    {
     "name": "stdout",
     "output_type": "stream",
     "text": [
      "TOP TEN MOBILE PHONES AS PER NO OF USERS REVIEWED:\n",
      "\n",
      "\n",
      "Lenovo Vibe K4 Note (White,16GB)       5226\n",
      "Lenovo Vibe K4 Note (Black, 16GB)      4390\n",
      "OnePlus 3 (Graphite, 64 GB)            4103\n",
      "OnePlus 3 (Soft Gold, 64 GB)           3563\n",
      "Huawei P8lite zwart / 16 GB            2707\n",
      "Samsung Galaxy Express I8730           2686\n",
      "Lenovo Vibe K5 (Gold, VoLTE update)    2534\n",
      "Samsung Galaxy S6 zwart / 32 GB        2345\n",
      "Nokia 5800 XpressMusic                 2125\n",
      "Lenovo Vibe K5 (Grey, VoLTE update)    2108\n",
      "Name: product, dtype: int64\n"
     ]
    }
   ],
   "source": [
    "print('TOP TEN MOBILE PHONES AS PER NO OF USERS REVIEWED:\\n\\n')\n",
    "\n",
    "print(DF['product'].value_counts(ascending = False)[:10])"
   ]
  },
  {
   "cell_type": "code",
   "execution_count": 16,
   "id": "43684fdb",
   "metadata": {},
   "outputs": [
    {
     "name": "stdout",
     "output_type": "stream",
     "text": [
      "BOTTOM TEN MOBILE PHONES AS PER NO OF USERS REVIEWED:\n",
      "\n",
      "\n",
      "HTC Desire 601 - 8GB - Black Smartphone                                                                                                       1\n",
      "elephone S3 Smartphone 4G 5.2 \"Android 6.0 Octa Core All-metal Dual Cameras Multi-funzione E-touch Fingerprint Quick Charge Cable Righello    1\n",
      "Elephone ÐÐ¾Ð±Ð¸Ð»ÑÐ½ÑÐ¹ ÑÐµÐ»ÐµÑÐ¾Ð½ Elephone S3                                                                                        1\n",
      "LG KP110 CEP TELEFONU                                                                                                                         1\n",
      "Elephone S3 3GB/16GB 4G Dorado Libre                                                                                                          1\n",
      "Elephone S3 3GB/16GB 4G Plata Libre Reacondicionado                                                                                           1\n",
      "Elephone S3 3GB/16GB 4G Negro Libre                                                                                                           1\n",
      "Elephone S3 3GB/16GB 4G Plata Libre                                                                                                           1\n",
      "elephone S3 16 GB UK SIM-Free Smartphone - Grey                                                                                               1\n",
      "Sony (83) Xperia C4                                                                                                                           1\n",
      "Name: product, dtype: int64\n"
     ]
    }
   ],
   "source": [
    "print('BOTTOM TEN MOBILE PHONES AS PER NO OF USERS REVIEWED:\\n\\n')\n",
    "\n",
    "print(DF['product'].value_counts(ascending = True)[:10])"
   ]
  },
  {
   "cell_type": "code",
   "execution_count": 17,
   "id": "e90ac0f8",
   "metadata": {},
   "outputs": [
    {
     "name": "stdout",
     "output_type": "stream",
     "text": [
      "NO OF DUPLUCATE ROWS PRESENT IN THE DATA:  6412\n"
     ]
    }
   ],
   "source": [
    "# CHECK FOR THE NUMBER OF DUPILICATE ROWS PRESENT IN THE DATA:\n",
    "\n",
    "print('NO OF DUPLUCATE ROWS PRESENT IN THE DATA: ',DF.duplicated().sum())"
   ]
  },
  {
   "cell_type": "markdown",
   "id": "d69bf4c4",
   "metadata": {},
   "source": [
    "    * SCORE AND SCORE_MAX ARE ONLY NUMERIC COLUMNS IN THE DATA AND ALL OTHER COLUMNS ARE OBJECT DATA TYPE.\n",
    "    \n",
    "    * MIN AND MAX FOR SCORE_MAX IS 10 AND THERE IS NO STANDARD DEVIATION.\n",
    "    \n",
    "    * THERE ARE PRESENSE OF NULL VALUES IN SCORE, SCORE_MAX, EXTRACT, AUTHOR AND PRODUCT\n",
    "    \n",
    "    * THERE ARE 6412 DUPLICATE RECORDS IN THE DATA.\n",
    "    \n",
    "    * SCORE MAX HAS ONLY 1 UNIQUE VALUE. EXTRACT HAS MOST NUMBER OF UNIQUE VALUES IN THE DATA\n",
    "    \n",
    "    * NEARLY 40% PERCENT OF PHONE USERS ARE ENG LANGUAGE USERS\n",
    "    \n",
    "    * MORE THAN 20% OF THE PHONE USERS ARE FROM US COUNTRY.\n",
    "    \n",
    "    * LENOVO VIBE K4 NOTE WITH BOTH WHITE AND BLACK VARIANTS ARE TOP REVIEWED PHONES FOLLOWED BY ONEPLUS 3\n",
    "    \n",
    "    * HTC, ELEPHONE AND SONY PHONES HAVE SOLD ONLY 1 PHONES AND ARE AT BOTTOM POSITION."
   ]
  },
  {
   "cell_type": "markdown",
   "id": "8cc52d7f",
   "metadata": {},
   "source": [
    "# C. Round off scores to the nearest integers."
   ]
  },
  {
   "cell_type": "code",
   "execution_count": 18,
   "id": "6c3a00a1",
   "metadata": {},
   "outputs": [],
   "source": [
    "DF['score'] = DF['score'].round(0).astype('Int64')"
   ]
  },
  {
   "cell_type": "code",
   "execution_count": 19,
   "id": "6ac5d167",
   "metadata": {},
   "outputs": [
    {
     "name": "stdout",
     "output_type": "stream",
     "text": [
      "VALUES OF SCORE AFTER ROUNDED OFF TO NEAREST INTEGER:\n",
      " <IntegerArray>\n",
      "[10, 6, 9, 4, 8, 2, 7, 5, <NA>, 3, 1, 0]\n",
      "Length: 12, dtype: Int64\n"
     ]
    }
   ],
   "source": [
    "print('VALUES OF SCORE AFTER ROUNDED OFF TO NEAREST INTEGER:\\n',DF['score'].unique())"
   ]
  },
  {
   "cell_type": "markdown",
   "id": "ae0093c0",
   "metadata": {},
   "source": [
    "    * WE HAVE ROUNDED OFF THE VALUES OF SCORE TO NEAREST INTEGERS.\n",
    "    \n",
    "    * WE COULD SEE THE SCORE RANGES FROM 0 TO 10.\n",
    "    \n",
    "    * THERE ARE ALSO NULL VALUES PRESENT IN THE SCORE COLUMN."
   ]
  },
  {
   "cell_type": "markdown",
   "id": "f255878e",
   "metadata": {},
   "source": [
    "# D. Check for missing values. Impute the missing values, if any."
   ]
  },
  {
   "cell_type": "code",
   "execution_count": 20,
   "id": "a4cc8a68",
   "metadata": {},
   "outputs": [
    {
     "name": "stdout",
     "output_type": "stream",
     "text": [
      "LET US SEE WHETHER THERE ARE ANY NULL VALUES IN THE DATA:\n",
      "\n",
      "\n",
      "phone_url        0\n",
      "date             0\n",
      "lang             0\n",
      "country          0\n",
      "source           0\n",
      "domain           0\n",
      "score        63489\n",
      "score_max    63489\n",
      "extract      19361\n",
      "author       63202\n",
      "product          1\n",
      "dtype: int64\n"
     ]
    }
   ],
   "source": [
    "# CHECK FOR THE PRESENCE OF ANY NULL VALUES IN THE DATA FRAME\n",
    "\n",
    "print('LET US SEE WHETHER THERE ARE ANY NULL VALUES IN THE DATA:\\n\\n')\n",
    "\n",
    "print(DF.isna().sum())"
   ]
  },
  {
   "cell_type": "markdown",
   "id": "d495e0bc",
   "metadata": {},
   "source": [
    "    * LET US REPLACE THE NULL VALUES IN THE SCORE COLUMN WITH THE MEDIAN IN THE FIRST STEP AND IMPUTE REMAINING LATER"
   ]
  },
  {
   "cell_type": "code",
   "execution_count": 21,
   "id": "d64c39fe",
   "metadata": {},
   "outputs": [
    {
     "name": "stdout",
     "output_type": "stream",
     "text": [
      "COUNT OF NULL MISSING VALUES IN SCORE COLUMN AFTER IMPUTING:  0\n"
     ]
    }
   ],
   "source": [
    "DF['score'] = DF['score'].fillna(DF['score'].median())\n",
    "\n",
    "print('COUNT OF NULL MISSING VALUES IN SCORE COLUMN AFTER IMPUTING: ',DF['score'].isna().sum())"
   ]
  },
  {
   "cell_type": "markdown",
   "id": "7ba8d84f",
   "metadata": {},
   "source": [
    "    * SCORE_MAX HAS ONLY MAX VALUE 10. REPLACE THE MISSING VALUES WITH 10"
   ]
  },
  {
   "cell_type": "code",
   "execution_count": 22,
   "id": "e7e963d8",
   "metadata": {},
   "outputs": [
    {
     "name": "stdout",
     "output_type": "stream",
     "text": [
      "COUNT OF NULL MISSING VALUES IN SCORE_MAX COLUMN AFTER IMPUTING:  0\n"
     ]
    }
   ],
   "source": [
    "DF['score_max'] = DF['score_max'].fillna(10)\n",
    "\n",
    "print('COUNT OF NULL MISSING VALUES IN SCORE_MAX COLUMN AFTER IMPUTING: ',DF['score_max'].isna().sum())"
   ]
  },
  {
   "cell_type": "markdown",
   "id": "cdbbe68b",
   "metadata": {},
   "source": [
    "    * DROP THE ROWS WHERE THE PRODUCT COLUMN HAS MISSING VALUES."
   ]
  },
  {
   "cell_type": "code",
   "execution_count": 23,
   "id": "4c6524da",
   "metadata": {},
   "outputs": [
    {
     "name": "stdout",
     "output_type": "stream",
     "text": [
      "COUNT OF NULL MISSING VALUES IN PRODUCT AFTER IMPUTING:  0\n"
     ]
    }
   ],
   "source": [
    "DF = DF.dropna(axis=0, subset=['product'])\n",
    "\n",
    "print('COUNT OF NULL MISSING VALUES IN PRODUCT AFTER IMPUTING: ',DF['product'].isna().sum())"
   ]
  },
  {
   "cell_type": "markdown",
   "id": "9c46e488",
   "metadata": {},
   "source": [
    "    * DROP ALL THE ROWS WHICH HAVE MISSING VALUES IN THE COLUMN AUTHOR."
   ]
  },
  {
   "cell_type": "code",
   "execution_count": 24,
   "id": "c905f561",
   "metadata": {},
   "outputs": [
    {
     "name": "stdout",
     "output_type": "stream",
     "text": [
      "COUNT OF NULL MISSING VALUES IN AUTHOR COLUM AFTER IMPUTING:  0\n"
     ]
    }
   ],
   "source": [
    "DF = DF.dropna(axis=0, subset=['author'])\n",
    "\n",
    "print('COUNT OF NULL MISSING VALUES IN AUTHOR COLUM AFTER IMPUTING: ',DF['author'].isna().sum())"
   ]
  },
  {
   "cell_type": "code",
   "execution_count": 25,
   "id": "fbb13077",
   "metadata": {},
   "outputs": [
    {
     "name": "stdout",
     "output_type": "stream",
     "text": [
      "LET US SEE WHETHER THERE ARE ANY NULL VALUES IN THE DATA:\n",
      "\n",
      "\n",
      "phone_url        0\n",
      "date             0\n",
      "lang             0\n",
      "country          0\n",
      "source           0\n",
      "domain           0\n",
      "score            0\n",
      "score_max        0\n",
      "extract      15515\n",
      "author           0\n",
      "product          0\n",
      "dtype: int64\n"
     ]
    }
   ],
   "source": [
    "# CHECK FOR THE PRESENCE OF ANY NULL VALUES IN THE DATA FRAME\n",
    "\n",
    "print('LET US SEE WHETHER THERE ARE ANY NULL VALUES IN THE DATA:\\n\\n')\n",
    "\n",
    "print(DF.isna().sum())"
   ]
  },
  {
   "cell_type": "markdown",
   "id": "ea0a8a28",
   "metadata": {},
   "source": [
    "        * EXTRACT COLUMN CONTAINS THE RATING CONTENT. WHICH MAY NOT BE MUCH NEEDED IN OUR MODEL BUILDING.\n",
    "        \n",
    "        * LET US DROP THE COLUMN EXTRACT."
   ]
  },
  {
   "cell_type": "code",
   "execution_count": 26,
   "id": "50d1cc1a",
   "metadata": {},
   "outputs": [],
   "source": [
    "DF = DF.drop(['extract'], axis  = 1)"
   ]
  },
  {
   "cell_type": "code",
   "execution_count": 27,
   "id": "ab96282d",
   "metadata": {},
   "outputs": [
    {
     "name": "stdout",
     "output_type": "stream",
     "text": [
      "COUNT OF NULL VALUES AFTER IMPUTING:\n",
      "\n",
      "\n",
      "phone_url    0\n",
      "date         0\n",
      "lang         0\n",
      "country      0\n",
      "source       0\n",
      "domain       0\n",
      "score        0\n",
      "score_max    0\n",
      "author       0\n",
      "product      0\n",
      "dtype: int64\n",
      "\n",
      "\n",
      "SHAPE OF THE DATA SET AFTER DROPPING EXTRACT COLUMN:  (1351931, 10)\n"
     ]
    }
   ],
   "source": [
    "# CHECK FOR THE PRESENCE OF ANY NULL VALUES IN THE DATA AFTER IMPUTING\n",
    "\n",
    "print('COUNT OF NULL VALUES AFTER IMPUTING:\\n\\n')\n",
    "\n",
    "print(DF.isna().sum())\n",
    "\n",
    "print('\\n\\nSHAPE OF THE DATA SET AFTER DROPPING EXTRACT COLUMN: ',DF.shape)"
   ]
  },
  {
   "cell_type": "markdown",
   "id": "ee373996",
   "metadata": {},
   "source": [
    "# E. Check for duplicate values and remove them, if any."
   ]
  },
  {
   "cell_type": "code",
   "execution_count": 28,
   "id": "2bd5b82d",
   "metadata": {},
   "outputs": [
    {
     "name": "stdout",
     "output_type": "stream",
     "text": [
      "NO OF DUPLUCATE ROWS PRESENT IN THE DATA:  69296\n"
     ]
    }
   ],
   "source": [
    "# CHECK FOR THE NUMBER OF DUPILICATE ROWS PRESENT IN THE DATA:\n",
    "\n",
    "print('NO OF DUPLUCATE ROWS PRESENT IN THE DATA: ',DF.duplicated().sum())"
   ]
  },
  {
   "cell_type": "code",
   "execution_count": 29,
   "id": "024ee063",
   "metadata": {},
   "outputs": [
    {
     "name": "stdout",
     "output_type": "stream",
     "text": [
      "NO OF DUPLUCATE ROWS PRESENT IN THE DATA:  0\n",
      "\n",
      "\n",
      "SHAPE OF THE DATA SET AFTER DROPPING EXTRACT COLUMN:  (1282635, 10)\n"
     ]
    }
   ],
   "source": [
    "# DROP ALL THE ROWS THAT CONTAINS DUPLICATE DATA\n",
    "\n",
    "DF = DF.drop_duplicates()\n",
    "\n",
    "# CHECK FOR THE NUMBER OF DUPILICATE ROWS PRESENT IN THE DATA:\n",
    "\n",
    "print('NO OF DUPLUCATE ROWS PRESENT IN THE DATA: ',DF.duplicated().sum())\n",
    "\n",
    "print('\\n\\nSHAPE OF THE DATA SET AFTER DROPPING EXTRACT COLUMN: ',DF.shape)"
   ]
  },
  {
   "cell_type": "markdown",
   "id": "90ef1dd6",
   "metadata": {},
   "source": [
    "    * AFTER THE IMPUTATION OF MISSING VALUES, WE HAVE TOTAL OF 69296 DUPLICATE ROWS.\n",
    "    \n",
    "    * AFTER DROPPING ALL THE DUPLICATE ROWS, WE HAVE 1282635 ROWS."
   ]
  },
  {
   "cell_type": "markdown",
   "id": "9bfe6902",
   "metadata": {},
   "source": [
    "# F. Keep only 1 Million data samples. Use random state=612."
   ]
  },
  {
   "cell_type": "code",
   "execution_count": 30,
   "id": "69cf93bf",
   "metadata": {},
   "outputs": [
    {
     "name": "stdout",
     "output_type": "stream",
     "text": [
      "NO OF ROWS AND COLUMNS AFTER SAMPLING \n",
      "\n",
      "NO OF ROWS:  1000000 \n",
      "\n",
      "NO OF COLUMNS:  10\n"
     ]
    }
   ],
   "source": [
    "DF = DF.sample(n = 1000000, random_state = 612)\n",
    "\n",
    "print('NO OF ROWS AND COLUMNS AFTER SAMPLING','\\n\\nNO OF ROWS: ',DF.shape[0],'\\n\\nNO OF COLUMNS: ',DF.shape[1])"
   ]
  },
  {
   "cell_type": "markdown",
   "id": "a8f8eeb9",
   "metadata": {},
   "source": [
    "# G. Drop irrelevant features. Keep features like Author, Product, and Score."
   ]
  },
  {
   "cell_type": "markdown",
   "id": "9c230121",
   "metadata": {},
   "source": [
    "    * FROM THE DATA SET, WE CAN SAY THAT AUTHOR, PRODUCT AND SCORE ARE THE IMPORTANT FEATURES.\n",
    "    \n",
    "    * FROM THE DIFFERENT AUTHORS AND RATINGS, WE CAN SAY WHAT PHONE MODEL IS  DESIRED BY A USER.\n",
    "    \n",
    "    * FROM THE PRODUCT AND SCORE, WE CAN SAY WHICH PHONE MODEL IS MOST POPULAR BRAND.\n",
    "    \n",
    "    * FROM THESE THREE FEATURES, WE CAN RECOMMEND A POPULAR PHONE MODELS DESPITE THE TASTE OF USERS AND\n",
    "      PHONE MODEL DESIRED BY A PARTICULAR GROUP OF USERS."
   ]
  },
  {
   "cell_type": "code",
   "execution_count": 31,
   "id": "0c647efa",
   "metadata": {},
   "outputs": [
    {
     "name": "stdout",
     "output_type": "stream",
     "text": [
      "NO OF ROWS AND COLUMNS AFTER DROPPING IRRELEVANT FEATURES \n",
      "\n",
      "NO OF ROWS:  1000000 \n",
      "\n",
      "NO OF COLUMNS:  3\n"
     ]
    }
   ],
   "source": [
    "# KEEP ONLY THE AUTHOR, PRODUCT, SCORE FEATURES AND DROP ALL THE REMAINING FEATURES.\n",
    "\n",
    "FEATURES = ['author', 'product', 'score']\n",
    "\n",
    "DF = DF.loc[:, FEATURES]\n",
    "\n",
    "print('NO OF ROWS AND COLUMNS AFTER DROPPING IRRELEVANT FEATURES', '\\n\\nNO OF ROWS: ',DF.shape[0],\n",
    "      '\\n\\nNO OF COLUMNS: ',DF.shape[1])"
   ]
  },
  {
   "cell_type": "markdown",
   "id": "f6e7b295",
   "metadata": {},
   "source": [
    "    * OUR FINAL DATA SET CONTAINS 1000000 ROWS AND 3 COLUMNS"
   ]
  },
  {
   "cell_type": "markdown",
   "id": "6706dc13",
   "metadata": {},
   "source": [
    "# 2. Answer the following questions."
   ]
  },
  {
   "cell_type": "markdown",
   "id": "7aa1595a",
   "metadata": {},
   "source": [
    "# A. Identify the most rated products."
   ]
  },
  {
   "cell_type": "code",
   "execution_count": 32,
   "id": "5cb369e5",
   "metadata": {},
   "outputs": [
    {
     "name": "stdout",
     "output_type": "stream",
     "text": [
      "TOP 10 MOST RATED PRODUCTS:\n",
      "\n",
      "\n",
      "Huawei P8lite zwart / 16 GB              2129\n",
      "Samsung Galaxy Express I8730             1864\n",
      "OnePlus 3 (Graphite, 64 GB)              1847\n",
      "Lenovo Vibe K4 Note (White,16GB)         1843\n",
      "Samsung Galaxy S6 zwart / 32 GB          1816\n",
      "Lenovo Vibe K4 Note (Black, 16GB)        1596\n",
      "OnePlus 3 (Soft Gold, 64 GB)             1442\n",
      "Nokia N95                                1422\n",
      "Samsung Galaxy S7 edge 32GB (Verizon)    1417\n",
      "Samsung Galaxy J3 (8GB)                  1414\n",
      "Name: product, dtype: int64\n"
     ]
    }
   ],
   "source": [
    "# PRINT THE TOP 10 MOST RATED PRODUCTS\n",
    "\n",
    "print('TOP 10 MOST RATED PRODUCTS:\\n\\n')\n",
    "print(DF['product'].value_counts().head(10))"
   ]
  },
  {
   "cell_type": "code",
   "execution_count": 33,
   "id": "2b237e9c",
   "metadata": {},
   "outputs": [],
   "source": [
    "DF_COPY = DF.copy()\n",
    "\n",
    "DF_COPY['NO_OF_RATINGS'] = DF_COPY.groupby('product')['product'].transform('count')\n",
    "\n",
    "DF_COPY = DF_COPY.drop(columns = ['score','author'])\n",
    "\n",
    "DF_COPY = DF_COPY.drop_duplicates()\n",
    "\n",
    "DF_COPY = DF_COPY.sort_values(by=['NO_OF_RATINGS'], ascending=False)\n",
    "\n",
    "DF_COPY.reset_index(drop=True, inplace=True)"
   ]
  },
  {
   "cell_type": "code",
   "execution_count": 34,
   "id": "3151faff",
   "metadata": {},
   "outputs": [
    {
     "data": {
      "image/png": "[encoded data removed]",
      "text/plain": [
       "<Figure size 2160x720 with 1 Axes>"
      ]
     },
     "metadata": {
      "needs_background": "light"
     },
     "output_type": "display_data"
    }
   ],
   "source": [
    "TOP_RATED = DF_COPY.head(10)\n",
    "\n",
    "fig, ax = plt.subplots(figsize=(30,10))\n",
    "\n",
    "sns.set_theme(style=\"whitegrid\")\n",
    "\n",
    "sns.barplot(data = TOP_RATED, x = \"product\", y = \"NO_OF_RATINGS\", hue = \"product\",palette = 'pastel')\n",
    "\n",
    "plt.xticks(rotation=45)\n",
    "\n",
    "plt.title(\"TOP RATED PHONE MODELS\")\n",
    "\n",
    "fig.tight_layout()\n",
    "\n",
    "plt.show()"
   ]
  },
  {
   "cell_type": "markdown",
   "id": "4eb38d38",
   "metadata": {},
   "source": [
    "    * WE HAVE 10 PHONE MODELS WHICH ARE MOST RATED.\n",
    "    \n",
    "    * WE USED BAR PLOT TO PLOT THE MOST RATED MODELS"
   ]
  },
  {
   "cell_type": "markdown",
   "id": "7b41530b",
   "metadata": {},
   "source": [
    "# B. Identify the users with most number of reviews."
   ]
  },
  {
   "cell_type": "code",
   "execution_count": 35,
   "id": "a1e625dd",
   "metadata": {},
   "outputs": [
    {
     "name": "stdout",
     "output_type": "stream",
     "text": [
      "TOP 10 USERS WITH MOST NUMBER OF REVIEWS:\n",
      "\n",
      "\n",
      "Amazon Customer    26400\n",
      "Cliente Amazon     12166\n",
      "e-bit               5202\n",
      "Client d'Amazon     3863\n",
      "Amazon Kunde        3601\n",
      "Anonymous           2058\n",
      "einer Kundin        1581\n",
      "einem Kunden        1209\n",
      "Anonymous           1077\n",
      "unknown              924\n",
      "Name: author, dtype: int64\n"
     ]
    }
   ],
   "source": [
    "# PRINT THE TOP 10 USERS WITH MOST NUMBER OF REVIEWS\n",
    "\n",
    "print('TOP 10 USERS WITH MOST NUMBER OF REVIEWS:\\n\\n')\n",
    "print(DF['author'].value_counts().head(10))"
   ]
  },
  {
   "cell_type": "code",
   "execution_count": 36,
   "id": "5d9d5b67",
   "metadata": {},
   "outputs": [],
   "source": [
    "DF_COPY = DF.copy()\n",
    "\n",
    "DF_COPY['NO_OF_REVIEWS'] = DF_COPY.groupby('author')['author'].transform('count')\n",
    "\n",
    "DF_COPY = DF_COPY.drop(columns = ['score','product'])\n",
    "\n",
    "DF_COPY = DF_COPY.drop_duplicates()\n",
    "\n",
    "DF_COPY = DF_COPY.sort_values(by=['NO_OF_REVIEWS'], ascending=False)\n",
    "\n",
    "DF_COPY.reset_index(drop=True, inplace=True)"
   ]
  },
  {
   "cell_type": "code",
   "execution_count": 37,
   "id": "2e8d4fe7",
   "metadata": {},
   "outputs": [
    {
     "data": {
      "image/png": "[encoded data removed]",
      "text/plain": [
       "<Figure size 2160x720 with 1 Axes>"
      ]
     },
     "metadata": {},
     "output_type": "display_data"
    }
   ],
   "source": [
    "TOP_REVIEWERS = DF_COPY.head(10)\n",
    "\n",
    "fig, ax = plt.subplots(figsize=(30,10))\n",
    "\n",
    "sns.set_theme(style=\"whitegrid\")\n",
    "\n",
    "sns.barplot(data = TOP_REVIEWERS, x = \"author\", y = \"NO_OF_REVIEWS\", hue = \"author\",palette = 'pastel')\n",
    "\n",
    "plt.xticks(rotation=45)\n",
    "\n",
    "plt.title(\"TOP USERS WITH MOST NUMBER OF REVIEWS\")\n",
    "\n",
    "fig.tight_layout()\n",
    "\n",
    "plt.show()"
   ]
  },
  {
   "cell_type": "markdown",
   "id": "e8b364b5",
   "metadata": {},
   "source": [
    "    * WE HAVE 10 USERS WHO GAVE MOST NUMBER OF REVIEWS.\n",
    "    \n",
    "    * WE USED BAR PLOT TO PLOT THE USERS WITH MOST NUMBER OF REVIEWS."
   ]
  },
  {
   "cell_type": "markdown",
   "id": "85a77854",
   "metadata": {},
   "source": [
    "# C. Select the data with products having more than 50 ratings and users who have given more than 50 ratings. Report the shape of the final dataset."
   ]
  },
  {
   "cell_type": "code",
   "execution_count": 38,
   "id": "9a991f7f",
   "metadata": {},
   "outputs": [
    {
     "name": "stdout",
     "output_type": "stream",
     "text": [
      "NO OF USERS WHO GAVE MORE THAN 50 RATINGS:  691\n",
      "NO OF PRODUCTS HAVING MORE THAN 50 RATINGS:  4503\n"
     ]
    }
   ],
   "source": [
    "# SELECT USERS THAT GAVE MORE THAN 50 RATINGS\n",
    "\n",
    "USERS_50 = DF['author'].value_counts()\n",
    "\n",
    "USERS_50 = USERS_50[USERS_50>50].index.tolist()\n",
    "\n",
    "# SELECT PRODUCTS THAT HAVE MORE THAN 50 RATINGS\n",
    "\n",
    "PRODUCTS_50 = DF['product'].value_counts()\n",
    "\n",
    "PRODUCTS_50 = PRODUCTS_50[PRODUCTS_50>50].index.tolist()\n",
    "\n",
    "# PRINT THE COUNT OF USERS AND PRODUCTS WITH MORE THAN 50 RATINGS\n",
    "\n",
    "print('NO OF USERS WHO GAVE MORE THAN 50 RATINGS: ',len(USERS_50))\n",
    "\n",
    "print('NO OF PRODUCTS HAVING MORE THAN 50 RATINGS: ',len(PRODUCTS_50))"
   ]
  },
  {
   "cell_type": "code",
   "execution_count": 39,
   "id": "e80d1099",
   "metadata": {},
   "outputs": [
    {
     "name": "stdout",
     "output_type": "stream",
     "text": [
      "NO OF ROWS AND COLUMNS WHERE USERS GAVE MORE THAN 50 RATINGS AND PRODUCTS HAVING MORE THAN 50 RATINGS: \n",
      "\n",
      "NO OF ROWS:  73741 \n",
      "\n",
      "NO OF COLUMNS:  3\n"
     ]
    }
   ],
   "source": [
    "# NOW SELECT THOSE RECORDS WHERE THE USERS GAVE MORE THAN 50 RATINS AND PRODUCTS HAVING MORE THAN 50 RATINGS.\n",
    "\n",
    "USERS_PRODUCTS_50 = DF[(DF['author'].isin(USERS_50)) & (DF['product'].isin(PRODUCTS_50))]\n",
    "\n",
    "# REPORT THE SHAPE OF DATA SET\n",
    "\n",
    "print('NO OF ROWS AND COLUMNS WHERE USERS GAVE MORE THAN 50 RATINGS AND PRODUCTS HAVING MORE THAN 50 RATINGS:',\n",
    "      '\\n\\nNO OF ROWS: ',USERS_PRODUCTS_50.shape[0],\n",
    "      '\\n\\nNO OF COLUMNS: ',USERS_PRODUCTS_50.shape[1])"
   ]
  },
  {
   "cell_type": "code",
   "execution_count": 41,
   "id": "e191eb09",
   "metadata": {},
   "outputs": [
    {
     "name": "stdout",
     "output_type": "stream",
     "text": [
      "TOP 10 PRODUCTS THAT HAVE MORE THAN 50 RATINGS GIVEN BY TOP AUTHORS THAT GAVE MORE THAN 50 RATINGS:\n",
      "\n",
      "            author                                            product  score\n",
      "0  Amazon Customer            T-Mobile Sparq Prepaid Phone (T-Mobile)     10\n",
      "1             Alan  Samsung S5 Mini SIM-Free Smartphone (EU Model,...     10\n",
      "2  Amazon Customer  Samsung Note 4 Standard Li-ion Battery 3220mAh...     10\n",
      "3   Cliente Amazon  Lenovo Motorola Moto G 4G 3 Generazione Smartp...     10\n",
      "4            Irene                              BlackBerry Torch 9860     10\n",
      "5            Terry  Samsung T245G Prepaid Phone With Double Minute...     10\n",
      "6           Victor  BlackBerry Curve 8900 Javelin Unlocked Phone w...     10\n",
      "7          Sabrina  Samsung Galaxy S3 mini I8190 Smartphone (10,2 ...     10\n",
      "8   Cliente Amazon  Huawei P8 lite Smartphone, Display 5.0\" IPS, D...     10\n",
      "9             John  Nokia Lumia 521 T-Mobile GSM Windows 8 4G Nonc...     10\n"
     ]
    }
   ],
   "source": [
    "USERS_PRODUCTS_50 = USERS_PRODUCTS_50.sort_values(by=['score'], ascending=False)\n",
    "\n",
    "USERS_PRODUCTS_50.reset_index(drop=True, inplace=True)\n",
    "\n",
    "print('TOP 10 PRODUCTS THAT HAVE MORE THAN 50 RATINGS GIVEN BY TOP AUTHORS THAT GAVE MORE THAN 50 RATINGS:\\n')\n",
    "\n",
    "print(USERS_PRODUCTS_50.head(10))"
   ]
  },
  {
   "cell_type": "markdown",
   "id": "2b222ef0",
   "metadata": {},
   "source": [
    "    * WE HAVE TOTAL OF 73741 RECORDS WHERE USERS GAVE MORE THAN 50 RATINGS AND PRODUCTS HAVING MORE THAN 50 RATINGS"
   ]
  },
  {
   "cell_type": "markdown",
   "id": "470bcf0f",
   "metadata": {},
   "source": [
    "# 3. Build a popularity based model and recommend top 5 mobile phones."
   ]
  },
  {
   "cell_type": "markdown",
   "id": "c6d65c5c",
   "metadata": {},
   "source": [
    "    . IN THE ABOVE QUESTION 2.C, WE HAVE SORTED THE DATA AS BELOW:\n",
    "        . TOP USERS WHO GAVE MORE THAN 50 RATINGS AND\n",
    "        . TOP PRODUCTS THAT HAVE MORE THAN 50 RATINGS\n",
    "        \n",
    "    . WE USE USERS_PRODUCTS_50 AND ORIGINAL DF DATA SET TO RECOMMEND A POPULARITY BASED MODEL WHICH HAS MORE REVIEWS\n",
    "      AND HIGH SCORE.\n",
    "    \n",
    "    . WE CREATE A DATAFRAME OF POPULAR_MODELS WITH MEAN OF SCORE OF A MODEL.\n",
    "    \n",
    "    . A NEW FEATURE NO_OF_RATINGS IS ADDED TO THE DATA THAT GIVES NO. OF TIMES A TOP RATED PRODUCT IS GIVEN RATINGS.\n",
    "    \n",
    "    . SORT THE DATA SET IN DESCENDING ORDER FROM PRODUCTS HAVING HIGH MEAN SCORE AND MORE NO_OF_RATINGS\n",
    "    \n",
    "    . THIS WILL GIVE US A POPULAR PRODUCTS IN ORDER OF HAVING HIGH MEAN SCORE AND MORE NO_OF_RATINGS."
   ]
  },
  {
   "cell_type": "code",
   "execution_count": 42,
   "id": "ad8d51ca",
   "metadata": {},
   "outputs": [
    {
     "name": "stdout",
     "output_type": "stream",
     "text": [
      "BELOW ARE THE TOP 5 PRODUCTS BASED ON POPULARITY:\n",
      "\n",
      "                                                     score  NO_OF_RATINGS\n",
      "product                                                                 \n",
      "Motorola Smartphone Motorola Moto G Dual Chip D...   10.0            140\n",
      "Motorola Smartphone Motorola Moto X Desbloquead...   10.0            139\n",
      "Nokia Smartphone Nokia Lumia 520 Desbloqueado O...   10.0            132\n",
      "Samsung Smartphone Dual Chip Samsung Galaxy SII...   10.0            130\n",
      "Samsung Smartphone Galaxy Win Duos Branco Desbl...   10.0            129\n"
     ]
    }
   ],
   "source": [
    "# USING ORIGINAL DATA SET AND RECOMMEND THE 5 POPULAR PHONE MODELS:\n",
    "\n",
    "# GROUP THE PRODUCTS AND FIND THE MEAN OF THE SCORE FOR EACH GROUP\n",
    "\n",
    "POPULAR_MODELS = pd.DataFrame(DF.groupby('product')['score'].mean())\n",
    "\n",
    "# ADD NO_OF_RATINGS TO FIND NO. OF TIMES A POPULAR PRODUCT IS RATED\n",
    "\n",
    "POPULAR_MODELS['NO_OF_RATINGS'] = DF.groupby('product')['score'].count()\n",
    "\n",
    "# SORT IN ORDER OF PRODUCTS HAVING HIGH MEAN SCORE AND MORE NO_OF_RATINS\n",
    "\n",
    "POPULAR_MODELS = POPULAR_MODELS.sort_values(by = ['score','NO_OF_RATINGS'], ascending = [False, False])\n",
    "\n",
    "# PRINT THE TOP 5 MOBILE PHONES BASED ON THE POPULARITY\n",
    "\n",
    "print('BELOW ARE THE TOP 5 PRODUCTS BASED ON POPULARITY:\\n\\n', POPULAR_MODELS.head())"
   ]
  },
  {
   "cell_type": "markdown",
   "id": "f9eac14d",
   "metadata": {},
   "source": [
    "    * IN THE ABOVE OUTPUT WE HAVE 5 POPULAR MOBILE PHONES.\n",
    "    \n",
    "    * MOTO G AND MOTO X ARE IN TOP 2 WITH AVG SCORE OF 10 AND 140 AND 139 RATINGS RESPECTIVELY\n",
    "    \n",
    "    * NOKIA AND SAMSUNG PHONES ARE IN THE NEXT THREE SPOTS.\n",
    "    \n",
    "    * IN THE NEXT STEP, WE WILL USE THE USERS_PRODUCTS_50 TO RECOMMEND POPULAR MODELS"
   ]
  },
  {
   "cell_type": "code",
   "execution_count": 43,
   "id": "3219e070",
   "metadata": {},
   "outputs": [
    {
     "name": "stdout",
     "output_type": "stream",
     "text": [
      "BELOW ARE THE TOP 5 PRODUCTS BASED ON POPULARITY:\n",
      "\n",
      "                                                     score  NO_OF_RATINGS\n",
      "product                                                                 \n",
      "Asus ZenFone 2 Smartphone, 64 GB, Blu Fusion [I...   10.0             28\n",
      "Samsung Galaxy Note5                                 10.0             28\n",
      "HTC One (32Gb)                                       10.0             12\n",
      "LG Electronics L90 Smartphone (4,7 Zoll (11,9 c...   10.0             11\n",
      "Apple iPhone 6 Plus 64GB                             10.0             10\n"
     ]
    }
   ],
   "source": [
    "# USING PRODUCTS THAT ARE MOST RATED\n",
    "\n",
    "# GROUP THE PRODUCTS AND FIND THE MEAN OF THE SCORE FOR EACH GROUP\n",
    "\n",
    "POPULAR_MODELS = pd.DataFrame(USERS_PRODUCTS_50.groupby('product')['score'].mean())\n",
    "\n",
    "# ADD NO_OF_RATINGS TO FIND NO. OF TIMES A POPULAR PRODUCT IS RATED\n",
    "\n",
    "POPULAR_MODELS['NO_OF_RATINGS'] = USERS_PRODUCTS_50.groupby('product')['score'].count()\n",
    "\n",
    "# SORT IN ORDER OF PRODUCTS HAVING HIGH MEAN SCORE AND MORE NO_OF_RATINS\n",
    "\n",
    "POPULAR_MODELS = POPULAR_MODELS.sort_values(by = ['score','NO_OF_RATINGS'], ascending = [False, False])\n",
    "\n",
    "# PRINT THE TOP 5 MOBILE PHONES BASED ON THE POPULARITY\n",
    "\n",
    "print('BELOW ARE THE TOP 5 PRODUCTS BASED ON POPULARITY:\\n\\n', POPULAR_MODELS.head())"
   ]
  },
  {
   "cell_type": "markdown",
   "id": "dc5e7cfa",
   "metadata": {},
   "source": [
    "    * IN THE ABOVE OUTPUT WE HAVE 5 POPULAR MOBILE PHONES.\n",
    "    \n",
    "    * ASUS ZENFONE 2 AND SAMSUNG GALAXY NOTE 5 HAS HIGH SCORES OF 10 AND ARE MOST HIGH RATED\n",
    "    \n",
    "    * HTC ONE, LG L90, IPHONE 6 PLUS ARE IN THE ORDER WITH MEAN SCORE OF 10 BUT NO_OF_RATINGS IN ORDER OF 12, 11, 10"
   ]
  },
  {
   "cell_type": "markdown",
   "id": "76990f80",
   "metadata": {},
   "source": [
    "# 4. Build a collaborative filtering model using SVD. You can use SVD from surprise or build it from scratch(Note: Incase you’re building it from scratch you can limit your data points to 5000 samples if you face memory issues). Build a collaborative filtering model using kNNWithMeans from surprise. You can try both user-based and item-based model."
   ]
  },
  {
   "cell_type": "markdown",
   "id": "6493a645",
   "metadata": {},
   "source": [
    "    * I AM USING USERS_PRODUCTS_50 DATA INSTEAD OF FULL DATA DF TO AVOID MEMORY ALLOCATION ISSUES IN KNNWITHMEANS"
   ]
  },
  {
   "cell_type": "code",
   "execution_count": 44,
   "id": "6bdb20c0",
   "metadata": {},
   "outputs": [],
   "source": [
    "#USE THE READER FROM SURPRISE AND REARRANGE THE COLUMNS ACCORDINGLY\n",
    "\n",
    "READER = Reader(rating_scale=(1, 10))\n",
    "\n",
    "READER_DATA = Dataset.load_from_df(USERS_PRODUCTS_50[['author', 'product', 'score']], READER)\n",
    "\n",
    "#HERE AUTHOR DATA IS CONVERTED INTO INNER ID'S."
   ]
  },
  {
   "cell_type": "code",
   "execution_count": 45,
   "id": "be81f33c",
   "metadata": {},
   "outputs": [],
   "source": [
    "#SPLIT THE DATA INTO TRAIN AND TEST IN 75:25 RATIO WITH RANDOM STATE = 612\n",
    "\n",
    "TRAIN_DATA_SET, TEST_DATA = train_test_split(READER_DATA, test_size=.25,random_state=612)\n",
    "\n",
    "TRAIN_DATA = READER_DATA.build_full_trainset()"
   ]
  },
  {
   "cell_type": "code",
   "execution_count": 46,
   "id": "6f69f66a",
   "metadata": {},
   "outputs": [
    {
     "name": "stdout",
     "output_type": "stream",
     "text": [
      "NO OF USERS IN THE TRAIN DATA: 687\n",
      "\n",
      "NO OF ITEMS IN THE TRAIN DATA: 4114\n"
     ]
    }
   ],
   "source": [
    "# PRINT NUMBER OF USERS AND ITEMS IN TRAIN_DATA\n",
    "\n",
    "print('NO OF USERS IN THE TRAIN DATA:',TRAIN_DATA.n_users)\n",
    "\n",
    "print('\\nNO OF ITEMS IN THE TRAIN DATA:',TRAIN_DATA.n_items)"
   ]
  },
  {
   "cell_type": "code",
   "execution_count": 49,
   "id": "a2a90804",
   "metadata": {},
   "outputs": [
    {
     "name": "stdout",
     "output_type": "stream",
     "text": [
      "FIRST 5 PREDICTIONS FROM SVD:\n",
      " [Prediction(uid='Mike', iid='Sim Free Apple iPhone 6s 64GB Mobile Phone - Space Grey', r_ui=10.0, est=9.82796255669638, details={'was_impossible': False}), Prediction(uid='Amazon Kunde', iid='Samsung Galaxy S5 mini Smartphone (4,5 Zoll (11,4 cm) Touch-Display, 16 GB Speicher, Android 4.4) gold', r_ui=6.0, est=1.5633714356048731, details={'was_impossible': False}), Prediction(uid='Christopher', iid='APPLE iPhone 7 Plus - Gold, 32 GB', r_ui=10.0, est=9.211214719108016, details={'was_impossible': False}), Prediction(uid='Cliente Amazon', iid='Microsoft Lumia 640 Smartphone, Dual-SIM, Display HD-IPS 5 Pollici, Processore Quad-Core 1,2GHz, Fotocamera 8 MP, Memoria 8GB, Win 8.1, Bianco [Germania]', r_ui=10.0, est=2.7287847019672906, details={'was_impossible': False}), Prediction(uid='Cliente Amazon', iid='Samsung Galaxy A5 2016 Smartphone LTE, 16GB, Nero', r_ui=10.0, est=2.4577010758102165, details={'was_impossible': False})]\n"
     ]
    }
   ],
   "source": [
    "# CREATE A SVD MODEL WITH RANDOM STATE = 612\n",
    "\n",
    "SVD_MOD = SVD(random_state=612)\n",
    "\n",
    "# FIT THE TRAIN_DATA INTO SVD_MOD\n",
    "\n",
    "SVD_MOD.fit(TRAIN_DATA)\n",
    "\n",
    "# AFTER FIITING THE TRAIN_DATA, PREDICT THE TEST_DATA AND LOAD INTO SVD_PRED\n",
    "\n",
    "SVD_PRED = SVD_MOD.test(TEST_DATA)\n",
    "\n",
    "# PRINT THE FIRST 5 PREDICTIONS\n",
    "\n",
    "print('FIRST 5 PREDICTIONS FROM SVD:\\n',SVD_PRED[0:5])"
   ]
  },
  {
   "cell_type": "code",
   "execution_count": 50,
   "id": "fe1237e5",
   "metadata": {},
   "outputs": [
    {
     "name": "stdout",
     "output_type": "stream",
     "text": [
      "RMSE: 3.6406\n",
      "\n",
      "RMSE USING SVD MODEL: 3.64\n"
     ]
    }
   ],
   "source": [
    "RMSE_SVD = round(accuracy.rmse(SVD_PRED),2)\n",
    "\n",
    "print('\\nRMSE USING SVD MODEL:', RMSE_SVD)"
   ]
  },
  {
   "cell_type": "code",
   "execution_count": 53,
   "id": "70195e5f",
   "metadata": {},
   "outputs": [
    {
     "name": "stdout",
     "output_type": "stream",
     "text": [
      "Computing the cosine similarity matrix...\n",
      "Done computing similarity matrix.\n",
      "FIRST 5 PREDICTIONS FROM KNN WITH MEANS USING USER BASED COLLABARATION:\n",
      " [Prediction(uid='Mike', iid='Sim Free Apple iPhone 6s 64GB Mobile Phone - Space Grey', r_ui=10.0, est=10, details={'actual_k': 13, 'was_impossible': False}), Prediction(uid='Amazon Kunde', iid='Samsung Galaxy S5 mini Smartphone (4,5 Zoll (11,4 cm) Touch-Display, 16 GB Speicher, Android 4.4) gold', r_ui=6.0, est=6.786118006363303, details={'actual_k': 60, 'was_impossible': False}), Prediction(uid='Christopher', iid='APPLE iPhone 7 Plus - Gold, 32 GB', r_ui=10.0, est=8.802391232009366, details={'actual_k': 41, 'was_impossible': False}), Prediction(uid='Cliente Amazon', iid='Microsoft Lumia 640 Smartphone, Dual-SIM, Display HD-IPS 5 Pollici, Processore Quad-Core 1,2GHz, Fotocamera 8 MP, Memoria 8GB, Win 8.1, Bianco [Germania]', r_ui=10.0, est=8.58675531341991, details={'actual_k': 58, 'was_impossible': False}), Prediction(uid='Cliente Amazon', iid='Samsung Galaxy A5 2016 Smartphone LTE, 16GB, Nero', r_ui=10.0, est=8.909726292336375, details={'actual_k': 100, 'was_impossible': False})]\n"
     ]
    }
   ],
   "source": [
    "# BUILD A COLLABARATIVE FILTERING MODEL USING KNN WITH MEANS\n",
    "\n",
    "# DICT OF SIM OPTIONS - I AM USING COSINE SIMILARITY AND BUILDING THE MODEL BASED ON USER COLLABARATION WITH K = 100\n",
    "\n",
    "SIM_OPTIONS = {'name': 'cosine', 'user_based': True}\n",
    "\n",
    "KNN_MEANS_USER = KNNWithMeans(k = 100, sim_options = SIM_OPTIONS)\n",
    "\n",
    "KNN_MEANS_USER.fit(TRAIN_DATA)\n",
    "\n",
    "KNN_USERS_PRED = KNN_MEANS_USER.test(TEST_DATA)\n",
    "\n",
    "# PRINT THE FIRST 5 PREDICTIONS\n",
    "\n",
    "print('FIRST 5 PREDICTIONS FROM KNN WITH MEANS USING USER BASED COLLABARATION:\\n',KNN_USERS_PRED[0:5])"
   ]
  },
  {
   "cell_type": "code",
   "execution_count": 52,
   "id": "7a5a8c8b",
   "metadata": {},
   "outputs": [
    {
     "name": "stdout",
     "output_type": "stream",
     "text": [
      "Computing the cosine similarity matrix...\n",
      "Done computing similarity matrix.\n",
      "FIRST 5 PREDICTIONS FROM KNN WITH MEANS USING ITEMS BASED COLLABARATION:\n",
      " [Prediction(uid='Mike', iid='Sim Free Apple iPhone 6s 64GB Mobile Phone - Space Grey', r_ui=10.0, est=10, details={'actual_k': 100, 'was_impossible': False}), Prediction(uid='Amazon Kunde', iid='Samsung Galaxy S5 mini Smartphone (4,5 Zoll (11,4 cm) Touch-Display, 16 GB Speicher, Android 4.4) gold', r_ui=6.0, est=7.774711003620274, details={'actual_k': 100, 'was_impossible': False}), Prediction(uid='Christopher', iid='APPLE iPhone 7 Plus - Gold, 32 GB', r_ui=10.0, est=9.118399727611239, details={'actual_k': 49, 'was_impossible': False}), Prediction(uid='Cliente Amazon', iid='Microsoft Lumia 640 Smartphone, Dual-SIM, Display HD-IPS 5 Pollici, Processore Quad-Core 1,2GHz, Fotocamera 8 MP, Memoria 8GB, Win 8.1, Bianco [Germania]', r_ui=10.0, est=9.138223103117735, details={'actual_k': 100, 'was_impossible': False}), Prediction(uid='Cliente Amazon', iid='Samsung Galaxy A5 2016 Smartphone LTE, 16GB, Nero', r_ui=10.0, est=9.376180643296799, details={'actual_k': 100, 'was_impossible': False})]\n"
     ]
    }
   ],
   "source": [
    "# BUILD A ITEM - ITEM COLLABARATIVE FILTERING MODEL USING KNN WITH MEANS\n",
    "\n",
    "# DICT OF SIM OPTIONS - I AM USING COSINE SIMILARITY AND BUILDING THE MODEL BASED ON ITEMS COLLABARATION WITH K = 100\n",
    "\n",
    "SIM_OPTIONS = {'name': 'cosine', 'user_based': False}\n",
    "\n",
    "KNN_MEANS_ITEM = KNNWithMeans(k = 100, sim_options = SIM_OPTIONS)\n",
    "\n",
    "KNN_MEANS_ITEM.fit(TRAIN_DATA)\n",
    "\n",
    "KNN_ITEMS_PRED = KNN_MEANS_ITEM.test(TEST_DATA)\n",
    "\n",
    "# PRINT THE FIRST 5 PREDICTIONS\n",
    "\n",
    "print('FIRST 5 PREDICTIONS FROM KNN WITH MEANS USING ITEMS BASED COLLABARATION:\\n',KNN_ITEMS_PRED[0:5])"
   ]
  },
  {
   "cell_type": "code",
   "execution_count": 54,
   "id": "a50d40e4",
   "metadata": {},
   "outputs": [
    {
     "name": "stdout",
     "output_type": "stream",
     "text": [
      "RMSE: 2.3845\n",
      "RMSE: 2.4091\n",
      "RMSE VALUE FOR USER BASED COLLABARATIVE MODEL USING KNN MEANS: 2.38\n",
      "\n",
      "RMSE VALUE FOR ITEM BASED COLLABARATIVE MODEL USING KNN MEANS: 2.41\n"
     ]
    }
   ],
   "source": [
    "RMSE_USER_BASED = round(accuracy.rmse(KNN_USERS_PRED),2)\n",
    "\n",
    "RMSE_ITEM_BASED = round(accuracy.rmse(KNN_ITEMS_PRED),2)\n",
    "\n",
    "print('RMSE VALUE FOR USER BASED COLLABARATIVE MODEL USING KNN MEANS:', RMSE_USER_BASED)\n",
    "\n",
    "print('\\nRMSE VALUE FOR ITEM BASED COLLABARATIVE MODEL USING KNN MEANS:', RMSE_ITEM_BASED)"
   ]
  },
  {
   "cell_type": "markdown",
   "id": "132f0caf",
   "metadata": {},
   "source": [
    "# 5. Evaluate the collaborative model. Print RMSE value."
   ]
  },
  {
   "cell_type": "code",
   "execution_count": 55,
   "id": "51821f91",
   "metadata": {},
   "outputs": [
    {
     "name": "stdout",
     "output_type": "stream",
     "text": [
      "Computing the cosine similarity matrix...\n",
      "Done computing similarity matrix.\n",
      "Computing the cosine similarity matrix...\n",
      "Done computing similarity matrix.\n",
      "Computing the cosine similarity matrix...\n",
      "Done computing similarity matrix.\n",
      "Computing the cosine similarity matrix...\n",
      "Done computing similarity matrix.\n",
      "Computing the cosine similarity matrix...\n",
      "Done computing similarity matrix.\n",
      "Computing the cosine similarity matrix...\n",
      "Done computing similarity matrix.\n",
      "Computing the cosine similarity matrix...\n",
      "Done computing similarity matrix.\n",
      "Computing the cosine similarity matrix...\n",
      "Done computing similarity matrix.\n",
      "Computing the cosine similarity matrix...\n",
      "Done computing similarity matrix.\n",
      "Computing the cosine similarity matrix...\n",
      "Done computing similarity matrix.\n"
     ]
    }
   ],
   "source": [
    "SVD_CV = cross_validate(SVD_MOD, READER_DATA, measures=['RMSE'], cv = 5, verbose=False)\n",
    "\n",
    "KNN_ITEM_CV = cross_validate(KNN_MEANS_ITEM, READER_DATA, measures=['RMSE'], cv = 5, verbose=False)\n",
    "\n",
    "KNN_USER_CV = cross_validate(KNN_MEANS_USER, READER_DATA, measures=['RMSE'], cv = 5, verbose=False)"
   ]
  },
  {
   "cell_type": "code",
   "execution_count": 56,
   "id": "8c59d673",
   "metadata": {},
   "outputs": [
    {
     "name": "stdout",
     "output_type": "stream",
     "text": [
      "CROSS VALIDATION SCORE FOR THE SVD MODEL:  2.63\n",
      "\n",
      "CROSS VALIDATION SCORE FOR THE KNN MEANS WITH ITEMS:  2.61\n",
      "\n",
      "CROSS VALIDATION SCORE FOR THE KNN MEANS WITH USERS:  2.59\n"
     ]
    }
   ],
   "source": [
    "SVD_CV_SCORE = round((SVD_CV['test_rmse'].mean()),2)\n",
    "KNN_ITEM_CV_SCORE = round((KNN_ITEM_CV['test_rmse'].mean()),2)\n",
    "KNN_USER_CV_SCORE = round((KNN_USER_CV['test_rmse'].mean()),2)\n",
    "\n",
    "print(\"CROSS VALIDATION SCORE FOR THE SVD MODEL: \",SVD_CV_SCORE)\n",
    "\n",
    "print(\"\\nCROSS VALIDATION SCORE FOR THE KNN MEANS WITH ITEMS: \",KNN_ITEM_CV_SCORE)\n",
    "\n",
    "print(\"\\nCROSS VALIDATION SCORE FOR THE KNN MEANS WITH USERS: \",KNN_USER_CV_SCORE)"
   ]
  },
  {
   "cell_type": "code",
   "execution_count": 57,
   "id": "f87e8048",
   "metadata": {},
   "outputs": [
    {
     "name": "stdout",
     "output_type": "stream",
     "text": [
      "\n",
      "RMSE USING SVD MODEL: 3.64\n",
      "\n",
      "RMSE VALUE FOR USER BASED COLLABARATIVE MODEL USING KNN MEANS: 2.38\n",
      "\n",
      "RMSE VALUE FOR ITEM BASED COLLABARATIVE MODEL USING KNN MEANS: 2.41\n"
     ]
    }
   ],
   "source": [
    "print('\\nRMSE USING SVD MODEL:', RMSE_SVD)\n",
    "\n",
    "print('\\nRMSE VALUE FOR USER BASED COLLABARATIVE MODEL USING KNN MEANS:', RMSE_USER_BASED)\n",
    "\n",
    "print('\\nRMSE VALUE FOR ITEM BASED COLLABARATIVE MODEL USING KNN MEANS:', RMSE_ITEM_BASED)"
   ]
  },
  {
   "cell_type": "code",
   "execution_count": 58,
   "id": "f765bf84",
   "metadata": {},
   "outputs": [
    {
     "data": {
      "text/html": [
       "<div>\n",
       "<style scoped>\n",
       "    .dataframe tbody tr th:only-of-type {\n",
       "        vertical-align: middle;\n",
       "    }\n",
       "\n",
       "    .dataframe tbody tr th {\n",
       "        vertical-align: top;\n",
       "    }\n",
       "\n",
       "    .dataframe thead th {\n",
       "        text-align: right;\n",
       "    }\n",
       "</style>\n",
       "<table border=\"1\" class=\"dataframe\">\n",
       "  <thead>\n",
       "    <tr style=\"text-align: right;\">\n",
       "      <th></th>\n",
       "      <th>MODEL NAME</th>\n",
       "      <th>RMSE VALUE</th>\n",
       "      <th>CROSS VALIDATION SCORE</th>\n",
       "    </tr>\n",
       "  </thead>\n",
       "  <tbody>\n",
       "    <tr>\n",
       "      <th>0</th>\n",
       "      <td>SVD_MODEL</td>\n",
       "      <td>3.64</td>\n",
       "      <td>2.63</td>\n",
       "    </tr>\n",
       "    <tr>\n",
       "      <th>1</th>\n",
       "      <td>KNNMEANS WITH USER BASED</td>\n",
       "      <td>2.38</td>\n",
       "      <td>2.61</td>\n",
       "    </tr>\n",
       "    <tr>\n",
       "      <th>2</th>\n",
       "      <td>KNNMEANS WITH ITEM BASED</td>\n",
       "      <td>2.41</td>\n",
       "      <td>2.59</td>\n",
       "    </tr>\n",
       "  </tbody>\n",
       "</table>\n",
       "</div>"
      ],
      "text/plain": [
       "                 MODEL NAME  RMSE VALUE  CROSS VALIDATION SCORE\n",
       "0                 SVD_MODEL        3.64                    2.63\n",
       "1  KNNMEANS WITH USER BASED        2.38                    2.61\n",
       "2  KNNMEANS WITH ITEM BASED        2.41                    2.59"
      ]
     },
     "execution_count": 58,
     "metadata": {},
     "output_type": "execute_result"
    }
   ],
   "source": [
    "RMSE = pd.DataFrame()\n",
    "\n",
    "RMSE = RMSE.append(pd.Series([\"SVD_MODEL\", RMSE_SVD, SVD_CV_SCORE]),ignore_index=True)\n",
    "\n",
    "RMSE = RMSE.append(pd.Series([\"KNNMEANS WITH USER BASED\", RMSE_USER_BASED, KNN_ITEM_CV_SCORE]),ignore_index=True)\n",
    "\n",
    "RMSE = RMSE.append(pd.Series([\"KNNMEANS WITH ITEM BASED\", RMSE_ITEM_BASED, KNN_USER_CV_SCORE]),ignore_index=True)\n",
    "\n",
    "RMSE.columns = [\"MODEL NAME\", \"RMSE VALUE\", \"CROSS VALIDATION SCORE\"]\n",
    "\n",
    "RMSE"
   ]
  },
  {
   "cell_type": "markdown",
   "id": "804aa250",
   "metadata": {},
   "source": [
    "    * RMSE VALUE FOR KNN MEANS WITH USERS IS LESS COMPARED TO SVD AND KNN WITH ITEM BASED MODELS\n",
    "    \n",
    "    * LESS RMSE VALUE INDICATES THAT THE MODEL IS MORE EFFECTIVE"
   ]
  },
  {
   "cell_type": "markdown",
   "id": "e05d1663",
   "metadata": {},
   "source": [
    "# 6. Predict score (average rating) for test users."
   ]
  },
  {
   "cell_type": "markdown",
   "id": "663165d3",
   "metadata": {},
   "source": [
    "    * WE HAVE USED SVD, KNNWITHMEANS USING ITEMS AS WELL AS USERS COLLABARATION MODEL.\n",
    "    \n",
    "    * USING THE DATA FROM PREDICTIONS ON ALL THE THREE MODELS, WE WILL CREATE 3 DATA FRAMES."
   ]
  },
  {
   "cell_type": "code",
   "execution_count": 59,
   "id": "b1903bb6",
   "metadata": {},
   "outputs": [
    {
     "data": {
      "text/plain": [
       "Prediction(uid='Amazon Kunde', iid='Samsung Galaxy S5 mini Smartphone (4,5 Zoll (11,4 cm) Touch-Display, 16 GB Speicher, Android 4.4) gold', r_ui=6.0, est=7.774711003620274, details={'actual_k': 100, 'was_impossible': False})"
      ]
     },
     "execution_count": 59,
     "metadata": {},
     "output_type": "execute_result"
    }
   ],
   "source": [
    "# SVD_PRED[1]\n",
    "\n",
    "# KNN_USERS_PRED[1]\n",
    "\n",
    "KNN_ITEMS_PRED[1]"
   ]
  },
  {
   "cell_type": "markdown",
   "id": "f07e8717",
   "metadata": {},
   "source": [
    "    * FROM THE ABOVE OUTPUT, WE HAVE UID, IID, R_UI, EST, DETAILS FIELDS FOR EACH PREDICTIONS.\n",
    "    \n",
    "    * LET US CREATE A DATAFRAME USING THE FIELDS AND DATA IN THE PREDICTIONS LIST\n",
    "    \n",
    "    * R_UI FIELD REPRESENTS THE RATING OF A PRODUCT GIVEN BY THE USER.\n",
    "    \n",
    "    * EST REPRESENTS THE PREDICTION VALUE OF A PRODUCT\n",
    "    \n",
    "    * AFTER CREATING DATA FRAME, MEAN OF R_UI AND EST WILL GIVE AVERAGE RATING AND PREDICTION SCORE FOR TEST DATA"
   ]
  },
  {
   "cell_type": "code",
   "execution_count": 60,
   "id": "05130e3d",
   "metadata": {},
   "outputs": [
    {
     "data": {
      "text/html": [
       "<div>\n",
       "<style scoped>\n",
       "    .dataframe tbody tr th:only-of-type {\n",
       "        vertical-align: middle;\n",
       "    }\n",
       "\n",
       "    .dataframe tbody tr th {\n",
       "        vertical-align: top;\n",
       "    }\n",
       "\n",
       "    .dataframe thead th {\n",
       "        text-align: right;\n",
       "    }\n",
       "</style>\n",
       "<table border=\"1\" class=\"dataframe\">\n",
       "  <thead>\n",
       "    <tr style=\"text-align: right;\">\n",
       "      <th></th>\n",
       "      <th>USER_ID</th>\n",
       "      <th>ITEM_ID</th>\n",
       "      <th>RATING</th>\n",
       "      <th>PREDICTION</th>\n",
       "      <th>DETAILS</th>\n",
       "    </tr>\n",
       "  </thead>\n",
       "  <tbody>\n",
       "    <tr>\n",
       "      <th>0</th>\n",
       "      <td>Mike</td>\n",
       "      <td>Sim Free Apple iPhone 6s 64GB Mobile Phone - S...</td>\n",
       "      <td>10.0</td>\n",
       "      <td>10.000000</td>\n",
       "      <td>{'actual_k': 100, 'was_impossible': False}</td>\n",
       "    </tr>\n",
       "    <tr>\n",
       "      <th>1</th>\n",
       "      <td>Amazon Kunde</td>\n",
       "      <td>Samsung Galaxy S5 mini Smartphone (4,5 Zoll (1...</td>\n",
       "      <td>6.0</td>\n",
       "      <td>7.774711</td>\n",
       "      <td>{'actual_k': 100, 'was_impossible': False}</td>\n",
       "    </tr>\n",
       "    <tr>\n",
       "      <th>2</th>\n",
       "      <td>Christopher</td>\n",
       "      <td>APPLE iPhone 7 Plus - Gold, 32 GB</td>\n",
       "      <td>10.0</td>\n",
       "      <td>9.118400</td>\n",
       "      <td>{'actual_k': 49, 'was_impossible': False}</td>\n",
       "    </tr>\n",
       "    <tr>\n",
       "      <th>3</th>\n",
       "      <td>Cliente Amazon</td>\n",
       "      <td>Microsoft Lumia 640 Smartphone, Dual-SIM, Disp...</td>\n",
       "      <td>10.0</td>\n",
       "      <td>9.138223</td>\n",
       "      <td>{'actual_k': 100, 'was_impossible': False}</td>\n",
       "    </tr>\n",
       "    <tr>\n",
       "      <th>4</th>\n",
       "      <td>Cliente Amazon</td>\n",
       "      <td>Samsung Galaxy A5 2016 Smartphone LTE, 16GB, Nero</td>\n",
       "      <td>10.0</td>\n",
       "      <td>9.376181</td>\n",
       "      <td>{'actual_k': 100, 'was_impossible': False}</td>\n",
       "    </tr>\n",
       "  </tbody>\n",
       "</table>\n",
       "</div>"
      ],
      "text/plain": [
       "          USER_ID                                            ITEM_ID  RATING  \\\n",
       "0            Mike  Sim Free Apple iPhone 6s 64GB Mobile Phone - S...    10.0   \n",
       "1    Amazon Kunde  Samsung Galaxy S5 mini Smartphone (4,5 Zoll (1...     6.0   \n",
       "2     Christopher                  APPLE iPhone 7 Plus - Gold, 32 GB    10.0   \n",
       "3  Cliente Amazon  Microsoft Lumia 640 Smartphone, Dual-SIM, Disp...    10.0   \n",
       "4  Cliente Amazon  Samsung Galaxy A5 2016 Smartphone LTE, 16GB, Nero    10.0   \n",
       "\n",
       "   PREDICTION                                     DETAILS  \n",
       "0   10.000000  {'actual_k': 100, 'was_impossible': False}  \n",
       "1    7.774711  {'actual_k': 100, 'was_impossible': False}  \n",
       "2    9.118400   {'actual_k': 49, 'was_impossible': False}  \n",
       "3    9.138223  {'actual_k': 100, 'was_impossible': False}  \n",
       "4    9.376181  {'actual_k': 100, 'was_impossible': False}  "
      ]
     },
     "execution_count": 60,
     "metadata": {},
     "output_type": "execute_result"
    }
   ],
   "source": [
    "PREDICTIONS_SVD_DF = pd.DataFrame(SVD_PRED, columns = ['USER_ID', 'ITEM_ID', 'RATING', 'PREDICTION', 'DETAILS' ])\n",
    "\n",
    "PREDICTIONS_KNN_USERS_DF = pd.DataFrame(KNN_USERS_PRED, \n",
    "                                        columns = ['USER_ID', 'ITEM_ID', 'RATING', 'PREDICTION', 'DETAILS' ])\n",
    "\n",
    "PREDICTIONS_KNN_ITEMS_DF = pd.DataFrame(KNN_ITEMS_PRED, \n",
    "                                        columns = ['USER_ID', 'ITEM_ID', 'RATING', 'PREDICTION', 'DETAILS' ])\n",
    "\n",
    "# PREDICTIONS_SVD_DF.head()\n",
    "\n",
    "# PREDICTIONS_KNN_USERS_DF.head()\n",
    "\n",
    "PREDICTIONS_KNN_ITEMS_DF.head()"
   ]
  },
  {
   "cell_type": "code",
   "execution_count": 61,
   "id": "d85fd7ae",
   "metadata": {},
   "outputs": [
    {
     "name": "stdout",
     "output_type": "stream",
     "text": [
      "AVERAGE RATING FOR TEST USERS USING SVD MODEL: 7.97\n",
      "\n",
      "AVERAGE PREDICTION SCORE FOR TEST USERS USING SVD MODEL: 5.91\n",
      "\n",
      "AVERAGE RATING FOR TEST USERS USING KNN MEANS WITH USERS: 7.97\n",
      "\n",
      "AVERAGE PREDICTION SCORE FOR TEST USERS USING KNN MEANS WITH USERS: 8.04\n",
      "\n",
      "AVERAGE RATING FOR TEST USERS USING KNN MEANS WITH ITEMS: 7.97\n",
      "\n",
      "AVERAGE PREDICTION SCORE FOR TEST USERS USING KNN MEANS WITH ITEMS: 8.25\n"
     ]
    }
   ],
   "source": [
    "AVERAGE_RATING_SVD = round(PREDICTIONS_SVD_DF['RATING'].mean(),2)\n",
    "\n",
    "AVERAGE_PREDICTION_SCORE_SVD = round(PREDICTIONS_SVD_DF['PREDICTION'].mean(),2)\n",
    "\n",
    "AVERAGE_RATING_KNN_USERS = round(PREDICTIONS_KNN_USERS_DF['RATING'].mean(),2)\n",
    "\n",
    "AVERAGE_PREDICTION_SCORE_KNN_USERS = round(PREDICTIONS_KNN_USERS_DF['PREDICTION'].mean(),2)\n",
    "\n",
    "AVERAGE_RATING_KNN_ITEMS = round(PREDICTIONS_KNN_ITEMS_DF['RATING'].mean(),2)\n",
    "\n",
    "AVERAGE_PREDICTION_SCORE_KNN_ITEMS = round(PREDICTIONS_KNN_ITEMS_DF['PREDICTION'].mean(),2)\n",
    "\n",
    "AVERAGE_RATINGS = pd.DataFrame()\n",
    "\n",
    "AVERAGE_RATINGS = AVERAGE_RATINGS.append(pd.Series([\"SVD_MODEL\", AVERAGE_RATING_SVD, \n",
    "                                                    AVERAGE_PREDICTION_SCORE_SVD]),ignore_index=True)\n",
    "\n",
    "AVERAGE_RATINGS = AVERAGE_RATINGS.append(pd.Series([\"KNNMEANS WITH USER BASED\", AVERAGE_RATING_KNN_USERS, \n",
    "                                                    AVERAGE_PREDICTION_SCORE_KNN_USERS]),ignore_index=True)\n",
    "\n",
    "AVERAGE_RATINGS = AVERAGE_RATINGS.append(pd.Series([\"KNNMEANS WITH ITEM BASED\", AVERAGE_RATING_KNN_ITEMS, \n",
    "                                                    AVERAGE_PREDICTION_SCORE_KNN_ITEMS]),ignore_index=True)\n",
    "\n",
    "AVERAGE_RATINGS.columns = [\"MODEL NAME\", \"AVERAGE_RATINGS\", \"AVERAGE PREDICTION SCORE\"]\n",
    "\n",
    "print('AVERAGE RATING FOR TEST USERS USING SVD MODEL:', AVERAGE_RATING_SVD)\n",
    "\n",
    "print('\\nAVERAGE PREDICTION SCORE FOR TEST USERS USING SVD MODEL:', AVERAGE_PREDICTION_SCORE_SVD)\n",
    "\n",
    "print('\\nAVERAGE RATING FOR TEST USERS USING KNN MEANS WITH USERS:', AVERAGE_RATING_KNN_USERS)\n",
    "\n",
    "print('\\nAVERAGE PREDICTION SCORE FOR TEST USERS USING KNN MEANS WITH USERS:', AVERAGE_PREDICTION_SCORE_KNN_USERS)\n",
    "\n",
    "print('\\nAVERAGE RATING FOR TEST USERS USING KNN MEANS WITH ITEMS:', AVERAGE_RATING_KNN_ITEMS)\n",
    "\n",
    "print('\\nAVERAGE PREDICTION SCORE FOR TEST USERS USING KNN MEANS WITH ITEMS:', AVERAGE_PREDICTION_SCORE_KNN_ITEMS)"
   ]
  },
  {
   "cell_type": "markdown",
   "id": "f27cfdab",
   "metadata": {},
   "source": [
    "    * AVERAGE RATING FOR TEST USERS IN ALL THE MODELS IS 7.97\n",
    "    \n",
    "    * AVERAGE PREDICTION SCORE FOR TEST USERS IS HIGH FOR KNN MEANS WITH ITEMS AND LOW FOR KNN MEANS WITH USERS"
   ]
  },
  {
   "cell_type": "markdown",
   "id": "a56a212c",
   "metadata": {},
   "source": [
    "# 7. Report your findings and inferences."
   ]
  },
  {
   "cell_type": "code",
   "execution_count": 62,
   "id": "4691ec54",
   "metadata": {},
   "outputs": [
    {
     "name": "stdout",
     "output_type": "stream",
     "text": [
      "RMSE AND CV SCORE FOR THE COLLABARATION MODELS:\n",
      "\n",
      "                 MODEL NAME  RMSE VALUE  CROSS VALIDATION SCORE\n",
      "0                 SVD_MODEL        3.64                    2.63\n",
      "1  KNNMEANS WITH USER BASED        2.38                    2.61\n",
      "2  KNNMEANS WITH ITEM BASED        2.41                    2.59\n",
      "\n",
      "\n",
      "\n",
      "AVERAGE RATINGS AND PREDICTION SCORE FOR THE COLLABARATION MODELS:\n",
      "\n",
      "                 MODEL NAME  AVERAGE_RATINGS  AVERAGE PREDICTION SCORE\n",
      "0                 SVD_MODEL             7.97                      5.91\n",
      "1  KNNMEANS WITH USER BASED             7.97                      8.04\n",
      "2  KNNMEANS WITH ITEM BASED             7.97                      8.25\n"
     ]
    }
   ],
   "source": [
    "print('RMSE AND CV SCORE FOR THE COLLABARATION MODELS:\\n')\n",
    "\n",
    "print(RMSE)\n",
    "\n",
    "print('\\n\\n')\n",
    "\n",
    "print('AVERAGE RATINGS AND PREDICTION SCORE FOR THE COLLABARATION MODELS:\\n')\n",
    "\n",
    "print(AVERAGE_RATINGS)"
   ]
  },
  {
   "cell_type": "markdown",
   "id": "36732a41",
   "metadata": {},
   "source": [
    "    * WE HAVE A TWO POPULAR PHONE BASED ON OVERALL USERS AND MOST POPULAR USERS\n",
    "    \n",
    "    * AMONG ALL THE USERS, MOTOROLA SMARTPHONE MOTOROLA MOTO G DUAL CHIP IS THE MOST POPULAR PHONE.\n",
    "    * IT HAS AVERAGE RATING OF 10 WITH 140 RATINGS.\n",
    "    \n",
    "    * AMONG THE POPULAR USERS, ASUS ZENFONE 2 SMARTPHONE,64 GB, BLU FUSION IS THE MOST POPULAR PHONE.\n",
    "    * IT HAS AVERAGE RATING OF 10 WITH 28 MOST POPULAR USERS.\n",
    "    \n",
    "    * AMAZON CUSTOMERS ARE AMONG THE MOST USERS THAT HAVE REVIEWED THE PHONE MODELS.\n",
    "    \n",
    "    * RMSE VALUE IS LOW FOR KNN WITH USER BASED AND KNN WITH ITEM BASED IS SLIGHTLY HIGH, WHERE AS SVD MODEL IS \n",
    "      HAVING HIGH RMSE VALUE.\n",
    "      \n",
    "    * AVERAGE RATINGS ACROSS ALL THE MODELS IS SIMILAR TO 7.97.\n",
    "    \n",
    "    * AVERAGE PREDICTION IS HIGH FOR KNN MEANS WITH ITEMS AND LOW FOR SVD AND KNN WITH USER BASED LIES IN MIDDLE."
   ]
  },
  {
   "cell_type": "markdown",
   "id": "110bc8bd",
   "metadata": {},
   "source": [
    "# 8. Try and recommend top 5 products for test users."
   ]
  },
  {
   "cell_type": "markdown",
   "id": "4db2c9a7",
   "metadata": {},
   "source": [
    "    * LET US TAKE ANY DATA FRAME CREATED OUT OF PREDICTIONS FROM SVD AND KNN WITH USERS AND ITEMS.\n",
    "    \n",
    "    * SORT THE DATA USING USER_ID AND RATING THAT GIVES PRODUCTS FOR THE TEST USERS BASED ON THE TOP RATINGS \n",
    "      IN DESCENDING ORDER AND THEN GROUP BY USING USER ID AND TAKE ONLY TOP 5 ROWS OF SORTED DATA FOR USER\n",
    "      \n",
    "    * OUR DATA FRAME CONTAINS TOP 5 RECOMMENDATIONS FOR EACH USER AS WE ARE TAKING ONLY HEAD(5) WHICH ARE PRODUCTS\n",
    "      WITH HIGH RATINGS RECOMMENDED TO A USER."
   ]
  },
  {
   "cell_type": "code",
   "execution_count": 63,
   "id": "e8605aba",
   "metadata": {},
   "outputs": [
    {
     "name": "stdout",
     "output_type": "stream",
     "text": [
      "            USER_ID                                            ITEM_ID  RATING\n",
      "7171              #                              Samsung GT-S5230 Star    10.0\n",
      "1257              #                                          Nokia N97    10.0\n",
      "6784              #                                Apple iPhone 4 16Gb    10.0\n",
      "6475              #                                         Nokia 5230    10.0\n",
      "2013              #                              Apple iPhone 3GS 16Gb    10.0\n",
      "...             ...                                                ...     ...\n",
      "10107  Ð°Ð½Ð´ÑÐµÐ¹                      Nokia 5230 Navigation Edition    10.0\n",
      "3887   Ð°Ð½Ð´ÑÐµÐ¹               Sony Xperia M (ÑÐ¸Ð¾Ð»ÐµÑÐ¾Ð²ÑÐ¹)    10.0\n",
      "1519   Ð°Ð½Ð´ÑÐµÐ¹                       Sony Xperia L (ÑÐµÑÐ½ÑÐ¹)    10.0\n",
      "885    Ð°Ð½Ð´ÑÐµÐ¹                  Sony Xperia Z1 Compact (Ð»Ð°Ð¹Ð¼)    10.0\n",
      "822    Ð°Ð½Ð´ÑÐµÐ¹  Samsung Galaxy S4 mini Duos GT-I9192 (ÑÐµÑÐ½...    10.0\n",
      "\n",
      "[3240 rows x 3 columns]\n"
     ]
    }
   ],
   "source": [
    "# TOP_5_PREDICTIONS DATA FRAME CONTAINS TOP 5 RECOMMENDATIONS FOR ALL THE USERS IN THE TEST DATA\n",
    "\n",
    "TOP_5_PREDICTIONS = PREDICTIONS_SVD_DF.sort_values(['USER_ID','RATING'],ascending=False).groupby('USER_ID').head(5)\n",
    "\n",
    "TOP_5_PREDICTIONS = TOP_5_PREDICTIONS.sort_values(['USER_ID'],ascending=True)\n",
    "\n",
    "TOP_5_PREDICTIONS = TOP_5_PREDICTIONS.drop(columns = ['PREDICTION', 'DETAILS'])\n",
    "\n",
    "print(TOP_5_PREDICTIONS)"
   ]
  },
  {
   "cell_type": "markdown",
   "id": "6b3dd80a",
   "metadata": {},
   "source": [
    "    * SELECT A RANDOM USERS LIST AND PRINT THE TOP 5 RECOMMENDATIONS OF THAT TEST USERS."
   ]
  },
  {
   "cell_type": "code",
   "execution_count": 544,
   "id": "61efe065",
   "metadata": {},
   "outputs": [
    {
     "name": "stdout",
     "output_type": "stream",
     "text": [
      "\n",
      "TOP 5 PREDICTIONS FOR USER  Amazon Customer \n",
      "             USER_ID                                            ITEM_ID  RATING\n",
      "9   Amazon Customer  Samsung Galaxy Light Smartphone SGH-T399 - Bro...    10.0\n",
      "14  Amazon Customer  Samsung Galaxy J5 SM-J500M/DS Factory Unlocked...    10.0\n",
      "40  Amazon Customer  Motorola RAZR V3 Unlocked GSM Phone with Camer...    10.0\n",
      "38  Amazon Customer  Samsung Galaxy S5 G900V Verizon 4G LTE Smartph...    10.0\n",
      "25  Amazon Customer  Samsung Galaxy J7 (New 2016 Edition) (White, 1...    10.0 \n",
      "\n",
      "\n",
      "TOP 5 PREDICTIONS FOR USER  Barbara \n",
      "       USER_ID                                            ITEM_ID  RATING\n",
      "7959  Barbara  LG Electronics Nexus 5X 32 GB UK SIM-Free Andr...    10.0\n",
      "5518  Barbara  Samsung Galaxy Ace S5830 Smartphone (8,9 cm (3...    10.0\n",
      "2354  Barbara  Apple Computer iPhone 3G Smartphone (8,9 cm (3...    10.0\n",
      "1042  Barbara  Sony Xperia Z2 Smartphone (5,2 Zoll (13,2 cm) ...    10.0\n",
      "8003  Barbara  Samsung Galaxy Ace S5830 Smartphone (8,9 cm (3...    10.0 \n",
      "\n",
      "\n",
      "TOP 5 PREDICTIONS FOR USER  Christine \n",
      "          USER_ID                                            ITEM_ID  RATING\n",
      "1959   Christine                         Huawei P8 Lite wit / 16 GB    10.0\n",
      "4973   Christine  Samsung C3050 Handy (VGA-Kamera, MP3-Player, W...    10.0\n",
      "13499  Christine                 MICROSOFT Lumia 650 - 16 GB, Black    10.0\n",
      "17550  Christine                             Samsung Galaxy Y Blanc    10.0\n",
      "11426  Christine                                         Nokia 6300    10.0 \n",
      "\n",
      "\n",
      "TOP 5 PREDICTIONS FOR USER  Daniel \n",
      "      USER_ID                                            ITEM_ID  RATING\n",
      "2215  Daniel  BQ Aquaris X5 - Smartphone de 5\" (WiFi, 2 GB d...    10.0\n",
      "773   Daniel  Samsung Galaxy A3 Smartphone (4,5 Zoll (11,4 c...    10.0\n",
      "592   Daniel  Huawei Nexus 6P unlocked smartphone, 32GB Gold...    10.0\n",
      "496   Daniel  Samsung S5230 Player one TÃ©lÃ©phone portable ...    10.0\n",
      "95    Daniel  Sony Xperia SP C5303 - Smartphone libre Androi...    10.0 \n",
      "\n",
      "\n",
      "TOP 5 PREDICTIONS FOR USER  Emma \n",
      "       USER_ID                                            ITEM_ID  RATING\n",
      "1730     Emma                    APPLE iPhone 7 - Silver, 128 GB     8.0\n",
      "1644     Emma                        Huawei P8lite zwart / 16 GB     8.0\n",
      "16992    Emma  Samsung Galaxy J5 2016 Sim Free Mobile Phone -...    10.0\n",
      "9836     Emma          Samsung Convoy 3, Gray (Verizon Wireless)    10.0\n",
      "9120     Emma  Samsung Wave 533 S5330 Smartphone (8,1 cm (3,2...    10.0 \n",
      "\n",
      "\n",
      "TOP 5 PREDICTIONS FOR USER  Ganesh \n",
      "       USER_ID                                      ITEM_ID  RATING\n",
      "10993  Ganesh                  Huawei P8lite zwart / 16 GB     8.0\n",
      "8396   Ganesh     Samsung Galaxy A5 (Midnight Black, 16GB)     8.0\n",
      "1312   Ganesh  Asus Zenfone 2 Laser ZE550KL (Black, 16 GB)     8.0\n",
      "13698  Ganesh                       Nokia 5610 XpressMusic    10.0\n",
      "2803   Ganesh       Asus Zenfone 3 ZE552KL-1A031IN (Black)    10.0 \n",
      "\n",
      "\n",
      "TOP 5 PREDICTIONS FOR USER  Heather \n",
      "        USER_ID                                            ITEM_ID  RATING\n",
      "1555   Heather  Nokia Lumia 635 8GB Unlocked GSM 4G LTE Window...     8.0\n",
      "15093  Heather           BLU Studio 6.0 Unlocked Cellphone, White    10.0\n",
      "12632  Heather  Samsung Galaxy S7 Edge Factory Unlocked Phone ...    10.0\n",
      "1979   Heather                     Samsung R355C Net 10 Unlimited    10.0\n",
      "14451  Heather       HTC Rhyme 3G Android Smartphone Plum Verizon     8.0 \n",
      "\n",
      "\n",
      "TOP 5 PREDICTIONS FOR USER  Jennifer \n",
      "         USER_ID                                            ITEM_ID  RATING\n",
      "9010   Jennifer  Samsung Galaxy S5 SM-G900H 16GB Factory Unlock...    10.0\n",
      "6319   Jennifer  Samsung Galaxy S3 mini I8190 Smartphone (10,2 ...    10.0\n",
      "13408  Jennifer  BlackBerry 8520 Unlocked Phone with 2 MP Camer...    10.0\n",
      "14224  Jennifer    Apple iPhone 4S 16GB (Black) - Locked to Sprint    10.0\n",
      "9062   Jennifer  BlackBerry Torch 9810 Sim Free Smartphone - Zi...    10.0 \n",
      "\n",
      "\n",
      "TOP 5 PREDICTIONS FOR USER  KlausLaura \n",
      " Empty DataFrame\n",
      "Columns: [USER_ID, ITEM_ID, RATING]\n",
      "Index: [] \n",
      "\n",
      "\n",
      "TOP 5 PREDICTIONS FOR USER  Michelle \n",
      "         USER_ID                                            ITEM_ID  RATING\n",
      "2557   Michelle  LG Electronics G3 4G Smartphone 16 GB (UK SIM-...    10.0\n",
      "4428   Michelle                           Apple iPhone 6 Plus 16GB    10.0\n",
      "9824   Michelle                         Huawei P8 Lite wit / 16 GB    10.0\n",
      "1518   Michelle  BlackBerry Bold Touch 9930 CDMA GSM Unlocked P...     6.0\n",
      "14412  Michelle                                          Nokia N82     9.0 \n",
      "\n",
      "\n",
      "TOP 5 PREDICTIONS FOR USER  Oliver \n",
      "       USER_ID                                            ITEM_ID  RATING\n",
      "3051   Oliver  Blackview BV6000 4G Smartphone FDD-LTE Tri-Bew...    10.0\n",
      "4902   Oliver  Sim Free Samsung Galaxy S7 Edge Mobile Phone -...    10.0\n",
      "12155  Oliver                APPLE iPhone 7 Plus - Black, 128 GB    10.0\n",
      "12968  Oliver                        HTC Windows Phone 8X by HTC    10.0\n",
      "5415   Oliver  Samsung Wave 3 S8600 Smartphone (10.2 cm (4 Zo...    10.0 \n",
      "\n",
      "\n",
      "TOP 5 PREDICTIONS FOR USER  Pasquale \n",
      "        USER_ID                                            ITEM_ID  RATING\n",
      "3519  Pasquale  LG D802 G2 Smartphone, 32 GB, Black Exclusive ...    10.0\n",
      "2980  Pasquale  Samsung G920 Galaxy S6 Smartphone, 32 GB, Nero...    10.0\n",
      "2693  Pasquale  Apple iPhone 5, Display 4 Pollici, Connettivit...    10.0\n",
      "1275  Pasquale        LG D802 G2 Smartphone, 16 GB, Nero [Italia]    10.0\n",
      "252   Pasquale  Microsoft Lumia 640 Smartphone, Dual-SIM, Disp...    10.0 \n",
      "\n",
      "\n",
      "TOP 5 PREDICTIONS FOR USER  Rebecca \n",
      "       USER_ID                                            ITEM_ID  RATING\n",
      "6393  Rebecca       ZTE Z 432 (AT&T Go Phone) No Annual Contract     2.0\n",
      "9019  Rebecca  BLU Q170T Samba TV Unlocked Dual SIM Quad-Band...     8.0\n",
      "1494  Rebecca  BLU Vivo XL Smartphone - 5.5\" 4G LTE - GSM Unl...     8.0\n",
      "9813  Rebecca                   Apple iPhone 7, 32Gb - Rose Gold    10.0\n",
      "304   Rebecca                Samsung T401G Prepaid Phone (Net10)    10.0 \n",
      "\n",
      "\n",
      "TOP 5 PREDICTIONS FOR USER  Samantha \n",
      "        USER_ID                                            ITEM_ID  RATING\n",
      "3665  Samantha  Lenovo Motorola Moto G Smartphone, Display HD ...    10.0\n",
      "4929  Samantha  BLU Studio C Mini Quad Core, 4.7\" IPS, Android...    10.0\n",
      "8731  Samantha             Nokia Lumia 900 Black Factory Unlocked    10.0\n",
      "9674  Samantha        LG D802 G2 Smartphone, 16 GB, Nero [Italia]    10.0\n",
      "8411  Samantha  Apple iPhone 5s T-Mobile Cellphone, 16GB, Spac...    10.0 \n",
      "\n",
      "\n",
      "TOP 5 PREDICTIONS FOR USER  Tommaso \n",
      "        USER_ID                                            ITEM_ID  RATING\n",
      "15875  Tommaso    LG Optimus L5 II E460 Smartphone, Nero [Italia]     8.0\n",
      "11744  Tommaso                                        Nokia X3-02    10.0\n",
      "8262   Tommaso  Asus ZenFone 5 Smartphone, 16 GB, RAM 2 GB, Ne...    10.0\n",
      "7533   Tommaso  Honor 7 Smartphone 4G, Display Full HD 5.2 Pol...    10.0\n",
      "3825   Tommaso  LG Nexus 5 Smartphone, memoria 16GB, Android 4...    10.0 \n",
      "\n",
      "\n",
      "TOP 5 PREDICTIONS FOR USER  Valentina \n",
      "         USER_ID                                            ITEM_ID  RATING\n",
      "1928  Valentina  WIKO Fever 4G Smartphone, 16 GB, Dual SIM, Ner...    10.0\n",
      "1264  Valentina  Honor 7 Smartphone 4G, Display Full HD 5.2 Pol...    10.0\n",
      "1083  Valentina  WIKO Fever 4G Smartphone, 16 GB, Dual SIM, Bianco    10.0\n",
      "1051  Valentina  LG K10 Smartphone da 16 GB, Schermo IPS HD da ...    10.0\n",
      "71    Valentina    LG Optimus L5 II E460 Smartphone, Nero [Italia]    10.0 \n",
      "\n",
      "\n",
      "TOP 5 PREDICTIONS FOR USER  Wolfgang \n",
      "         USER_ID                                            ITEM_ID  RATING\n",
      "18282  Wolfgang  LG Electronics GD880 Mini Smartphone (HSDPA, 5...    10.0\n",
      "8460   Wolfgang  Samsung Wave 3 S8600 Smartphone (10.2 cm (4 Zo...    10.0\n",
      "7390   Wolfgang  Vodafone HTC Trophy (9.6cm (3.8\") Display, 5MP...    10.0\n",
      "6125   Wolfgang  Samsung Galaxy S3 mini I8190 Smartphone (10,2 ...    10.0\n",
      "4380   Wolfgang           BenQ-Siemens S68 brushed aluminium Handy    10.0 \n",
      "\n"
     ]
    }
   ],
   "source": [
    "# RANDOMLY PRINT THE 5 RECOMMENDATIONS FOR DIFFERENT USERS\n",
    "\n",
    "RANDOM_USERS = ['Amazon Customer','Barbara','Christine','Daniel','Emma','Ganesh','Heather','Jennifer','Klaus'\n",
    "                'Laura','Michelle','Oliver','Pasquale','Rebecca','Samantha','Tommaso','Valentina','Wolfgang']\n",
    "\n",
    "for i in np.arange(0,len(RANDOM_USERS),1):\n",
    "    USER = RANDOM_USERS[i]\n",
    "    print('\\nTOP 5 PREDICTIONS FOR USER ',RANDOM_USERS[i],'\\n',TOP_5_PREDICTIONS[TOP_5_PREDICTIONS['USER_ID'] == USER],'\\n')"
   ]
  },
  {
   "cell_type": "markdown",
   "id": "1a7ada36",
   "metadata": {},
   "source": [
    "    * WE HAVE RANDOMLY SELECTED 17 CUSTOMERS AND PRINTED THE TOP 5  RECOMMENDATIONS FOR THE THEM IN TEST DATA\n",
    "    \n",
    "    * TOP_5_PREDICTIONS DATA FRAME CONTAINS TOP 5 RECOMMENDATIONS FOR EACH USER IN TEST DATA."
   ]
  },
  {
   "cell_type": "markdown",
   "id": "ee90b776",
   "metadata": {},
   "source": [
    "# 9. Try other techniques (Example: cross validation) to get better results."
   ]
  },
  {
   "cell_type": "code",
   "execution_count": 64,
   "id": "c0d44b29",
   "metadata": {},
   "outputs": [
    {
     "name": "stdout",
     "output_type": "stream",
     "text": [
      "Computing the cosine similarity matrix...\n",
      "Done computing similarity matrix.\n",
      "Computing the cosine similarity matrix...\n",
      "Done computing similarity matrix.\n",
      "Computing the cosine similarity matrix...\n",
      "Done computing similarity matrix.\n",
      "Computing the cosine similarity matrix...\n",
      "Done computing similarity matrix.\n",
      "Computing the cosine similarity matrix...\n",
      "Done computing similarity matrix.\n",
      "Computing the cosine similarity matrix...\n",
      "Done computing similarity matrix.\n",
      "Computing the cosine similarity matrix...\n",
      "Done computing similarity matrix.\n",
      "Computing the cosine similarity matrix...\n",
      "Done computing similarity matrix.\n",
      "Computing the cosine similarity matrix...\n",
      "Done computing similarity matrix.\n",
      "Computing the cosine similarity matrix...\n",
      "Done computing similarity matrix.\n",
      "CROSS VALIDATION SCORE FOR THE SVD MODEL:  2.62\n",
      "\n",
      "CROSS VALIDATION SCORE FOR THE KNN MEANS WITH ITEMS:  2.61\n",
      "\n",
      "CROSS VALIDATION SCORE FOR THE KNN MEANS WITH USERS:  2.6\n",
      "                 MODEL NAME  RMSE VALUE  CROSS VALIDATION SCORE\n",
      "0                 SVD_MODEL        3.64                    2.62\n",
      "1  KNNMEANS WITH USER BASED        2.38                    2.61\n",
      "2  KNNMEANS WITH ITEM BASED        2.41                    2.60\n"
     ]
    }
   ],
   "source": [
    "SVD_CV = cross_validate(SVD_MOD, READER_DATA, measures=['RMSE'], cv = 5, verbose=False)\n",
    "\n",
    "KNN_ITEM_CV = cross_validate(KNN_MEANS_ITEM, READER_DATA, measures=['RMSE'], cv = 5, verbose=False)\n",
    "\n",
    "KNN_USER_CV = cross_validate(KNN_MEANS_USER, READER_DATA, measures=['RMSE'], cv = 5, verbose=False)\n",
    "\n",
    "SVD_CV_SCORE = round((SVD_CV['test_rmse'].mean()),2)\n",
    "\n",
    "KNN_ITEM_CV_SCORE = round((KNN_ITEM_CV['test_rmse'].mean()),2)\n",
    "\n",
    "KNN_USER_CV_SCORE = round((KNN_USER_CV['test_rmse'].mean()),2)\n",
    "\n",
    "print(\"CROSS VALIDATION SCORE FOR THE SVD MODEL: \",SVD_CV_SCORE)\n",
    "\n",
    "print(\"\\nCROSS VALIDATION SCORE FOR THE KNN MEANS WITH ITEMS: \",KNN_ITEM_CV_SCORE)\n",
    "\n",
    "print(\"\\nCROSS VALIDATION SCORE FOR THE KNN MEANS WITH USERS: \",KNN_USER_CV_SCORE)\n",
    "\n",
    "RMSE = pd.DataFrame()\n",
    "\n",
    "RMSE = RMSE.append(pd.Series([\"SVD_MODEL\", RMSE_SVD, SVD_CV_SCORE]),ignore_index=True)\n",
    "\n",
    "RMSE = RMSE.append(pd.Series([\"KNNMEANS WITH USER BASED\", RMSE_USER_BASED, KNN_ITEM_CV_SCORE]),ignore_index=True)\n",
    "\n",
    "RMSE = RMSE.append(pd.Series([\"KNNMEANS WITH ITEM BASED\", RMSE_ITEM_BASED, KNN_USER_CV_SCORE]),ignore_index=True)\n",
    "\n",
    "RMSE.columns = [\"MODEL NAME\", \"RMSE VALUE\", \"CROSS VALIDATION SCORE\"]\n",
    "\n",
    "print(RMSE)"
   ]
  },
  {
   "cell_type": "code",
   "execution_count": 65,
   "id": "0801d500",
   "metadata": {},
   "outputs": [
    {
     "data": {
      "image/png": "[encoded data removed]",
      "text/plain": [
       "<Figure size 432x288 with 1 Axes>"
      ]
     },
     "metadata": {},
     "output_type": "display_data"
    }
   ],
   "source": [
    "sns.barplot(x = \"MODEL NAME\", y = \"CROSS VALIDATION SCORE\", data = RMSE)\n",
    "\n",
    "plt.xticks(rotation=45)\n",
    "\n",
    "plt.title(\"CROSS VALIDATION SCORES COMPARISON\")\n",
    "\n",
    "fig.tight_layout()\n",
    "\n",
    "plt.show()"
   ]
  },
  {
   "cell_type": "code",
   "execution_count": 66,
   "id": "33b60fad",
   "metadata": {},
   "outputs": [
    {
     "data": {
      "image/png": "[encoded data removed]",
      "text/plain": [
       "<Figure size 432x288 with 1 Axes>"
      ]
     },
     "metadata": {},
     "output_type": "display_data"
    }
   ],
   "source": [
    "sns.barplot(x = \"MODEL NAME\", y = \"RMSE VALUE\", data = RMSE)\n",
    "\n",
    "plt.xticks(rotation=45)\n",
    "\n",
    "plt.title(\"RMSE VALUES COMPARISON\")\n",
    "\n",
    "fig.tight_layout()\n",
    "\n",
    "plt.show()"
   ]
  },
  {
   "cell_type": "markdown",
   "id": "1fa53340",
   "metadata": {},
   "source": [
    "# 10. In what business scenario you should use popularity based Recommendation Systems ?"
   ]
  },
  {
   "cell_type": "markdown",
   "id": "f5d3d65b",
   "metadata": {},
   "source": [
    "    1. WHAT IS POPULARITY BASED RECOMMENDATION SYSTEMS?\n",
    "        * THIS IS A RECOMMENDATION SYSTEMS BASED ON POPULARITY. IN SIMPLE WORDS, WE GET A RECOMMEMDATION OF ANY THING\n",
    "          THAT IS CURRENTLY IN TREND OR A PRODUCT THAT IS MOST POPULAR AMONG OTHER PRODUCTS.\n",
    "          \n",
    "    2. IN WHICH BUSINESS SCENARIO WE USE POPULARITY BASED RECOMMENDATION SYSTEMS?\n",
    "        * LET US CONSIDER A CLOTH STORE WHERE THERE ARE CERTAIN CLOTH STYLES ARE PURCHASED BY MOST OF THE CUSTOMERS.\n",
    "        * HERE THE SHOP KEEPER CAN SHOWCASE THOSE MOST SELLING STYLING OUT FITS IN FRONT ROW SAYING \"MOST SELLING\"\n",
    "        * WE ARE NOT CONSIDERING THE CATEGORY OF CUSTOMERS OR PRODUCTS HERE, WE ARE SEEING THAT CERTAIN CLOTH STYLES\n",
    "          ARE MOST SELLING AND WANT TO RECOMMEND TO THE CUSTOMERS VISITING THE SHOWROOM.\n",
    "          \n",
    "        * ANOTHER SCENARIO IS RECOMMENDATION MOST WATCHED SHOWS IN STREAMING APP.\n",
    "        * HERE WE CAN SEE THAT THE APP RECOMMENDS SOME SHOWS BASED ON RATINGS THEY RECIEVED AMONG MANY USERS.\n",
    "        \n",
    "        * AN E-COMMERCE WEBSITE RECOMMDING THE MOST SELLING PHONES/ELECTRONIC GOODS AND OTHER PRODUCTS TO THE CUSTOMER.\n",
    "        \n",
    "    * POPULARITY BASED RECOMMENDATION SYSTEMS DOES HELPS IN RECOMMENDING THE MOST POPULAR ITEMS/ MOVIES ETC., TO THE\n",
    "      CUSTOMERS ASSUMING THAT SINCE THE PRODUCT IS POPULAR AND IN TRENDING, THE CHANCES OF NEW CUSTOMERS CONSIDERING\n",
    "      THE PRODUCT ARE HIGH SINCE MOST OF USERS WILL HAVE A LOOK INTO MOST TRENIDNG PRODUCT."
   ]
  },
  {
   "cell_type": "markdown",
   "id": "6712e263",
   "metadata": {},
   "source": [
    "# 11. In what business scenario you should use CF based Recommendation Systems ?"
   ]
  },
  {
   "cell_type": "markdown",
   "id": "74670849",
   "metadata": {},
   "source": [
    "    * COLLABORATIVE FILTERING BASED RECOMMENDATION SYSTEM:\n",
    "    \n",
    "        * IN POPULARITY BASED RECOMMENDATION SYSTEMS, WE ARE NOT CONSIDERING THE USERS TASTES AND JUST RECOMMENDS THE \n",
    "          TRENDING PRODUCTS. IN THIS ASSUMPTION, CUSTOMERS HAVE DIFFERENT TASTES AND BIASED TO DIFFERENT THEMES.WITHOUT\n",
    "          UNDERSTANDING THE USER TASTES, RECOMMENDING THE PRODUCTS MAY HAVE THE USERS LOOK INTO OTHER AREA FOR THE \n",
    "          PRODUCTS OF HIS TASTE.\n",
    "          \n",
    "        * IN THIS SCENARIO, WE CAN USE COLLABORATIVE FILTERING BASED RECOMMENDATION SYSTEMS WHICH AGAIN DIVIDED INTO\n",
    "          USER BASED AND ITEMS BASED FILTERING. IN USER BASED, RECOMMENDATIONS TO USER A IS GIVEN BASED ON THE LIKES\n",
    "          OF SIMILAR USERS LIKE HIM. IN ITEM BASED, RECOMMENDATIONS ARE BASED ON SIMILARITIES BETWEEN THE ITEMS SUCH\n",
    "          A WAY THAT IF USER A LIKES ITEM B AND ITEM C IS SIMILAR TO ITEM B, THEN ITEM C IS RECOMMENDED TO USER A.\n",
    "          \n",
    "    * BUSINESS SCENARIOS WHERE CF BASED RECOMMENDATION SYSTEMS ARE USED:\n",
    "    \n",
    "        * CONSIDER A E-COMMERCE SITE WHERE I HAVE CREATED A PROFILE AND MADE SOME PURCHASES IN THE SITE.\n",
    "        \n",
    "        * IN USER BASED FILTERING, THE SITE MAY LOOK FOR THE USERS WHO HAS SAME BEHAVIOUR /TASTES AS ME WHERE THE OTHER\n",
    "          USERS HAS PURCHASED SOME ITEMS. THEN THE SITE MAY RECOMMEND ME THOSE PRODUCTS THAT ARE CONSIDERED BY OTHER \n",
    "          SIMILAR USERS LIKE ME.\n",
    "          \n",
    "        * IN ITEM BASED FILTERING, LET US CONSIDER I HAVE PURCHASED/ SEARCHING FOR SOME ITEMS, THEN THE SITE MAY LOOK\n",
    "          FOR PRODUCTS THAT ARE SIMILAR TO PRODUCTS I AM LOOKING FOR AND RECOMMEND THOSE PRODUCTS TO ME.\n",
    "          \n",
    "        * CONSIDER ANOTHER SIMPLE SCENARIO IN BANKING INDUSTRY. WE HAVE DIFFERENT CATEGORIES OF CUSTOMERS THAT AVAIL\n",
    "          DIFFERENT SERVICES. CONSIDER A USER CATEGORY WHERE USERS THOSE HAVING MORE MONEY DEPOSITED TENDS TO MAINTAIN\n",
    "          A DEPOSIT ACCOUNT THAT FETCHES HIGH INTEREST. \n",
    "          \n",
    "              * IN USER BASED FILTERING, IF I AM A USER WHO IS HAVING MORE DEPOSITS THEN THE BANK MAY RECOMMEND ME TO\n",
    "                MAINTAING A DEPOSIT ACCOUNT WHICH GIVES HIGH INTEREST THAN IN MY SAVINGS ACCOUNT AS MORE USERS LIKE ME\n",
    "                TENDS TO DO THE SAME.\n",
    "              \n",
    "              * IN ITEM BASED FILTERING, IF AM A USER WHO IS LOOKING TO MAINTAIN A TERM DEPOSIT WHICH GIVES ME HIGHER\n",
    "                INTEREST, THEN THE BANK MAY RECOMMEND ME OTHER DEPOSIT OPTIONS THAT FETCHES ME HIGHER INTEREST RATES\n",
    "                SIMILAR TO TERM DEPOSITS LIKE ONE TIME INVESTMENT IN STOCKS / MUTUAL FUNDS / ULIPs ETC."
   ]
  },
  {
   "cell_type": "markdown",
   "id": "76099a6a",
   "metadata": {},
   "source": [
    "# 12. What other possible methods can you think of which can further improve the recommendation for different users ?"
   ]
  },
  {
   "cell_type": "code",
   "execution_count": 67,
   "id": "04d84c4a",
   "metadata": {},
   "outputs": [
    {
     "name": "stdout",
     "output_type": "stream",
     "text": [
      "Index(['phone_url', 'date', 'lang', 'country', 'source', 'domain', 'score',\n",
      "       'score_max', 'extract', 'author', 'product'],\n",
      "      dtype='object')\n"
     ]
    }
   ],
   "source": [
    "print(BACKUP_DF.columns)"
   ]
  },
  {
   "cell_type": "markdown",
   "id": "cd5e403d",
   "metadata": {},
   "source": [
    "    * OTHER THAN AUTHOR, PRODUCT AND SCORE WE HAVE OTHER COLUMNS IN THE ORIGINAL DATASET.\n",
    "    \n",
    "    * AMONG OTHER COLUMNS, DATE, LANGUAGE, COUNTRY AND DOMAIN MIGHT BE OTHER FEATURES THAT CAN AFFECT THE \n",
    "      RECOMMENDATIONS FOR THE USER.\n",
    "      \n",
    "    * HYBRID RECOMMENDATION SYSTEM IS ONE SUCH METHOD THAT CAN FUTHER IMPROVE THE RECOMMENDATIONS.\n",
    "    \n",
    "    * USING HYBRID APPROACH LIKE CONTENT + COLLABARATIVE RECOMMENDATION SYSTEMS IMPROVES THE RECOMMENDATIONS TO USERS.\n",
    "        * USING USER FEATURES + ITEM RATINGS GIVEN BY USERS CAN IMPROVE RECOMMENDATIONS TO USERS.\n",
    "        \n",
    "        * USING DEMOGRAPHIC IMFORMATION OF USERS CAN BE USED TO RECOMMEND THE PRODUCTS BASED ON USER DEMOGRAPHIC\n",
    "          IMFORMATION. IN THIS APPROACH WE DO NOT NEED TO HAVE USER RATINGS OR ITEM INFORMATION AND USED TO OVERCOME\n",
    "          COLD START ISSUES."
   ]
  },
  {
   "cell_type": "markdown",
   "id": "84fbd3b4",
   "metadata": {},
   "source": [
    "            ************** END OF RECOMMENDATION SYSTEMS PROBLEM STATEMENT SOLUTION **************"
   ]
  }
 ],
 "metadata": {
  "kernelspec": {
   "display_name": "Python 3 (ipykernel)",
   "language": "python",
   "name": "python3"
  },
  "language_info": {
   "codemirror_mode": {
    "name": "ipython",
    "version": 3
   },
   "file_extension": ".py",
   "mimetype": "text/x-python",
   "name": "python",
   "nbconvert_exporter": "python",
   "pygments_lexer": "ipython3",
   "version": "3.9.7"
  }
 },
 "nbformat": 4,
 "nbformat_minor": 5
}
