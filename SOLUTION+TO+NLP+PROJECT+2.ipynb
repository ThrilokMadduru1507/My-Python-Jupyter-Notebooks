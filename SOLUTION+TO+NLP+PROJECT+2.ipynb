{
 "cells": [
  {
   "cell_type": "markdown",
   "id": "9b85181b",
   "metadata": {},
   "source": [
    "# • DOMAIN: Digital content and entertainment industry\n",
    "# • CONTEXT: The objective of this project is to build a text classification model that analyses the customer's sentiments based on their reviews in the IMDB database. The model uses a complex deep learning model to build an embedding layer followed by a classification algorithm to analyse the sentiment of the customers.\n",
    "# • DATA DESCRIPTION: The Dataset of 50,000 movie reviews from IMDB, labelled by sentiment (positive/negative). Reviews have been preprocessed, and each review is encoded as a sequence of word indexes (integers). For convenience, the words are indexed by their frequency in the dataset, meaning the for that has index 1 is the most frequent word. Use the first 20 words from each review to speed up training, using a max vocabulary size of 10,000. As a convention, \"0\" does not stand for a specific word, but instead is used to encode any unknown word.\n",
    "# • PROJECT OBJECTIVE: To Build a sequential NLP classifier which can use input text parameters to determine the customer sentiments."
   ]
  },
  {
   "cell_type": "markdown",
   "id": "0ea3188f",
   "metadata": {},
   "source": [
    "# Steps and tasks:\n",
    "# 1. Import and analyse the data set."
   ]
  },
  {
   "cell_type": "code",
   "execution_count": 3,
   "id": "3c2cd0b2",
   "metadata": {
    "execution": {
     "iopub.execute_input": "2022-10-09T06:00:03.555367Z",
     "iopub.status.busy": "2022-10-09T06:00:03.554603Z",
     "iopub.status.idle": "2022-10-09T06:00:16.817200Z",
     "shell.execute_reply": "2022-10-09T06:00:16.816039Z",
     "shell.execute_reply.started": "2022-10-09T06:00:03.555326Z"
    }
   },
   "outputs": [],
   "source": [
    "# Import all the necessary libraries\n",
    "\n",
    "import numpy as np\n",
    "import pandas as pd\n",
    "import seaborn as sns\n",
    "import matplotlib.pyplot as plt\n",
    "\n",
    "import nltk\n",
    "from nltk.corpus import stopwords\n",
    "from nltk.stem.porter import PorterStemmer\n",
    "from nltk.stem import WordNetLemmatizer\n",
    "from nltk.tokenize import word_tokenize,sent_tokenize\n",
    "from nltk.tokenize.toktok import ToktokTokenizer\n",
    "from nltk.stem import LancasterStemmer,WordNetLemmatizer\n",
    "\n",
    "from sklearn.feature_extraction.text import CountVectorizer\n",
    "from sklearn.feature_extraction.text import TfidfVectorizer\n",
    "from sklearn.preprocessing import LabelBinarizer\n",
    "from sklearn.linear_model import LogisticRegression,SGDClassifier\n",
    "from sklearn.naive_bayes import MultinomialNB\n",
    "from sklearn.svm import SVC\n",
    "from sklearn.model_selection import train_test_split\n",
    "from sklearn.metrics import classification_report,confusion_matrix,accuracy_score\n",
    "\n",
    "from keras.datasets import imdb\n",
    "from keras.models import Sequential\n",
    "from keras import layers,models\n",
    "from keras.layers import Dense, Input\n",
    "from keras.layers import Embedding\n",
    "from keras.preprocessing import sequence\n",
    "from keras.layers import Dense,Embedding,LSTM,Dropout,Bidirectional,Flatten\n",
    "\n",
    "import tensorflow as tf\n",
    "\n",
    "from wordcloud import WordCloud,STOPWORDS\n",
    "from bs4 import BeautifulSoup\n",
    "import spacy\n",
    "import re,string,unicodedata\n",
    "\n",
    "from textblob import TextBlob\n",
    "from textblob import Word\n",
    "\n",
    "import warnings\n",
    "warnings.filterwarnings('ignore')"
   ]
  },
  {
   "cell_type": "code",
   "execution_count": 58,
   "id": "784fe2fd",
   "metadata": {
    "execution": {
     "iopub.execute_input": "2022-10-09T06:48:58.804718Z",
     "iopub.status.busy": "2022-10-09T06:48:58.804184Z",
     "iopub.status.idle": "2022-10-09T06:49:05.089140Z",
     "shell.execute_reply": "2022-10-09T06:49:05.088160Z",
     "shell.execute_reply.started": "2022-10-09T06:48:58.804666Z"
    }
   },
   "outputs": [
    {
     "name": "stdout",
     "output_type": "stream",
     "text": [
      "Downloading data from https://storage.googleapis.com/tensorflow/tf-keras-datasets/imdb.npz\n",
      "17465344/17464789 [==============================] - 0s 0us/step\n",
      "17473536/17464789 [==============================] - 0s 0us/step\n"
     ]
    }
   ],
   "source": [
    "# Import and load IMDB data set\n",
    "\n",
    "from keras.datasets import imdb\n",
    "\n",
    "(X_TRAIN, Y_TRAIN), (X_TEST, Y_TEST) = imdb.load_data(num_words = 10000)"
   ]
  },
  {
   "cell_type": "code",
   "execution_count": 59,
   "id": "a96b6edb",
   "metadata": {
    "execution": {
     "iopub.execute_input": "2022-10-09T06:49:06.344536Z",
     "iopub.status.busy": "2022-10-09T06:49:06.344125Z",
     "iopub.status.idle": "2022-10-09T06:49:06.350628Z",
     "shell.execute_reply": "2022-10-09T06:49:06.349323Z",
     "shell.execute_reply.started": "2022-10-09T06:49:06.344502Z"
    }
   },
   "outputs": [
    {
     "name": "stdout",
     "output_type": "stream",
     "text": [
      "SHAPE OF X_TRAIN:  (25000,)\n",
      "SHAPE OF Y_TRAIN:  (25000,)\n",
      "SHAPE OF X_TEST:  (25000,)\n",
      "SHAPE OF Y_TEST:  (25000,)\n"
     ]
    }
   ],
   "source": [
    "print('SHAPE OF X_TRAIN: ',X_TRAIN.shape)\n",
    "\n",
    "print('SHAPE OF Y_TRAIN: ',Y_TRAIN.shape)\n",
    "\n",
    "print('SHAPE OF X_TEST: ',X_TEST.shape)\n",
    "\n",
    "print('SHAPE OF Y_TEST: ',Y_TEST.shape)"
   ]
  },
  {
   "cell_type": "code",
   "execution_count": 60,
   "id": "48360049",
   "metadata": {
    "execution": {
     "iopub.execute_input": "2022-10-09T06:49:14.471894Z",
     "iopub.status.busy": "2022-10-09T06:49:14.471490Z",
     "iopub.status.idle": "2022-10-09T06:49:14.478125Z",
     "shell.execute_reply": "2022-10-09T06:49:14.476833Z",
     "shell.execute_reply.started": "2022-10-09T06:49:14.471863Z"
    }
   },
   "outputs": [],
   "source": [
    "FEATURES = np.concatenate((X_TRAIN, X_TEST), axis = 0)\n",
    "\n",
    "LABELS = np.concatenate((Y_TRAIN, Y_TEST), axis = 0)"
   ]
  },
  {
   "cell_type": "code",
   "execution_count": 61,
   "id": "29867b3e",
   "metadata": {
    "execution": {
     "iopub.execute_input": "2022-10-09T06:49:17.726670Z",
     "iopub.status.busy": "2022-10-09T06:49:17.726279Z",
     "iopub.status.idle": "2022-10-09T06:49:19.544469Z",
     "shell.execute_reply": "2022-10-09T06:49:19.543318Z",
     "shell.execute_reply.started": "2022-10-09T06:49:17.726638Z"
    }
   },
   "outputs": [
    {
     "name": "stdout",
     "output_type": "stream",
     "text": [
      "COUNT OF UNIQUE WORDS: 9998\n"
     ]
    }
   ],
   "source": [
    "print(\"COUNT OF UNIQUE WORDS:\", len(np.unique(np.hstack(FEATURES))))"
   ]
  },
  {
   "cell_type": "code",
   "execution_count": 62,
   "id": "21c31eb8",
   "metadata": {
    "execution": {
     "iopub.execute_input": "2022-10-09T06:49:20.878845Z",
     "iopub.status.busy": "2022-10-09T06:49:20.877992Z",
     "iopub.status.idle": "2022-10-09T06:49:20.886392Z",
     "shell.execute_reply": "2022-10-09T06:49:20.885239Z",
     "shell.execute_reply.started": "2022-10-09T06:49:20.878800Z"
    }
   },
   "outputs": [
    {
     "name": "stdout",
     "output_type": "stream",
     "text": [
      "LABELS: [0 1]\n"
     ]
    }
   ],
   "source": [
    "print(\"LABELS:\", np.unique(LABELS))"
   ]
  },
  {
   "cell_type": "markdown",
   "id": "74a97254",
   "metadata": {},
   "source": [
    "# 2. Perform relevant sequence adding on the data."
   ]
  },
  {
   "cell_type": "code",
   "execution_count": 63,
   "id": "5d136139",
   "metadata": {
    "execution": {
     "iopub.execute_input": "2022-10-09T06:49:30.002333Z",
     "iopub.status.busy": "2022-10-09T06:49:29.999393Z",
     "iopub.status.idle": "2022-10-09T06:49:30.013807Z",
     "shell.execute_reply": "2022-10-09T06:49:30.012371Z",
     "shell.execute_reply.started": "2022-10-09T06:49:30.002269Z"
    }
   },
   "outputs": [],
   "source": [
    "def VECTORIZE(SEQUENCES, DIMENSION = 10000):\n",
    "    RESULTS = np.zeros((len(SEQUENCES), DIMENSION))\n",
    "    for i, sequence in enumerate(SEQUENCES):\n",
    "        RESULTS[i, sequence] = 1\n",
    "    return RESULTS"
   ]
  },
  {
   "cell_type": "code",
   "execution_count": 64,
   "id": "d0907a32",
   "metadata": {
    "execution": {
     "iopub.execute_input": "2022-10-09T06:49:34.156721Z",
     "iopub.status.busy": "2022-10-09T06:49:34.155905Z",
     "iopub.status.idle": "2022-10-09T06:49:34.164370Z",
     "shell.execute_reply": "2022-10-09T06:49:34.163439Z",
     "shell.execute_reply.started": "2022-10-09T06:49:34.156681Z"
    }
   },
   "outputs": [],
   "source": [
    "FEATURES_COPY = FEATURES.copy()\n",
    "LABELS_COPY = LABELS.copy()"
   ]
  },
  {
   "cell_type": "code",
   "execution_count": 65,
   "id": "98f321f8",
   "metadata": {
    "execution": {
     "iopub.execute_input": "2022-10-09T06:49:38.340871Z",
     "iopub.status.busy": "2022-10-09T06:49:38.340417Z",
     "iopub.status.idle": "2022-10-09T06:49:38.349547Z",
     "shell.execute_reply": "2022-10-09T06:49:38.348274Z",
     "shell.execute_reply.started": "2022-10-09T06:49:38.340831Z"
    }
   },
   "outputs": [
    {
     "data": {
      "text/plain": [
       "158"
      ]
     },
     "execution_count": 65,
     "metadata": {},
     "output_type": "execute_result"
    }
   ],
   "source": [
    "len(FEATURES[100])"
   ]
  },
  {
   "cell_type": "markdown",
   "id": "4fc0ad6b",
   "metadata": {},
   "source": [
    "# 3. Perform following data analysis:\n",
    "\n",
    "    • Print shape of features and labels\n",
    "    • Print value of any one feature and it's label"
   ]
  },
  {
   "cell_type": "code",
   "execution_count": 66,
   "id": "a2e2e19b",
   "metadata": {
    "execution": {
     "iopub.execute_input": "2022-10-09T06:49:42.940313Z",
     "iopub.status.busy": "2022-10-09T06:49:42.939527Z",
     "iopub.status.idle": "2022-10-09T06:49:42.947730Z",
     "shell.execute_reply": "2022-10-09T06:49:42.946595Z",
     "shell.execute_reply.started": "2022-10-09T06:49:42.940273Z"
    }
   },
   "outputs": [
    {
     "name": "stdout",
     "output_type": "stream",
     "text": [
      "SHAPE OF FEATURES:  (50000,)\n",
      "\n",
      "\n",
      "SHAPE OF LABELS:  (50000,)\n"
     ]
    }
   ],
   "source": [
    "print('SHAPE OF FEATURES: ',FEATURES.shape)\n",
    "\n",
    "print('\\n\\nSHAPE OF LABELS: ',LABELS.shape)"
   ]
  },
  {
   "cell_type": "code",
   "execution_count": 67,
   "id": "1e747f06",
   "metadata": {
    "execution": {
     "iopub.execute_input": "2022-10-09T06:49:46.105731Z",
     "iopub.status.busy": "2022-10-09T06:49:46.105272Z",
     "iopub.status.idle": "2022-10-09T06:49:46.112656Z",
     "shell.execute_reply": "2022-10-09T06:49:46.111007Z",
     "shell.execute_reply.started": "2022-10-09T06:49:46.105691Z"
    }
   },
   "outputs": [
    {
     "name": "stdout",
     "output_type": "stream",
     "text": [
      "FEATURE VALUE IN DATA[100]:\n",
      " [1, 13, 244, 6, 87, 337, 7, 628, 2219, 5, 28, 285, 15, 240, 93, 23, 288, 549, 18, 1455, 673, 4, 241, 534, 3635, 8448, 20, 38, 54, 13, 258, 46, 44, 14, 13, 1241, 7258, 12, 5, 5, 51, 9, 14, 45, 6, 762, 7, 2, 1309, 328, 5, 428, 2473, 15, 26, 1292, 5, 3939, 6728, 5, 1960, 279, 13, 92, 124, 803, 52, 21, 279, 14, 9, 43, 6, 762, 7, 595, 15, 16, 2, 23, 4, 1071, 467, 4, 403, 7, 628, 2219, 8, 97, 6, 171, 3596, 99, 387, 72, 97, 12, 788, 15, 13, 161, 459, 44, 4, 3939, 1101, 173, 21, 69, 8, 401, 2, 4, 481, 88, 61, 4731, 238, 28, 32, 11, 32, 14, 9, 6, 545, 1332, 766, 5, 203, 73, 28, 43, 77, 317, 11, 4, 2, 953, 270, 17, 6, 3616, 13, 545, 386, 25, 92, 1142, 129, 278, 23, 14, 241, 46, 7, 158]\n"
     ]
    }
   ],
   "source": [
    "print('FEATURE VALUE IN DATA[100]:\\n',FEATURES[100])"
   ]
  },
  {
   "cell_type": "code",
   "execution_count": 68,
   "id": "a21378c3",
   "metadata": {
    "execution": {
     "iopub.execute_input": "2022-10-09T06:49:48.600154Z",
     "iopub.status.busy": "2022-10-09T06:49:48.599433Z",
     "iopub.status.idle": "2022-10-09T06:49:48.606496Z",
     "shell.execute_reply": "2022-10-09T06:49:48.605163Z",
     "shell.execute_reply.started": "2022-10-09T06:49:48.600113Z"
    }
   },
   "outputs": [
    {
     "name": "stdout",
     "output_type": "stream",
     "text": [
      "LABEL VALUE IN LABELS[100]:  0\n"
     ]
    }
   ],
   "source": [
    "print('LABEL VALUE IN LABELS[100]: ',LABELS[100])"
   ]
  },
  {
   "cell_type": "markdown",
   "id": "71cc7901",
   "metadata": {},
   "source": [
    "# # 4. Decode the feature value to get original sentence"
   ]
  },
  {
   "cell_type": "code",
   "execution_count": 69,
   "id": "31f4cce9",
   "metadata": {
    "execution": {
     "iopub.execute_input": "2022-10-09T06:49:53.634466Z",
     "iopub.status.busy": "2022-10-09T06:49:53.633793Z",
     "iopub.status.idle": "2022-10-09T06:49:54.136131Z",
     "shell.execute_reply": "2022-10-09T06:49:54.134615Z",
     "shell.execute_reply.started": "2022-10-09T06:49:53.634412Z"
    }
   },
   "outputs": [
    {
     "name": "stdout",
     "output_type": "stream",
     "text": [
      "Downloading data from https://storage.googleapis.com/tensorflow/tf-keras-datasets/imdb_word_index.json\n",
      "1646592/1641221 [==============================] - 0s 0us/step\n",
      "1654784/1641221 [==============================] - 0s 0us/step\n"
     ]
    }
   ],
   "source": [
    "WORD_INDEX = imdb.get_word_index()"
   ]
  },
  {
   "cell_type": "code",
   "execution_count": 70,
   "id": "2c076dc3",
   "metadata": {
    "execution": {
     "iopub.execute_input": "2022-10-09T06:50:07.044225Z",
     "iopub.status.busy": "2022-10-09T06:50:07.043361Z",
     "iopub.status.idle": "2022-10-09T06:50:07.086590Z",
     "shell.execute_reply": "2022-10-09T06:50:07.085441Z",
     "shell.execute_reply.started": "2022-10-09T06:50:07.044173Z"
    }
   },
   "outputs": [],
   "source": [
    "REVERSE_WORD_MAP = dict(map(reversed, WORD_INDEX.items()))\n",
    "\n",
    "def SEQUENCE_TO_TEXT(INDEX):\n",
    "    WORDS = [REVERSE_WORD_MAP.get(letter) for letter in INDEX]\n",
    "    return(WORDS)"
   ]
  },
  {
   "cell_type": "code",
   "execution_count": 71,
   "id": "abfaa5c0",
   "metadata": {
    "execution": {
     "iopub.execute_input": "2022-10-09T06:50:19.099659Z",
     "iopub.status.busy": "2022-10-09T06:50:19.099186Z",
     "iopub.status.idle": "2022-10-09T06:50:19.106955Z",
     "shell.execute_reply": "2022-10-09T06:50:19.105706Z",
     "shell.execute_reply.started": "2022-10-09T06:50:19.099618Z"
    }
   },
   "outputs": [
    {
     "name": "stdout",
     "output_type": "stream",
     "text": [
      "['the', 'was', 'rather', 'is', 'him', 'completely', 'br', 'english', 'send', 'to', 'one', 'dvd', 'for', 'kind', 'way', 'are', 'year', 'type', 'but', 'tired', 'talent', 'of', 'am', 'stories', 'slightest', 'coop', 'on', 'her', 'no', 'was', 'although', 'some', 'has', 'as', 'was', 'garbage', \"che's\", 'that', 'to', 'to', 'when', 'it', 'as', 'if', 'is', 'herself', 'br', 'and', 'door', 'simply', 'to', 'picture', '25', 'for', 'he', 'silent', 'to', 'holy', 'dramatically', 'to', 'bigger', 'reason', 'was', 'then', 'does', 'sorry', 'very', 'not', 'reason', 'as', 'it', 'out', 'is', 'herself', 'br', \"film's\", 'for', 'with', 'and', 'are', 'of', 'tension', '4', 'of', 'human', 'br', 'english', 'send', 'in', 'could', 'is', 'again', 'outrageous', 'movies', 'episode', 'we', 'could', 'that', 'elements', 'for', 'was', 'nothing', 'laugh', 'has', 'of', 'holy', 'laughing', 'lot', 'not', 'me', 'in', 'perfect', 'and', 'of', 'totally', 'most', 'only', 'dreary', '2', 'one', 'an', 'this', 'an', 'as', 'it', 'is', 'fight', 'harry', 'storyline', 'to', 'action', 'much', 'one', 'out', 'will', 'half', 'this', 'of', 'and', 'setting', 'place', 'movie', 'is', 'guide', 'was', 'fight', 'wonderful', 'have', 'then', 'zombies', 'man', 'sense', 'are', 'as', 'am', 'some', 'br', \"didn't\"]\n"
     ]
    }
   ],
   "source": [
    "VALUE_OF_FEATURE = SEQUENCE_TO_TEXT(FEATURES[100])\n",
    "\n",
    "print(VALUE_OF_FEATURE)"
   ]
  },
  {
   "cell_type": "code",
   "execution_count": 72,
   "id": "5ade3818",
   "metadata": {
    "execution": {
     "iopub.execute_input": "2022-10-09T06:50:21.139992Z",
     "iopub.status.busy": "2022-10-09T06:50:21.139339Z",
     "iopub.status.idle": "2022-10-09T06:50:21.277483Z",
     "shell.execute_reply": "2022-10-09T06:50:21.276425Z",
     "shell.execute_reply.started": "2022-10-09T06:50:21.139944Z"
    }
   },
   "outputs": [],
   "source": [
    "WORD_IDX = imdb.get_word_index()\n",
    "\n",
    "WORDS_DICT = dict([(value,key) for (key,value) in WORD_IDX.items()])"
   ]
  },
  {
   "cell_type": "code",
   "execution_count": 73,
   "id": "9f0760db",
   "metadata": {
    "execution": {
     "iopub.execute_input": "2022-10-09T06:50:22.503793Z",
     "iopub.status.busy": "2022-10-09T06:50:22.503387Z",
     "iopub.status.idle": "2022-10-09T06:50:22.510826Z",
     "shell.execute_reply": "2022-10-09T06:50:22.509570Z",
     "shell.execute_reply.started": "2022-10-09T06:50:22.503759Z"
    }
   },
   "outputs": [
    {
     "name": "stdout",
     "output_type": "stream",
     "text": [
      "# i am a great fan of david lynch and have everything that he's made on dvd except for hotel room the 2 hour twin peaks movie so when i found out about this i immediately grabbed it and and what is this it's a bunch of # drawn black and white cartoons that are loud and foul mouthed and unfunny maybe i don't know what's good but maybe this is just a bunch of crap that was # on the public under the name of david lynch to make a few bucks too let me make it clear that i didn't care about the foul language part but had to keep # the sound because my neighbors might have all in all this is a highly disappointing release and may well have just been left in the # box set as a curiosity i highly recommend you don't spend your money on this 2 out of 10\n"
     ]
    }
   ],
   "source": [
    "print(\" \".join([WORDS_DICT.get(n-3, '#') for n in FEATURES[100]]))"
   ]
  },
  {
   "cell_type": "code",
   "execution_count": 74,
   "id": "c2548ea0",
   "metadata": {
    "execution": {
     "iopub.execute_input": "2022-10-09T06:50:24.058393Z",
     "iopub.status.busy": "2022-10-09T06:50:24.057289Z",
     "iopub.status.idle": "2022-10-09T06:50:28.687845Z",
     "shell.execute_reply": "2022-10-09T06:50:28.686752Z",
     "shell.execute_reply.started": "2022-10-09T06:50:24.058345Z"
    }
   },
   "outputs": [],
   "source": [
    "FEATURES = VECTORIZE(FEATURES)\n",
    "LABELS = np.array(LABELS).astype(\"float32\")"
   ]
  },
  {
   "cell_type": "markdown",
   "id": "6dd35e7a",
   "metadata": {},
   "source": [
    "# 5. Design, train, tune and test a sequential model."
   ]
  },
  {
   "cell_type": "code",
   "execution_count": 75,
   "id": "8943e9b1",
   "metadata": {
    "execution": {
     "iopub.execute_input": "2022-10-09T06:50:48.954810Z",
     "iopub.status.busy": "2022-10-09T06:50:48.954369Z",
     "iopub.status.idle": "2022-10-09T06:50:51.913239Z",
     "shell.execute_reply": "2022-10-09T06:50:51.911996Z",
     "shell.execute_reply.started": "2022-10-09T06:50:48.954777Z"
    }
   },
   "outputs": [],
   "source": [
    "X_TRAIN, X_T, Y_TRAIN, Y_T = train_test_split(FEATURES, LABELS, test_size = 0.5, random_state = 100)\n",
    "\n",
    "X_TEST, X_VAL, Y_TEST, Y_VAL = train_test_split(X_T, Y_T, test_size = 0.5, random_state = 100)"
   ]
  },
  {
   "cell_type": "code",
   "execution_count": 76,
   "id": "b0dccf16",
   "metadata": {
    "execution": {
     "iopub.execute_input": "2022-10-09T06:50:55.021044Z",
     "iopub.status.busy": "2022-10-09T06:50:55.020638Z",
     "iopub.status.idle": "2022-10-09T06:50:55.029044Z",
     "shell.execute_reply": "2022-10-09T06:50:55.027837Z",
     "shell.execute_reply.started": "2022-10-09T06:50:55.021011Z"
    }
   },
   "outputs": [
    {
     "data": {
      "text/plain": [
       "(12500, 10000)"
      ]
     },
     "execution_count": 76,
     "metadata": {},
     "output_type": "execute_result"
    }
   ],
   "source": [
    "X_TEST.shape"
   ]
  },
  {
   "cell_type": "code",
   "execution_count": 77,
   "id": "3f6df24d",
   "metadata": {
    "execution": {
     "iopub.execute_input": "2022-10-09T06:50:59.221884Z",
     "iopub.status.busy": "2022-10-09T06:50:59.221490Z",
     "iopub.status.idle": "2022-10-09T06:50:59.298333Z",
     "shell.execute_reply": "2022-10-09T06:50:59.297388Z",
     "shell.execute_reply.started": "2022-10-09T06:50:59.221852Z"
    }
   },
   "outputs": [
    {
     "name": "stdout",
     "output_type": "stream",
     "text": [
      "Model: \"sequential_1\"\n",
      "_________________________________________________________________\n",
      "Layer (type)                 Output Shape              Param #   \n",
      "=================================================================\n",
      "dense_1 (Dense)              (None, 50)                500050    \n",
      "_________________________________________________________________\n",
      "dropout (Dropout)            (None, 50)                0         \n",
      "_________________________________________________________________\n",
      "dense_2 (Dense)              (None, 50)                2550      \n",
      "_________________________________________________________________\n",
      "dropout_1 (Dropout)          (None, 50)                0         \n",
      "_________________________________________________________________\n",
      "dense_3 (Dense)              (None, 50)                2550      \n",
      "_________________________________________________________________\n",
      "dense_4 (Dense)              (None, 1)                 51        \n",
      "=================================================================\n",
      "Total params: 505,201\n",
      "Trainable params: 505,201\n",
      "Non-trainable params: 0\n",
      "_________________________________________________________________\n"
     ]
    }
   ],
   "source": [
    "SEQ_MODEL = models.Sequential()\n",
    "\n",
    "SEQ_MODEL.add(layers.Dense(50, activation = \"relu\", input_shape=(10000, )))\n",
    "\n",
    "SEQ_MODEL.add(layers.Dropout(0.3, noise_shape=None, seed=None))\n",
    "SEQ_MODEL.add(layers.Dense(50, activation = \"relu\"))\n",
    "SEQ_MODEL.add(layers.Dropout(0.2, noise_shape=None, seed=None))\n",
    "SEQ_MODEL.add(layers.Dense(50, activation = \"relu\"))\n",
    "\n",
    "SEQ_MODEL.add(layers.Dense(1, activation = \"sigmoid\"))\n",
    "SEQ_MODEL.summary()"
   ]
  },
  {
   "cell_type": "code",
   "execution_count": 78,
   "id": "305f39b3",
   "metadata": {
    "execution": {
     "iopub.execute_input": "2022-10-09T06:51:01.396481Z",
     "iopub.status.busy": "2022-10-09T06:51:01.395341Z",
     "iopub.status.idle": "2022-10-09T06:51:01.402312Z",
     "shell.execute_reply": "2022-10-09T06:51:01.400895Z",
     "shell.execute_reply.started": "2022-10-09T06:51:01.396438Z"
    }
   },
   "outputs": [],
   "source": [
    "callback = tf.keras.callbacks.EarlyStopping(monitor='loss', patience=3)"
   ]
  },
  {
   "cell_type": "code",
   "execution_count": 79,
   "id": "f4d4f04e",
   "metadata": {
    "execution": {
     "iopub.execute_input": "2022-10-09T06:51:04.113078Z",
     "iopub.status.busy": "2022-10-09T06:51:04.112370Z",
     "iopub.status.idle": "2022-10-09T06:51:04.125846Z",
     "shell.execute_reply": "2022-10-09T06:51:04.124606Z",
     "shell.execute_reply.started": "2022-10-09T06:51:04.113043Z"
    }
   },
   "outputs": [],
   "source": [
    "SEQ_MODEL.compile(optimizer = \"adam\", loss = \"binary_crossentropy\", metrics = [\"accuracy\"])"
   ]
  },
  {
   "cell_type": "code",
   "execution_count": 80,
   "id": "1c8e0fa3",
   "metadata": {
    "execution": {
     "iopub.execute_input": "2022-10-09T06:51:15.106629Z",
     "iopub.status.busy": "2022-10-09T06:51:15.106179Z",
     "iopub.status.idle": "2022-10-09T06:53:41.649180Z",
     "shell.execute_reply": "2022-10-09T06:53:41.648172Z",
     "shell.execute_reply.started": "2022-10-09T06:51:15.106591Z"
    }
   },
   "outputs": [
    {
     "name": "stdout",
     "output_type": "stream",
     "text": [
      "Epoch 1/100\n",
      "500/500 [==============================] - 6s 10ms/step - loss: 0.3457 - accuracy: 0.8498 - val_loss: 0.2710 - val_accuracy: 0.8902\n",
      "Epoch 2/100\n",
      "500/500 [==============================] - 4s 8ms/step - loss: 0.1924 - accuracy: 0.9268 - val_loss: 0.2799 - val_accuracy: 0.8865\n",
      "Epoch 3/100\n",
      "500/500 [==============================] - 5s 10ms/step - loss: 0.1274 - accuracy: 0.9532 - val_loss: 0.3534 - val_accuracy: 0.8816\n",
      "Epoch 4/100\n",
      "500/500 [==============================] - 4s 8ms/step - loss: 0.0825 - accuracy: 0.9709 - val_loss: 0.4201 - val_accuracy: 0.8828\n",
      "Epoch 5/100\n",
      "500/500 [==============================] - 4s 8ms/step - loss: 0.0645 - accuracy: 0.9776 - val_loss: 0.4383 - val_accuracy: 0.8782\n",
      "Epoch 6/100\n",
      "500/500 [==============================] - 4s 8ms/step - loss: 0.0480 - accuracy: 0.9827 - val_loss: 0.5128 - val_accuracy: 0.8821\n",
      "Epoch 7/100\n",
      "500/500 [==============================] - 4s 8ms/step - loss: 0.0365 - accuracy: 0.9868 - val_loss: 0.5600 - val_accuracy: 0.8820\n",
      "Epoch 8/100\n",
      "500/500 [==============================] - 4s 8ms/step - loss: 0.0410 - accuracy: 0.9852 - val_loss: 0.5540 - val_accuracy: 0.8775\n",
      "Epoch 9/100\n",
      "500/500 [==============================] - 4s 8ms/step - loss: 0.0329 - accuracy: 0.9880 - val_loss: 0.5367 - val_accuracy: 0.8794\n",
      "Epoch 10/100\n",
      "500/500 [==============================] - 5s 10ms/step - loss: 0.0316 - accuracy: 0.9886 - val_loss: 0.5885 - val_accuracy: 0.8810\n",
      "Epoch 11/100\n",
      "500/500 [==============================] - 4s 8ms/step - loss: 0.0288 - accuracy: 0.9897 - val_loss: 0.5995 - val_accuracy: 0.8836\n",
      "Epoch 12/100\n",
      "500/500 [==============================] - 4s 8ms/step - loss: 0.0249 - accuracy: 0.9909 - val_loss: 0.6193 - val_accuracy: 0.8785\n",
      "Epoch 13/100\n",
      "500/500 [==============================] - 4s 8ms/step - loss: 0.0243 - accuracy: 0.9908 - val_loss: 0.5662 - val_accuracy: 0.8812\n",
      "Epoch 14/100\n",
      "500/500 [==============================] - 4s 8ms/step - loss: 0.0253 - accuracy: 0.9901 - val_loss: 0.5606 - val_accuracy: 0.8794\n",
      "Epoch 15/100\n",
      "500/500 [==============================] - 4s 8ms/step - loss: 0.0229 - accuracy: 0.9916 - val_loss: 0.6291 - val_accuracy: 0.8800\n",
      "Epoch 16/100\n",
      "500/500 [==============================] - 4s 8ms/step - loss: 0.0231 - accuracy: 0.9914 - val_loss: 0.6575 - val_accuracy: 0.8803\n",
      "Epoch 17/100\n",
      "500/500 [==============================] - 4s 8ms/step - loss: 0.0203 - accuracy: 0.9925 - val_loss: 0.6712 - val_accuracy: 0.8784\n",
      "Epoch 18/100\n",
      "500/500 [==============================] - 5s 10ms/step - loss: 0.0228 - accuracy: 0.9916 - val_loss: 0.6572 - val_accuracy: 0.8789\n",
      "Epoch 19/100\n",
      "500/500 [==============================] - 4s 8ms/step - loss: 0.0207 - accuracy: 0.9920 - val_loss: 0.6776 - val_accuracy: 0.8803\n",
      "Epoch 20/100\n",
      "500/500 [==============================] - 4s 8ms/step - loss: 0.0201 - accuracy: 0.9926 - val_loss: 0.7180 - val_accuracy: 0.8798\n",
      "Epoch 21/100\n",
      "500/500 [==============================] - 4s 8ms/step - loss: 0.0160 - accuracy: 0.9940 - val_loss: 0.7997 - val_accuracy: 0.8798\n",
      "Epoch 22/100\n",
      "500/500 [==============================] - 4s 8ms/step - loss: 0.0185 - accuracy: 0.9925 - val_loss: 0.6545 - val_accuracy: 0.8786\n",
      "Epoch 23/100\n",
      "500/500 [==============================] - 4s 8ms/step - loss: 0.0185 - accuracy: 0.9930 - val_loss: 0.7676 - val_accuracy: 0.8807\n",
      "Epoch 24/100\n",
      "500/500 [==============================] - 4s 8ms/step - loss: 0.0159 - accuracy: 0.9934 - val_loss: 0.7745 - val_accuracy: 0.8770\n",
      "Epoch 25/100\n",
      "500/500 [==============================] - 5s 9ms/step - loss: 0.0193 - accuracy: 0.9940 - val_loss: 0.7081 - val_accuracy: 0.8782\n",
      "Epoch 26/100\n",
      "500/500 [==============================] - 4s 8ms/step - loss: 0.0137 - accuracy: 0.9943 - val_loss: 0.7774 - val_accuracy: 0.8797\n",
      "Epoch 27/100\n",
      "500/500 [==============================] - 4s 9ms/step - loss: 0.0157 - accuracy: 0.9943 - val_loss: 0.8039 - val_accuracy: 0.8824\n",
      "Epoch 28/100\n",
      "500/500 [==============================] - 4s 8ms/step - loss: 0.0155 - accuracy: 0.9943 - val_loss: 0.9153 - val_accuracy: 0.8804\n",
      "Epoch 29/100\n",
      "500/500 [==============================] - 4s 8ms/step - loss: 0.0132 - accuracy: 0.9950 - val_loss: 0.7802 - val_accuracy: 0.8803\n",
      "Epoch 30/100\n",
      "500/500 [==============================] - 4s 8ms/step - loss: 0.0144 - accuracy: 0.9954 - val_loss: 0.8625 - val_accuracy: 0.8798\n",
      "Epoch 31/100\n",
      "500/500 [==============================] - 4s 8ms/step - loss: 0.0114 - accuracy: 0.9957 - val_loss: 0.9305 - val_accuracy: 0.8818\n",
      "Epoch 32/100\n",
      "500/500 [==============================] - 4s 8ms/step - loss: 0.0127 - accuracy: 0.9952 - val_loss: 0.8646 - val_accuracy: 0.8796\n",
      "Epoch 33/100\n",
      "500/500 [==============================] - 5s 9ms/step - loss: 0.0154 - accuracy: 0.9946 - val_loss: 0.7166 - val_accuracy: 0.8802\n",
      "Epoch 34/100\n",
      "500/500 [==============================] - 4s 8ms/step - loss: 0.0130 - accuracy: 0.9957 - val_loss: 0.8305 - val_accuracy: 0.8820\n"
     ]
    }
   ],
   "source": [
    "MODEL_RESULTS = SEQ_MODEL.fit(X_TRAIN, Y_TRAIN, epochs = 100, batch_size = 50, \n",
    "                              validation_data = (X_VAL, Y_VAL), callbacks = [callback])"
   ]
  },
  {
   "cell_type": "code",
   "execution_count": 81,
   "id": "1c081fac",
   "metadata": {
    "execution": {
     "iopub.execute_input": "2022-10-09T07:26:32.395129Z",
     "iopub.status.busy": "2022-10-09T07:26:32.394670Z",
     "iopub.status.idle": "2022-10-09T07:26:39.798377Z",
     "shell.execute_reply": "2022-10-09T07:26:39.797189Z",
     "shell.execute_reply.started": "2022-10-09T07:26:32.395069Z"
    }
   },
   "outputs": [
    {
     "name": "stdout",
     "output_type": "stream",
     "text": [
      "25/25 [==============================] - 1s 13ms/step - loss: 0.8100 - accuracy: 0.8791\n",
      "MODEL_ACCURACY:  [0.8100147843360901, 0.8791199922561646]\n"
     ]
    }
   ],
   "source": [
    "ACCURACY = SEQ_MODEL.evaluate(X_TEST, Y_TEST,batch_size = 500)\n",
    "\n",
    "print(\"MODEL_ACCURACY: \", ACCURACY)"
   ]
  },
  {
   "cell_type": "code",
   "execution_count": 82,
   "id": "3bb11a00",
   "metadata": {
    "execution": {
     "iopub.execute_input": "2022-10-09T07:26:52.211937Z",
     "iopub.status.busy": "2022-10-09T07:26:52.211492Z",
     "iopub.status.idle": "2022-10-09T07:26:57.132649Z",
     "shell.execute_reply": "2022-10-09T07:26:57.131151Z",
     "shell.execute_reply.started": "2022-10-09T07:26:52.211898Z"
    }
   },
   "outputs": [],
   "source": [
    "PREDICTIONS = SEQ_MODEL.predict(X_TEST)"
   ]
  },
  {
   "cell_type": "code",
   "execution_count": 83,
   "id": "ca7d9ee8",
   "metadata": {
    "execution": {
     "iopub.execute_input": "2022-10-09T07:27:19.055238Z",
     "iopub.status.busy": "2022-10-09T07:27:19.054748Z",
     "iopub.status.idle": "2022-10-09T07:27:19.065612Z",
     "shell.execute_reply": "2022-10-09T07:27:19.063695Z",
     "shell.execute_reply.started": "2022-10-09T07:27:19.055194Z"
    }
   },
   "outputs": [
    {
     "name": "stdout",
     "output_type": "stream",
     "text": [
      "VALIDATION SET ACCURACY:  0.8806541246526381\n",
      "\n",
      "TRAINING SET ACCURACY:  0.9836482300477869\n"
     ]
    }
   ],
   "source": [
    "\n",
    "print('VALIDATION SET ACCURACY: ',np.mean(MODEL_RESULTS.history[\"val_accuracy\"]))\n",
    "\n",
    "\n",
    "\n",
    "print('\\nTRAINING SET ACCURACY: ',np.mean(MODEL_RESULTS.history[\"accuracy\"]))"
   ]
  },
  {
   "cell_type": "markdown",
   "id": "594a956e",
   "metadata": {},
   "source": [
    "    * OUR MODEL IS ALREADY RUNNING AT MEAN ACCURACY OF 97.9% FOR TRAINING DATA AND \n",
    "      88% OF MEAN ACCURACY FOR VALIDATION DATA SET WITH BASE PARAMETERS"
   ]
  },
  {
   "cell_type": "markdown",
   "id": "4d6e1b8d",
   "metadata": {},
   "source": [
    "# 6. Use the designed model to print the prediction on any one sample."
   ]
  },
  {
   "cell_type": "code",
   "execution_count": 84,
   "id": "fe057cf7",
   "metadata": {
    "execution": {
     "iopub.execute_input": "2022-10-09T07:27:38.839394Z",
     "iopub.status.busy": "2022-10-09T07:27:38.838962Z",
     "iopub.status.idle": "2022-10-09T07:27:38.845038Z",
     "shell.execute_reply": "2022-10-09T07:27:38.843542Z",
     "shell.execute_reply.started": "2022-10-09T07:27:38.839360Z"
    }
   },
   "outputs": [],
   "source": [
    "PREDICTIONS = np.round(PREDICTIONS, 0)"
   ]
  },
  {
   "cell_type": "code",
   "execution_count": 85,
   "id": "53386500",
   "metadata": {
    "execution": {
     "iopub.execute_input": "2022-10-09T07:27:56.582132Z",
     "iopub.status.busy": "2022-10-09T07:27:56.581685Z",
     "iopub.status.idle": "2022-10-09T07:27:56.587642Z",
     "shell.execute_reply": "2022-10-09T07:27:56.586574Z",
     "shell.execute_reply.started": "2022-10-09T07:27:56.582080Z"
    }
   },
   "outputs": [],
   "source": [
    "PREDICTIONS = PREDICTIONS.ravel()"
   ]
  },
  {
   "cell_type": "code",
   "execution_count": 86,
   "id": "b0a50046",
   "metadata": {
    "execution": {
     "iopub.execute_input": "2022-10-09T07:28:01.250804Z",
     "iopub.status.busy": "2022-10-09T07:28:01.249861Z",
     "iopub.status.idle": "2022-10-09T07:28:01.257092Z",
     "shell.execute_reply": "2022-10-09T07:28:01.256272Z",
     "shell.execute_reply.started": "2022-10-09T07:28:01.250756Z"
    }
   },
   "outputs": [
    {
     "data": {
      "text/plain": [
       "(12500,)"
      ]
     },
     "execution_count": 86,
     "metadata": {},
     "output_type": "execute_result"
    }
   ],
   "source": [
    "PREDICTIONS.shape"
   ]
  },
  {
   "cell_type": "code",
   "execution_count": 87,
   "id": "b19b9bbd",
   "metadata": {
    "execution": {
     "iopub.execute_input": "2022-10-09T07:28:16.965331Z",
     "iopub.status.busy": "2022-10-09T07:28:16.964846Z",
     "iopub.status.idle": "2022-10-09T07:28:16.972440Z",
     "shell.execute_reply": "2022-10-09T07:28:16.971045Z",
     "shell.execute_reply.started": "2022-10-09T07:28:16.965291Z"
    }
   },
   "outputs": [],
   "source": [
    "PREDICTIONS = PREDICTIONS.astype('int64')"
   ]
  },
  {
   "cell_type": "code",
   "execution_count": 88,
   "id": "e538dbb8",
   "metadata": {
    "execution": {
     "iopub.execute_input": "2022-10-09T07:28:19.068421Z",
     "iopub.status.busy": "2022-10-09T07:28:19.068007Z",
     "iopub.status.idle": "2022-10-09T07:28:19.077627Z",
     "shell.execute_reply": "2022-10-09T07:28:19.076282Z",
     "shell.execute_reply.started": "2022-10-09T07:28:19.068388Z"
    }
   },
   "outputs": [
    {
     "data": {
      "text/plain": [
       "array([1, 1, 0, ..., 1, 0, 0])"
      ]
     },
     "execution_count": 88,
     "metadata": {},
     "output_type": "execute_result"
    }
   ],
   "source": [
    "PREDICTIONS.ravel()\n",
    "\n",
    "PREDICTIONS"
   ]
  },
  {
   "cell_type": "code",
   "execution_count": 89,
   "id": "84868e29",
   "metadata": {
    "execution": {
     "iopub.execute_input": "2022-10-09T07:28:21.883620Z",
     "iopub.status.busy": "2022-10-09T07:28:21.882015Z",
     "iopub.status.idle": "2022-10-09T07:28:21.890928Z",
     "shell.execute_reply": "2022-10-09T07:28:21.889697Z",
     "shell.execute_reply.started": "2022-10-09T07:28:21.883567Z"
    }
   },
   "outputs": [
    {
     "data": {
      "text/plain": [
       "1"
      ]
     },
     "execution_count": 89,
     "metadata": {},
     "output_type": "execute_result"
    }
   ],
   "source": [
    "PREDICTIONS[100]"
   ]
  },
  {
   "cell_type": "code",
   "execution_count": 90,
   "id": "e062e643",
   "metadata": {
    "execution": {
     "iopub.execute_input": "2022-10-09T07:28:23.767324Z",
     "iopub.status.busy": "2022-10-09T07:28:23.766591Z",
     "iopub.status.idle": "2022-10-09T07:28:23.815597Z",
     "shell.execute_reply": "2022-10-09T07:28:23.814319Z",
     "shell.execute_reply.started": "2022-10-09T07:28:23.767268Z"
    }
   },
   "outputs": [
    {
     "name": "stdout",
     "output_type": "stream",
     "text": [
      "                     precision    recall  f1-score   support\n",
      "\n",
      "POSITIVE SENTIMENTS       0.90      0.86      0.88      6263\n",
      "NEGATIVE SENTIMENTS       0.86      0.90      0.88      6237\n",
      "\n",
      "           accuracy                           0.88     12500\n",
      "          macro avg       0.88      0.88      0.88     12500\n",
      "       weighted avg       0.88      0.88      0.88     12500\n",
      "\n"
     ]
    }
   ],
   "source": [
    "print(classification_report(Y_TEST, PREDICTIONS, target_names=['POSITIVE SENTIMENTS','NEGATIVE SENTIMENTS']))"
   ]
  },
  {
   "cell_type": "code",
   "execution_count": 91,
   "id": "c4444551",
   "metadata": {
    "execution": {
     "iopub.execute_input": "2022-10-09T07:28:28.178471Z",
     "iopub.status.busy": "2022-10-09T07:28:28.177591Z",
     "iopub.status.idle": "2022-10-09T07:28:28.202837Z",
     "shell.execute_reply": "2022-10-09T07:28:28.201553Z",
     "shell.execute_reply.started": "2022-10-09T07:28:28.178418Z"
    }
   },
   "outputs": [
    {
     "data": {
      "text/plain": [
       "[None,\n",
       " 'the',\n",
       " 'the',\n",
       " None,\n",
       " 'the',\n",
       " 'the',\n",
       " 'the',\n",
       " 'the',\n",
       " 'the',\n",
       " 'the',\n",
       " 'the',\n",
       " 'the',\n",
       " 'the',\n",
       " 'the',\n",
       " 'the',\n",
       " 'the',\n",
       " 'the',\n",
       " 'the',\n",
       " 'the',\n",
       " None,\n",
       " 'the',\n",
       " 'the',\n",
       " 'the',\n",
       " 'the',\n",
       " 'the',\n",
       " 'the',\n",
       " None,\n",
       " 'the',\n",
       " 'the',\n",
       " 'the',\n",
       " 'the',\n",
       " None,\n",
       " 'the',\n",
       " None,\n",
       " 'the',\n",
       " 'the',\n",
       " 'the',\n",
       " 'the',\n",
       " 'the',\n",
       " 'the',\n",
       " 'the',\n",
       " 'the',\n",
       " 'the',\n",
       " None,\n",
       " None,\n",
       " 'the',\n",
       " None,\n",
       " None,\n",
       " None,\n",
       " None,\n",
       " 'the',\n",
       " None,\n",
       " None,\n",
       " None,\n",
       " None,\n",
       " 'the',\n",
       " 'the',\n",
       " None,\n",
       " 'the',\n",
       " None,\n",
       " None,\n",
       " None,\n",
       " None,\n",
       " 'the',\n",
       " None,\n",
       " None,\n",
       " 'the',\n",
       " 'the',\n",
       " 'the',\n",
       " 'the',\n",
       " None,\n",
       " 'the',\n",
       " None,\n",
       " None,\n",
       " None,\n",
       " None,\n",
       " 'the',\n",
       " 'the',\n",
       " None,\n",
       " None,\n",
       " 'the',\n",
       " None,\n",
       " None,\n",
       " None,\n",
       " None,\n",
       " None,\n",
       " None,\n",
       " 'the',\n",
       " 'the',\n",
       " None,\n",
       " None,\n",
       " None,\n",
       " 'the',\n",
       " 'the',\n",
       " None,\n",
       " None,\n",
       " None,\n",
       " None,\n",
       " None,\n",
       " None,\n",
       " None,\n",
       " None,\n",
       " None,\n",
       " None,\n",
       " None,\n",
       " 'the',\n",
       " 'the',\n",
       " None,\n",
       " None,\n",
       " None,\n",
       " None,\n",
       " None,\n",
       " None,\n",
       " 'the',\n",
       " None,\n",
       " None,\n",
       " 'the',\n",
       " None,\n",
       " None,\n",
       " 'the',\n",
       " 'the',\n",
       " None,\n",
       " None,\n",
       " None,\n",
       " None,\n",
       " None,\n",
       " None,\n",
       " None,\n",
       " None,\n",
       " None,\n",
       " None,\n",
       " 'the',\n",
       " None,\n",
       " None,\n",
       " 'the',\n",
       " None,\n",
       " None,\n",
       " 'the',\n",
       " 'the',\n",
       " None,\n",
       " 'the',\n",
       " 'the',\n",
       " 'the',\n",
       " None,\n",
       " None,\n",
       " None,\n",
       " None,\n",
       " None,\n",
       " None,\n",
       " None,\n",
       " None,\n",
       " None,\n",
       " None,\n",
       " None,\n",
       " None,\n",
       " None,\n",
       " 'the',\n",
       " None,\n",
       " 'the',\n",
       " 'the',\n",
       " None,\n",
       " None,\n",
       " None,\n",
       " None,\n",
       " None,\n",
       " None,\n",
       " None,\n",
       " None,\n",
       " None,\n",
       " None,\n",
       " None,\n",
       " None,\n",
       " None,\n",
       " 'the',\n",
       " None,\n",
       " None,\n",
       " None,\n",
       " None,\n",
       " None,\n",
       " None,\n",
       " 'the',\n",
       " None,\n",
       " None,\n",
       " None,\n",
       " None,\n",
       " None,\n",
       " None,\n",
       " None,\n",
       " 'the',\n",
       " None,\n",
       " None,\n",
       " None,\n",
       " None,\n",
       " 'the',\n",
       " 'the',\n",
       " None,\n",
       " None,\n",
       " None,\n",
       " None,\n",
       " None,\n",
       " None,\n",
       " None,\n",
       " 'the',\n",
       " None,\n",
       " 'the',\n",
       " 'the',\n",
       " None,\n",
       " None,\n",
       " None,\n",
       " None,\n",
       " None,\n",
       " None,\n",
       " None,\n",
       " 'the',\n",
       " None,\n",
       " None,\n",
       " None,\n",
       " None,\n",
       " None,\n",
       " 'the',\n",
       " 'the',\n",
       " 'the',\n",
       " None,\n",
       " None,\n",
       " 'the',\n",
       " None,\n",
       " None,\n",
       " None,\n",
       " 'the',\n",
       " None,\n",
       " None,\n",
       " None,\n",
       " None,\n",
       " None,\n",
       " None,\n",
       " None,\n",
       " None,\n",
       " None,\n",
       " None,\n",
       " None,\n",
       " None,\n",
       " None,\n",
       " None,\n",
       " None,\n",
       " None,\n",
       " None,\n",
       " None,\n",
       " None,\n",
       " None,\n",
       " None,\n",
       " None,\n",
       " None,\n",
       " None,\n",
       " None,\n",
       " None,\n",
       " None,\n",
       " None,\n",
       " None,\n",
       " None,\n",
       " None,\n",
       " None,\n",
       " None,\n",
       " None,\n",
       " None,\n",
       " None,\n",
       " None,\n",
       " None,\n",
       " None,\n",
       " 'the',\n",
       " None,\n",
       " None,\n",
       " None,\n",
       " None,\n",
       " None,\n",
       " 'the',\n",
       " None,\n",
       " None,\n",
       " None,\n",
       " None,\n",
       " None,\n",
       " None,\n",
       " None,\n",
       " 'the',\n",
       " None,\n",
       " None,\n",
       " 'the',\n",
       " None,\n",
       " None,\n",
       " None,\n",
       " None,\n",
       " None,\n",
       " None,\n",
       " None,\n",
       " None,\n",
       " None,\n",
       " None,\n",
       " None,\n",
       " None,\n",
       " None,\n",
       " None,\n",
       " None,\n",
       " None,\n",
       " None,\n",
       " None,\n",
       " None,\n",
       " None,\n",
       " None,\n",
       " None,\n",
       " None,\n",
       " 'the',\n",
       " None,\n",
       " None,\n",
       " 'the',\n",
       " None,\n",
       " None,\n",
       " None,\n",
       " None,\n",
       " None,\n",
       " None,\n",
       " None,\n",
       " None,\n",
       " 'the',\n",
       " None,\n",
       " None,\n",
       " None,\n",
       " None,\n",
       " None,\n",
       " None,\n",
       " None,\n",
       " None,\n",
       " None,\n",
       " None,\n",
       " None,\n",
       " None,\n",
       " None,\n",
       " None,\n",
       " None,\n",
       " None,\n",
       " None,\n",
       " None,\n",
       " 'the',\n",
       " None,\n",
       " None,\n",
       " None,\n",
       " None,\n",
       " None,\n",
       " None,\n",
       " None,\n",
       " None,\n",
       " None,\n",
       " None,\n",
       " None,\n",
       " None,\n",
       " None,\n",
       " None,\n",
       " None,\n",
       " None,\n",
       " None,\n",
       " None,\n",
       " None,\n",
       " None,\n",
       " 'the',\n",
       " None,\n",
       " None,\n",
       " None,\n",
       " None,\n",
       " None,\n",
       " None,\n",
       " None,\n",
       " None,\n",
       " None,\n",
       " None,\n",
       " None,\n",
       " None,\n",
       " None,\n",
       " None,\n",
       " None,\n",
       " None,\n",
       " None,\n",
       " None,\n",
       " None,\n",
       " None,\n",
       " None,\n",
       " None,\n",
       " None,\n",
       " None,\n",
       " None,\n",
       " None,\n",
       " 'the',\n",
       " None,\n",
       " None,\n",
       " 'the',\n",
       " None,\n",
       " None,\n",
       " None,\n",
       " None,\n",
       " None,\n",
       " None,\n",
       " None,\n",
       " None,\n",
       " None,\n",
       " None,\n",
       " None,\n",
       " None,\n",
       " None,\n",
       " 'the',\n",
       " None,\n",
       " None,\n",
       " None,\n",
       " None,\n",
       " None,\n",
       " None,\n",
       " None,\n",
       " None,\n",
       " None,\n",
       " None,\n",
       " None,\n",
       " None,\n",
       " None,\n",
       " None,\n",
       " None,\n",
       " None,\n",
       " None,\n",
       " None,\n",
       " None,\n",
       " None,\n",
       " None,\n",
       " None,\n",
       " None,\n",
       " None,\n",
       " 'the',\n",
       " None,\n",
       " None,\n",
       " None,\n",
       " None,\n",
       " None,\n",
       " None,\n",
       " None,\n",
       " 'the',\n",
       " None,\n",
       " None,\n",
       " None,\n",
       " None,\n",
       " None,\n",
       " None,\n",
       " None,\n",
       " None,\n",
       " None,\n",
       " None,\n",
       " None,\n",
       " None,\n",
       " None,\n",
       " None,\n",
       " None,\n",
       " None,\n",
       " None,\n",
       " None,\n",
       " None,\n",
       " None,\n",
       " None,\n",
       " None,\n",
       " None,\n",
       " None,\n",
       " None,\n",
       " None,\n",
       " None,\n",
       " None,\n",
       " None,\n",
       " None,\n",
       " None,\n",
       " None,\n",
       " None,\n",
       " None,\n",
       " None,\n",
       " None,\n",
       " None,\n",
       " None,\n",
       " None,\n",
       " None,\n",
       " None,\n",
       " None,\n",
       " 'the',\n",
       " None,\n",
       " None,\n",
       " None,\n",
       " None,\n",
       " None,\n",
       " None,\n",
       " None,\n",
       " None,\n",
       " None,\n",
       " None,\n",
       " None,\n",
       " None,\n",
       " None,\n",
       " None,\n",
       " None,\n",
       " None,\n",
       " None,\n",
       " None,\n",
       " None,\n",
       " 'the',\n",
       " None,\n",
       " None,\n",
       " None,\n",
       " None,\n",
       " None,\n",
       " None,\n",
       " None,\n",
       " None,\n",
       " None,\n",
       " None,\n",
       " None,\n",
       " None,\n",
       " None,\n",
       " None,\n",
       " None,\n",
       " None,\n",
       " None,\n",
       " None,\n",
       " None,\n",
       " None,\n",
       " None,\n",
       " None,\n",
       " None,\n",
       " None,\n",
       " 'the',\n",
       " None,\n",
       " None,\n",
       " None,\n",
       " None,\n",
       " None,\n",
       " None,\n",
       " None,\n",
       " None,\n",
       " None,\n",
       " None,\n",
       " None,\n",
       " None,\n",
       " None,\n",
       " None,\n",
       " None,\n",
       " None,\n",
       " None,\n",
       " None,\n",
       " None,\n",
       " None,\n",
       " None,\n",
       " None,\n",
       " None,\n",
       " None,\n",
       " None,\n",
       " None,\n",
       " None,\n",
       " 'the',\n",
       " None,\n",
       " None,\n",
       " None,\n",
       " None,\n",
       " None,\n",
       " None,\n",
       " None,\n",
       " None,\n",
       " None,\n",
       " None,\n",
       " None,\n",
       " None,\n",
       " None,\n",
       " None,\n",
       " None,\n",
       " None,\n",
       " None,\n",
       " None,\n",
       " 'the',\n",
       " None,\n",
       " None,\n",
       " None,\n",
       " None,\n",
       " None,\n",
       " None,\n",
       " None,\n",
       " None,\n",
       " None,\n",
       " None,\n",
       " None,\n",
       " None,\n",
       " None,\n",
       " None,\n",
       " None,\n",
       " None,\n",
       " None,\n",
       " None,\n",
       " None,\n",
       " None,\n",
       " None,\n",
       " None,\n",
       " None,\n",
       " None,\n",
       " None,\n",
       " None,\n",
       " None,\n",
       " None,\n",
       " None,\n",
       " None,\n",
       " None,\n",
       " None,\n",
       " None,\n",
       " None,\n",
       " None,\n",
       " None,\n",
       " None,\n",
       " 'the',\n",
       " None,\n",
       " None,\n",
       " None,\n",
       " None,\n",
       " None,\n",
       " None,\n",
       " None,\n",
       " None,\n",
       " None,\n",
       " None,\n",
       " None,\n",
       " None,\n",
       " None,\n",
       " None,\n",
       " None,\n",
       " 'the',\n",
       " None,\n",
       " None,\n",
       " None,\n",
       " None,\n",
       " None,\n",
       " None,\n",
       " None,\n",
       " None,\n",
       " None,\n",
       " None,\n",
       " None,\n",
       " 'the',\n",
       " None,\n",
       " None,\n",
       " None,\n",
       " None,\n",
       " None,\n",
       " None,\n",
       " None,\n",
       " None,\n",
       " None,\n",
       " None,\n",
       " None,\n",
       " None,\n",
       " None,\n",
       " None,\n",
       " None,\n",
       " None,\n",
       " None,\n",
       " None,\n",
       " None,\n",
       " None,\n",
       " None,\n",
       " None,\n",
       " 'the',\n",
       " None,\n",
       " None,\n",
       " None,\n",
       " None,\n",
       " None,\n",
       " None,\n",
       " None,\n",
       " None,\n",
       " None,\n",
       " None,\n",
       " None,\n",
       " None,\n",
       " 'the',\n",
       " None,\n",
       " None,\n",
       " None,\n",
       " None,\n",
       " None,\n",
       " None,\n",
       " None,\n",
       " None,\n",
       " None,\n",
       " None,\n",
       " None,\n",
       " None,\n",
       " None,\n",
       " None,\n",
       " 'the',\n",
       " None,\n",
       " None,\n",
       " None,\n",
       " None,\n",
       " None,\n",
       " None,\n",
       " None,\n",
       " None,\n",
       " None,\n",
       " 'the',\n",
       " None,\n",
       " None,\n",
       " None,\n",
       " None,\n",
       " None,\n",
       " None,\n",
       " None,\n",
       " None,\n",
       " 'the',\n",
       " None,\n",
       " None,\n",
       " None,\n",
       " None,\n",
       " None,\n",
       " None,\n",
       " None,\n",
       " None,\n",
       " None,\n",
       " None,\n",
       " None,\n",
       " None,\n",
       " None,\n",
       " None,\n",
       " None,\n",
       " None,\n",
       " None,\n",
       " None,\n",
       " None,\n",
       " None,\n",
       " None,\n",
       " None,\n",
       " 'the',\n",
       " None,\n",
       " None,\n",
       " None,\n",
       " None,\n",
       " None,\n",
       " None,\n",
       " None,\n",
       " None,\n",
       " None,\n",
       " None,\n",
       " None,\n",
       " None,\n",
       " None,\n",
       " None,\n",
       " None,\n",
       " None,\n",
       " None,\n",
       " None,\n",
       " None,\n",
       " None,\n",
       " None,\n",
       " None,\n",
       " None,\n",
       " None,\n",
       " None,\n",
       " None,\n",
       " None,\n",
       " None,\n",
       " None,\n",
       " None,\n",
       " None,\n",
       " 'the',\n",
       " None,\n",
       " None,\n",
       " None,\n",
       " None,\n",
       " None,\n",
       " None,\n",
       " None,\n",
       " None,\n",
       " None,\n",
       " None,\n",
       " None,\n",
       " None,\n",
       " None,\n",
       " None,\n",
       " None,\n",
       " None,\n",
       " None,\n",
       " None,\n",
       " None,\n",
       " None,\n",
       " None,\n",
       " None,\n",
       " None,\n",
       " None,\n",
       " None,\n",
       " None,\n",
       " None,\n",
       " None,\n",
       " None,\n",
       " None,\n",
       " None,\n",
       " None,\n",
       " None,\n",
       " None,\n",
       " None,\n",
       " None,\n",
       " None,\n",
       " None,\n",
       " None,\n",
       " None,\n",
       " None,\n",
       " 'the',\n",
       " None,\n",
       " None,\n",
       " None,\n",
       " None,\n",
       " None,\n",
       " None,\n",
       " None,\n",
       " None,\n",
       " None,\n",
       " None,\n",
       " None,\n",
       " 'the',\n",
       " None,\n",
       " None,\n",
       " None,\n",
       " None,\n",
       " None,\n",
       " None,\n",
       " None,\n",
       " None,\n",
       " None,\n",
       " None,\n",
       " None,\n",
       " None,\n",
       " None,\n",
       " None,\n",
       " None,\n",
       " None,\n",
       " None,\n",
       " None,\n",
       " None,\n",
       " None,\n",
       " 'the',\n",
       " None,\n",
       " None,\n",
       " None,\n",
       " None,\n",
       " None,\n",
       " 'the',\n",
       " None,\n",
       " None,\n",
       " None,\n",
       " None,\n",
       " None,\n",
       " None,\n",
       " None,\n",
       " None,\n",
       " None,\n",
       " None,\n",
       " None,\n",
       " None,\n",
       " None,\n",
       " None,\n",
       " None,\n",
       " None,\n",
       " None,\n",
       " None,\n",
       " None,\n",
       " None,\n",
       " None,\n",
       " None,\n",
       " None,\n",
       " None,\n",
       " None,\n",
       " None,\n",
       " None,\n",
       " None,\n",
       " None,\n",
       " None,\n",
       " None,\n",
       " 'the',\n",
       " None,\n",
       " None,\n",
       " None,\n",
       " None,\n",
       " None,\n",
       " None,\n",
       " None,\n",
       " None,\n",
       " None,\n",
       " None,\n",
       " None,\n",
       " None,\n",
       " None,\n",
       " None,\n",
       " None,\n",
       " None,\n",
       " None,\n",
       " None,\n",
       " None,\n",
       " None,\n",
       " None,\n",
       " 'the',\n",
       " None,\n",
       " None,\n",
       " None,\n",
       " None,\n",
       " None,\n",
       " None,\n",
       " 'the',\n",
       " None,\n",
       " None,\n",
       " None,\n",
       " None,\n",
       " None,\n",
       " None,\n",
       " None,\n",
       " None,\n",
       " None,\n",
       " 'the',\n",
       " None,\n",
       " None,\n",
       " None,\n",
       " None,\n",
       " None,\n",
       " None,\n",
       " None,\n",
       " None,\n",
       " None,\n",
       " None,\n",
       " None,\n",
       " None,\n",
       " None,\n",
       " None,\n",
       " None,\n",
       " None,\n",
       " None,\n",
       " None,\n",
       " None,\n",
       " None,\n",
       " None,\n",
       " None,\n",
       " None,\n",
       " 'the',\n",
       " None,\n",
       " None,\n",
       " None,\n",
       " 'the',\n",
       " None,\n",
       " None,\n",
       " None,\n",
       " None,\n",
       " None,\n",
       " None,\n",
       " None,\n",
       " None,\n",
       " None,\n",
       " None,\n",
       " None,\n",
       " None,\n",
       " None,\n",
       " None,\n",
       " None,\n",
       " None,\n",
       " None,\n",
       " None,\n",
       " None,\n",
       " None,\n",
       " None,\n",
       " None,\n",
       " None,\n",
       " None,\n",
       " None,\n",
       " None,\n",
       " None,\n",
       " None,\n",
       " None,\n",
       " None,\n",
       " None,\n",
       " None,\n",
       " None,\n",
       " None,\n",
       " None,\n",
       " None,\n",
       " None,\n",
       " None,\n",
       " None,\n",
       " None,\n",
       " None,\n",
       " None,\n",
       " None,\n",
       " None,\n",
       " None,\n",
       " None,\n",
       " None,\n",
       " None,\n",
       " None,\n",
       " None,\n",
       " None,\n",
       " None,\n",
       " None,\n",
       " None,\n",
       " None,\n",
       " ...]"
      ]
     },
     "execution_count": 91,
     "metadata": {},
     "output_type": "execute_result"
    }
   ],
   "source": [
    "SEQUENCE_TO_TEXT(X_TEST[100])"
   ]
  },
  {
   "cell_type": "code",
   "execution_count": 92,
   "id": "f3bf7f21",
   "metadata": {
    "execution": {
     "iopub.execute_input": "2022-10-09T07:28:29.224823Z",
     "iopub.status.busy": "2022-10-09T07:28:29.224145Z",
     "iopub.status.idle": "2022-10-09T07:28:29.233523Z",
     "shell.execute_reply": "2022-10-09T07:28:29.232154Z",
     "shell.execute_reply.started": "2022-10-09T07:28:29.224776Z"
    }
   },
   "outputs": [
    {
     "data": {
      "text/plain": [
       "1.0"
      ]
     },
     "execution_count": 92,
     "metadata": {},
     "output_type": "execute_result"
    }
   ],
   "source": [
    "Y_TEST[100]"
   ]
  },
  {
   "cell_type": "code",
   "execution_count": 93,
   "id": "22b67b3b",
   "metadata": {
    "execution": {
     "iopub.execute_input": "2022-10-09T07:28:30.722349Z",
     "iopub.status.busy": "2022-10-09T07:28:30.721904Z",
     "iopub.status.idle": "2022-10-09T07:28:30.729778Z",
     "shell.execute_reply": "2022-10-09T07:28:30.728610Z",
     "shell.execute_reply.started": "2022-10-09T07:28:30.722312Z"
    }
   },
   "outputs": [
    {
     "data": {
      "text/plain": [
       "1"
      ]
     },
     "execution_count": 93,
     "metadata": {},
     "output_type": "execute_result"
    }
   ],
   "source": [
    "PREDICTIONS[100]"
   ]
  },
  {
   "cell_type": "markdown",
   "id": "dce71214",
   "metadata": {},
   "source": [
    "    * OUR MODEL HAS CORRECTLY PREDICTED THE SENTIMENT FOR 1OOTH TEST SAMPLE WHICH IS POSITIVE."
   ]
  },
  {
   "cell_type": "code",
   "execution_count": 96,
   "id": "afad1d0b",
   "metadata": {
    "execution": {
     "iopub.execute_input": "2022-10-09T07:32:40.084323Z",
     "iopub.status.busy": "2022-10-09T07:32:40.083844Z",
     "iopub.status.idle": "2022-10-09T07:34:16.246580Z",
     "shell.execute_reply": "2022-10-09T07:34:16.245296Z",
     "shell.execute_reply.started": "2022-10-09T07:32:40.084280Z"
    }
   },
   "outputs": [
    {
     "name": "stdout",
     "output_type": "stream",
     "text": [
      "Epoch 1/100\n",
      "500/500 [==============================] - 5s 9ms/step - loss: 0.0893 - accuracy: 0.9700 - val_loss: 0.5354 - val_accuracy: 0.8698\n",
      "Epoch 2/100\n",
      "500/500 [==============================] - 4s 8ms/step - loss: 0.0719 - accuracy: 0.9740 - val_loss: 0.6107 - val_accuracy: 0.8607\n",
      "Epoch 3/100\n",
      "500/500 [==============================] - 4s 8ms/step - loss: 0.0559 - accuracy: 0.9792 - val_loss: 0.6053 - val_accuracy: 0.8717\n",
      "Epoch 4/100\n",
      "500/500 [==============================] - 4s 8ms/step - loss: 0.0435 - accuracy: 0.9853 - val_loss: 0.6128 - val_accuracy: 0.8774\n",
      "Epoch 5/100\n",
      "500/500 [==============================] - 4s 8ms/step - loss: 0.0408 - accuracy: 0.9854 - val_loss: 0.6784 - val_accuracy: 0.8714\n",
      "Epoch 6/100\n",
      "500/500 [==============================] - 4s 8ms/step - loss: 0.0378 - accuracy: 0.9862 - val_loss: 0.6098 - val_accuracy: 0.8772\n",
      "Epoch 7/100\n",
      "500/500 [==============================] - 5s 9ms/step - loss: 0.0325 - accuracy: 0.9884 - val_loss: 0.5957 - val_accuracy: 0.8748\n",
      "Epoch 8/100\n",
      "500/500 [==============================] - 4s 8ms/step - loss: 0.0314 - accuracy: 0.9885 - val_loss: 0.5548 - val_accuracy: 0.8769\n",
      "Epoch 9/100\n",
      "500/500 [==============================] - 4s 8ms/step - loss: 0.0315 - accuracy: 0.9896 - val_loss: 0.7124 - val_accuracy: 0.8714\n",
      "Epoch 10/100\n",
      "500/500 [==============================] - 4s 8ms/step - loss: 0.0287 - accuracy: 0.9885 - val_loss: 0.7772 - val_accuracy: 0.8770\n",
      "Epoch 11/100\n",
      "500/500 [==============================] - 4s 8ms/step - loss: 0.0292 - accuracy: 0.9891 - val_loss: 0.7522 - val_accuracy: 0.8760\n",
      "Epoch 12/100\n",
      "500/500 [==============================] - 4s 8ms/step - loss: 0.0280 - accuracy: 0.9893 - val_loss: 0.8182 - val_accuracy: 0.8750\n",
      "Epoch 13/100\n",
      "500/500 [==============================] - 4s 7ms/step - loss: 0.0308 - accuracy: 0.9896 - val_loss: 0.7074 - val_accuracy: 0.8721\n",
      "Epoch 14/100\n",
      "500/500 [==============================] - 4s 7ms/step - loss: 0.0306 - accuracy: 0.9892 - val_loss: 0.9728 - val_accuracy: 0.8760\n",
      "Epoch 15/100\n",
      "500/500 [==============================] - 4s 8ms/step - loss: 0.0257 - accuracy: 0.9908 - val_loss: 0.8063 - val_accuracy: 0.8750\n",
      "Epoch 16/100\n",
      "500/500 [==============================] - 4s 9ms/step - loss: 0.0262 - accuracy: 0.9913 - val_loss: 0.7985 - val_accuracy: 0.8730\n",
      "Epoch 17/100\n",
      "500/500 [==============================] - 4s 8ms/step - loss: 0.0196 - accuracy: 0.9920 - val_loss: 0.7547 - val_accuracy: 0.8730\n",
      "Epoch 18/100\n",
      "500/500 [==============================] - 4s 8ms/step - loss: 0.0215 - accuracy: 0.9913 - val_loss: 0.8356 - val_accuracy: 0.8771\n",
      "Epoch 19/100\n",
      "500/500 [==============================] - 4s 7ms/step - loss: 0.0175 - accuracy: 0.9936 - val_loss: 0.8485 - val_accuracy: 0.8768\n",
      "Epoch 20/100\n",
      "500/500 [==============================] - 4s 8ms/step - loss: 0.0171 - accuracy: 0.9935 - val_loss: 0.8559 - val_accuracy: 0.8736\n",
      "Epoch 21/100\n",
      "500/500 [==============================] - 4s 8ms/step - loss: 0.0208 - accuracy: 0.9925 - val_loss: 0.9252 - val_accuracy: 0.8751\n",
      "Epoch 22/100\n",
      "500/500 [==============================] - 4s 8ms/step - loss: 0.0185 - accuracy: 0.9929 - val_loss: 0.9086 - val_accuracy: 0.8753\n",
      "Epoch 23/100\n",
      "500/500 [==============================] - 4s 8ms/step - loss: 0.0196 - accuracy: 0.9930 - val_loss: 0.9722 - val_accuracy: 0.8794\n"
     ]
    }
   ],
   "source": [
    "SEQ_MODEL.compile(optimizer = tf.keras.optimizers.Adam(lr = 0.0045), loss = \"binary_crossentropy\", metrics = [\"accuracy\"])\n",
    "\n",
    "MODEL_RESULTS1 = SEQ_MODEL.fit(X_TRAIN, Y_TRAIN, epochs = 100, batch_size = 50, \n",
    "                              validation_data = (X_VAL, Y_VAL), callbacks = [callback])"
   ]
  },
  {
   "cell_type": "code",
   "execution_count": 97,
   "id": "af1225b2",
   "metadata": {
    "execution": {
     "iopub.execute_input": "2022-10-09T07:41:43.078290Z",
     "iopub.status.busy": "2022-10-09T07:41:43.077788Z",
     "iopub.status.idle": "2022-10-09T07:41:49.100056Z",
     "shell.execute_reply": "2022-10-09T07:41:49.099187Z",
     "shell.execute_reply.started": "2022-10-09T07:41:43.078254Z"
    }
   },
   "outputs": [
    {
     "name": "stdout",
     "output_type": "stream",
     "text": [
      "391/391 [==============================] - 5s 13ms/step - loss: 0.9188 - accuracy: 0.8781\n",
      "ACCURACY ON TESTING DATA:  87.81\n"
     ]
    }
   ],
   "source": [
    "ACCURACY = round((SEQ_MODEL.evaluate(X_TEST, Y_TEST)[1])*100,2)\n",
    "\n",
    "print('ACCURACY ON TESTING DATA: ',ACCURACY)"
   ]
  },
  {
   "cell_type": "code",
   "execution_count": 98,
   "id": "c7fbbfa8",
   "metadata": {
    "execution": {
     "iopub.execute_input": "2022-10-09T07:42:15.996735Z",
     "iopub.status.busy": "2022-10-09T07:42:15.996200Z",
     "iopub.status.idle": "2022-10-09T07:42:22.005203Z",
     "shell.execute_reply": "2022-10-09T07:42:22.004012Z",
     "shell.execute_reply.started": "2022-10-09T07:42:15.996693Z"
    }
   },
   "outputs": [
    {
     "data": {
      "text/plain": [
       "array([1, 1, 0, ..., 1, 0, 0])"
      ]
     },
     "execution_count": 98,
     "metadata": {},
     "output_type": "execute_result"
    }
   ],
   "source": [
    "PREDICTIONS = SEQ_MODEL.predict(X_TEST)\n",
    "\n",
    "PREDICTIONS = np.round(PREDICTIONS, 0)\n",
    "\n",
    "PREDICTIONS = PREDICTIONS.ravel()\n",
    "\n",
    "PREDICTIONS = PREDICTIONS.astype('int64')\n",
    "\n",
    "PREDICTIONS.ravel()\n",
    "\n",
    "PREDICTIONS"
   ]
  },
  {
   "cell_type": "code",
   "execution_count": 99,
   "id": "934c9d8e",
   "metadata": {
    "execution": {
     "iopub.execute_input": "2022-10-09T07:42:58.434717Z",
     "iopub.status.busy": "2022-10-09T07:42:58.433376Z",
     "iopub.status.idle": "2022-10-09T07:42:58.441753Z",
     "shell.execute_reply": "2022-10-09T07:42:58.440434Z",
     "shell.execute_reply.started": "2022-10-09T07:42:58.434673Z"
    }
   },
   "outputs": [
    {
     "data": {
      "text/plain": [
       "0.0"
      ]
     },
     "execution_count": 99,
     "metadata": {},
     "output_type": "execute_result"
    }
   ],
   "source": [
    "Y_TEST[56]"
   ]
  },
  {
   "cell_type": "code",
   "execution_count": 100,
   "id": "1cbf6289",
   "metadata": {
    "execution": {
     "iopub.execute_input": "2022-10-09T07:43:01.141872Z",
     "iopub.status.busy": "2022-10-09T07:43:01.141126Z",
     "iopub.status.idle": "2022-10-09T07:43:01.149892Z",
     "shell.execute_reply": "2022-10-09T07:43:01.148627Z",
     "shell.execute_reply.started": "2022-10-09T07:43:01.141820Z"
    }
   },
   "outputs": [
    {
     "data": {
      "text/plain": [
       "0"
      ]
     },
     "execution_count": 100,
     "metadata": {},
     "output_type": "execute_result"
    }
   ],
   "source": [
    "PREDICTIONS[56]"
   ]
  },
  {
   "cell_type": "markdown",
   "id": "01afa4b5",
   "metadata": {},
   "source": [
    "# • DOMAIN: Social media analytics\n",
    "# • CONTEXT: Past studies in Sarcasm Detection mostly make use of Twitter datasets collected using hashtag based supervision but such datasets are noisy in terms of labels and language. Furthermore, many tweets are replies to other tweets and detecting sarcasm in these requires the availability of contextual tweets.In this hands-on project, the goal is to build a model to detect whether a sentence is sarcastic or not, using Bidirectional LSTMs.\n",
    "# • DATA DESCRIPTION:\n",
    "# The dataset is collected from two news websites, theonion.com and huffingtonpost.com.\n",
    "# This new dataset has the following advantages over the existing Twitter datasets:\n",
    "# Since news headlines are written by professionals in a formal manner, there are no spelling mistakes and informal usage. This reduces the sparsity and also increases the chance of finding pre-trained embeddings.\n",
    "# Furthermore, since the sole purpose of TheOnion is to publish sarcastic news, we get high-quality labels with much less noise as compared to Twitter datasets.\n",
    "# Unlike tweets that reply to other tweets, the news headlines obtained are self-contained. This would help us in teasing apart the real sarcastic elements\n",
    "# Content: Each record consists of three attributes:\n",
    "# is_sarcastic: 1 if the record is sarcastic otherwise 0\n",
    "# headline: the headline of the news article\n",
    "# article_link: link to the original news article. Useful in collecting supplementary data\n",
    "# Reference: https://github.com/rishabhmisra/News-Headlines-Dataset-For-Sarcasm-Detection\n",
    "# • PROJECT OBJECTIVE: Build a sequential NLP classifier which can use input text parameters to determine the customer sentiments."
   ]
  },
  {
   "cell_type": "markdown",
   "id": "9399d883",
   "metadata": {},
   "source": [
    "# Steps and tasks:\n",
    "\n",
    "# 1. Read and explore the data"
   ]
  },
  {
   "cell_type": "code",
   "execution_count": 4,
   "id": "08ebf00c",
   "metadata": {
    "execution": {
     "iopub.execute_input": "2022-10-09T06:00:32.798672Z",
     "iopub.status.busy": "2022-10-09T06:00:32.797144Z",
     "iopub.status.idle": "2022-10-09T06:00:33.062337Z",
     "shell.execute_reply": "2022-10-09T06:00:33.061157Z",
     "shell.execute_reply.started": "2022-10-09T06:00:32.798623Z"
    }
   },
   "outputs": [],
   "source": [
    "import json\n",
    "\n",
    "DATA = pd.read_json(\"../input/sarcasm-headlines-dataset/Sarcasm_Headlines_Dataset.json\",lines = True)"
   ]
  },
  {
   "cell_type": "code",
   "execution_count": 5,
   "id": "ec92a891",
   "metadata": {
    "execution": {
     "iopub.execute_input": "2022-10-09T06:00:37.089134Z",
     "iopub.status.busy": "2022-10-09T06:00:37.087944Z",
     "iopub.status.idle": "2022-10-09T06:00:37.098740Z",
     "shell.execute_reply": "2022-10-09T06:00:37.097799Z",
     "shell.execute_reply.started": "2022-10-09T06:00:37.089052Z"
    }
   },
   "outputs": [
    {
     "data": {
      "text/plain": [
       "Index(['is_sarcastic', 'headline', 'article_link'], dtype='object')"
      ]
     },
     "execution_count": 5,
     "metadata": {},
     "output_type": "execute_result"
    }
   ],
   "source": [
    "DATA.columns"
   ]
  },
  {
   "cell_type": "code",
   "execution_count": 6,
   "id": "1888ed0e",
   "metadata": {
    "execution": {
     "iopub.execute_input": "2022-10-09T06:00:38.895740Z",
     "iopub.status.busy": "2022-10-09T06:00:38.895086Z",
     "iopub.status.idle": "2022-10-09T06:00:38.924949Z",
     "shell.execute_reply": "2022-10-09T06:00:38.923628Z",
     "shell.execute_reply.started": "2022-10-09T06:00:38.895703Z"
    }
   },
   "outputs": [
    {
     "name": "stdout",
     "output_type": "stream",
     "text": [
      "<class 'pandas.core.frame.DataFrame'>\n",
      "RangeIndex: 28619 entries, 0 to 28618\n",
      "Data columns (total 3 columns):\n",
      " #   Column        Non-Null Count  Dtype \n",
      "---  ------        --------------  ----- \n",
      " 0   is_sarcastic  28619 non-null  int64 \n",
      " 1   headline      28619 non-null  object\n",
      " 2   article_link  28619 non-null  object\n",
      "dtypes: int64(1), object(2)\n",
      "memory usage: 670.9+ KB\n"
     ]
    }
   ],
   "source": [
    "DATA.info()"
   ]
  },
  {
   "cell_type": "code",
   "execution_count": 7,
   "id": "5c8ddf4e",
   "metadata": {
    "execution": {
     "iopub.execute_input": "2022-10-09T06:00:40.036484Z",
     "iopub.status.busy": "2022-10-09T06:00:40.034180Z",
     "iopub.status.idle": "2022-10-09T06:00:40.052371Z",
     "shell.execute_reply": "2022-10-09T06:00:40.051192Z",
     "shell.execute_reply.started": "2022-10-09T06:00:40.036435Z"
    }
   },
   "outputs": [
    {
     "data": {
      "text/html": [
       "<div>\n",
       "<style scoped>\n",
       "    .dataframe tbody tr th:only-of-type {\n",
       "        vertical-align: middle;\n",
       "    }\n",
       "\n",
       "    .dataframe tbody tr th {\n",
       "        vertical-align: top;\n",
       "    }\n",
       "\n",
       "    .dataframe thead th {\n",
       "        text-align: right;\n",
       "    }\n",
       "</style>\n",
       "<table border=\"1\" class=\"dataframe\">\n",
       "  <thead>\n",
       "    <tr style=\"text-align: right;\">\n",
       "      <th></th>\n",
       "      <th>is_sarcastic</th>\n",
       "      <th>headline</th>\n",
       "      <th>article_link</th>\n",
       "    </tr>\n",
       "  </thead>\n",
       "  <tbody>\n",
       "    <tr>\n",
       "      <th>0</th>\n",
       "      <td>1</td>\n",
       "      <td>thirtysomething scientists unveil doomsday clo...</td>\n",
       "      <td>https://www.theonion.com/thirtysomething-scien...</td>\n",
       "    </tr>\n",
       "    <tr>\n",
       "      <th>1</th>\n",
       "      <td>0</td>\n",
       "      <td>dem rep. totally nails why congress is falling...</td>\n",
       "      <td>https://www.huffingtonpost.com/entry/donna-edw...</td>\n",
       "    </tr>\n",
       "    <tr>\n",
       "      <th>2</th>\n",
       "      <td>0</td>\n",
       "      <td>eat your veggies: 9 deliciously different recipes</td>\n",
       "      <td>https://www.huffingtonpost.com/entry/eat-your-...</td>\n",
       "    </tr>\n",
       "    <tr>\n",
       "      <th>3</th>\n",
       "      <td>1</td>\n",
       "      <td>inclement weather prevents liar from getting t...</td>\n",
       "      <td>https://local.theonion.com/inclement-weather-p...</td>\n",
       "    </tr>\n",
       "    <tr>\n",
       "      <th>4</th>\n",
       "      <td>1</td>\n",
       "      <td>mother comes pretty close to using word 'strea...</td>\n",
       "      <td>https://www.theonion.com/mother-comes-pretty-c...</td>\n",
       "    </tr>\n",
       "  </tbody>\n",
       "</table>\n",
       "</div>"
      ],
      "text/plain": [
       "   is_sarcastic                                           headline  \\\n",
       "0             1  thirtysomething scientists unveil doomsday clo...   \n",
       "1             0  dem rep. totally nails why congress is falling...   \n",
       "2             0  eat your veggies: 9 deliciously different recipes   \n",
       "3             1  inclement weather prevents liar from getting t...   \n",
       "4             1  mother comes pretty close to using word 'strea...   \n",
       "\n",
       "                                        article_link  \n",
       "0  https://www.theonion.com/thirtysomething-scien...  \n",
       "1  https://www.huffingtonpost.com/entry/donna-edw...  \n",
       "2  https://www.huffingtonpost.com/entry/eat-your-...  \n",
       "3  https://local.theonion.com/inclement-weather-p...  \n",
       "4  https://www.theonion.com/mother-comes-pretty-c...  "
      ]
     },
     "execution_count": 7,
     "metadata": {},
     "output_type": "execute_result"
    }
   ],
   "source": [
    "DATA.head()"
   ]
  },
  {
   "cell_type": "code",
   "execution_count": 8,
   "id": "3704eb6a",
   "metadata": {
    "execution": {
     "iopub.execute_input": "2022-10-09T06:00:41.499869Z",
     "iopub.status.busy": "2022-10-09T06:00:41.499063Z",
     "iopub.status.idle": "2022-10-09T06:00:41.511828Z",
     "shell.execute_reply": "2022-10-09T06:00:41.510522Z",
     "shell.execute_reply.started": "2022-10-09T06:00:41.499829Z"
    }
   },
   "outputs": [
    {
     "data": {
      "text/html": [
       "<div>\n",
       "<style scoped>\n",
       "    .dataframe tbody tr th:only-of-type {\n",
       "        vertical-align: middle;\n",
       "    }\n",
       "\n",
       "    .dataframe tbody tr th {\n",
       "        vertical-align: top;\n",
       "    }\n",
       "\n",
       "    .dataframe thead th {\n",
       "        text-align: right;\n",
       "    }\n",
       "</style>\n",
       "<table border=\"1\" class=\"dataframe\">\n",
       "  <thead>\n",
       "    <tr style=\"text-align: right;\">\n",
       "      <th></th>\n",
       "      <th>is_sarcastic</th>\n",
       "      <th>headline</th>\n",
       "      <th>article_link</th>\n",
       "    </tr>\n",
       "  </thead>\n",
       "  <tbody>\n",
       "    <tr>\n",
       "      <th>28614</th>\n",
       "      <td>1</td>\n",
       "      <td>jews to celebrate rosh hashasha or something</td>\n",
       "      <td>https://www.theonion.com/jews-to-celebrate-ros...</td>\n",
       "    </tr>\n",
       "    <tr>\n",
       "      <th>28615</th>\n",
       "      <td>1</td>\n",
       "      <td>internal affairs investigator disappointed con...</td>\n",
       "      <td>https://local.theonion.com/internal-affairs-in...</td>\n",
       "    </tr>\n",
       "    <tr>\n",
       "      <th>28616</th>\n",
       "      <td>0</td>\n",
       "      <td>the most beautiful acceptance speech this week...</td>\n",
       "      <td>https://www.huffingtonpost.com/entry/andrew-ah...</td>\n",
       "    </tr>\n",
       "    <tr>\n",
       "      <th>28617</th>\n",
       "      <td>1</td>\n",
       "      <td>mars probe destroyed by orbiting spielberg-gat...</td>\n",
       "      <td>https://www.theonion.com/mars-probe-destroyed-...</td>\n",
       "    </tr>\n",
       "    <tr>\n",
       "      <th>28618</th>\n",
       "      <td>1</td>\n",
       "      <td>dad clarifies this not a food stop</td>\n",
       "      <td>https://www.theonion.com/dad-clarifies-this-no...</td>\n",
       "    </tr>\n",
       "  </tbody>\n",
       "</table>\n",
       "</div>"
      ],
      "text/plain": [
       "       is_sarcastic                                           headline  \\\n",
       "28614             1       jews to celebrate rosh hashasha or something   \n",
       "28615             1  internal affairs investigator disappointed con...   \n",
       "28616             0  the most beautiful acceptance speech this week...   \n",
       "28617             1  mars probe destroyed by orbiting spielberg-gat...   \n",
       "28618             1                 dad clarifies this not a food stop   \n",
       "\n",
       "                                            article_link  \n",
       "28614  https://www.theonion.com/jews-to-celebrate-ros...  \n",
       "28615  https://local.theonion.com/internal-affairs-in...  \n",
       "28616  https://www.huffingtonpost.com/entry/andrew-ah...  \n",
       "28617  https://www.theonion.com/mars-probe-destroyed-...  \n",
       "28618  https://www.theonion.com/dad-clarifies-this-no...  "
      ]
     },
     "execution_count": 8,
     "metadata": {},
     "output_type": "execute_result"
    }
   ],
   "source": [
    "DATA.tail()"
   ]
  },
  {
   "cell_type": "code",
   "execution_count": 9,
   "id": "ae5ad5dd",
   "metadata": {
    "execution": {
     "iopub.execute_input": "2022-10-09T06:00:43.743477Z",
     "iopub.status.busy": "2022-10-09T06:00:43.743059Z",
     "iopub.status.idle": "2022-10-09T06:00:43.750598Z",
     "shell.execute_reply": "2022-10-09T06:00:43.749325Z",
     "shell.execute_reply.started": "2022-10-09T06:00:43.743443Z"
    }
   },
   "outputs": [
    {
     "data": {
      "text/plain": [
       "(28619, 3)"
      ]
     },
     "execution_count": 9,
     "metadata": {},
     "output_type": "execute_result"
    }
   ],
   "source": [
    "DATA.shape"
   ]
  },
  {
   "cell_type": "code",
   "execution_count": 10,
   "id": "c3631413",
   "metadata": {
    "execution": {
     "iopub.execute_input": "2022-10-09T06:00:45.490039Z",
     "iopub.status.busy": "2022-10-09T06:00:45.489607Z",
     "iopub.status.idle": "2022-10-09T06:00:50.987753Z",
     "shell.execute_reply": "2022-10-09T06:00:50.986597Z",
     "shell.execute_reply.started": "2022-10-09T06:00:45.490000Z"
    }
   },
   "outputs": [
    {
     "name": "stderr",
     "output_type": "stream",
     "text": [
      "[nltk_data] Downloading package omw-1.4 to /usr/share/nltk_data...\n"
     ]
    }
   ],
   "source": [
    "import nltk\n",
    "nltk.download('omw-1.4')\n",
    "\n",
    "# CONVERT ALL THE UPPERCASE TEXT TO LOWER CASE\n",
    "DATA[\"headline\"] = DATA[\"headline\"].apply(lambda x: \" \".join(x.lower() for x in x.split()))\n",
    "\n",
    "# DELETE ALL THE PUNCTUATION MARKS FROM THE TEXT\n",
    "DATA[\"headline\"] = DATA[\"headline\"].str.replace('[^\\w\\s]','')\n",
    "\n",
    "# DELETE NUMBERS\n",
    "DATA[\"headline\"] = DATA[\"headline\"].str.replace('\\d','')\n",
    "\n",
    "# DELETE STOP WORDS\n",
    "STOPWORDS = stopwords.words(\"english\")\n",
    "DATA[\"headline\"] = DATA[\"headline\"].apply(lambda x: \" \".join(x for x in x.split() if x not in STOPWORDS))\n",
    "\n",
    "# LEMMATIZATION OF THE TEXT DATA\n",
    "DATA[\"headline\"] = DATA[\"headline\"].apply(lambda x: \" \".join([Word(word).lemmatize() for word in x.split()]))"
   ]
  },
  {
   "cell_type": "code",
   "execution_count": 11,
   "id": "66be4a77",
   "metadata": {
    "execution": {
     "iopub.execute_input": "2022-10-09T06:00:54.363310Z",
     "iopub.status.busy": "2022-10-09T06:00:54.362207Z",
     "iopub.status.idle": "2022-10-09T06:00:54.374620Z",
     "shell.execute_reply": "2022-10-09T06:00:54.373282Z",
     "shell.execute_reply.started": "2022-10-09T06:00:54.363270Z"
    }
   },
   "outputs": [
    {
     "data": {
      "text/html": [
       "<div>\n",
       "<style scoped>\n",
       "    .dataframe tbody tr th:only-of-type {\n",
       "        vertical-align: middle;\n",
       "    }\n",
       "\n",
       "    .dataframe tbody tr th {\n",
       "        vertical-align: top;\n",
       "    }\n",
       "\n",
       "    .dataframe thead th {\n",
       "        text-align: right;\n",
       "    }\n",
       "</style>\n",
       "<table border=\"1\" class=\"dataframe\">\n",
       "  <thead>\n",
       "    <tr style=\"text-align: right;\">\n",
       "      <th></th>\n",
       "      <th>is_sarcastic</th>\n",
       "      <th>headline</th>\n",
       "      <th>article_link</th>\n",
       "    </tr>\n",
       "  </thead>\n",
       "  <tbody>\n",
       "    <tr>\n",
       "      <th>0</th>\n",
       "      <td>1</td>\n",
       "      <td>thirtysomething scientist unveil doomsday cloc...</td>\n",
       "      <td>https://www.theonion.com/thirtysomething-scien...</td>\n",
       "    </tr>\n",
       "    <tr>\n",
       "      <th>1</th>\n",
       "      <td>0</td>\n",
       "      <td>dem rep totally nail congress falling short ge...</td>\n",
       "      <td>https://www.huffingtonpost.com/entry/donna-edw...</td>\n",
       "    </tr>\n",
       "    <tr>\n",
       "      <th>2</th>\n",
       "      <td>0</td>\n",
       "      <td>eat veggie deliciously different recipe</td>\n",
       "      <td>https://www.huffingtonpost.com/entry/eat-your-...</td>\n",
       "    </tr>\n",
       "    <tr>\n",
       "      <th>3</th>\n",
       "      <td>1</td>\n",
       "      <td>inclement weather prevents liar getting work</td>\n",
       "      <td>https://local.theonion.com/inclement-weather-p...</td>\n",
       "    </tr>\n",
       "    <tr>\n",
       "      <th>4</th>\n",
       "      <td>1</td>\n",
       "      <td>mother come pretty close using word streaming ...</td>\n",
       "      <td>https://www.theonion.com/mother-comes-pretty-c...</td>\n",
       "    </tr>\n",
       "  </tbody>\n",
       "</table>\n",
       "</div>"
      ],
      "text/plain": [
       "   is_sarcastic                                           headline  \\\n",
       "0             1  thirtysomething scientist unveil doomsday cloc...   \n",
       "1             0  dem rep totally nail congress falling short ge...   \n",
       "2             0            eat veggie deliciously different recipe   \n",
       "3             1       inclement weather prevents liar getting work   \n",
       "4             1  mother come pretty close using word streaming ...   \n",
       "\n",
       "                                        article_link  \n",
       "0  https://www.theonion.com/thirtysomething-scien...  \n",
       "1  https://www.huffingtonpost.com/entry/donna-edw...  \n",
       "2  https://www.huffingtonpost.com/entry/eat-your-...  \n",
       "3  https://local.theonion.com/inclement-weather-p...  \n",
       "4  https://www.theonion.com/mother-comes-pretty-c...  "
      ]
     },
     "execution_count": 11,
     "metadata": {},
     "output_type": "execute_result"
    }
   ],
   "source": [
    "DATA.head()"
   ]
  },
  {
   "cell_type": "markdown",
   "id": "fcff6146",
   "metadata": {},
   "source": [
    "# 2. Retain relevant columns"
   ]
  },
  {
   "cell_type": "code",
   "execution_count": 12,
   "id": "3d1ec08b",
   "metadata": {
    "execution": {
     "iopub.execute_input": "2022-10-09T06:00:58.363477Z",
     "iopub.status.busy": "2022-10-09T06:00:58.363068Z",
     "iopub.status.idle": "2022-10-09T06:00:58.371023Z",
     "shell.execute_reply": "2022-10-09T06:00:58.369658Z",
     "shell.execute_reply.started": "2022-10-09T06:00:58.363445Z"
    }
   },
   "outputs": [],
   "source": [
    "# LINK TO ARTICLES IS NOT IMPORTANT FOR ANALYSYS OF THE DATA\n",
    "\n",
    "DATA = DATA.drop(columns = \"article_link\")"
   ]
  },
  {
   "cell_type": "code",
   "execution_count": 13,
   "id": "b0eb547b",
   "metadata": {
    "execution": {
     "iopub.execute_input": "2022-10-09T06:01:00.437882Z",
     "iopub.status.busy": "2022-10-09T06:01:00.437453Z",
     "iopub.status.idle": "2022-10-09T06:01:00.445425Z",
     "shell.execute_reply": "2022-10-09T06:01:00.444139Z",
     "shell.execute_reply.started": "2022-10-09T06:01:00.437845Z"
    }
   },
   "outputs": [
    {
     "data": {
      "text/plain": [
       "Index(['is_sarcastic', 'headline'], dtype='object')"
      ]
     },
     "execution_count": 13,
     "metadata": {},
     "output_type": "execute_result"
    }
   ],
   "source": [
    "DATA.columns"
   ]
  },
  {
   "cell_type": "code",
   "execution_count": 14,
   "id": "5cd8c48b",
   "metadata": {
    "execution": {
     "iopub.execute_input": "2022-10-09T06:01:01.896599Z",
     "iopub.status.busy": "2022-10-09T06:01:01.896151Z",
     "iopub.status.idle": "2022-10-09T06:01:01.908661Z",
     "shell.execute_reply": "2022-10-09T06:01:01.907486Z",
     "shell.execute_reply.started": "2022-10-09T06:01:01.896560Z"
    }
   },
   "outputs": [
    {
     "data": {
      "text/html": [
       "<div>\n",
       "<style scoped>\n",
       "    .dataframe tbody tr th:only-of-type {\n",
       "        vertical-align: middle;\n",
       "    }\n",
       "\n",
       "    .dataframe tbody tr th {\n",
       "        vertical-align: top;\n",
       "    }\n",
       "\n",
       "    .dataframe thead th {\n",
       "        text-align: right;\n",
       "    }\n",
       "</style>\n",
       "<table border=\"1\" class=\"dataframe\">\n",
       "  <thead>\n",
       "    <tr style=\"text-align: right;\">\n",
       "      <th></th>\n",
       "      <th>is_sarcastic</th>\n",
       "      <th>headline</th>\n",
       "    </tr>\n",
       "  </thead>\n",
       "  <tbody>\n",
       "    <tr>\n",
       "      <th>0</th>\n",
       "      <td>1</td>\n",
       "      <td>thirtysomething scientist unveil doomsday cloc...</td>\n",
       "    </tr>\n",
       "    <tr>\n",
       "      <th>1</th>\n",
       "      <td>0</td>\n",
       "      <td>dem rep totally nail congress falling short ge...</td>\n",
       "    </tr>\n",
       "    <tr>\n",
       "      <th>2</th>\n",
       "      <td>0</td>\n",
       "      <td>eat veggie deliciously different recipe</td>\n",
       "    </tr>\n",
       "    <tr>\n",
       "      <th>3</th>\n",
       "      <td>1</td>\n",
       "      <td>inclement weather prevents liar getting work</td>\n",
       "    </tr>\n",
       "    <tr>\n",
       "      <th>4</th>\n",
       "      <td>1</td>\n",
       "      <td>mother come pretty close using word streaming ...</td>\n",
       "    </tr>\n",
       "  </tbody>\n",
       "</table>\n",
       "</div>"
      ],
      "text/plain": [
       "   is_sarcastic                                           headline\n",
       "0             1  thirtysomething scientist unveil doomsday cloc...\n",
       "1             0  dem rep totally nail congress falling short ge...\n",
       "2             0            eat veggie deliciously different recipe\n",
       "3             1       inclement weather prevents liar getting work\n",
       "4             1  mother come pretty close using word streaming ..."
      ]
     },
     "execution_count": 14,
     "metadata": {},
     "output_type": "execute_result"
    }
   ],
   "source": [
    "DATA.head()"
   ]
  },
  {
   "cell_type": "code",
   "execution_count": 15,
   "id": "d69510c6",
   "metadata": {
    "execution": {
     "iopub.execute_input": "2022-10-09T06:01:03.233439Z",
     "iopub.status.busy": "2022-10-09T06:01:03.233017Z",
     "iopub.status.idle": "2022-10-09T06:01:03.245919Z",
     "shell.execute_reply": "2022-10-09T06:01:03.244470Z",
     "shell.execute_reply.started": "2022-10-09T06:01:03.233400Z"
    }
   },
   "outputs": [
    {
     "data": {
      "text/html": [
       "<div>\n",
       "<style scoped>\n",
       "    .dataframe tbody tr th:only-of-type {\n",
       "        vertical-align: middle;\n",
       "    }\n",
       "\n",
       "    .dataframe tbody tr th {\n",
       "        vertical-align: top;\n",
       "    }\n",
       "\n",
       "    .dataframe thead th {\n",
       "        text-align: right;\n",
       "    }\n",
       "</style>\n",
       "<table border=\"1\" class=\"dataframe\">\n",
       "  <thead>\n",
       "    <tr style=\"text-align: right;\">\n",
       "      <th></th>\n",
       "      <th>is_sarcastic</th>\n",
       "      <th>headline</th>\n",
       "    </tr>\n",
       "  </thead>\n",
       "  <tbody>\n",
       "    <tr>\n",
       "      <th>28614</th>\n",
       "      <td>1</td>\n",
       "      <td>jew celebrate rosh hashasha something</td>\n",
       "    </tr>\n",
       "    <tr>\n",
       "      <th>28615</th>\n",
       "      <td>1</td>\n",
       "      <td>internal affair investigator disappointed cons...</td>\n",
       "    </tr>\n",
       "    <tr>\n",
       "      <th>28616</th>\n",
       "      <td>0</td>\n",
       "      <td>beautiful acceptance speech week came queer ko...</td>\n",
       "    </tr>\n",
       "    <tr>\n",
       "      <th>28617</th>\n",
       "      <td>1</td>\n",
       "      <td>mar probe destroyed orbiting spielberggates sp...</td>\n",
       "    </tr>\n",
       "    <tr>\n",
       "      <th>28618</th>\n",
       "      <td>1</td>\n",
       "      <td>dad clarifies food stop</td>\n",
       "    </tr>\n",
       "  </tbody>\n",
       "</table>\n",
       "</div>"
      ],
      "text/plain": [
       "       is_sarcastic                                           headline\n",
       "28614             1              jew celebrate rosh hashasha something\n",
       "28615             1  internal affair investigator disappointed cons...\n",
       "28616             0  beautiful acceptance speech week came queer ko...\n",
       "28617             1  mar probe destroyed orbiting spielberggates sp...\n",
       "28618             1                            dad clarifies food stop"
      ]
     },
     "execution_count": 15,
     "metadata": {},
     "output_type": "execute_result"
    }
   ],
   "source": [
    "DATA.tail()"
   ]
  },
  {
   "cell_type": "markdown",
   "id": "671b5166",
   "metadata": {},
   "source": [
    "# 3. Get length of each sentence"
   ]
  },
  {
   "cell_type": "code",
   "execution_count": 16,
   "id": "e0844ef5",
   "metadata": {
    "execution": {
     "iopub.execute_input": "2022-10-09T06:01:07.085689Z",
     "iopub.status.busy": "2022-10-09T06:01:07.085255Z",
     "iopub.status.idle": "2022-10-09T06:01:07.107139Z",
     "shell.execute_reply": "2022-10-09T06:01:07.106004Z",
     "shell.execute_reply.started": "2022-10-09T06:01:07.085652Z"
    }
   },
   "outputs": [],
   "source": [
    "DATA['SENTENCE_LENGTH'] = DATA['headline'].apply(lambda x: len(x))"
   ]
  },
  {
   "cell_type": "code",
   "execution_count": 17,
   "id": "b5c43630",
   "metadata": {
    "execution": {
     "iopub.execute_input": "2022-10-09T06:01:20.544573Z",
     "iopub.status.busy": "2022-10-09T06:01:20.544076Z",
     "iopub.status.idle": "2022-10-09T06:01:20.556330Z",
     "shell.execute_reply": "2022-10-09T06:01:20.555167Z",
     "shell.execute_reply.started": "2022-10-09T06:01:20.544535Z"
    }
   },
   "outputs": [
    {
     "data": {
      "text/html": [
       "<div>\n",
       "<style scoped>\n",
       "    .dataframe tbody tr th:only-of-type {\n",
       "        vertical-align: middle;\n",
       "    }\n",
       "\n",
       "    .dataframe tbody tr th {\n",
       "        vertical-align: top;\n",
       "    }\n",
       "\n",
       "    .dataframe thead th {\n",
       "        text-align: right;\n",
       "    }\n",
       "</style>\n",
       "<table border=\"1\" class=\"dataframe\">\n",
       "  <thead>\n",
       "    <tr style=\"text-align: right;\">\n",
       "      <th></th>\n",
       "      <th>is_sarcastic</th>\n",
       "      <th>headline</th>\n",
       "      <th>SENTENCE_LENGTH</th>\n",
       "    </tr>\n",
       "  </thead>\n",
       "  <tbody>\n",
       "    <tr>\n",
       "      <th>0</th>\n",
       "      <td>1</td>\n",
       "      <td>thirtysomething scientist unveil doomsday cloc...</td>\n",
       "      <td>57</td>\n",
       "    </tr>\n",
       "    <tr>\n",
       "      <th>1</th>\n",
       "      <td>0</td>\n",
       "      <td>dem rep totally nail congress falling short ge...</td>\n",
       "      <td>66</td>\n",
       "    </tr>\n",
       "    <tr>\n",
       "      <th>2</th>\n",
       "      <td>0</td>\n",
       "      <td>eat veggie deliciously different recipe</td>\n",
       "      <td>39</td>\n",
       "    </tr>\n",
       "    <tr>\n",
       "      <th>3</th>\n",
       "      <td>1</td>\n",
       "      <td>inclement weather prevents liar getting work</td>\n",
       "      <td>44</td>\n",
       "    </tr>\n",
       "    <tr>\n",
       "      <th>4</th>\n",
       "      <td>1</td>\n",
       "      <td>mother come pretty close using word streaming ...</td>\n",
       "      <td>55</td>\n",
       "    </tr>\n",
       "  </tbody>\n",
       "</table>\n",
       "</div>"
      ],
      "text/plain": [
       "   is_sarcastic                                           headline  \\\n",
       "0             1  thirtysomething scientist unveil doomsday cloc...   \n",
       "1             0  dem rep totally nail congress falling short ge...   \n",
       "2             0            eat veggie deliciously different recipe   \n",
       "3             1       inclement weather prevents liar getting work   \n",
       "4             1  mother come pretty close using word streaming ...   \n",
       "\n",
       "   SENTENCE_LENGTH  \n",
       "0               57  \n",
       "1               66  \n",
       "2               39  \n",
       "3               44  \n",
       "4               55  "
      ]
     },
     "execution_count": 17,
     "metadata": {},
     "output_type": "execute_result"
    }
   ],
   "source": [
    "DATA.head()"
   ]
  },
  {
   "cell_type": "code",
   "execution_count": 18,
   "id": "8425bc54",
   "metadata": {
    "execution": {
     "iopub.execute_input": "2022-10-09T06:01:23.118519Z",
     "iopub.status.busy": "2022-10-09T06:01:23.117728Z",
     "iopub.status.idle": "2022-10-09T06:01:23.129972Z",
     "shell.execute_reply": "2022-10-09T06:01:23.128464Z",
     "shell.execute_reply.started": "2022-10-09T06:01:23.118474Z"
    }
   },
   "outputs": [
    {
     "data": {
      "text/html": [
       "<div>\n",
       "<style scoped>\n",
       "    .dataframe tbody tr th:only-of-type {\n",
       "        vertical-align: middle;\n",
       "    }\n",
       "\n",
       "    .dataframe tbody tr th {\n",
       "        vertical-align: top;\n",
       "    }\n",
       "\n",
       "    .dataframe thead th {\n",
       "        text-align: right;\n",
       "    }\n",
       "</style>\n",
       "<table border=\"1\" class=\"dataframe\">\n",
       "  <thead>\n",
       "    <tr style=\"text-align: right;\">\n",
       "      <th></th>\n",
       "      <th>is_sarcastic</th>\n",
       "      <th>headline</th>\n",
       "      <th>SENTENCE_LENGTH</th>\n",
       "    </tr>\n",
       "  </thead>\n",
       "  <tbody>\n",
       "    <tr>\n",
       "      <th>28614</th>\n",
       "      <td>1</td>\n",
       "      <td>jew celebrate rosh hashasha something</td>\n",
       "      <td>37</td>\n",
       "    </tr>\n",
       "    <tr>\n",
       "      <th>28615</th>\n",
       "      <td>1</td>\n",
       "      <td>internal affair investigator disappointed cons...</td>\n",
       "      <td>70</td>\n",
       "    </tr>\n",
       "    <tr>\n",
       "      <th>28616</th>\n",
       "      <td>0</td>\n",
       "      <td>beautiful acceptance speech week came queer ko...</td>\n",
       "      <td>50</td>\n",
       "    </tr>\n",
       "    <tr>\n",
       "      <th>28617</th>\n",
       "      <td>1</td>\n",
       "      <td>mar probe destroyed orbiting spielberggates sp...</td>\n",
       "      <td>56</td>\n",
       "    </tr>\n",
       "    <tr>\n",
       "      <th>28618</th>\n",
       "      <td>1</td>\n",
       "      <td>dad clarifies food stop</td>\n",
       "      <td>23</td>\n",
       "    </tr>\n",
       "  </tbody>\n",
       "</table>\n",
       "</div>"
      ],
      "text/plain": [
       "       is_sarcastic                                           headline  \\\n",
       "28614             1              jew celebrate rosh hashasha something   \n",
       "28615             1  internal affair investigator disappointed cons...   \n",
       "28616             0  beautiful acceptance speech week came queer ko...   \n",
       "28617             1  mar probe destroyed orbiting spielberggates sp...   \n",
       "28618             1                            dad clarifies food stop   \n",
       "\n",
       "       SENTENCE_LENGTH  \n",
       "28614               37  \n",
       "28615               70  \n",
       "28616               50  \n",
       "28617               56  \n",
       "28618               23  "
      ]
     },
     "execution_count": 18,
     "metadata": {},
     "output_type": "execute_result"
    }
   ],
   "source": [
    "DATA.tail()"
   ]
  },
  {
   "cell_type": "markdown",
   "id": "50b61db0",
   "metadata": {},
   "source": [
    "# 4. Define parameters"
   ]
  },
  {
   "cell_type": "code",
   "execution_count": 19,
   "id": "5d5c402d",
   "metadata": {
    "execution": {
     "iopub.execute_input": "2022-10-09T06:01:28.834025Z",
     "iopub.status.busy": "2022-10-09T06:01:28.833623Z",
     "iopub.status.idle": "2022-10-09T06:01:28.840035Z",
     "shell.execute_reply": "2022-10-09T06:01:28.838462Z",
     "shell.execute_reply.started": "2022-10-09T06:01:28.833994Z"
    }
   },
   "outputs": [],
   "source": [
    "MAX_FEATURES = 10000\n",
    "MAX_LEN = 25\n",
    "EMBEDDING_SIZE = 200"
   ]
  },
  {
   "cell_type": "markdown",
   "id": "ee221e73",
   "metadata": {},
   "source": [
    "# 5. Get indices for words"
   ]
  },
  {
   "cell_type": "code",
   "execution_count": 20,
   "id": "49c2db03",
   "metadata": {
    "execution": {
     "iopub.execute_input": "2022-10-09T06:02:06.209822Z",
     "iopub.status.busy": "2022-10-09T06:02:06.208965Z",
     "iopub.status.idle": "2022-10-09T06:02:07.049061Z",
     "shell.execute_reply": "2022-10-09T06:02:07.047850Z",
     "shell.execute_reply.started": "2022-10-09T06:02:06.209779Z"
    }
   },
   "outputs": [],
   "source": [
    "from tensorflow.keras.preprocessing.text import Tokenizer\n",
    "\n",
    "TOKENIZER = Tokenizer()\n",
    "\n",
    "TOKENIZER.fit_on_texts(DATA['headline'])"
   ]
  },
  {
   "cell_type": "code",
   "execution_count": 21,
   "id": "f83391d7",
   "metadata": {
    "execution": {
     "iopub.execute_input": "2022-10-09T06:02:08.611757Z",
     "iopub.status.busy": "2022-10-09T06:02:08.610731Z",
     "iopub.status.idle": "2022-10-09T06:02:08.616211Z",
     "shell.execute_reply": "2022-10-09T06:02:08.614880Z",
     "shell.execute_reply.started": "2022-10-09T06:02:08.611711Z"
    }
   },
   "outputs": [],
   "source": [
    "INDEX_DICT = TOKENIZER.word_index"
   ]
  },
  {
   "cell_type": "markdown",
   "id": "471370d8",
   "metadata": {},
   "source": [
    "# 6. Create features and labels"
   ]
  },
  {
   "cell_type": "code",
   "execution_count": 22,
   "id": "5a9946ea",
   "metadata": {
    "execution": {
     "iopub.execute_input": "2022-10-09T06:02:11.477616Z",
     "iopub.status.busy": "2022-10-09T06:02:11.477224Z",
     "iopub.status.idle": "2022-10-09T06:02:11.948682Z",
     "shell.execute_reply": "2022-10-09T06:02:11.947478Z",
     "shell.execute_reply.started": "2022-10-09T06:02:11.477584Z"
    }
   },
   "outputs": [],
   "source": [
    "from tensorflow.keras.preprocessing.sequence import pad_sequences\n",
    "\n",
    "SEQUENCE = TOKENIZER.texts_to_sequences(DATA['headline'])\n",
    "\n",
    "PAD_SEQ = pad_sequences(sequences = SEQUENCE, maxlen = MAX_LEN)"
   ]
  },
  {
   "cell_type": "markdown",
   "id": "3ea3bfdf",
   "metadata": {
    "execution": {
     "iopub.execute_input": "2022-10-08T17:32:41.161761Z",
     "iopub.status.busy": "2022-10-08T17:32:41.161331Z",
     "iopub.status.idle": "2022-10-08T17:32:41.169405Z",
     "shell.execute_reply": "2022-10-08T17:32:41.167992Z",
     "shell.execute_reply.started": "2022-10-08T17:32:41.161729Z"
    }
   },
   "source": [
    "    * I AM SPLITTING THE DATA IN BELOW RATIO:\n",
    "    \n",
    "        * 60% OF DATA KEPT FOR TRAINING THE MODEL\n",
    "        * 20% OF THE DATA KEPT FOR VALIDATING THE MODEL\n",
    "        * 20% OF THE DATA FOR TESTING THE MODEL"
   ]
  },
  {
   "cell_type": "code",
   "execution_count": 26,
   "id": "9b54d1bd",
   "metadata": {
    "execution": {
     "iopub.execute_input": "2022-10-09T06:02:40.862178Z",
     "iopub.status.busy": "2022-10-09T06:02:40.861361Z",
     "iopub.status.idle": "2022-10-09T06:02:40.867861Z",
     "shell.execute_reply": "2022-10-09T06:02:40.866670Z",
     "shell.execute_reply.started": "2022-10-09T06:02:40.862128Z"
    }
   },
   "outputs": [],
   "source": [
    "FEATURES = DATA['headline']\n",
    "LABELS = DATA['is_sarcastic']"
   ]
  },
  {
   "cell_type": "code",
   "execution_count": 27,
   "id": "ace15052",
   "metadata": {
    "execution": {
     "iopub.execute_input": "2022-10-09T06:02:41.668330Z",
     "iopub.status.busy": "2022-10-09T06:02:41.667860Z",
     "iopub.status.idle": "2022-10-09T06:02:41.683547Z",
     "shell.execute_reply": "2022-10-09T06:02:41.682452Z",
     "shell.execute_reply.started": "2022-10-09T06:02:41.668290Z"
    }
   },
   "outputs": [],
   "source": [
    "X_TRAIN, X_T, Y_TRAIN, Y_T = train_test_split(PAD_SEQ, LABELS, test_size = 0.4, random_state = 100)\n",
    "\n",
    "X_VAL, X_TEST, Y_VAL, Y_TEST = train_test_split(X_T, Y_T, test_size = 0.5, random_state = 100)"
   ]
  },
  {
   "cell_type": "code",
   "execution_count": 28,
   "id": "847c74ee",
   "metadata": {
    "execution": {
     "iopub.execute_input": "2022-10-09T06:02:43.225060Z",
     "iopub.status.busy": "2022-10-09T06:02:43.224655Z",
     "iopub.status.idle": "2022-10-09T06:02:43.233392Z",
     "shell.execute_reply": "2022-10-09T06:02:43.232125Z",
     "shell.execute_reply.started": "2022-10-09T06:02:43.225029Z"
    }
   },
   "outputs": [
    {
     "name": "stdout",
     "output_type": "stream",
     "text": [
      "SHAPE OF X_TRAIN:  (17171, 25)\n",
      "\n",
      "SHAPE OF Y_TRAIN:  (17171,)\n",
      "\n",
      "SHAPE OF X_TEST:  (5724, 25)\n",
      "\n",
      "SHAPE OF Y_TEST:  (5724,)\n",
      "\n",
      "SHAPE OF X_VAL:  (5724, 25)\n",
      "\n",
      "SHAPE OF Y_VAL:  (5724,)\n"
     ]
    }
   ],
   "source": [
    "print('SHAPE OF X_TRAIN: ',X_TRAIN.shape)\n",
    "\n",
    "print('\\nSHAPE OF Y_TRAIN: ',Y_TRAIN.shape)\n",
    "\n",
    "print('\\nSHAPE OF X_TEST: ',X_TEST.shape)\n",
    "\n",
    "print('\\nSHAPE OF Y_TEST: ',Y_TEST.shape)\n",
    "\n",
    "print('\\nSHAPE OF X_VAL: ',X_VAL.shape)\n",
    "\n",
    "print('\\nSHAPE OF Y_VAL: ',Y_VAL.shape)"
   ]
  },
  {
   "cell_type": "markdown",
   "id": "2b4609a0",
   "metadata": {},
   "source": [
    "# 7. Get vocabulary size"
   ]
  },
  {
   "cell_type": "code",
   "execution_count": 29,
   "id": "db0433bf",
   "metadata": {
    "execution": {
     "iopub.execute_input": "2022-10-09T06:02:46.102615Z",
     "iopub.status.busy": "2022-10-09T06:02:46.102218Z",
     "iopub.status.idle": "2022-10-09T06:02:46.109461Z",
     "shell.execute_reply": "2022-10-09T06:02:46.108305Z",
     "shell.execute_reply.started": "2022-10-09T06:02:46.102583Z"
    }
   },
   "outputs": [
    {
     "data": {
      "text/plain": [
       "25083"
      ]
     },
     "execution_count": 29,
     "metadata": {},
     "output_type": "execute_result"
    }
   ],
   "source": [
    "SIZE_OF_VOCAB = len(INDEX_DICT) + 1\n",
    "\n",
    "SIZE_OF_VOCAB"
   ]
  },
  {
   "cell_type": "code",
   "execution_count": 30,
   "id": "bee30871",
   "metadata": {
    "execution": {
     "iopub.execute_input": "2022-10-09T06:02:47.664400Z",
     "iopub.status.busy": "2022-10-09T06:02:47.663969Z",
     "iopub.status.idle": "2022-10-09T06:02:47.702374Z",
     "shell.execute_reply": "2022-10-09T06:02:47.701081Z",
     "shell.execute_reply.started": "2022-10-09T06:02:47.664365Z"
    }
   },
   "outputs": [
    {
     "data": {
      "text/plain": [
       "{'trump': 1,\n",
       " 'new': 2,\n",
       " 'man': 3,\n",
       " 'woman': 4,\n",
       " 'say': 5,\n",
       " 'report': 6,\n",
       " 'get': 7,\n",
       " 'u': 8,\n",
       " 'day': 9,\n",
       " 'one': 10,\n",
       " 'year': 11,\n",
       " 'time': 12,\n",
       " 'make': 13,\n",
       " 'american': 14,\n",
       " 'area': 15,\n",
       " 'donald': 16,\n",
       " 'like': 17,\n",
       " 'life': 18,\n",
       " 'first': 19,\n",
       " 'people': 20,\n",
       " 'nation': 21,\n",
       " 'way': 22,\n",
       " 'house': 23,\n",
       " 'world': 24,\n",
       " 'thing': 25,\n",
       " 'show': 26,\n",
       " 'white': 27,\n",
       " 'still': 28,\n",
       " 'find': 29,\n",
       " 'obama': 30,\n",
       " 'back': 31,\n",
       " 'take': 32,\n",
       " 'family': 33,\n",
       " 'clinton': 34,\n",
       " 'child': 35,\n",
       " 'want': 36,\n",
       " 'state': 37,\n",
       " 'could': 38,\n",
       " 'know': 39,\n",
       " 'school': 40,\n",
       " 'right': 41,\n",
       " 'call': 42,\n",
       " 'mom': 43,\n",
       " 'study': 44,\n",
       " 'need': 45,\n",
       " 'black': 46,\n",
       " 'gop': 47,\n",
       " 'would': 48,\n",
       " 'kid': 49,\n",
       " 'go': 50,\n",
       " 'bill': 51,\n",
       " 'president': 52,\n",
       " 'friend': 53,\n",
       " 'look': 54,\n",
       " 'yearold': 55,\n",
       " 'love': 56,\n",
       " 'plan': 57,\n",
       " 'watch': 58,\n",
       " 'really': 59,\n",
       " 'death': 60,\n",
       " 'home': 61,\n",
       " 'parent': 62,\n",
       " 'america': 63,\n",
       " 'good': 64,\n",
       " 'police': 65,\n",
       " 'cant': 66,\n",
       " 'best': 67,\n",
       " 'video': 68,\n",
       " 'star': 69,\n",
       " 'going': 70,\n",
       " 'work': 71,\n",
       " 'war': 72,\n",
       " 'student': 73,\n",
       " 'last': 74,\n",
       " 'campaign': 75,\n",
       " 'every': 76,\n",
       " 'big': 77,\n",
       " 'change': 78,\n",
       " 'think': 79,\n",
       " 'million': 80,\n",
       " 'health': 81,\n",
       " 'may': 82,\n",
       " 'party': 83,\n",
       " 'give': 84,\n",
       " 'getting': 85,\n",
       " 'hillary': 86,\n",
       " 'week': 87,\n",
       " 'guy': 88,\n",
       " 'republican': 89,\n",
       " 'game': 90,\n",
       " 'stop': 91,\n",
       " 'tell': 92,\n",
       " 'see': 93,\n",
       " 'girl': 94,\n",
       " 'little': 95,\n",
       " 'job': 96,\n",
       " 'dog': 97,\n",
       " 'dead': 98,\n",
       " 'john': 99,\n",
       " 'dad': 100,\n",
       " 'doesnt': 101,\n",
       " 'baby': 102,\n",
       " 'attack': 103,\n",
       " 'never': 104,\n",
       " 'court': 105,\n",
       " 'photo': 106,\n",
       " 'come': 107,\n",
       " 'dont': 108,\n",
       " 'news': 109,\n",
       " 'help': 110,\n",
       " 'fan': 111,\n",
       " 'election': 112,\n",
       " 'gun': 113,\n",
       " 'teen': 114,\n",
       " 'he': 115,\n",
       " 'couple': 116,\n",
       " 'talk': 117,\n",
       " 'let': 118,\n",
       " 'local': 119,\n",
       " 'next': 120,\n",
       " 'even': 121,\n",
       " 'gay': 122,\n",
       " 'college': 123,\n",
       " 'bush': 124,\n",
       " 'around': 125,\n",
       " 'here': 126,\n",
       " 'city': 127,\n",
       " 'win': 128,\n",
       " 'movie': 129,\n",
       " 'face': 130,\n",
       " 'real': 131,\n",
       " 'office': 132,\n",
       " 'keep': 133,\n",
       " 'debate': 134,\n",
       " 'story': 135,\n",
       " 'another': 136,\n",
       " 'name': 137,\n",
       " 'got': 138,\n",
       " 'release': 139,\n",
       " 'announces': 140,\n",
       " 'finally': 141,\n",
       " 'open': 142,\n",
       " 'made': 143,\n",
       " 'candidate': 144,\n",
       " 'end': 145,\n",
       " 'voter': 146,\n",
       " 'son': 147,\n",
       " 'employee': 148,\n",
       " 'boy': 149,\n",
       " 'live': 150,\n",
       " 'law': 151,\n",
       " 'book': 152,\n",
       " 'actually': 153,\n",
       " 'human': 154,\n",
       " 'high': 155,\n",
       " 'god': 156,\n",
       " 'top': 157,\n",
       " 'night': 158,\n",
       " 'company': 159,\n",
       " 'care': 160,\n",
       " 'month': 161,\n",
       " 'reveals': 162,\n",
       " 'mother': 163,\n",
       " 'much': 164,\n",
       " 'shooting': 165,\n",
       " 'put': 166,\n",
       " 'season': 167,\n",
       " 'car': 168,\n",
       " 'sex': 169,\n",
       " 'hour': 170,\n",
       " 'business': 171,\n",
       " 'senate': 172,\n",
       " 'congress': 173,\n",
       " 'national': 174,\n",
       " 'fire': 175,\n",
       " 'north': 176,\n",
       " 'money': 177,\n",
       " 'food': 178,\n",
       " 'ever': 179,\n",
       " 'minute': 180,\n",
       " 'run': 181,\n",
       " 'men': 182,\n",
       " 'trying': 183,\n",
       " 'better': 184,\n",
       " 'bad': 185,\n",
       " 'claim': 186,\n",
       " 'wont': 187,\n",
       " 'two': 188,\n",
       " 'without': 189,\n",
       " 'film': 190,\n",
       " 'fight': 191,\n",
       " 'climate': 192,\n",
       " 'deal': 193,\n",
       " 'body': 194,\n",
       " 'everyone': 195,\n",
       " 'york': 196,\n",
       " 'vote': 197,\n",
       " 'sexual': 198,\n",
       " 'idea': 199,\n",
       " 'country': 200,\n",
       " 'away': 201,\n",
       " 'enough': 202,\n",
       " 'facebook': 203,\n",
       " 'feel': 204,\n",
       " 'email': 205,\n",
       " 'line': 206,\n",
       " 'second': 207,\n",
       " 'official': 208,\n",
       " 'part': 209,\n",
       " 'paul': 210,\n",
       " 'medium': 211,\n",
       " 'old': 212,\n",
       " 'teacher': 213,\n",
       " 'kill': 214,\n",
       " 'case': 215,\n",
       " 'pope': 216,\n",
       " 'group': 217,\n",
       " 'poll': 218,\n",
       " 'reason': 219,\n",
       " 'secret': 220,\n",
       " 'history': 221,\n",
       " 'government': 222,\n",
       " 'sander': 223,\n",
       " 'making': 224,\n",
       " 'father': 225,\n",
       " 'supreme': 226,\n",
       " 'leader': 227,\n",
       " 'entire': 228,\n",
       " 'self': 229,\n",
       " 'word': 230,\n",
       " 'introduces': 231,\n",
       " 'power': 232,\n",
       " 'tv': 233,\n",
       " 'support': 234,\n",
       " 'pretty': 235,\n",
       " 'cop': 236,\n",
       " 'single': 237,\n",
       " 'already': 238,\n",
       " 'scientist': 239,\n",
       " 'place': 240,\n",
       " 'wedding': 241,\n",
       " 'break': 242,\n",
       " 'great': 243,\n",
       " 'hit': 244,\n",
       " 'speech': 245,\n",
       " 'dream': 246,\n",
       " 'meet': 247,\n",
       " 'question': 248,\n",
       " 'turn': 249,\n",
       " 'found': 250,\n",
       " 'tax': 251,\n",
       " 'ban': 252,\n",
       " 'former': 253,\n",
       " 'ceo': 254,\n",
       " 'set': 255,\n",
       " 'presidential': 256,\n",
       " 'social': 257,\n",
       " 'democrat': 258,\n",
       " 'unveils': 259,\n",
       " 'public': 260,\n",
       " 'didnt': 261,\n",
       " 'coming': 262,\n",
       " 'sign': 263,\n",
       " 'ad': 264,\n",
       " 'head': 265,\n",
       " 'problem': 266,\n",
       " 'use': 267,\n",
       " 'pay': 268,\n",
       " 'future': 269,\n",
       " 'room': 270,\n",
       " 'behind': 271,\n",
       " 'order': 272,\n",
       " 'hand': 273,\n",
       " 'return': 274,\n",
       " 'race': 275,\n",
       " 'daughter': 276,\n",
       " 'team': 277,\n",
       " 'save': 278,\n",
       " 'move': 279,\n",
       " 'something': 280,\n",
       " 'tweet': 281,\n",
       " 'free': 282,\n",
       " 'long': 283,\n",
       " 'security': 284,\n",
       " 'th': 285,\n",
       " 'james': 286,\n",
       " 'christmas': 287,\n",
       " 'start': 288,\n",
       " 'hope': 289,\n",
       " 'fucking': 290,\n",
       " 'wife': 291,\n",
       " 'issue': 292,\n",
       " 'must': 293,\n",
       " 'morning': 294,\n",
       " 'marriage': 295,\n",
       " 'judge': 296,\n",
       " 'asks': 297,\n",
       " 'owner': 298,\n",
       " 'might': 299,\n",
       " 'senator': 300,\n",
       " 'today': 301,\n",
       " 'oscar': 302,\n",
       " 'forced': 303,\n",
       " 'used': 304,\n",
       " 'admits': 305,\n",
       " 'thought': 306,\n",
       " 'michael': 307,\n",
       " 'violence': 308,\n",
       " 'killed': 309,\n",
       " 'record': 310,\n",
       " 'street': 311,\n",
       " 'service': 312,\n",
       " 'im': 313,\n",
       " 'demand': 314,\n",
       " 'department': 315,\n",
       " 'lead': 316,\n",
       " 'rule': 317,\n",
       " 'sure': 318,\n",
       " 'water': 319,\n",
       " 'drug': 320,\n",
       " 'california': 321,\n",
       " 'point': 322,\n",
       " 'protest': 323,\n",
       " 'control': 324,\n",
       " 'looking': 325,\n",
       " 'many': 326,\n",
       " 'middle': 327,\n",
       " 'offer': 328,\n",
       " 'person': 329,\n",
       " 'super': 330,\n",
       " 'political': 331,\n",
       " 'wish': 332,\n",
       " 'bernie': 333,\n",
       " 'inside': 334,\n",
       " 'gift': 335,\n",
       " 'ryan': 336,\n",
       " 'art': 337,\n",
       " 'shot': 338,\n",
       " 'heart': 339,\n",
       " 'always': 340,\n",
       " 'holiday': 341,\n",
       " 'twitter': 342,\n",
       " 'wall': 343,\n",
       " 'town': 344,\n",
       " 'worker': 345,\n",
       " 'justice': 346,\n",
       " 'running': 347,\n",
       " 'summer': 348,\n",
       " 'award': 349,\n",
       " 'dy': 350,\n",
       " 'doctor': 351,\n",
       " 'warns': 352,\n",
       " 'visit': 353,\n",
       " 'fall': 354,\n",
       " 'director': 355,\n",
       " 'try': 356,\n",
       " 'victim': 357,\n",
       " 'eye': 358,\n",
       " 'list': 359,\n",
       " 'everything': 360,\n",
       " 'youre': 361,\n",
       " 'meeting': 362,\n",
       " 'perfect': 363,\n",
       " 'rock': 364,\n",
       " 'community': 365,\n",
       " 'full': 366,\n",
       " 'letter': 367,\n",
       " 'muslim': 368,\n",
       " 'tip': 369,\n",
       " 'music': 370,\n",
       " 'cat': 371,\n",
       " 'hot': 372,\n",
       " 'restaurant': 373,\n",
       " 'taking': 374,\n",
       " 'living': 375,\n",
       " 'past': 376,\n",
       " 'thousand': 377,\n",
       " 'female': 378,\n",
       " 'shit': 379,\n",
       " 'red': 380,\n",
       " 'user': 381,\n",
       " 'buy': 382,\n",
       " 'russia': 383,\n",
       " 'mark': 384,\n",
       " 'missing': 385,\n",
       " 'korea': 386,\n",
       " 'secretary': 387,\n",
       " 'mike': 388,\n",
       " 'phone': 389,\n",
       " 'someone': 390,\n",
       " 'play': 391,\n",
       " 'age': 392,\n",
       " 'george': 393,\n",
       " 'moment': 394,\n",
       " 'wrong': 395,\n",
       " 'iran': 396,\n",
       " 'cancer': 397,\n",
       " 'bar': 398,\n",
       " 'system': 399,\n",
       " 'ready': 400,\n",
       " 'force': 401,\n",
       " 'king': 402,\n",
       " 'obamacare': 403,\n",
       " 'number': 404,\n",
       " 'earth': 405,\n",
       " 'working': 406,\n",
       " 'refugee': 407,\n",
       " 'probably': 408,\n",
       " 'member': 409,\n",
       " 'together': 410,\n",
       " 'prison': 411,\n",
       " 'left': 412,\n",
       " 'relationship': 413,\n",
       " 'le': 414,\n",
       " 'young': 415,\n",
       " 'administration': 416,\n",
       " 'song': 417,\n",
       " 'believe': 418,\n",
       " 'lot': 419,\n",
       " 'texas': 420,\n",
       " 'hate': 421,\n",
       " 'cover': 422,\n",
       " 'cruz': 423,\n",
       " 'begin': 424,\n",
       " 'sleep': 425,\n",
       " 'kind': 426,\n",
       " 'cut': 427,\n",
       " 'post': 428,\n",
       " 'crisis': 429,\n",
       " 'washington': 430,\n",
       " 'giving': 431,\n",
       " 'mean': 432,\n",
       " 'share': 433,\n",
       " 'rise': 434,\n",
       " 'lost': 435,\n",
       " 'hell': 436,\n",
       " 'add': 437,\n",
       " 'policy': 438,\n",
       " 'girlfriend': 439,\n",
       " 'kim': 440,\n",
       " 'customer': 441,\n",
       " 'breaking': 442,\n",
       " 'francis': 443,\n",
       " 'ice': 444,\n",
       " 'eating': 445,\n",
       " 'nothing': 446,\n",
       " 'leaf': 447,\n",
       " 'billion': 448,\n",
       " 'class': 449,\n",
       " 'read': 450,\n",
       " 'isi': 451,\n",
       " 'yet': 452,\n",
       " 'birthday': 453,\n",
       " 'biden': 454,\n",
       " 'shes': 455,\n",
       " 'personal': 456,\n",
       " 'fbi': 457,\n",
       " 'assault': 458,\n",
       " 'immigrant': 459,\n",
       " 'watching': 460,\n",
       " 'throw': 461,\n",
       " 'expert': 462,\n",
       " 'chief': 463,\n",
       " 'artist': 464,\n",
       " 'education': 465,\n",
       " 'trip': 466,\n",
       " 'leave': 467,\n",
       " 'congressman': 468,\n",
       " 'china': 469,\n",
       " 'well': 470,\n",
       " 'south': 471,\n",
       " 'ted': 472,\n",
       " 'air': 473,\n",
       " 'russian': 474,\n",
       " 'internet': 475,\n",
       " 'light': 476,\n",
       " 'guide': 477,\n",
       " 'online': 478,\n",
       " 'lesson': 479,\n",
       " 'attempt': 480,\n",
       " 'romney': 481,\n",
       " 'talking': 482,\n",
       " 'hollywood': 483,\n",
       " 'fear': 484,\n",
       " 'interview': 485,\n",
       " 'fox': 486,\n",
       " 'box': 487,\n",
       " 'step': 488,\n",
       " 'obamas': 489,\n",
       " 'military': 490,\n",
       " 'outside': 491,\n",
       " 'using': 492,\n",
       " 'chris': 493,\n",
       " 'three': 494,\n",
       " 'urge': 495,\n",
       " 'democratic': 496,\n",
       " 'small': 497,\n",
       " 'march': 498,\n",
       " 'percent': 499,\n",
       " 'guest': 500,\n",
       " 'federal': 501,\n",
       " 'date': 502,\n",
       " 'union': 503,\n",
       " 'pick': 504,\n",
       " 'voice': 505,\n",
       " 'florida': 506,\n",
       " 'player': 507,\n",
       " 'response': 508,\n",
       " 'crime': 509,\n",
       " 'host': 510,\n",
       " 'following': 511,\n",
       " 'feeling': 512,\n",
       " 'officer': 513,\n",
       " 'special': 514,\n",
       " 'experience': 515,\n",
       " 'latest': 516,\n",
       " 'majority': 517,\n",
       " 'conversation': 518,\n",
       " 'whats': 519,\n",
       " 'crash': 520,\n",
       " 'suspect': 521,\n",
       " 'investigation': 522,\n",
       " 'happy': 523,\n",
       " 'fun': 524,\n",
       " 'character': 525,\n",
       " 'travel': 526,\n",
       " 'sale': 527,\n",
       " 'beautiful': 528,\n",
       " 'since': 529,\n",
       " 'excited': 530,\n",
       " 'honor': 531,\n",
       " 'launch': 532,\n",
       " 'program': 533,\n",
       " 'message': 534,\n",
       " 'huge': 535,\n",
       " 'vow': 536,\n",
       " 'series': 537,\n",
       " 'sound': 538,\n",
       " 'store': 539,\n",
       " 'threat': 540,\n",
       " 'killing': 541,\n",
       " 'different': 542,\n",
       " 'check': 543,\n",
       " 'card': 544,\n",
       " 'hard': 545,\n",
       " 'mueller': 546,\n",
       " 'matter': 547,\n",
       " 'nuclear': 548,\n",
       " 'surprise': 549,\n",
       " 'straight': 550,\n",
       " 'test': 551,\n",
       " 'key': 552,\n",
       " 'decision': 553,\n",
       " 'picture': 554,\n",
       " 'spends': 555,\n",
       " 'told': 556,\n",
       " 'stephen': 557,\n",
       " 'park': 558,\n",
       " 'scott': 559,\n",
       " 'ask': 560,\n",
       " 'favorite': 561,\n",
       " 'hold': 562,\n",
       " 'anything': 563,\n",
       " 'murder': 564,\n",
       " 'executive': 565,\n",
       " 'wearing': 566,\n",
       " 'isnt': 567,\n",
       " 'raise': 568,\n",
       " 'apple': 569,\n",
       " 'weekend': 570,\n",
       " 'mass': 571,\n",
       " 'stand': 572,\n",
       " 'waiting': 573,\n",
       " 'worried': 574,\n",
       " 'david': 575,\n",
       " 'robert': 576,\n",
       " 'whole': 577,\n",
       " 'prince': 578,\n",
       " 'fuck': 579,\n",
       " 'recall': 580,\n",
       " 'penny': 581,\n",
       " 'center': 582,\n",
       " 'trailer': 583,\n",
       " 'jimmy': 584,\n",
       " 'promise': 585,\n",
       " 'celebrates': 586,\n",
       " 'front': 587,\n",
       " 'st': 588,\n",
       " 'taylor': 589,\n",
       " 'hair': 590,\n",
       " 'immigration': 591,\n",
       " 'supporter': 592,\n",
       " 'onion': 593,\n",
       " 'drunk': 594,\n",
       " 'driver': 595,\n",
       " 'activist': 596,\n",
       " 'thinking': 597,\n",
       " 'politics': 598,\n",
       " 'abuse': 599,\n",
       " 'brother': 600,\n",
       " 'celebrity': 601,\n",
       " 'push': 602,\n",
       " 'abortion': 603,\n",
       " 'syrian': 604,\n",
       " 'figure': 605,\n",
       " 'chinese': 606,\n",
       " 'risk': 607,\n",
       " 'struggling': 608,\n",
       " 'stage': 609,\n",
       " 'career': 610,\n",
       " 'die': 611,\n",
       " 'sport': 612,\n",
       " 'amazon': 613,\n",
       " 'completely': 614,\n",
       " 'animal': 615,\n",
       " 'united': 616,\n",
       " 'reporter': 617,\n",
       " 'apartment': 618,\n",
       " 'tom': 619,\n",
       " 'bring': 620,\n",
       " 'massive': 621,\n",
       " 'hero': 622,\n",
       " 'birth': 623,\n",
       " 'hurricane': 624,\n",
       " 'accused': 625,\n",
       " 'become': 626,\n",
       " 'pull': 627,\n",
       " 'least': 628,\n",
       " 'starting': 629,\n",
       " 'act': 630,\n",
       " 'actor': 631,\n",
       " 'huffpost': 632,\n",
       " 'un': 633,\n",
       " 'university': 634,\n",
       " 'role': 635,\n",
       " 'early': 636,\n",
       " 'road': 637,\n",
       " 'syria': 638,\n",
       " 'lawyer': 639,\n",
       " 'discover': 640,\n",
       " 'theyre': 641,\n",
       " 'there': 642,\n",
       " 'final': 643,\n",
       " 'plane': 644,\n",
       " 'reality': 645,\n",
       " 'sick': 646,\n",
       " 'west': 647,\n",
       " 'reform': 648,\n",
       " 'joe': 649,\n",
       " 'jr': 650,\n",
       " 'clearly': 651,\n",
       " 'industry': 652,\n",
       " 'fashion': 653,\n",
       " 'third': 654,\n",
       " 'totally': 655,\n",
       " 'press': 656,\n",
       " 'mind': 657,\n",
       " 'protester': 658,\n",
       " 'band': 659,\n",
       " 'iraq': 660,\n",
       " 'bank': 661,\n",
       " 'lady': 662,\n",
       " 'table': 663,\n",
       " 'address': 664,\n",
       " 'wait': 665,\n",
       " 'door': 666,\n",
       " 'whether': 667,\n",
       " 'dance': 668,\n",
       " 'queer': 669,\n",
       " 'church': 670,\n",
       " 'dating': 671,\n",
       " 'adorable': 672,\n",
       " 'learned': 673,\n",
       " 'walking': 674,\n",
       " 'friday': 675,\n",
       " 'rally': 676,\n",
       " 'hall': 677,\n",
       " 'true': 678,\n",
       " 'called': 679,\n",
       " 'late': 680,\n",
       " 'governor': 681,\n",
       " 'commercial': 682,\n",
       " 'powerful': 683,\n",
       " 'chance': 684,\n",
       " 'across': 685,\n",
       " 'audience': 686,\n",
       " 'dinner': 687,\n",
       " 'miss': 688,\n",
       " 'moving': 689,\n",
       " 'journalist': 690,\n",
       " 'hoping': 691,\n",
       " 'walk': 692,\n",
       " 'announce': 693,\n",
       " 'weird': 694,\n",
       " 'bus': 695,\n",
       " 'strike': 696,\n",
       " 'space': 697,\n",
       " 'chicago': 698,\n",
       " 'stay': 699,\n",
       " 'lose': 700,\n",
       " 'shop': 701,\n",
       " 'queen': 702,\n",
       " 'grandma': 703,\n",
       " 'spot': 704,\n",
       " 'almost': 705,\n",
       " 'seen': 706,\n",
       " 'saudi': 707,\n",
       " 'anyone': 708,\n",
       " 'resident': 709,\n",
       " 'close': 710,\n",
       " 'finding': 711,\n",
       " 'tour': 712,\n",
       " 'husband': 713,\n",
       " 'worst': 714,\n",
       " 'coffee': 715,\n",
       " 'longer': 716,\n",
       " 'bear': 717,\n",
       " 'glass': 718,\n",
       " 'planet': 719,\n",
       " 'review': 720,\n",
       " 'football': 721,\n",
       " 'drop': 722,\n",
       " 'feature': 723,\n",
       " 'mental': 724,\n",
       " 'global': 725,\n",
       " 'comment': 726,\n",
       " 'cost': 727,\n",
       " 'agent': 728,\n",
       " 'google': 729,\n",
       " 'suicide': 730,\n",
       " 'playing': 731,\n",
       " 'iowa': 732,\n",
       " 'slam': 733,\n",
       " 'lie': 734,\n",
       " 'side': 735,\n",
       " 'website': 736,\n",
       " 'boyfriend': 737,\n",
       " 'hotel': 738,\n",
       " 'anniversary': 739,\n",
       " 'bag': 740,\n",
       " 'cause': 741,\n",
       " 'coworker': 742,\n",
       " 'jenner': 743,\n",
       " 'evidence': 744,\n",
       " 'piece': 745,\n",
       " 'swift': 746,\n",
       " 'result': 747,\n",
       " 'weight': 748,\n",
       " 'general': 749,\n",
       " 'christian': 750,\n",
       " 'increase': 751,\n",
       " 'apologizes': 752,\n",
       " 'survivor': 753,\n",
       " 'important': 754,\n",
       " 'magazine': 755,\n",
       " 'worth': 756,\n",
       " 'v': 757,\n",
       " 'oil': 758,\n",
       " 'event': 759,\n",
       " 'vacation': 760,\n",
       " 'bathroom': 761,\n",
       " 'fighting': 762,\n",
       " 'trans': 763,\n",
       " 'carolina': 764,\n",
       " 'battle': 765,\n",
       " 'train': 766,\n",
       " 'success': 767,\n",
       " 'steve': 768,\n",
       " 'racist': 769,\n",
       " 'blame': 770,\n",
       " 'update': 771,\n",
       " 'track': 772,\n",
       " 'board': 773,\n",
       " 'allegation': 774,\n",
       " 'remember': 775,\n",
       " 'toddler': 776,\n",
       " 'conservative': 777,\n",
       " 'la': 778,\n",
       " 'chicken': 779,\n",
       " 'transgender': 780,\n",
       " 'reportedly': 781,\n",
       " 'peace': 782,\n",
       " 'nfl': 783,\n",
       " 'halloween': 784,\n",
       " 'meal': 785,\n",
       " 'paris': 786,\n",
       " 'possible': 787,\n",
       " 'hear': 788,\n",
       " 'flight': 789,\n",
       " 'biggest': 790,\n",
       " 'site': 791,\n",
       " 'poor': 792,\n",
       " 'effort': 793,\n",
       " 'harry': 794,\n",
       " 'rubio': 795,\n",
       " 'reveal': 796,\n",
       " 'kardashian': 797,\n",
       " 'advice': 798,\n",
       " 'truth': 799,\n",
       " 'us': 800,\n",
       " 'giant': 801,\n",
       " 'cool': 802,\n",
       " 'rest': 803,\n",
       " 'given': 804,\n",
       " 'brings': 805,\n",
       " 'roll': 806,\n",
       " 'major': 807,\n",
       " 'dying': 808,\n",
       " 'airline': 809,\n",
       " 'eat': 810,\n",
       " 'passenger': 811,\n",
       " 'israel': 812,\n",
       " 'data': 813,\n",
       " 'charge': 814,\n",
       " 'documentary': 815,\n",
       " 'scene': 816,\n",
       " 'tree': 817,\n",
       " 'accidentally': 818,\n",
       " 'bowl': 819,\n",
       " 'beauty': 820,\n",
       " 'challenge': 821,\n",
       " 'episode': 822,\n",
       " 'clean': 823,\n",
       " 'planned': 824,\n",
       " 'michelle': 825,\n",
       " 'far': 826,\n",
       " 'rate': 827,\n",
       " 'ferguson': 828,\n",
       " 'hospital': 829,\n",
       " 'scandal': 830,\n",
       " 'male': 831,\n",
       " 'stranger': 832,\n",
       " 'avoid': 833,\n",
       " 'elizabeth': 834,\n",
       " 'search': 835,\n",
       " 'kelly': 836,\n",
       " 'airport': 837,\n",
       " 'quietly': 838,\n",
       " 'economy': 839,\n",
       " 'album': 840,\n",
       " 'reminds': 841,\n",
       " 'machine': 842,\n",
       " 'nyc': 843,\n",
       " 'cnn': 844,\n",
       " 'learn': 845,\n",
       " 'bos': 846,\n",
       " 'performance': 847,\n",
       " 'proud': 848,\n",
       " 'apparently': 849,\n",
       " 'building': 850,\n",
       " 'dozen': 851,\n",
       " 'dress': 852,\n",
       " 'reach': 853,\n",
       " 'action': 854,\n",
       " 'blue': 855,\n",
       " 'patient': 856,\n",
       " 'green': 857,\n",
       " 'asking': 858,\n",
       " 'pregnant': 859,\n",
       " 'veteran': 860,\n",
       " 'suggests': 861,\n",
       " 'homeless': 862,\n",
       " 'beat': 863,\n",
       " 'citizen': 864,\n",
       " 'died': 865,\n",
       " 'celebrate': 866,\n",
       " 'youth': 867,\n",
       " 'easy': 868,\n",
       " 'hearing': 869,\n",
       " 'window': 870,\n",
       " 'prevent': 871,\n",
       " 'blood': 872,\n",
       " 'moore': 873,\n",
       " 'staff': 874,\n",
       " 'healthy': 875,\n",
       " 'emotional': 876,\n",
       " 'writer': 877,\n",
       " 'driving': 878,\n",
       " 'mayor': 879,\n",
       " 'joke': 880,\n",
       " 'wear': 881,\n",
       " 'religious': 882,\n",
       " 'five': 883,\n",
       " 'bird': 884,\n",
       " 'short': 885,\n",
       " 'amazing': 886,\n",
       " 'older': 887,\n",
       " 'leading': 888,\n",
       " 'color': 889,\n",
       " 'pass': 890,\n",
       " 'colbert': 891,\n",
       " 'crowd': 892,\n",
       " 'border': 893,\n",
       " 'said': 894,\n",
       " 'happens': 895,\n",
       " 'nice': 896,\n",
       " 'teach': 897,\n",
       " 'netflix': 898,\n",
       " 'pound': 899,\n",
       " 'ben': 900,\n",
       " 'view': 901,\n",
       " 'dark': 902,\n",
       " 'jones': 903,\n",
       " 'williams': 904,\n",
       " 'telling': 905,\n",
       " 'thats': 906,\n",
       " 'fund': 907,\n",
       " 'cup': 908,\n",
       " 'market': 909,\n",
       " 'voting': 910,\n",
       " 'done': 911,\n",
       " 'foot': 912,\n",
       " 'pizza': 913,\n",
       " 'happened': 914,\n",
       " 'throne': 915,\n",
       " 'private': 916,\n",
       " 'epa': 917,\n",
       " 'shoot': 918,\n",
       " 'style': 919,\n",
       " 'primary': 920,\n",
       " 'al': 921,\n",
       " 'opening': 922,\n",
       " 'perfectly': 923,\n",
       " 'receives': 924,\n",
       " 'desperate': 925,\n",
       " 'culture': 926,\n",
       " 'link': 927,\n",
       " 'sean': 928,\n",
       " 'martin': 929,\n",
       " 'lawsuit': 930,\n",
       " 'ring': 931,\n",
       " 'neighbor': 932,\n",
       " 'loses': 933,\n",
       " 'soon': 934,\n",
       " 'drive': 935,\n",
       " 'jeff': 936,\n",
       " 'simple': 937,\n",
       " 'spring': 938,\n",
       " 'likely': 939,\n",
       " 'hilarious': 940,\n",
       " 'holding': 941,\n",
       " 'energy': 942,\n",
       " 'aid': 943,\n",
       " 'join': 944,\n",
       " 'went': 945,\n",
       " 'toward': 946,\n",
       " 'manager': 947,\n",
       " 'fails': 948,\n",
       " 'horse': 949,\n",
       " 'sea': 950,\n",
       " 'explains': 951,\n",
       " 'realizes': 952,\n",
       " 'hasnt': 953,\n",
       " 'leaving': 954,\n",
       " 'royal': 955,\n",
       " 'learning': 956,\n",
       " 'thanksgiving': 957,\n",
       " 'hundred': 958,\n",
       " 'coworkers': 959,\n",
       " 'ahead': 960,\n",
       " 'target': 961,\n",
       " 'image': 962,\n",
       " 'latino': 963,\n",
       " 'price': 964,\n",
       " 'drink': 965,\n",
       " 'weapon': 966,\n",
       " 'defense': 967,\n",
       " 'nra': 968,\n",
       " 'skin': 969,\n",
       " 'gave': 970,\n",
       " 'spend': 971,\n",
       " 'level': 972,\n",
       " 'deadly': 973,\n",
       " 'museum': 974,\n",
       " 'turkey': 975,\n",
       " 'kerry': 976,\n",
       " 'worse': 977,\n",
       " 'ago': 978,\n",
       " 'despite': 979,\n",
       " 'nasa': 980,\n",
       " 'brown': 981,\n",
       " 'spending': 982,\n",
       " 'model': 983,\n",
       " 'paper': 984,\n",
       " 'marijuana': 985,\n",
       " 'loss': 986,\n",
       " 'lgbt': 987,\n",
       " 'repeal': 988,\n",
       " 'camp': 989,\n",
       " 'harassment': 990,\n",
       " 'responds': 991,\n",
       " 'nomination': 992,\n",
       " 'debut': 993,\n",
       " 'arrested': 994,\n",
       " 'wondering': 995,\n",
       " 'sad': 996,\n",
       " 'product': 997,\n",
       " 'legal': 998,\n",
       " 'costume': 999,\n",
       " 'amid': 1000,\n",
       " ...}"
      ]
     },
     "execution_count": 30,
     "metadata": {},
     "output_type": "execute_result"
    }
   ],
   "source": [
    "TOKENIZER.word_index"
   ]
  },
  {
   "cell_type": "markdown",
   "id": "b0beb27d",
   "metadata": {},
   "source": [
    "# 8. Create a weight matrix using GloVe embeddings"
   ]
  },
  {
   "cell_type": "code",
   "execution_count": 31,
   "id": "e601bbf3",
   "metadata": {
    "execution": {
     "iopub.execute_input": "2022-10-09T06:02:51.866524Z",
     "iopub.status.busy": "2022-10-09T06:02:51.866084Z",
     "iopub.status.idle": "2022-10-09T06:02:51.874477Z",
     "shell.execute_reply": "2022-10-09T06:02:51.873389Z",
     "shell.execute_reply.started": "2022-10-09T06:02:51.866487Z"
    }
   },
   "outputs": [
    {
     "data": {
      "text/plain": [
       "25083"
      ]
     },
     "execution_count": 31,
     "metadata": {},
     "output_type": "execute_result"
    }
   ],
   "source": [
    "NUM_OF_WORDS = len(INDEX_DICT) + 1\n",
    "\n",
    "NUM_OF_WORDS"
   ]
  },
  {
   "cell_type": "code",
   "execution_count": 32,
   "id": "781bbcd6",
   "metadata": {
    "execution": {
     "iopub.execute_input": "2022-10-09T06:02:53.663362Z",
     "iopub.status.busy": "2022-10-09T06:02:53.662544Z",
     "iopub.status.idle": "2022-10-09T06:02:58.532691Z",
     "shell.execute_reply": "2022-10-09T06:02:58.531454Z",
     "shell.execute_reply.started": "2022-10-09T06:02:53.663322Z"
    }
   },
   "outputs": [],
   "source": [
    "GLOVE_FILE = '../input/glove-6b/glove.6B.100d.txt'\n",
    "\n",
    "EMBEDDINGS_INDEX = {}\n",
    "\n",
    "FILE = open(GLOVE_FILE)\n",
    "\n",
    "for i in FILE:\n",
    "    VALUES = i.split()\n",
    "    WORDS = VALUES[0]\n",
    "    CO_EFFS = np.asarray(VALUES[1], dtype = 'float32')\n",
    "    EMBEDDINGS_INDEX[WORDS] = CO_EFFS\n",
    "    \n",
    "FILE.close()"
   ]
  },
  {
   "cell_type": "code",
   "execution_count": 33,
   "id": "d8a0fafe",
   "metadata": {
    "execution": {
     "iopub.execute_input": "2022-10-09T06:03:07.325068Z",
     "iopub.status.busy": "2022-10-09T06:03:07.324676Z",
     "iopub.status.idle": "2022-10-09T06:03:27.902887Z",
     "shell.execute_reply": "2022-10-09T06:03:27.901608Z",
     "shell.execute_reply.started": "2022-10-09T06:03:07.325034Z"
    }
   },
   "outputs": [],
   "source": [
    "EMBEDDINGS_FILE = '../input/glove-6b/glove.6B.200d.txt'\n",
    "\n",
    "EMBEDDINGS = {}\n",
    "\n",
    "for i in open(EMBEDDINGS_FILE):\n",
    "    WORDS = i.split(\" \")[0]\n",
    "    EMBEDS = i.split(\" \")[1:]\n",
    "    EMBEDS = np.asarray(EMBEDS, dtype = 'float32')\n",
    "    EMBEDDINGS[WORDS] = EMBEDS\n",
    "    \n",
    "EMBEDDING_MATRIX = np.zeros((NUM_OF_WORDS,200))\n",
    "\n",
    "for WORD, i in TOKENIZER.word_index.items():\n",
    "    EMBEDDINGS_VECTOR = EMBEDDINGS.get(WORDS)\n",
    "    if EMBEDDINGS_VECTOR is not None:\n",
    "        EMBEDDING_MATRIX[i] = EMBEDDINGS_VECTOR"
   ]
  },
  {
   "cell_type": "markdown",
   "id": "57810164",
   "metadata": {},
   "source": [
    "# 9. Define and compile a Bidirectional LSTM model."
   ]
  },
  {
   "cell_type": "code",
   "execution_count": 34,
   "id": "19b387e8",
   "metadata": {
    "execution": {
     "iopub.execute_input": "2022-10-09T06:03:59.286383Z",
     "iopub.status.busy": "2022-10-09T06:03:59.285636Z",
     "iopub.status.idle": "2022-10-09T06:04:00.037713Z",
     "shell.execute_reply": "2022-10-09T06:04:00.036547Z",
     "shell.execute_reply.started": "2022-10-09T06:03:59.286340Z"
    }
   },
   "outputs": [
    {
     "name": "stderr",
     "output_type": "stream",
     "text": [
      "2022-10-09 06:03:59.328333: I tensorflow/core/common_runtime/process_util.cc:146] Creating new thread pool with default inter op setting: 2. Tune using inter_op_parallelism_threads for best performance.\n"
     ]
    },
    {
     "name": "stdout",
     "output_type": "stream",
     "text": [
      "Model: \"sequential\"\n",
      "_________________________________________________________________\n",
      "Layer (type)                 Output Shape              Param #   \n",
      "=================================================================\n",
      "embedding (Embedding)        (None, 25, 200)           5016600   \n",
      "_________________________________________________________________\n",
      "bidirectional (Bidirectional (None, 25, 256)           336896    \n",
      "_________________________________________________________________\n",
      "flatten (Flatten)            (None, 6400)              0         \n",
      "_________________________________________________________________\n",
      "dense (Dense)                (None, 1)                 6401      \n",
      "=================================================================\n",
      "Total params: 5,359,897\n",
      "Trainable params: 5,359,897\n",
      "Non-trainable params: 0\n",
      "_________________________________________________________________\n"
     ]
    }
   ],
   "source": [
    "LSTM_MODEL = Sequential()\n",
    "LSTM_MODEL.add(Embedding(NUM_OF_WORDS, EMBEDDING_SIZE, weights=[EMBEDDING_MATRIX], input_length=MAX_LEN))\n",
    "LSTM_MODEL.add(Bidirectional(LSTM(units=128 ,dropout = 0.5,return_sequences=True)))\n",
    "LSTM_MODEL.add(Flatten())\n",
    "LSTM_MODEL.add(Dense(1, activation='sigmoid'))\n",
    "LSTM_MODEL.summary()"
   ]
  },
  {
   "cell_type": "code",
   "execution_count": 35,
   "id": "c87aef51",
   "metadata": {
    "execution": {
     "iopub.execute_input": "2022-10-09T06:04:02.257828Z",
     "iopub.status.busy": "2022-10-09T06:04:02.257007Z",
     "iopub.status.idle": "2022-10-09T06:04:02.271959Z",
     "shell.execute_reply": "2022-10-09T06:04:02.270928Z",
     "shell.execute_reply.started": "2022-10-09T06:04:02.257782Z"
    }
   },
   "outputs": [],
   "source": [
    "LSTM_MODEL.compile(optimizer = \"adam\", loss = \"binary_crossentropy\", metrics = [\"accuracy\"])"
   ]
  },
  {
   "cell_type": "code",
   "execution_count": 36,
   "id": "268665c2",
   "metadata": {
    "execution": {
     "iopub.execute_input": "2022-10-09T06:04:05.763003Z",
     "iopub.status.busy": "2022-10-09T06:04:05.762598Z",
     "iopub.status.idle": "2022-10-09T06:04:05.768732Z",
     "shell.execute_reply": "2022-10-09T06:04:05.767304Z",
     "shell.execute_reply.started": "2022-10-09T06:04:05.762971Z"
    }
   },
   "outputs": [],
   "source": [
    "callback = tf.keras.callbacks.EarlyStopping(monitor='loss', patience=3)"
   ]
  },
  {
   "cell_type": "code",
   "execution_count": 37,
   "id": "1d8e07a2",
   "metadata": {
    "execution": {
     "iopub.execute_input": "2022-10-09T06:04:09.900210Z",
     "iopub.status.busy": "2022-10-09T06:04:09.899765Z",
     "iopub.status.idle": "2022-10-09T06:04:09.907704Z",
     "shell.execute_reply": "2022-10-09T06:04:09.906391Z",
     "shell.execute_reply.started": "2022-10-09T06:04:09.900173Z"
    }
   },
   "outputs": [],
   "source": [
    "Y_TRAIN = np.array(Y_TRAIN)\n",
    "\n",
    "Y_VAL = np.array(Y_VAL)\n",
    "\n",
    "Y_TEST = np.array(Y_TEST)"
   ]
  },
  {
   "cell_type": "code",
   "execution_count": 38,
   "id": "00264e26",
   "metadata": {
    "execution": {
     "iopub.execute_input": "2022-10-09T06:04:12.181564Z",
     "iopub.status.busy": "2022-10-09T06:04:12.180884Z",
     "iopub.status.idle": "2022-10-09T06:04:12.188320Z",
     "shell.execute_reply": "2022-10-09T06:04:12.187187Z",
     "shell.execute_reply.started": "2022-10-09T06:04:12.181523Z"
    }
   },
   "outputs": [],
   "source": [
    "X_TRAIN = np.array(X_TRAIN)\n",
    "\n",
    "X_VAL = np.array(X_VAL)\n",
    "\n",
    "X_TEST = np.array(X_TEST)"
   ]
  },
  {
   "cell_type": "markdown",
   "id": "e53dbc16",
   "metadata": {},
   "source": [
    "# 10. Fit the model and check the validation accuracy"
   ]
  },
  {
   "cell_type": "code",
   "execution_count": 39,
   "id": "61ed6f71",
   "metadata": {
    "execution": {
     "iopub.execute_input": "2022-10-09T06:04:18.266331Z",
     "iopub.status.busy": "2022-10-09T06:04:18.265892Z",
     "iopub.status.idle": "2022-10-09T06:12:15.929066Z",
     "shell.execute_reply": "2022-10-09T06:12:15.928223Z",
     "shell.execute_reply.started": "2022-10-09T06:04:18.266294Z"
    }
   },
   "outputs": [
    {
     "name": "stderr",
     "output_type": "stream",
     "text": [
      "2022-10-09 06:04:18.328661: I tensorflow/compiler/mlir/mlir_graph_optimization_pass.cc:185] None of the MLIR Optimization Passes are enabled (registered 2)\n"
     ]
    },
    {
     "name": "stdout",
     "output_type": "stream",
     "text": [
      "Epoch 1/10\n",
      "537/537 [==============================] - 53s 90ms/step - loss: 0.5677 - accuracy: 0.6836 - val_loss: 0.4777 - val_accuracy: 0.7732\n",
      "Epoch 2/10\n",
      "537/537 [==============================] - 47s 88ms/step - loss: 0.3163 - accuracy: 0.8660 - val_loss: 0.4798 - val_accuracy: 0.7921\n",
      "Epoch 3/10\n",
      "537/537 [==============================] - 47s 88ms/step - loss: 0.1676 - accuracy: 0.9346 - val_loss: 0.5310 - val_accuracy: 0.7989\n",
      "Epoch 4/10\n",
      "537/537 [==============================] - 48s 89ms/step - loss: 0.0901 - accuracy: 0.9673 - val_loss: 0.7152 - val_accuracy: 0.7923\n",
      "Epoch 5/10\n",
      "537/537 [==============================] - 47s 87ms/step - loss: 0.0558 - accuracy: 0.9807 - val_loss: 0.7918 - val_accuracy: 0.7930\n",
      "Epoch 6/10\n",
      "537/537 [==============================] - 47s 88ms/step - loss: 0.0391 - accuracy: 0.9860 - val_loss: 0.8838 - val_accuracy: 0.7835\n",
      "Epoch 7/10\n",
      "537/537 [==============================] - 47s 88ms/step - loss: 0.0213 - accuracy: 0.9927 - val_loss: 1.2369 - val_accuracy: 0.7809\n",
      "Epoch 8/10\n",
      "537/537 [==============================] - 48s 89ms/step - loss: 0.0179 - accuracy: 0.9932 - val_loss: 1.3409 - val_accuracy: 0.7799\n",
      "Epoch 9/10\n",
      "537/537 [==============================] - 47s 87ms/step - loss: 0.0145 - accuracy: 0.9944 - val_loss: 1.4670 - val_accuracy: 0.7701\n",
      "Epoch 10/10\n",
      "537/537 [==============================] - 47s 88ms/step - loss: 0.0133 - accuracy: 0.9959 - val_loss: 1.5549 - val_accuracy: 0.7760\n"
     ]
    }
   ],
   "source": [
    "LSTM_HISTORY = LSTM_MODEL.fit(X_TRAIN, Y_TRAIN, validation_data = (X_VAL, Y_VAL), \n",
    "                              epochs = 10, callbacks = [callback])"
   ]
  },
  {
   "cell_type": "code",
   "execution_count": 40,
   "id": "7bf8a0d4",
   "metadata": {
    "execution": {
     "iopub.execute_input": "2022-10-09T06:12:22.411783Z",
     "iopub.status.busy": "2022-10-09T06:12:22.410723Z",
     "iopub.status.idle": "2022-10-09T06:12:22.418679Z",
     "shell.execute_reply": "2022-10-09T06:12:22.417238Z",
     "shell.execute_reply.started": "2022-10-09T06:12:22.411737Z"
    }
   },
   "outputs": [
    {
     "name": "stdout",
     "output_type": "stream",
     "text": [
      "MEAN VALIDATION DATA ACCURACY:  78.4\n"
     ]
    }
   ],
   "source": [
    "print('MEAN VALIDATION DATA ACCURACY: ',round((np.mean(LSTM_HISTORY.history['val_accuracy'])*100),2))"
   ]
  },
  {
   "cell_type": "code",
   "execution_count": 41,
   "id": "b86d8cb7",
   "metadata": {
    "execution": {
     "iopub.execute_input": "2022-10-09T06:12:32.688092Z",
     "iopub.status.busy": "2022-10-09T06:12:32.687685Z",
     "iopub.status.idle": "2022-10-09T06:12:32.694645Z",
     "shell.execute_reply": "2022-10-09T06:12:32.693276Z",
     "shell.execute_reply.started": "2022-10-09T06:12:32.688058Z"
    }
   },
   "outputs": [
    {
     "name": "stdout",
     "output_type": "stream",
     "text": [
      "MEAN TRAINING DATA ACCURACY:  93.94\n"
     ]
    }
   ],
   "source": [
    "print('MEAN TRAINING DATA ACCURACY: ',round((np.mean(LSTM_HISTORY.history['accuracy'])*100),2))"
   ]
  },
  {
   "cell_type": "code",
   "execution_count": 42,
   "id": "6d781cde",
   "metadata": {
    "execution": {
     "iopub.execute_input": "2022-10-09T06:12:34.931708Z",
     "iopub.status.busy": "2022-10-09T06:12:34.931282Z",
     "iopub.status.idle": "2022-10-09T06:12:37.640432Z",
     "shell.execute_reply": "2022-10-09T06:12:37.639287Z",
     "shell.execute_reply.started": "2022-10-09T06:12:34.931673Z"
    }
   },
   "outputs": [
    {
     "name": "stdout",
     "output_type": "stream",
     "text": [
      "179/179 [==============================] - 3s 15ms/step - loss: 1.5741 - accuracy: 0.7750\n"
     ]
    },
    {
     "data": {
      "text/plain": [
       "77.5"
      ]
     },
     "execution_count": 42,
     "metadata": {},
     "output_type": "execute_result"
    }
   ],
   "source": [
    "ACCURACY = round((LSTM_MODEL.evaluate(X_TEST, Y_TEST)[1])*100,2)\n",
    "\n",
    "ACCURACY"
   ]
  },
  {
   "cell_type": "code",
   "execution_count": 43,
   "id": "c7d0a863",
   "metadata": {
    "execution": {
     "iopub.execute_input": "2022-10-09T06:12:48.543240Z",
     "iopub.status.busy": "2022-10-09T06:12:48.542777Z",
     "iopub.status.idle": "2022-10-09T06:12:48.548619Z",
     "shell.execute_reply": "2022-10-09T06:12:48.547380Z",
     "shell.execute_reply.started": "2022-10-09T06:12:48.543200Z"
    }
   },
   "outputs": [
    {
     "name": "stdout",
     "output_type": "stream",
     "text": [
      "ACCURACY ON TESTING DATA:  77.5\n"
     ]
    }
   ],
   "source": [
    "print('ACCURACY ON TESTING DATA: ',ACCURACY)"
   ]
  },
  {
   "cell_type": "code",
   "execution_count": 44,
   "id": "f38b808f",
   "metadata": {
    "execution": {
     "iopub.execute_input": "2022-10-09T06:12:53.963341Z",
     "iopub.status.busy": "2022-10-09T06:12:53.962869Z",
     "iopub.status.idle": "2022-10-09T06:12:57.172437Z",
     "shell.execute_reply": "2022-10-09T06:12:57.171502Z",
     "shell.execute_reply.started": "2022-10-09T06:12:53.963300Z"
    }
   },
   "outputs": [],
   "source": [
    "PREDICTIONS = LSTM_MODEL.predict(X_TEST)"
   ]
  },
  {
   "cell_type": "code",
   "execution_count": 45,
   "id": "26a16eac",
   "metadata": {
    "execution": {
     "iopub.execute_input": "2022-10-09T06:13:01.030899Z",
     "iopub.status.busy": "2022-10-09T06:13:01.030138Z",
     "iopub.status.idle": "2022-10-09T06:13:01.038721Z",
     "shell.execute_reply": "2022-10-09T06:13:01.037744Z",
     "shell.execute_reply.started": "2022-10-09T06:13:01.030857Z"
    }
   },
   "outputs": [
    {
     "data": {
      "text/plain": [
       "array([1, 1, 0, ..., 1, 1, 1])"
      ]
     },
     "execution_count": 45,
     "metadata": {},
     "output_type": "execute_result"
    }
   ],
   "source": [
    "PREDICTIONS = np.round(PREDICTIONS, 0)\n",
    "\n",
    "PREDICTIONS = PREDICTIONS.ravel()\n",
    "\n",
    "PREDICTIONS = PREDICTIONS.astype('int64')\n",
    "\n",
    "PREDICTIONS.ravel()\n",
    "\n",
    "PREDICTIONS"
   ]
  },
  {
   "cell_type": "code",
   "execution_count": 46,
   "id": "5a48e041",
   "metadata": {
    "execution": {
     "iopub.execute_input": "2022-10-09T06:13:05.569051Z",
     "iopub.status.busy": "2022-10-09T06:13:05.568248Z",
     "iopub.status.idle": "2022-10-09T06:13:05.577562Z",
     "shell.execute_reply": "2022-10-09T06:13:05.576176Z",
     "shell.execute_reply.started": "2022-10-09T06:13:05.569001Z"
    }
   },
   "outputs": [
    {
     "data": {
      "text/plain": [
       "0"
      ]
     },
     "execution_count": 46,
     "metadata": {},
     "output_type": "execute_result"
    }
   ],
   "source": [
    "Y_TEST[56]"
   ]
  },
  {
   "cell_type": "code",
   "execution_count": 47,
   "id": "182bb4c1",
   "metadata": {
    "execution": {
     "iopub.execute_input": "2022-10-09T06:13:08.445335Z",
     "iopub.status.busy": "2022-10-09T06:13:08.444919Z",
     "iopub.status.idle": "2022-10-09T06:13:08.453509Z",
     "shell.execute_reply": "2022-10-09T06:13:08.452020Z",
     "shell.execute_reply.started": "2022-10-09T06:13:08.445300Z"
    }
   },
   "outputs": [
    {
     "data": {
      "text/plain": [
       "0"
      ]
     },
     "execution_count": 47,
     "metadata": {},
     "output_type": "execute_result"
    }
   ],
   "source": [
    "PREDICTIONS[56]"
   ]
  },
  {
   "cell_type": "code",
   "execution_count": 48,
   "id": "ac8f6f6a",
   "metadata": {
    "execution": {
     "iopub.execute_input": "2022-10-09T06:13:12.195511Z",
     "iopub.status.busy": "2022-10-09T06:13:12.195077Z",
     "iopub.status.idle": "2022-10-09T06:13:12.207812Z",
     "shell.execute_reply": "2022-10-09T06:13:12.206946Z",
     "shell.execute_reply.started": "2022-10-09T06:13:12.195477Z"
    }
   },
   "outputs": [],
   "source": [
    "# TRY WITH LR RATE = 0.01\n",
    "\n",
    "LSTM_MODEL.compile(optimizer = tf.keras.optimizers.Adam(lr = 0.01), \n",
    "                   loss = \"binary_crossentropy\", metrics = [\"accuracy\"])"
   ]
  },
  {
   "cell_type": "code",
   "execution_count": 49,
   "id": "ffa77cd4",
   "metadata": {
    "execution": {
     "iopub.execute_input": "2022-10-09T06:13:15.799124Z",
     "iopub.status.busy": "2022-10-09T06:13:15.797989Z",
     "iopub.status.idle": "2022-10-09T06:19:40.330426Z",
     "shell.execute_reply": "2022-10-09T06:19:40.329446Z",
     "shell.execute_reply.started": "2022-10-09T06:13:15.799067Z"
    }
   },
   "outputs": [
    {
     "name": "stdout",
     "output_type": "stream",
     "text": [
      "Epoch 1/10\n",
      "537/537 [==============================] - 52s 89ms/step - loss: 0.2382 - accuracy: 0.9052 - val_loss: 0.6362 - val_accuracy: 0.7631\n",
      "Epoch 2/10\n",
      "537/537 [==============================] - 48s 89ms/step - loss: 0.0780 - accuracy: 0.9711 - val_loss: 0.8972 - val_accuracy: 0.7664\n",
      "Epoch 3/10\n",
      "537/537 [==============================] - 48s 89ms/step - loss: 0.0315 - accuracy: 0.9892 - val_loss: 1.1458 - val_accuracy: 0.7736\n",
      "Epoch 4/10\n",
      "537/537 [==============================] - 48s 89ms/step - loss: 0.0199 - accuracy: 0.9931 - val_loss: 1.3662 - val_accuracy: 0.7655\n",
      "Epoch 5/10\n",
      "537/537 [==============================] - 47s 88ms/step - loss: 0.0153 - accuracy: 0.9947 - val_loss: 1.4863 - val_accuracy: 0.7689\n",
      "Epoch 6/10\n",
      "537/537 [==============================] - 48s 89ms/step - loss: 0.0179 - accuracy: 0.9940 - val_loss: 1.8518 - val_accuracy: 0.7540\n",
      "Epoch 7/10\n",
      "537/537 [==============================] - 47s 88ms/step - loss: 0.0164 - accuracy: 0.9940 - val_loss: 2.7304 - val_accuracy: 0.7538\n",
      "Epoch 8/10\n",
      "537/537 [==============================] - 48s 89ms/step - loss: 0.0366 - accuracy: 0.9900 - val_loss: 2.3260 - val_accuracy: 0.7643\n"
     ]
    }
   ],
   "source": [
    "LSTM_HISTORY1 = LSTM_MODEL.fit(X_TRAIN, Y_TRAIN, validation_data = (X_VAL, Y_VAL), \n",
    "                              epochs = 10, callbacks = [callback])"
   ]
  },
  {
   "cell_type": "code",
   "execution_count": 50,
   "id": "6950e038",
   "metadata": {
    "execution": {
     "iopub.execute_input": "2022-10-09T06:21:00.423862Z",
     "iopub.status.busy": "2022-10-09T06:21:00.423415Z",
     "iopub.status.idle": "2022-10-09T06:21:00.431754Z",
     "shell.execute_reply": "2022-10-09T06:21:00.430474Z",
     "shell.execute_reply.started": "2022-10-09T06:21:00.423824Z"
    }
   },
   "outputs": [
    {
     "name": "stdout",
     "output_type": "stream",
     "text": [
      "MEAN VALIDATION DATA ACCURACY:  76.37\n",
      "\n",
      "MEAN TRAINING DATA ACCURACY:  97.89\n"
     ]
    }
   ],
   "source": [
    "print('MEAN VALIDATION DATA ACCURACY: ',round((np.mean(LSTM_HISTORY1.history['val_accuracy'])*100),2))\n",
    "\n",
    "print('\\nMEAN TRAINING DATA ACCURACY: ',round((np.mean(LSTM_HISTORY1.history['accuracy'])*100),2))"
   ]
  },
  {
   "cell_type": "code",
   "execution_count": 51,
   "id": "f76d4f02",
   "metadata": {
    "execution": {
     "iopub.execute_input": "2022-10-09T06:21:08.987838Z",
     "iopub.status.busy": "2022-10-09T06:21:08.987055Z",
     "iopub.status.idle": "2022-10-09T06:21:09.000604Z",
     "shell.execute_reply": "2022-10-09T06:21:08.999318Z",
     "shell.execute_reply.started": "2022-10-09T06:21:08.987800Z"
    }
   },
   "outputs": [],
   "source": [
    "# TRY WITH LR RATE = 0.0045\n",
    "\n",
    "LSTM_MODEL.compile(optimizer = tf.keras.optimizers.Adam(lr = 0.0045), \n",
    "                   loss = \"binary_crossentropy\", metrics = [\"accuracy\"])"
   ]
  },
  {
   "cell_type": "code",
   "execution_count": 52,
   "id": "6c42389e",
   "metadata": {
    "execution": {
     "iopub.execute_input": "2022-10-09T06:21:57.169533Z",
     "iopub.status.busy": "2022-10-09T06:21:57.169096Z",
     "iopub.status.idle": "2022-10-09T06:30:41.406198Z",
     "shell.execute_reply": "2022-10-09T06:30:41.405348Z",
     "shell.execute_reply.started": "2022-10-09T06:21:57.169497Z"
    }
   },
   "outputs": [
    {
     "name": "stdout",
     "output_type": "stream",
     "text": [
      "Epoch 1/10\n",
      "537/537 [==============================] - 52s 90ms/step - loss: 0.0130 - accuracy: 0.9957 - val_loss: 2.4875 - val_accuracy: 0.7645\n",
      "Epoch 2/10\n",
      "537/537 [==============================] - 48s 89ms/step - loss: 0.0052 - accuracy: 0.9983 - val_loss: 2.5287 - val_accuracy: 0.7675\n",
      "Epoch 3/10\n",
      "537/537 [==============================] - 47s 88ms/step - loss: 0.0040 - accuracy: 0.9986 - val_loss: 2.6575 - val_accuracy: 0.7666\n",
      "Epoch 4/10\n",
      "537/537 [==============================] - 48s 90ms/step - loss: 0.0032 - accuracy: 0.9989 - val_loss: 2.7991 - val_accuracy: 0.7689\n",
      "Epoch 5/10\n",
      "537/537 [==============================] - 47s 88ms/step - loss: 0.0017 - accuracy: 0.9993 - val_loss: 2.8299 - val_accuracy: 0.7654\n",
      "Epoch 6/10\n",
      "537/537 [==============================] - 48s 89ms/step - loss: 0.0018 - accuracy: 0.9993 - val_loss: 2.9344 - val_accuracy: 0.7652\n",
      "Epoch 7/10\n",
      "537/537 [==============================] - 47s 88ms/step - loss: 0.0011 - accuracy: 0.9995 - val_loss: 3.1304 - val_accuracy: 0.7662\n",
      "Epoch 8/10\n",
      "537/537 [==============================] - 48s 89ms/step - loss: 0.0014 - accuracy: 0.9994 - val_loss: 3.2030 - val_accuracy: 0.7612\n",
      "Epoch 9/10\n",
      "537/537 [==============================] - 47s 88ms/step - loss: 0.0013 - accuracy: 0.9997 - val_loss: 3.2296 - val_accuracy: 0.7596\n",
      "Epoch 10/10\n",
      "537/537 [==============================] - 48s 90ms/step - loss: 0.0017 - accuracy: 0.9995 - val_loss: 3.2550 - val_accuracy: 0.7612\n"
     ]
    }
   ],
   "source": [
    "LSTM_HISTORY2 = LSTM_MODEL.fit(X_TRAIN, Y_TRAIN, validation_data = (X_VAL, Y_VAL), \n",
    "                              epochs = 10, callbacks = [callback])"
   ]
  },
  {
   "cell_type": "code",
   "execution_count": 53,
   "id": "e9925c57",
   "metadata": {
    "execution": {
     "iopub.execute_input": "2022-10-09T06:30:58.072864Z",
     "iopub.status.busy": "2022-10-09T06:30:58.072084Z",
     "iopub.status.idle": "2022-10-09T06:30:58.078696Z",
     "shell.execute_reply": "2022-10-09T06:30:58.077878Z",
     "shell.execute_reply.started": "2022-10-09T06:30:58.072824Z"
    }
   },
   "outputs": [
    {
     "name": "stdout",
     "output_type": "stream",
     "text": [
      "MEAN VALIDATION DATA ACCURACY:  76.46\n",
      "\n",
      "MEAN TRAINING DATA ACCURACY:  99.88\n"
     ]
    }
   ],
   "source": [
    "print('MEAN VALIDATION DATA ACCURACY: ',round((np.mean(LSTM_HISTORY2.history['val_accuracy'])*100),2))\n",
    "\n",
    "print('\\nMEAN TRAINING DATA ACCURACY: ',round((np.mean(LSTM_HISTORY2.history['accuracy'])*100),2))"
   ]
  },
  {
   "cell_type": "code",
   "execution_count": 54,
   "id": "27ee826c",
   "metadata": {
    "execution": {
     "iopub.execute_input": "2022-10-09T06:32:16.903553Z",
     "iopub.status.busy": "2022-10-09T06:32:16.902814Z",
     "iopub.status.idle": "2022-10-09T06:32:19.846177Z",
     "shell.execute_reply": "2022-10-09T06:32:19.845298Z",
     "shell.execute_reply.started": "2022-10-09T06:32:16.903515Z"
    }
   },
   "outputs": [
    {
     "name": "stdout",
     "output_type": "stream",
     "text": [
      "179/179 [==============================] - 3s 16ms/step - loss: 3.3072 - accuracy: 0.7643\n",
      "ACCURACY ON TESTING DATA:  76.43\n"
     ]
    }
   ],
   "source": [
    "ACCURACY = round((LSTM_MODEL.evaluate(X_TEST, Y_TEST)[1])*100,2)\n",
    "\n",
    "print('ACCURACY ON TESTING DATA: ',ACCURACY)"
   ]
  },
  {
   "cell_type": "code",
   "execution_count": 55,
   "id": "4cc49957",
   "metadata": {
    "execution": {
     "iopub.execute_input": "2022-10-09T06:32:44.703166Z",
     "iopub.status.busy": "2022-10-09T06:32:44.702760Z",
     "iopub.status.idle": "2022-10-09T06:32:48.045071Z",
     "shell.execute_reply": "2022-10-09T06:32:48.043625Z",
     "shell.execute_reply.started": "2022-10-09T06:32:44.703131Z"
    }
   },
   "outputs": [
    {
     "data": {
      "text/plain": [
       "array([1, 1, 1, ..., 1, 0, 1])"
      ]
     },
     "execution_count": 55,
     "metadata": {},
     "output_type": "execute_result"
    }
   ],
   "source": [
    "PREDICTIONS = LSTM_MODEL.predict(X_TEST)\n",
    "\n",
    "PREDICTIONS = np.round(PREDICTIONS, 0)\n",
    "\n",
    "PREDICTIONS = PREDICTIONS.ravel()\n",
    "\n",
    "PREDICTIONS = PREDICTIONS.astype('int64')\n",
    "\n",
    "PREDICTIONS.ravel()\n",
    "\n",
    "PREDICTIONS"
   ]
  },
  {
   "cell_type": "code",
   "execution_count": 56,
   "id": "f338f22c",
   "metadata": {
    "execution": {
     "iopub.execute_input": "2022-10-09T06:33:06.504120Z",
     "iopub.status.busy": "2022-10-09T06:33:06.503369Z",
     "iopub.status.idle": "2022-10-09T06:33:06.510959Z",
     "shell.execute_reply": "2022-10-09T06:33:06.509823Z",
     "shell.execute_reply.started": "2022-10-09T06:33:06.504059Z"
    }
   },
   "outputs": [
    {
     "data": {
      "text/plain": [
       "0"
      ]
     },
     "execution_count": 56,
     "metadata": {},
     "output_type": "execute_result"
    }
   ],
   "source": [
    "Y_TEST[56]"
   ]
  },
  {
   "cell_type": "code",
   "execution_count": 57,
   "id": "b7247eff",
   "metadata": {
    "execution": {
     "iopub.execute_input": "2022-10-09T06:33:14.023004Z",
     "iopub.status.busy": "2022-10-09T06:33:14.021831Z",
     "iopub.status.idle": "2022-10-09T06:33:14.031872Z",
     "shell.execute_reply": "2022-10-09T06:33:14.030497Z",
     "shell.execute_reply.started": "2022-10-09T06:33:14.022931Z"
    }
   },
   "outputs": [
    {
     "data": {
      "text/plain": [
       "0"
      ]
     },
     "execution_count": 57,
     "metadata": {},
     "output_type": "execute_result"
    }
   ],
   "source": [
    "PREDICTIONS[56]"
   ]
  },
  {
   "cell_type": "code",
   "execution_count": null,
   "id": "10bb5889",
   "metadata": {},
   "outputs": [],
   "source": []
  }
 ],
 "metadata": {
  "kernelspec": {
   "display_name": "Python 3 (ipykernel)",
   "language": "python",
   "name": "python3"
  },
  "language_info": {
   "codemirror_mode": {
    "name": "ipython",
    "version": 3
   },
   "file_extension": ".py",
   "mimetype": "text/x-python",
   "name": "python",
   "nbconvert_exporter": "python",
   "pygments_lexer": "ipython3",
   "version": "3.9.12"
  }
 },
 "nbformat": 4,
 "nbformat_minor": 5
}
